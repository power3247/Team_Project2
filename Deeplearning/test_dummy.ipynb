{
  "nbformat": 4,
  "nbformat_minor": 0,
  "metadata": {
    "colab": {
      "name": "test_dummy.ipynb",
      "provenance": [],
      "collapsed_sections": [],
      "mount_file_id": "1SMyO2ECeQ5b0Lv5vkjvoiKZYTd_CSl5n",
      "authorship_tag": "ABX9TyNvpB2nBtwqhBKZ+oidOdX6",
      "include_colab_link": true
    },
    "kernelspec": {
      "name": "python3",
      "display_name": "Python 3"
    },
    "language_info": {
      "name": "python"
    }
  },
  "cells": [
    {
      "cell_type": "markdown",
      "metadata": {
        "id": "view-in-github",
        "colab_type": "text"
      },
      "source": [
        "<a href=\"https://colab.research.google.com/github/yoonputer/Team_Project2/blob/master/Deeplearning/test_dummy.ipynb\" target=\"_parent\"><img src=\"https://colab.research.google.com/assets/colab-badge.svg\" alt=\"Open In Colab\"/></a>"
      ]
    },
    {
      "cell_type": "code",
      "metadata": {
        "id": "u7qrvjGRCL1o"
      },
      "source": [
        "import tensorflow as tf\n",
        "import sqlite3\n",
        "import pandas as pd"
      ],
      "execution_count": 1,
      "outputs": []
    },
    {
      "cell_type": "code",
      "metadata": {
        "colab": {
          "base_uri": "https://localhost:8080/"
        },
        "id": "NIFFN1lKCV0f",
        "outputId": "bb3e7b29-8e77-400b-a7b0-e5e565bec9fe"
      },
      "source": [
        "! ls ./drive/MyDrive/Forkspoon/dummy1.xlsx"
      ],
      "execution_count": 2,
      "outputs": [
        {
          "output_type": "stream",
          "text": [
            "./drive/MyDrive/Forkspoon/dummy1.xlsx\n"
          ],
          "name": "stdout"
        }
      ]
    },
    {
      "cell_type": "code",
      "metadata": {
        "colab": {
          "base_uri": "https://localhost:8080/"
        },
        "id": "fKDR4BjdCcWf",
        "outputId": "5a192d6e-1add-42d8-f5f1-75b73a5c0ba9"
      },
      "source": [
        "!python -m pip install konlpy"
      ],
      "execution_count": 3,
      "outputs": [
        {
          "output_type": "stream",
          "text": [
            "Requirement already satisfied: konlpy in /usr/local/lib/python3.7/dist-packages (0.5.2)\n",
            "Requirement already satisfied: tweepy>=3.7.0 in /usr/local/lib/python3.7/dist-packages (from konlpy) (3.10.0)\n",
            "Requirement already satisfied: JPype1>=0.7.0 in /usr/local/lib/python3.7/dist-packages (from konlpy) (1.3.0)\n",
            "Requirement already satisfied: numpy>=1.6 in /usr/local/lib/python3.7/dist-packages (from konlpy) (1.19.5)\n",
            "Requirement already satisfied: colorama in /usr/local/lib/python3.7/dist-packages (from konlpy) (0.4.4)\n",
            "Requirement already satisfied: lxml>=4.1.0 in /usr/local/lib/python3.7/dist-packages (from konlpy) (4.2.6)\n",
            "Requirement already satisfied: beautifulsoup4==4.6.0 in /usr/local/lib/python3.7/dist-packages (from konlpy) (4.6.0)\n",
            "Requirement already satisfied: typing-extensions in /usr/local/lib/python3.7/dist-packages (from JPype1>=0.7.0->konlpy) (3.7.4.3)\n",
            "Requirement already satisfied: six>=1.10.0 in /usr/local/lib/python3.7/dist-packages (from tweepy>=3.7.0->konlpy) (1.15.0)\n",
            "Requirement already satisfied: requests-oauthlib>=0.7.0 in /usr/local/lib/python3.7/dist-packages (from tweepy>=3.7.0->konlpy) (1.3.0)\n",
            "Requirement already satisfied: requests[socks]>=2.11.1 in /usr/local/lib/python3.7/dist-packages (from tweepy>=3.7.0->konlpy) (2.23.0)\n",
            "Requirement already satisfied: oauthlib>=3.0.0 in /usr/local/lib/python3.7/dist-packages (from requests-oauthlib>=0.7.0->tweepy>=3.7.0->konlpy) (3.1.1)\n",
            "Requirement already satisfied: urllib3!=1.25.0,!=1.25.1,<1.26,>=1.21.1 in /usr/local/lib/python3.7/dist-packages (from requests[socks]>=2.11.1->tweepy>=3.7.0->konlpy) (1.24.3)\n",
            "Requirement already satisfied: idna<3,>=2.5 in /usr/local/lib/python3.7/dist-packages (from requests[socks]>=2.11.1->tweepy>=3.7.0->konlpy) (2.10)\n",
            "Requirement already satisfied: chardet<4,>=3.0.2 in /usr/local/lib/python3.7/dist-packages (from requests[socks]>=2.11.1->tweepy>=3.7.0->konlpy) (3.0.4)\n",
            "Requirement already satisfied: certifi>=2017.4.17 in /usr/local/lib/python3.7/dist-packages (from requests[socks]>=2.11.1->tweepy>=3.7.0->konlpy) (2021.5.30)\n",
            "Requirement already satisfied: PySocks!=1.5.7,>=1.5.6 in /usr/local/lib/python3.7/dist-packages (from requests[socks]>=2.11.1->tweepy>=3.7.0->konlpy) (1.7.1)\n"
          ],
          "name": "stdout"
        }
      ]
    },
    {
      "cell_type": "code",
      "metadata": {
        "colab": {
          "base_uri": "https://localhost:8080/"
        },
        "id": "-UQODldbXTBb",
        "outputId": "34f1ba6a-e7b4-4a47-e156-90c6133f5df4"
      },
      "source": [
        "!curl -O https://raw.githubusercontent.com/konlpy/konlpy/master/scripts/mecab.sh"
      ],
      "execution_count": 4,
      "outputs": [
        {
          "output_type": "stream",
          "text": [
            "  % Total    % Received % Xferd  Average Speed   Time    Time     Time  Current\n",
            "                                 Dload  Upload   Total   Spent    Left  Speed\n",
            "\r  0     0    0     0    0     0      0      0 --:--:-- --:--:-- --:--:--     0\r100  5064  100  5064    0     0  41508      0 --:--:-- --:--:-- --:--:-- 41508\n"
          ],
          "name": "stdout"
        }
      ]
    },
    {
      "cell_type": "code",
      "metadata": {
        "colab": {
          "base_uri": "https://localhost:8080/"
        },
        "id": "Ppmv3ueMXTLb",
        "outputId": "459c179b-759c-49e4-c586-2e4d4c11556b"
      },
      "source": [
        "!source ./mecab.sh"
      ],
      "execution_count": 5,
      "outputs": [
        {
          "output_type": "stream",
          "text": [
            "mecab-ko is already installed\n",
            "mecab-ko-dic is already installed\n",
            "mecab-python is already installed\n",
            "Done.\n"
          ],
          "name": "stdout"
        }
      ]
    },
    {
      "cell_type": "code",
      "metadata": {
        "colab": {
          "base_uri": "https://localhost:8080/",
          "height": 256
        },
        "id": "q-t3vBoECqbO",
        "outputId": "9f20b2a8-324f-499d-a1a8-ebc00b86d4eb"
      },
      "source": [
        "df= pd.read_excel('./drive/MyDrive/Forkspoon/dummy1.xlsx')\n",
        "df.head(4)"
      ],
      "execution_count": 6,
      "outputs": [
        {
          "output_type": "execute_result",
          "data": {
            "text/html": [
              "<div>\n",
              "<style scoped>\n",
              "    .dataframe tbody tr th:only-of-type {\n",
              "        vertical-align: middle;\n",
              "    }\n",
              "\n",
              "    .dataframe tbody tr th {\n",
              "        vertical-align: top;\n",
              "    }\n",
              "\n",
              "    .dataframe thead th {\n",
              "        text-align: right;\n",
              "    }\n",
              "</style>\n",
              "<table border=\"1\" class=\"dataframe\">\n",
              "  <thead>\n",
              "    <tr style=\"text-align: right;\">\n",
              "      <th></th>\n",
              "      <th>제목</th>\n",
              "      <th>점수</th>\n",
              "      <th>질문</th>\n",
              "      <th>답변</th>\n",
              "    </tr>\n",
              "  </thead>\n",
              "  <tbody>\n",
              "    <tr>\n",
              "      <th>0</th>\n",
              "      <td>(주)SBS\\n\\n관심기업</td>\n",
              "      <td>2.0</td>\n",
              "      <td>입사 지원동기를 작성해주세요. (① 지원 부문을 선택한 이유와 ② 지원 부문과 관련...</td>\n",
              "      <td>\\n경영은 전사의 콘텐츠 제작에서부터 유통 과정을 파악하고, 설정한 목표를 이루기 ...</td>\n",
              "    </tr>\n",
              "    <tr>\n",
              "      <th>1</th>\n",
              "      <td>한국산업단지공단\\n\\n관심기업</td>\n",
              "      <td>3.0</td>\n",
              "      <td>우리 공단에 지원동기와 직무를 선택한 이유, 입사 후 목표와 포부를 기술해 주십시오...</td>\n",
              "      <td>\\n\"‘재료’를 전공하며 나의 가치를 증명하다\"\\n 제조업은 우리나라 경제의 주요 ...</td>\n",
              "    </tr>\n",
              "    <tr>\n",
              "      <th>2</th>\n",
              "      <td>(주)오뚜기\\n\\n관심기업</td>\n",
              "      <td>2.0</td>\n",
              "      <td>지원직무를 선택한 이유를(직무와 관련한 경험, 전공, 수강과목, 자격증 등을 포함하...</td>\n",
              "      <td>\\n\"직접 만든다는 것\"\\n 실습을 위해 콤부차를 조사하였습니다. 한정된 자료에서 ...</td>\n",
              "    </tr>\n",
              "    <tr>\n",
              "      <th>3</th>\n",
              "      <td>㈜BGF리테일\\n\\n관심기업</td>\n",
              "      <td>2.0</td>\n",
              "      <td>본인이 선택한 직무에 대해 아래 내용을 포함하여 기술하시오. ①지원한 직무의 역할이...</td>\n",
              "      <td>\\n`전지적 참견 시점`\\n 영업관리 직무는 BGF리테일의 점포 관리를 위한 매니저...</td>\n",
              "    </tr>\n",
              "  </tbody>\n",
              "</table>\n",
              "</div>"
            ],
            "text/plain": [
              "                 제목  ...                                                 답변\n",
              "0    (주)SBS\\n\\n관심기업  ...  \\n경영은 전사의 콘텐츠 제작에서부터 유통 과정을 파악하고, 설정한 목표를 이루기 ...\n",
              "1  한국산업단지공단\\n\\n관심기업  ...  \\n\"‘재료’를 전공하며 나의 가치를 증명하다\"\\n 제조업은 우리나라 경제의 주요 ...\n",
              "2    (주)오뚜기\\n\\n관심기업  ...  \\n\"직접 만든다는 것\"\\n 실습을 위해 콤부차를 조사하였습니다. 한정된 자료에서 ...\n",
              "3   ㈜BGF리테일\\n\\n관심기업  ...  \\n`전지적 참견 시점`\\n 영업관리 직무는 BGF리테일의 점포 관리를 위한 매니저...\n",
              "\n",
              "[4 rows x 4 columns]"
            ]
          },
          "metadata": {
            "tags": []
          },
          "execution_count": 6
        }
      ]
    },
    {
      "cell_type": "code",
      "metadata": {
        "colab": {
          "base_uri": "https://localhost:8080/",
          "height": 602
        },
        "id": "PxC84ttGKT7V",
        "outputId": "2fce6538-e3dd-4fdf-fa02-1c4bfc2b6ccb"
      },
      "source": [
        "choice_cols= df[['점수','질문','답변']]\n",
        "choice_cols"
      ],
      "execution_count": 7,
      "outputs": [
        {
          "output_type": "execute_result",
          "data": {
            "text/html": [
              "<div>\n",
              "<style scoped>\n",
              "    .dataframe tbody tr th:only-of-type {\n",
              "        vertical-align: middle;\n",
              "    }\n",
              "\n",
              "    .dataframe tbody tr th {\n",
              "        vertical-align: top;\n",
              "    }\n",
              "\n",
              "    .dataframe thead th {\n",
              "        text-align: right;\n",
              "    }\n",
              "</style>\n",
              "<table border=\"1\" class=\"dataframe\">\n",
              "  <thead>\n",
              "    <tr style=\"text-align: right;\">\n",
              "      <th></th>\n",
              "      <th>점수</th>\n",
              "      <th>질문</th>\n",
              "      <th>답변</th>\n",
              "    </tr>\n",
              "  </thead>\n",
              "  <tbody>\n",
              "    <tr>\n",
              "      <th>0</th>\n",
              "      <td>2.0</td>\n",
              "      <td>입사 지원동기를 작성해주세요. (① 지원 부문을 선택한 이유와 ② 지원 부문과 관련...</td>\n",
              "      <td>\\n경영은 전사의 콘텐츠 제작에서부터 유통 과정을 파악하고, 설정한 목표를 이루기 ...</td>\n",
              "    </tr>\n",
              "    <tr>\n",
              "      <th>1</th>\n",
              "      <td>3.0</td>\n",
              "      <td>우리 공단에 지원동기와 직무를 선택한 이유, 입사 후 목표와 포부를 기술해 주십시오...</td>\n",
              "      <td>\\n\"‘재료’를 전공하며 나의 가치를 증명하다\"\\n 제조업은 우리나라 경제의 주요 ...</td>\n",
              "    </tr>\n",
              "    <tr>\n",
              "      <th>2</th>\n",
              "      <td>2.0</td>\n",
              "      <td>지원직무를 선택한 이유를(직무와 관련한 경험, 전공, 수강과목, 자격증 등을 포함하...</td>\n",
              "      <td>\\n\"직접 만든다는 것\"\\n 실습을 위해 콤부차를 조사하였습니다. 한정된 자료에서 ...</td>\n",
              "    </tr>\n",
              "    <tr>\n",
              "      <th>3</th>\n",
              "      <td>2.0</td>\n",
              "      <td>본인이 선택한 직무에 대해 아래 내용을 포함하여 기술하시오. ①지원한 직무의 역할이...</td>\n",
              "      <td>\\n`전지적 참견 시점`\\n 영업관리 직무는 BGF리테일의 점포 관리를 위한 매니저...</td>\n",
              "    </tr>\n",
              "    <tr>\n",
              "      <th>4</th>\n",
              "      <td>4.0</td>\n",
              "      <td>본인이 선택한 직무를 담당하고 싶은 이유, 적합성 등에 대해 자유롭게 설명해 보십시...</td>\n",
              "      <td>\\n16살에 처음 회계를 접하고 흥미를 느껴 뚜렷한 진로 방향을 형성했습니다.\\n기...</td>\n",
              "    </tr>\n",
              "    <tr>\n",
              "      <th>...</th>\n",
              "      <td>...</td>\n",
              "      <td>...</td>\n",
              "      <td>...</td>\n",
              "    </tr>\n",
              "    <tr>\n",
              "      <th>234</th>\n",
              "      <td>5.0</td>\n",
              "      <td>1지망 직무를 선택한 이유에 대해 기술하시오.(400자)</td>\n",
              "      <td>\\n[조수역할을 통해 얻은 값진 꿈]\\n고등학교를 졸업하기 전 마지막 방학에 아버지...</td>\n",
              "    </tr>\n",
              "    <tr>\n",
              "      <th>235</th>\n",
              "      <td>2.0</td>\n",
              "      <td>귀하에게 `직장`이 가지는 의미는 무엇이며, 그 직장으로서 신용회복위원회를 선택한 ...</td>\n",
              "      <td>\\n제게 있어 직장의 의미는 기본적으로는 생계수단인 동시에, 사회적으로 의미 있는 ...</td>\n",
              "    </tr>\n",
              "    <tr>\n",
              "      <th>236</th>\n",
              "      <td>3.0</td>\n",
              "      <td>삼성취업을 선택한 이유와 입사 후 회사에서 이루고 싶은 꿈을 기술하십시오. (700...</td>\n",
              "      <td>\\n[자본주의 사회에서의 옳은 길]\\n저는 두 가지 이유로 삼성을 선택했습니다. 첫...</td>\n",
              "    </tr>\n",
              "    <tr>\n",
              "      <th>237</th>\n",
              "      <td>3.0</td>\n",
              "      <td>1순위로 선택한 역량(팀웍지향)을 발휘한 사례를 경험 중심으로 작성해 주세요.</td>\n",
              "      <td>\\n공동의 목표를 위해 역할 분담하여 협동하겠습니다. 아쉬운점 1해양영토대장정에 참...</td>\n",
              "    </tr>\n",
              "    <tr>\n",
              "      <th>238</th>\n",
              "      <td>4.0</td>\n",
              "      <td>삼성취업을 선택한 이유와 입사 후 회사에서 이루고 싶은 꿈을 기술하십시오. (700...</td>\n",
              "      <td>\\n&lt;흥미와 경험이 이끌어준 삼성중공업&gt;\\n  2012 전국지능로봇경진대회에 참가하...</td>\n",
              "    </tr>\n",
              "  </tbody>\n",
              "</table>\n",
              "<p>239 rows × 3 columns</p>\n",
              "</div>"
            ],
            "text/plain": [
              "      점수  ...                                                 답변\n",
              "0    2.0  ...  \\n경영은 전사의 콘텐츠 제작에서부터 유통 과정을 파악하고, 설정한 목표를 이루기 ...\n",
              "1    3.0  ...  \\n\"‘재료’를 전공하며 나의 가치를 증명하다\"\\n 제조업은 우리나라 경제의 주요 ...\n",
              "2    2.0  ...  \\n\"직접 만든다는 것\"\\n 실습을 위해 콤부차를 조사하였습니다. 한정된 자료에서 ...\n",
              "3    2.0  ...  \\n`전지적 참견 시점`\\n 영업관리 직무는 BGF리테일의 점포 관리를 위한 매니저...\n",
              "4    4.0  ...  \\n16살에 처음 회계를 접하고 흥미를 느껴 뚜렷한 진로 방향을 형성했습니다.\\n기...\n",
              "..   ...  ...                                                ...\n",
              "234  5.0  ...  \\n[조수역할을 통해 얻은 값진 꿈]\\n고등학교를 졸업하기 전 마지막 방학에 아버지...\n",
              "235  2.0  ...  \\n제게 있어 직장의 의미는 기본적으로는 생계수단인 동시에, 사회적으로 의미 있는 ...\n",
              "236  3.0  ...  \\n[자본주의 사회에서의 옳은 길]\\n저는 두 가지 이유로 삼성을 선택했습니다. 첫...\n",
              "237  3.0  ...  \\n공동의 목표를 위해 역할 분담하여 협동하겠습니다. 아쉬운점 1해양영토대장정에 참...\n",
              "238  4.0  ...  \\n<흥미와 경험이 이끌어준 삼성중공업>\\n  2012 전국지능로봇경진대회에 참가하...\n",
              "\n",
              "[239 rows x 3 columns]"
            ]
          },
          "metadata": {
            "tags": []
          },
          "execution_count": 7
        }
      ]
    },
    {
      "cell_type": "code",
      "metadata": {
        "colab": {
          "base_uri": "https://localhost:8080/"
        },
        "id": "5j5W2q_5SLFt",
        "outputId": "1f9a3b48-2fca-44c2-cfdc-877ca2c11ea3"
      },
      "source": [
        "choice_cols.info()"
      ],
      "execution_count": 8,
      "outputs": [
        {
          "output_type": "stream",
          "text": [
            "<class 'pandas.core.frame.DataFrame'>\n",
            "RangeIndex: 239 entries, 0 to 238\n",
            "Data columns (total 3 columns):\n",
            " #   Column  Non-Null Count  Dtype  \n",
            "---  ------  --------------  -----  \n",
            " 0   점수      239 non-null    float64\n",
            " 1   질문      239 non-null    object \n",
            " 2   답변      239 non-null    object \n",
            "dtypes: float64(1), object(2)\n",
            "memory usage: 5.7+ KB\n"
          ],
          "name": "stdout"
        }
      ]
    },
    {
      "cell_type": "code",
      "metadata": {
        "colab": {
          "base_uri": "https://localhost:8080/"
        },
        "id": "liVxHDuYT6Fq",
        "outputId": "dfbf78f7-add8-45a0-b05a-c82b28031cd6"
      },
      "source": [
        "len(choice_cols)"
      ],
      "execution_count": 9,
      "outputs": [
        {
          "output_type": "execute_result",
          "data": {
            "text/plain": [
              "239"
            ]
          },
          "metadata": {
            "tags": []
          },
          "execution_count": 9
        }
      ]
    },
    {
      "cell_type": "code",
      "metadata": {
        "id": "1uJKsXDpRdnK"
      },
      "source": [
        "from sklearn.model_selection import train_test_split"
      ],
      "execution_count": 10,
      "outputs": []
    },
    {
      "cell_type": "code",
      "metadata": {
        "id": "ONmD6rvKUjRH"
      },
      "source": [
        "x_data = choice_cols['답변']\n",
        "y_data = choice_cols['점수']"
      ],
      "execution_count": 11,
      "outputs": []
    },
    {
      "cell_type": "code",
      "metadata": {
        "colab": {
          "base_uri": "https://localhost:8080/"
        },
        "id": "V3-VfZ9xUytZ",
        "outputId": "d12f52c7-704c-4f8c-f8b5-d0874ce41ded"
      },
      "source": [
        "x_train, x_test, y_train, y_test = train_test_split(x_data, y_data)\n",
        "x_train.shape, y_train.shape,x_test.shape, y_test.shape"
      ],
      "execution_count": 12,
      "outputs": [
        {
          "output_type": "execute_result",
          "data": {
            "text/plain": [
              "((179,), (179,), (60,), (60,))"
            ]
          },
          "metadata": {
            "tags": []
          },
          "execution_count": 12
        }
      ]
    },
    {
      "cell_type": "code",
      "metadata": {
        "colab": {
          "base_uri": "https://localhost:8080/",
          "height": 292
        },
        "id": "hIzPArxGVDe-",
        "outputId": "50e9f21a-617c-468f-d0b9-54ba6b9f8351"
      },
      "source": [
        "y_data.value_counts().plot(kind='bar')"
      ],
      "execution_count": 13,
      "outputs": [
        {
          "output_type": "execute_result",
          "data": {
            "text/plain": [
              "<matplotlib.axes._subplots.AxesSubplot at 0x7f6afadf3690>"
            ]
          },
          "metadata": {
            "tags": []
          },
          "execution_count": 13
        },
        {
          "output_type": "display_data",
          "data": {
            "image/png": "[encoded data removed]",
            "text/plain": [
              "<Figure size 432x288 with 1 Axes>"
            ]
          },
          "metadata": {
            "tags": [],
            "needs_background": "light"
          }
        }
      ]
    },
    {
      "cell_type": "code",
      "metadata": {
        "colab": {
          "base_uri": "https://localhost:8080/"
        },
        "id": "W0aF-E1EVV31",
        "outputId": "65521839-9111-4c20-e5e7-772456746427"
      },
      "source": [
        "type(x_train)"
      ],
      "execution_count": 14,
      "outputs": [
        {
          "output_type": "execute_result",
          "data": {
            "text/plain": [
              "pandas.core.series.Series"
            ]
          },
          "metadata": {
            "tags": []
          },
          "execution_count": 14
        }
      ]
    },
    {
      "cell_type": "markdown",
      "metadata": {
        "id": "HI-jNbnSWd8c"
      },
      "source": [
        "## NLP "
      ]
    },
    {
      "cell_type": "code",
      "metadata": {
        "colab": {
          "base_uri": "https://localhost:8080/"
        },
        "id": "VbzWqx3xWhyo",
        "outputId": "16aaa9cd-c0b7-4163-e06a-e78bd9461b8d"
      },
      "source": [
        "x_temp = x_train\n",
        "x_temp= x_temp.str.replace('[^가-힣ㄱ-ㅎ0-9ㅏ-ㅣ]','')\n",
        "x_temp"
      ],
      "execution_count": 28,
      "outputs": [
        {
          "output_type": "execute_result",
          "data": {
            "text/plain": [
              "221    뚜레쥬르세계화는현재진행형2005년중국에진출한뚜레쥬르는얼마전100호점을개설하면서국내제...\n",
              "8      우리나라경기를이끄는반도체산업의기초에서일하고싶습니다저는기초산업에매력을느껴컴퓨터응용기계...\n",
              "207    환경과자동차에대한관심은2016에서순수전기차를공개하였습니다미국등의시장에서는선전할것으로...\n",
              "209    부서간갈등을우선으로해결해야한다고생각합니다조직에서생활하다보면내생각이옳다고여기는경우가많...\n",
              "20     모두를위한데이터를쌓아가는직무는현장의소리를데이터화하는역할이라생각합니다점포운영을눈으로보...\n",
              "                             ...                        \n",
              "79     학창시절식품공장견학을통해품질관리라는직무에대해알게되었습니다식품의품질관리가까다롭고어렵지...\n",
              "140    언어는응용프로그래밍에서부터네트워크시스템그래픽프로그래밍등의다양한분야에걸쳐서활용되기때문...\n",
              "80     강한주인의식대학교총학생회의일원으로활동하며주인의식이라는가치관을통해단체에기여하고저자신만...\n",
              "120    제품경쟁력은구매직무에서창출전직장무역회사의경험을통해제품경쟁력은구매직무에서나온다는것을깨...\n",
              "108    고객의숨은니즈를찾고제안하며성취감을얻는영업저는영업직무를통해고객사에더좋은보안솔루션을제안...\n",
              "Name: 답변, Length: 179, dtype: object"
            ]
          },
          "metadata": {
            "tags": []
          },
          "execution_count": 28
        }
      ]
    },
    {
      "cell_type": "code",
      "metadata": {
        "id": "rQLluY7yWuN7"
      },
      "source": [
        "from konlpy.tag import Mecab"
      ],
      "execution_count": 29,
      "outputs": []
    },
    {
      "cell_type": "code",
      "metadata": {
        "id": "8rxedqeVXDKg"
      },
      "source": [
        "mecab= Mecab()"
      ],
      "execution_count": 30,
      "outputs": []
    },
    {
      "cell_type": "code",
      "metadata": {
        "colab": {
          "base_uri": "https://localhost:8080/"
        },
        "id": "MKz3Yi3VZ21r",
        "outputId": "597a7959-48fc-4965-a2b4-e0c4db6f9e3e"
      },
      "source": [
        "# mecab.pos(x_temp[0])\n",
        "print(mecab.morphs(x_temp[0]))"
      ],
      "execution_count": 31,
      "outputs": [
        {
          "output_type": "stream",
          "text": [
            "['경영', '은', '전사', '의', '콘텐츠', '제작', '에서부터', '유통', '과정', '을', '파악', '하', '고', '설정', '한', '목표', '를', '이루', '기', '위해', '전', '과정', '에서', '의', '문제점', '이나', '비', '효율', '성', '을', '제거', '하', '는', '직무', '임', '을', '알', '고', '있', '습니다', '이', '직무', '를', '수행', '하', '기', '위해서', '는', '상황', '판단력', '과', '문제', '해', '결력', '이', '필수', '역량', '이', '라고', '생각', '합니다', '아쉬운', '점', '1', '한국어', '영어', '일본어', '에', '이르', '는', '언어', '구사력', '과', '빠른', '적응력', '을', '바탕', '으로', '풍부', '한', '사회', '경험', '을', '하', '며', '핵심', '역량', '을', '키웠', '습니다', '와', '에서', '교육', '콘텐츠', '개발', '및', '학생', '응대', '업무', '를', '수행', '하', '면서', '클라이언트', '와', '의', '소통', '을', '통한', '효율', '적', '인', '문제', '해결', '방법', '을', '끊임없이', '모색', '하', '여', '최선', '의', '결과', '를', '도출', '하', '곤', '했', '습니다', '회사부', '대표', '님', '말씀', '에', '따르', '면', '제', '가', '제작', '에', '참여', '한', '교재', '콘텐츠', '나', '상담', '내역', '을', '기록', '한', '일지', '는', '후', '임직원', '들', '에게', '몇', '년', '간본', '보', '기', '처럼', '제시', '되', '고', '있', '다고', '합니다', '아쉬운', '점', '2', '제', '가', '배양', '한', '역량', '을', '바탕', '으로', '경영', '부문', '의', '다섯', '가지', '직무', '군중', '정책', '혹은', '사업', '팀', '에서', '일', '하', '며', '방송', '환경', '의', '무한', '한', '미래', '를', '그려', '가', '고자', '희망', '합니다', '방송', '시장', '이', '급격', '한', '변화', '를', '맞', '으면서', '귀사', '는', '사업', '영역', '확장', '을', '고민', '하', '고', '도전', '하', '였', '습니다', '귀사', '가', '장기', '적', '으로', '성장', '할', '수', '있', '도록', '콘텐츠', '의', '효율', '적', '인', '재', '생산', '방식', '을', '탐구', '하', '고', '싶', '습니다', '시장', '변화', '에', '민첩', '하', '게', '반응', '하', '는', '유연', '성', '을', '바탕', '으로', '페이퍼', '워크', '뿐', '만', '아니', '라', '확장', '된', '영역', '의', '업무', '를', '수행', '하', '는', '데', '에', '도', '준비', '되', '어', '있', '습니다', '아쉬운', '점', '3', '글자', '수', '649', '자', '1122']\n"
          ],
          "name": "stdout"
        }
      ]
    },
    {
      "cell_type": "code",
      "metadata": {
        "id": "47P-fAWjcBAA"
      },
      "source": [
        "from nltk.corpus import stopwords \n",
        "from nltk.tokenize import word_tokenize "
      ],
      "execution_count": 32,
      "outputs": []
    },
    {
      "cell_type": "code",
      "metadata": {
        "id": "WCHrluKOnxuo"
      },
      "source": [
        ""
      ],
      "execution_count": null,
      "outputs": []
    }
  ]
}