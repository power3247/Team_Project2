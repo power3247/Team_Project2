{
  "nbformat": 4,
  "nbformat_minor": 0,
  "metadata": {
    "colab": {
      "name": "test_dummy.ipynb",
      "provenance": [],
      "collapsed_sections": [],
      "mount_file_id": "1SMyO2ECeQ5b0Lv5vkjvoiKZYTd_CSl5n",
      "authorship_tag": "ABX9TyMwPzXWf58YMeV4W2tK4yCM",
      "include_colab_link": true
    },
    "kernelspec": {
      "name": "python3",
      "display_name": "Python 3"
    },
    "language_info": {
      "name": "python"
    }
  },
  "cells": [
    {
      "cell_type": "markdown",
      "metadata": {
        "id": "view-in-github",
        "colab_type": "text"
      },
      "source": [
        "<a href=\"https://colab.research.google.com/github/yoonputer/Team_Project2/blob/master/Deeplearning/test_dummy.ipynb\" target=\"_parent\"><img src=\"https://colab.research.google.com/assets/colab-badge.svg\" alt=\"Open In Colab\"/></a>"
      ]
    },
    {
      "cell_type": "markdown",
      "metadata": {
        "id": "sPt_drIw1LHJ"
      },
      "source": [
        "## 설치\n",
        "\n",
        "konlpy\n"
      ]
    },
    {
      "cell_type": "code",
      "metadata": {
        "id": "NIFFN1lKCV0f"
      },
      "source": [
        "! ls ./drive/MyDrive/Forkspoon/dummy1.xlsx"
      ],
      "execution_count": null,
      "outputs": []
    },
    {
      "cell_type": "code",
      "metadata": {
        "id": "fKDR4BjdCcWf"
      },
      "source": [
        "!python -m pip install konlpy"
      ],
      "execution_count": null,
      "outputs": []
    },
    {
      "cell_type": "code",
      "metadata": {
        "id": "g7MUhXe2os2R",
        "colab": {
          "base_uri": "https://localhost:8080/"
        },
        "outputId": "6f5fc590-3bcb-4154-c3ed-eaa9804a7886"
      },
      "source": [
        "!curl -O https://raw.githubusercontent.com/konlpy/konlpy/master/scripts/mecab.sh"
      ],
      "execution_count": 55,
      "outputs": [
        {
          "output_type": "stream",
          "text": [
            "  % Total    % Received % Xferd  Average Speed   Time    Time     Time  Current\n",
            "                                 Dload  Upload   Total   Spent    Left  Speed\n",
            "\r  0     0    0     0    0     0      0      0 --:--:-- --:--:-- --:--:--     0\r100  5064  100  5064    0     0  52750      0 --:--:-- --:--:-- --:--:-- 52750\n"
          ],
          "name": "stdout"
        }
      ]
    },
    {
      "cell_type": "code",
      "metadata": {
        "id": "WuOckPNdouSi"
      },
      "source": [
        "!source ./mecab.sh"
      ],
      "execution_count": null,
      "outputs": []
    },
    {
      "cell_type": "markdown",
      "metadata": {
        "id": "Xb5ob4hJ1GQZ"
      },
      "source": [
        "## 데이터 가져오기"
      ]
    },
    {
      "cell_type": "code",
      "metadata": {
        "id": "-84HtQWJTwpc"
      },
      "source": [
        "!ls ./drive/MyDrive/Forkspoon/db.sqlite3"
      ],
      "execution_count": null,
      "outputs": []
    },
    {
      "cell_type": "code",
      "metadata": {
        "id": "SUfA_KTdPIb-"
      },
      "source": [
        "import sqlite3\n",
        "import pandas as pd\n",
        "connect = sqlite3.connect('./drive/MyDrive/Forkspoon/db.sqlite3')"
      ],
      "execution_count": 58,
      "outputs": []
    },
    {
      "cell_type": "code",
      "metadata": {
        "id": "h1mqXsmRPSlu"
      },
      "source": [
        "choice = pd.read_sql_query('select * from write_choice',connect)"
      ],
      "execution_count": 59,
      "outputs": []
    },
    {
      "cell_type": "code",
      "metadata": {
        "colab": {
          "base_uri": "https://localhost:8080/",
          "height": 417
        },
        "id": "fdnTy1XjPnhM",
        "outputId": "da4dfaa6-0e5f-4135-c380-d31b01d37302"
      },
      "source": [
        "type(choice)\n",
        "choice_cols = choice[['점수','질문','답변']]\n",
        "choice_cols"
      ],
      "execution_count": 60,
      "outputs": [
        {
          "output_type": "execute_result",
          "data": {
            "text/html": [
              "<div>\n",
              "<style scoped>\n",
              "    .dataframe tbody tr th:only-of-type {\n",
              "        vertical-align: middle;\n",
              "    }\n",
              "\n",
              "    .dataframe tbody tr th {\n",
              "        vertical-align: top;\n",
              "    }\n",
              "\n",
              "    .dataframe thead th {\n",
              "        text-align: right;\n",
              "    }\n",
              "</style>\n",
              "<table border=\"1\" class=\"dataframe\">\n",
              "  <thead>\n",
              "    <tr style=\"text-align: right;\">\n",
              "      <th></th>\n",
              "      <th>점수</th>\n",
              "      <th>질문</th>\n",
              "      <th>답변</th>\n",
              "    </tr>\n",
              "  </thead>\n",
              "  <tbody>\n",
              "    <tr>\n",
              "      <th>0</th>\n",
              "      <td>2.0</td>\n",
              "      <td>입사 지원동기를 작성해주세요. (① 지원 부문을 선택한 이유와 ② 지원 부문과 관련...</td>\n",
              "      <td>\\n경영은 전사의 콘텐츠 제작에서부터 유통 과정을 파악하고, 설정한 목표를 이루기 ...</td>\n",
              "    </tr>\n",
              "    <tr>\n",
              "      <th>1</th>\n",
              "      <td>3.0</td>\n",
              "      <td>우리 공단에 지원동기와 직무를 선택한 이유, 입사 후 목표와 포부를 기술해 주십시오...</td>\n",
              "      <td>\\n\"‘재료’를 전공하며 나의 가치를 증명하다\"\\n 제조업은 우리나라 경제의 주요 ...</td>\n",
              "    </tr>\n",
              "    <tr>\n",
              "      <th>2</th>\n",
              "      <td>2.0</td>\n",
              "      <td>지원직무를 선택한 이유를(직무와 관련한 경험, 전공, 수강과목, 자격증 등을 포함하...</td>\n",
              "      <td>\\n\"직접 만든다는 것\"\\n 실습을 위해 콤부차를 조사하였습니다. 한정된 자료에서 ...</td>\n",
              "    </tr>\n",
              "    <tr>\n",
              "      <th>3</th>\n",
              "      <td>2.0</td>\n",
              "      <td>본인이 선택한 직무에 대해 아래 내용을 포함하여 기술하시오. ①지원한 직무의 역할이...</td>\n",
              "      <td>\\n`전지적 참견 시점`\\n 영업관리 직무는 BGF리테일의 점포 관리를 위한 매니저...</td>\n",
              "    </tr>\n",
              "    <tr>\n",
              "      <th>4</th>\n",
              "      <td>4.0</td>\n",
              "      <td>본인이 선택한 직무를 담당하고 싶은 이유, 적합성 등에 대해 자유롭게 설명해 보십시...</td>\n",
              "      <td>\\n16살에 처음 회계를 접하고 흥미를 느껴 뚜렷한 진로 방향을 형성했습니다.\\n기...</td>\n",
              "    </tr>\n",
              "    <tr>\n",
              "      <th>...</th>\n",
              "      <td>...</td>\n",
              "      <td>...</td>\n",
              "      <td>...</td>\n",
              "    </tr>\n",
              "    <tr>\n",
              "      <th>2992</th>\n",
              "      <td>2.0</td>\n",
              "      <td>화천그룹 및 해당분야 지원동기최소 (30~400)</td>\n",
              "      <td>\\n공작기계분야에 있어서 두산인프라코어, 현대위아와 어깨를 나란히 하는 화천기계는 ...</td>\n",
              "    </tr>\n",
              "    <tr>\n",
              "      <th>2993</th>\n",
              "      <td>4.0</td>\n",
              "      <td>지원동기 및 입사 후 포부</td>\n",
              "      <td>\\n(`마트`라는 채널에서 보고 느낀 영업사원들의 모습)\\n마트에서 일하면서 판매,...</td>\n",
              "    </tr>\n",
              "    <tr>\n",
              "      <th>2994</th>\n",
              "      <td>4.0</td>\n",
              "      <td>직무 지원동기</td>\n",
              "      <td>\\n&lt;사람을 좋아하는 마음, 경험과 지식을 통해 또 다른 가치를 만들다&gt; \\n새로운...</td>\n",
              "    </tr>\n",
              "    <tr>\n",
              "      <th>2995</th>\n",
              "      <td>5.0</td>\n",
              "      <td>LG디스플레이 및 지원 직무에 지원하는 동기에 대해 기술해 주십시오. 성격(장단점)...</td>\n",
              "      <td>\\n‘2015 나노 코리아’에서 LG OLED UHD TV를 보고 말을 잃었습니다....</td>\n",
              "    </tr>\n",
              "    <tr>\n",
              "      <th>2996</th>\n",
              "      <td>3.0</td>\n",
              "      <td>당사에 지원한 동기와 자신이 잘 할 수 있다고 생각하는 일에 대해서 구체적으로 기술...</td>\n",
              "      <td>\\n[공기와 같은 기업] \\n한일 시멘트를 집약적으로 표현할 수 있는 말입니다. 고...</td>\n",
              "    </tr>\n",
              "  </tbody>\n",
              "</table>\n",
              "<p>2997 rows × 3 columns</p>\n",
              "</div>"
            ],
            "text/plain": [
              "       점수  ...                                                 답변\n",
              "0     2.0  ...  \\n경영은 전사의 콘텐츠 제작에서부터 유통 과정을 파악하고, 설정한 목표를 이루기 ...\n",
              "1     3.0  ...  \\n\"‘재료’를 전공하며 나의 가치를 증명하다\"\\n 제조업은 우리나라 경제의 주요 ...\n",
              "2     2.0  ...  \\n\"직접 만든다는 것\"\\n 실습을 위해 콤부차를 조사하였습니다. 한정된 자료에서 ...\n",
              "3     2.0  ...  \\n`전지적 참견 시점`\\n 영업관리 직무는 BGF리테일의 점포 관리를 위한 매니저...\n",
              "4     4.0  ...  \\n16살에 처음 회계를 접하고 흥미를 느껴 뚜렷한 진로 방향을 형성했습니다.\\n기...\n",
              "...   ...  ...                                                ...\n",
              "2992  2.0  ...  \\n공작기계분야에 있어서 두산인프라코어, 현대위아와 어깨를 나란히 하는 화천기계는 ...\n",
              "2993  4.0  ...  \\n(`마트`라는 채널에서 보고 느낀 영업사원들의 모습)\\n마트에서 일하면서 판매,...\n",
              "2994  4.0  ...  \\n<사람을 좋아하는 마음, 경험과 지식을 통해 또 다른 가치를 만들다> \\n새로운...\n",
              "2995  5.0  ...  \\n‘2015 나노 코리아’에서 LG OLED UHD TV를 보고 말을 잃었습니다....\n",
              "2996  3.0  ...  \\n[공기와 같은 기업] \\n한일 시멘트를 집약적으로 표현할 수 있는 말입니다. 고...\n",
              "\n",
              "[2997 rows x 3 columns]"
            ]
          },
          "metadata": {
            "tags": []
          },
          "execution_count": 60
        }
      ]
    },
    {
      "cell_type": "markdown",
      "metadata": {
        "id": "HI-jNbnSWd8c"
      },
      "source": [
        "## NLP "
      ]
    },
    {
      "cell_type": "code",
      "metadata": {
        "id": "1uJKsXDpRdnK"
      },
      "source": [
        "from sklearn.model_selection import train_test_split"
      ],
      "execution_count": 61,
      "outputs": []
    },
    {
      "cell_type": "code",
      "metadata": {
        "id": "ONmD6rvKUjRH"
      },
      "source": [
        "x_data = choice_cols['답변']\n",
        "y_data = choice_cols['점수']"
      ],
      "execution_count": 62,
      "outputs": []
    },
    {
      "cell_type": "code",
      "metadata": {
        "colab": {
          "base_uri": "https://localhost:8080/"
        },
        "id": "V3-VfZ9xUytZ",
        "outputId": "3ccb4f5e-4493-45c6-9dd2-af180da530a9"
      },
      "source": [
        "x_train, x_test, y_train, y_test = train_test_split(x_data, y_data)\n",
        "x_train.shape, y_train.shape,x_test.shape, y_test.shape"
      ],
      "execution_count": 63,
      "outputs": [
        {
          "output_type": "execute_result",
          "data": {
            "text/plain": [
              "((2247,), (2247,), (750,), (750,))"
            ]
          },
          "metadata": {
            "tags": []
          },
          "execution_count": 63
        }
      ]
    },
    {
      "cell_type": "code",
      "metadata": {
        "colab": {
          "base_uri": "https://localhost:8080/",
          "height": 289
        },
        "id": "hIzPArxGVDe-",
        "outputId": "fce01b13-5052-40da-b0db-efc2d3e78c3e"
      },
      "source": [
        "y_data.value_counts().plot(kind='bar')"
      ],
      "execution_count": 64,
      "outputs": [
        {
          "output_type": "execute_result",
          "data": {
            "text/plain": [
              "<matplotlib.axes._subplots.AxesSubplot at 0x7f206670cb10>"
            ]
          },
          "metadata": {
            "tags": []
          },
          "execution_count": 64
        },
        {
          "output_type": "display_data",
          "data": {
            "image/png": "[encoded data removed]",
            "text/plain": [
              "<Figure size 432x288 with 1 Axes>"
            ]
          },
          "metadata": {
            "tags": [],
            "needs_background": "light"
          }
        }
      ]
    },
    {
      "cell_type": "code",
      "metadata": {
        "colab": {
          "base_uri": "https://localhost:8080/"
        },
        "id": "W0aF-E1EVV31",
        "outputId": "4f940965-6090-4a60-9b45-a431a84d8234"
      },
      "source": [
        "type(x_train)"
      ],
      "execution_count": 65,
      "outputs": [
        {
          "output_type": "execute_result",
          "data": {
            "text/plain": [
              "pandas.core.series.Series"
            ]
          },
          "metadata": {
            "tags": []
          },
          "execution_count": 65
        }
      ]
    },
    {
      "cell_type": "code",
      "metadata": {
        "colab": {
          "base_uri": "https://localhost:8080/"
        },
        "id": "VbzWqx3xWhyo",
        "outputId": "c48f9ede-e8ad-4e05-9558-9337491a4a2c"
      },
      "source": [
        "x_temp = x_train\n",
        "x_temp= x_temp.str.replace('[^가-힣ㄱ-ㅎ0-9ㅏ-ㅣ]','')\n",
        "x_temp"
      ],
      "execution_count": 66,
      "outputs": [
        {
          "output_type": "execute_result",
          "data": {
            "text/plain": [
              "2877    롯데는수많은계열사가있고국민들이즐겨찾기에그만큼일거리도많을것입니다롯데정보통신은이러한요구...\n",
              "2774    이로움을전해주는명품조연누구보다반짝이는조연이되고싶어은행원에대한꿈을키워왔습니다과거에는어...\n",
              "1435    도전과성장의일치경영학을복수전공하면서기업에서수익을가장잘낼수있고모든산업의근간이되는것은물...\n",
              "1294    문명이발전하게된원동력은통신수단의발달이라고생각했습니다그로인해많은사상과문명이생겨났고이에...\n",
              "2000    고등학교때보안에무지하여계정을몇번해킹당한후정보보안직무에관심을갖게되었습니다대학교입학을학...\n",
              "                              ...                        \n",
              "2334    전자재료공정연구실학부연구생저는반도체와연관된전공수업을수강하여반도체에대한이해를높이기위해...\n",
              "1067    열정은창의를창의는개선을이끈다저는조직에서맡은업무를개선하는퍼스트무버가되기위해노력했습니다...\n",
              "151     의신유통사업은국내를넘어해외로다양한제품과브랜드를수출하면서한국문화의세계화를주도하고있습니...\n",
              "376     안정적인전력공급의필요성고등학교재학중프로젝트연수를위해2주간에서생활한경험이있습니다에도착...\n",
              "2876    세계와솔브레인의연결고리솔브레인은국내반도체및디스플레이제조에만족하지않고지속적인해외시장확...\n",
              "Name: 답변, Length: 2247, dtype: object"
            ]
          },
          "metadata": {
            "tags": []
          },
          "execution_count": 66
        }
      ]
    },
    {
      "cell_type": "markdown",
      "metadata": {
        "id": "D7yF_J6_2bRr"
      },
      "source": [
        "### stopwords\n",
        "\n",
        "```\n",
        "import pandas as pd\n",
        "\n",
        "lst_A = ['a','b','c','d', 'e', 1, 2]\n",
        "df = pd.DataFrame(lst_A)\n",
        "\n",
        "df.columns=['']\n",
        "\n",
        "import numpy as np\n",
        "\n",
        "np.array(df[0].tolist())\n",
        "```"
      ]
    },
    {
      "cell_type": "code",
      "metadata": {
        "colab": {
          "base_uri": "https://localhost:8080/"
        },
        "id": "Fdt43FMxMYZp",
        "outputId": "2e166491-c62d-4ea4-da0a-8198dc46d435"
      },
      "source": [
        "stopwords = pd.read_sql_query('select * from stopwords',connect)\n",
        "\n",
        "stopwords.describe()\n",
        "\n",
        "type(stopwords)"
      ],
      "execution_count": 67,
      "outputs": [
        {
          "output_type": "execute_result",
          "data": {
            "text/plain": [
              "pandas.core.frame.DataFrame"
            ]
          },
          "metadata": {
            "tags": []
          },
          "execution_count": 67
        }
      ]
    },
    {
      "cell_type": "code",
      "metadata": {
        "colab": {
          "base_uri": "https://localhost:8080/"
        },
        "id": "diIjgCHSOA2w",
        "outputId": "77dda63c-2d60-4ed6-8332-fd609cf2bf3d"
      },
      "source": [
        "import numpy as np\n",
        "\n",
        "ko_stopwords_list = np.array(stopwords['words'].tolist())\n",
        "ko_stopwords_list"
      ],
      "execution_count": 68,
      "outputs": [
        {
          "output_type": "execute_result",
          "data": {
            "text/plain": [
              "array(['이', '있', '하', ..., '잘', '통하', '놓'], dtype='<U4')"
            ]
          },
          "metadata": {
            "tags": []
          },
          "execution_count": 68
        }
      ]
    },
    {
      "cell_type": "markdown",
      "metadata": {
        "id": "0LeNEgSt4dTe"
      },
      "source": [
        "### Mecab"
      ]
    },
    {
      "cell_type": "code",
      "metadata": {
        "id": "rQLluY7yWuN7"
      },
      "source": [
        "from konlpy.tag import Mecab\n",
        "mecab= Mecab()"
      ],
      "execution_count": 69,
      "outputs": []
    },
    {
      "cell_type": "code",
      "metadata": {
        "id": "MKz3Yi3VZ21r"
      },
      "source": [
        "# mecab.pos(x_temp[0])\n",
        "mecab.morphs(x_temp[0])"
      ],
      "execution_count": null,
      "outputs": []
    },
    {
      "cell_type": "code",
      "metadata": {
        "id": "7qPP2UkuXO1r"
      },
      "source": [
        "def non_stopwords(x_temp):\n",
        "  sentance = list ()\n",
        "  \n",
        "  for tok in x_temp:\n",
        "    encoded = mecab.morphs(tok)\n",
        "\n",
        "    sentance.append([item for item in encoded if item not in ko_stopwords_list])\n",
        "\n",
        "  return sentance"
      ],
      "execution_count": 71,
      "outputs": []
    },
    {
      "cell_type": "code",
      "metadata": {
        "id": "nVEvGvVcaNKf"
      },
      "source": [
        "non_stopwords(x_temp[0])"
      ],
      "execution_count": null,
      "outputs": []
    },
    {
      "cell_type": "markdown",
      "metadata": {
        "id": "CFBwOM2ESIuQ"
      },
      "source": [
        "```\n",
        " [],\n",
        " ['준'],\n",
        " ['비'],\n",
        " [],\n",
        " [],\n",
        " [],\n",
        " [],\n",
        " [],\n",
        " [],\n",
        " [],\n",
        " ['쉬'],\n",
        " ['운'],\n",
        " [],\n",
        " ['3'],\n",
        " ['글'],\n",
        " [],\n",
        " [],\n",
        " ['6'],\n",
        " ['4'],\n",
        " ['9'],\n",
        " [],\n",
        " ['1'],\n",
        " ['1'],\n",
        " ['2'],\n",
        " ['2']]\n",
        " ```"
      ]
    },
    {
      "cell_type": "markdown",
      "metadata": {
        "id": "PFMPeZBDSSHu"
      },
      "source": [
        "## Tokenizer"
      ]
    },
    {
      "cell_type": "code",
      "metadata": {
        "id": "WCHrluKOnxuo"
      },
      "source": [
        "import tensorflow as tf"
      ],
      "execution_count": 73,
      "outputs": []
    },
    {
      "cell_type": "code",
      "metadata": {
        "id": "nYPncVEUSjuY"
      },
      "source": [
        "tokenizer = tf.keras.preprocessing.text.Tokenizer()"
      ],
      "execution_count": 74,
      "outputs": []
    },
    {
      "cell_type": "code",
      "metadata": {
        "id": "BdNkBHjeSqpV"
      },
      "source": [
        "tokenizer.fit_on_texts(non_stopwords(x_temp))"
      ],
      "execution_count": 75,
      "outputs": []
    },
    {
      "cell_type": "code",
      "metadata": {
        "id": "h3ZjCDTLTGPi"
      },
      "source": [
        "tokenizer.word_index"
      ],
      "execution_count": null,
      "outputs": []
    },
    {
      "cell_type": "markdown",
      "metadata": {
        "id": "Hi9Ok-n5SPr4"
      },
      "source": [
        "```\n",
        "'주력': 989,\n",
        " '턴': 990,\n",
        " '서적': 991,\n",
        " '무대': 992,\n",
        " '한화': 993,\n",
        " '일조': 994,\n",
        " '오프라인': 995,\n",
        " '금속': 996,\n",
        " '마련': 997,\n",
        " '높여': 998,\n",
        " '검사': 999,\n",
        " '교통': 1000,\n",
        " ...}\n",
        " ```"
      ]
    },
    {
      "cell_type": "code",
      "metadata": {
        "id": "Bc9_vNdxS2cT"
      },
      "source": [
        "tokenizer.word_counts"
      ],
      "execution_count": null,
      "outputs": []
    },
    {
      "cell_type": "markdown",
      "metadata": {
        "id": "3R_DwHqNST_V"
      },
      "source": [
        "```\n",
        " ('부지런히', 15),\n",
        "             ('움직이', 48),\n",
        "             ('어렵', 62),\n",
        "             ('성취', 63),\n",
        "             ('신경', 19),\n",
        "             ('써야', 10),\n",
        "             ('실적', 77),\n",
        "             ('거래처', 85),\n",
        "             ('협력', 237),\n",
        "             ('토대', 146),\n",
        "             ('1181', 7),\n",
        "             ('2009', 3),\n",
        "             ('제어', 115),\n",
        "             ...])         \n",
        "```"
      ]
    },
    {
      "cell_type": "code",
      "metadata": {
        "id": "5gRsrkNUS57S"
      },
      "source": [
        "total_cnt = len(tokenizer.word_index)"
      ],
      "execution_count": 78,
      "outputs": []
    },
    {
      "cell_type": "code",
      "metadata": {
        "id": "-kcxOMdWTLjz"
      },
      "source": [
        "rare_cnt = 0\n",
        "total_freq,rare_freq = 0,0\n",
        "\n",
        "for key, value in tokenizer.word_counts.items():\n",
        "  total_freq = total_freq + value #전체 단어의 수\n",
        "  if(value <=2):\n",
        "    rare_cnt = rare_cnt+ 1  \n",
        "    rare_freq = rare_freq + value #2미만인 단어(희귀단어)의 수"
      ],
      "execution_count": 79,
      "outputs": []
    },
    {
      "cell_type": "code",
      "metadata": {
        "colab": {
          "base_uri": "https://localhost:8080/"
        },
        "id": "FvP2BgjxTOhD",
        "outputId": "1b6e6878-fe56-41b9-e288-c955698f6ad7"
      },
      "source": [
        "total_cnt, rare_cnt, (rare_cnt/total_cnt)*100, (rare_freq/total_freq)*100"
      ],
      "execution_count": 80,
      "outputs": [
        {
          "output_type": "execute_result",
          "data": {
            "text/plain": [
              "(16290, 8571, 52.61510128913444, 3.5907372308572576)"
            ]
          },
          "metadata": {
            "tags": []
          },
          "execution_count": 80
        }
      ]
    },
    {
      "cell_type": "code",
      "metadata": {
        "colab": {
          "base_uri": "https://localhost:8080/"
        },
        "id": "J2ufYSbTTQIj",
        "outputId": "734183cb-cace-4022-965c-529833b9f2ad"
      },
      "source": [
        "vocab_size = total_cnt - rare_cnt #보케블러리 사이즈\n",
        "vocab_size "
      ],
      "execution_count": 81,
      "outputs": [
        {
          "output_type": "execute_result",
          "data": {
            "text/plain": [
              "7719"
            ]
          },
          "metadata": {
            "tags": []
          },
          "execution_count": 81
        }
      ]
    },
    {
      "cell_type": "code",
      "metadata": {
        "id": "9JKVBfQsTTmT"
      },
      "source": [
        "tokenizer = tf.keras.preprocessing.text.Tokenizer(vocab_size, oov_token='OOV')"
      ],
      "execution_count": 82,
      "outputs": []
    },
    {
      "cell_type": "code",
      "metadata": {
        "id": "6NKhCGLFTYcD"
      },
      "source": [
        "tokenizer.fit_on_texts(non_stopwords(x_temp))"
      ],
      "execution_count": 83,
      "outputs": []
    },
    {
      "cell_type": "code",
      "metadata": {
        "id": "kb62lS7dTZ7C"
      },
      "source": [
        "tokenizer.index_word"
      ],
      "execution_count": null,
      "outputs": []
    },
    {
      "cell_type": "markdown",
      "metadata": {
        "id": "kgmqkn2NSbJo"
      },
      "source": [
        "```\n",
        " 989: '인생',\n",
        " 990: '주력',\n",
        " 991: '턴',\n",
        " 992: '서적',\n",
        " 993: '무대',\n",
        " 994: '한화',\n",
        " 995: '일조',\n",
        " 996: '오프라인',\n",
        " 997: '금속',\n",
        " 998: '마련',\n",
        " 999: '높여',\n",
        " 1000: '검사',\n",
        " ...}\n",
        "```"
      ]
    },
    {
      "cell_type": "code",
      "metadata": {
        "colab": {
          "base_uri": "https://localhost:8080/",
          "height": 35
        },
        "id": "tsy3bfGV6RDE",
        "outputId": "4e76b379-265b-410f-8516-df1a00aa7937"
      },
      "source": [
        "tokenizer.index_word[996]"
      ],
      "execution_count": 108,
      "outputs": [
        {
          "output_type": "execute_result",
          "data": {
            "application/vnd.google.colaboratory.intrinsic+json": {
              "type": "string"
            },
            "text/plain": [
              "'오프라인'"
            ]
          },
          "metadata": {
            "tags": []
          },
          "execution_count": 108
        }
      ]
    },
    {
      "cell_type": "code",
      "metadata": {
        "id": "o4BS1yPd_2yh"
      },
      "source": [
        "import pickle\n",
        "# pickle.dump(tokenizer.index_word, open('./drive/MyDrive/Forkspoon/tok_index_word.pkl','wb'))"
      ],
      "execution_count": 109,
      "outputs": []
    },
    {
      "cell_type": "markdown",
      "metadata": {
        "id": "YjSIRMbdT2M_"
      },
      "source": [
        "## To int \n"
      ]
    },
    {
      "cell_type": "code",
      "metadata": {
        "id": "Me5hP6Hmax-4"
      },
      "source": [
        "x_train = tokenizer.texts_to_sequences(non_stopwords(x_temp))"
      ],
      "execution_count": 85,
      "outputs": []
    },
    {
      "cell_type": "code",
      "metadata": {
        "colab": {
          "base_uri": "https://localhost:8080/"
        },
        "id": "x0pwURWNT-OU",
        "outputId": "2d017ef4-22a0-4069-a370-bce8cdc81349"
      },
      "source": [
        "len(x_train[0]),len(x_train[40]),len(x_train[50])"
      ],
      "execution_count": 86,
      "outputs": [
        {
          "output_type": "execute_result",
          "data": {
            "text/plain": [
              "(84, 162, 183)"
            ]
          },
          "metadata": {
            "tags": []
          },
          "execution_count": 86
        }
      ]
    },
    {
      "cell_type": "code",
      "metadata": {
        "id": "Evda2krkT_yR"
      },
      "source": [
        "hist_len = [len(words) for words in x_train]"
      ],
      "execution_count": 87,
      "outputs": []
    },
    {
      "cell_type": "code",
      "metadata": {
        "id": "xZ_INTihUB9y"
      },
      "source": [
        "import matplotlib.pyplot as plt"
      ],
      "execution_count": 88,
      "outputs": []
    },
    {
      "cell_type": "code",
      "metadata": {
        "colab": {
          "base_uri": "https://localhost:8080/",
          "height": 494
        },
        "id": "b85UnKL3UEIi",
        "outputId": "07451c5a-dfd4-4474-f98d-0057cf98d5e3"
      },
      "source": [
        "plt.hist(hist_len, bins=50)"
      ],
      "execution_count": 89,
      "outputs": [
        {
          "output_type": "execute_result",
          "data": {
            "text/plain": [
              "(array([  8.,   1.,  25.,  56.,  81., 146., 203., 320., 267., 225., 183.,\n",
              "        165.,  82., 123., 123.,  90.,  64.,  15.,  11.,   6.,  12.,  10.,\n",
              "          2.,   4.,   4.,   5.,   3.,   1.,   2.,   5.,   1.,   0.,   0.,\n",
              "          0.,   0.,   0.,   0.,   2.,   0.,   0.,   0.,   0.,   0.,   1.,\n",
              "          0.,   0.,   0.,   0.,   0.,   1.]),\n",
              " array([  5.  ,  18.34,  31.68,  45.02,  58.36,  71.7 ,  85.04,  98.38,\n",
              "        111.72, 125.06, 138.4 , 151.74, 165.08, 178.42, 191.76, 205.1 ,\n",
              "        218.44, 231.78, 245.12, 258.46, 271.8 , 285.14, 298.48, 311.82,\n",
              "        325.16, 338.5 , 351.84, 365.18, 378.52, 391.86, 405.2 , 418.54,\n",
              "        431.88, 445.22, 458.56, 471.9 , 485.24, 498.58, 511.92, 525.26,\n",
              "        538.6 , 551.94, 565.28, 578.62, 591.96, 605.3 , 618.64, 631.98,\n",
              "        645.32, 658.66, 672.  ]),\n",
              " <a list of 50 Patch objects>)"
            ]
          },
          "metadata": {
            "tags": []
          },
          "execution_count": 89
        },
        {
          "output_type": "display_data",
          "data": {
            "image/png": "[encoded data removed]",
            "text/plain": [
              "<Figure size 432x288 with 1 Axes>"
            ]
          },
          "metadata": {
            "tags": [],
            "needs_background": "light"
          }
        }
      ]
    },
    {
      "cell_type": "markdown",
      "metadata": {
        "id": "RML2Tdy-UK1k"
      },
      "source": [
        "- Pad 몇정도 하면 좋을지 여기서 확인"
      ]
    },
    {
      "cell_type": "code",
      "metadata": {
        "colab": {
          "base_uri": "https://localhost:8080/"
        },
        "id": "nrKWVm1dUFhy",
        "outputId": "d07edadc-0492-4e23-eb43-356d8fd86c1f"
      },
      "source": [
        "sum(hist_len)/ len(x_train)"
      ],
      "execution_count": 90,
      "outputs": [
        {
          "output_type": "execute_result",
          "data": {
            "text/plain": [
              "136.89230084557187"
            ]
          },
          "metadata": {
            "tags": []
          },
          "execution_count": 90
        }
      ]
    },
    {
      "cell_type": "code",
      "metadata": {
        "id": "rSPenUIZUIwC"
      },
      "source": [
        "x_train =tf.keras.preprocessing.sequence.pad_sequences(x_train, maxlen=300)"
      ],
      "execution_count": 91,
      "outputs": []
    },
    {
      "cell_type": "code",
      "metadata": {
        "colab": {
          "base_uri": "https://localhost:8080/"
        },
        "id": "vTYqxIdIUjK7",
        "outputId": "d9833a57-aea4-45bd-bc8e-a649cfd79a44"
      },
      "source": [
        "x_train"
      ],
      "execution_count": 92,
      "outputs": [
        {
          "output_type": "execute_result",
          "data": {
            "text/plain": [
              "array([[   0,    0,    0, ...,    8, 2460, 4644],\n",
              "       [   0,    0,    0, ...,    8,    1, 6311],\n",
              "       [   0,    0,    0, ...,    8, 2588, 5343],\n",
              "       ...,\n",
              "       [   0,    0,    0, ...,    8, 2767, 7527],\n",
              "       [   0,    0,    0, ...,    8,    1,    1],\n",
              "       [   0,    0,    0, ...,    8, 5314,    1]], dtype=int32)"
            ]
          },
          "metadata": {
            "tags": []
          },
          "execution_count": 92
        }
      ]
    },
    {
      "cell_type": "code",
      "metadata": {
        "colab": {
          "base_uri": "https://localhost:8080/"
        },
        "id": "Mb_NkYu8UlNy",
        "outputId": "9a8eec9e-4f91-422e-a51e-ec4054ec6b23"
      },
      "source": [
        "len(y_train)"
      ],
      "execution_count": 93,
      "outputs": [
        {
          "output_type": "execute_result",
          "data": {
            "text/plain": [
              "2247"
            ]
          },
          "metadata": {
            "tags": []
          },
          "execution_count": 93
        }
      ]
    },
    {
      "cell_type": "code",
      "metadata": {
        "colab": {
          "base_uri": "https://localhost:8080/"
        },
        "id": "gZXgBwwkUrPh",
        "outputId": "ba710897-c281-47de-a3e1-ecbdb49c55ae"
      },
      "source": [
        "np.unique(y_train)"
      ],
      "execution_count": 94,
      "outputs": [
        {
          "output_type": "execute_result",
          "data": {
            "text/plain": [
              "array([0. , 1. , 2. , 3. , 3.5, 4. , 4.5, 5. ])"
            ]
          },
          "metadata": {
            "tags": []
          },
          "execution_count": 94
        }
      ]
    },
    {
      "cell_type": "code",
      "metadata": {
        "colab": {
          "base_uri": "https://localhost:8080/"
        },
        "id": "CkE88UXzVPJh",
        "outputId": "3e64df34-601b-43c6-ed17-041b14322598"
      },
      "source": [
        "type(y_train)"
      ],
      "execution_count": 95,
      "outputs": [
        {
          "output_type": "execute_result",
          "data": {
            "text/plain": [
              "pandas.core.series.Series"
            ]
          },
          "metadata": {
            "tags": []
          },
          "execution_count": 95
        }
      ]
    },
    {
      "cell_type": "code",
      "metadata": {
        "colab": {
          "base_uri": "https://localhost:8080/"
        },
        "id": "9-RF5ubHViZw",
        "outputId": "45faa8a8-e270-4a7b-bb04-eec4dd60763d"
      },
      "source": [
        "len(x_train), len(y_train)"
      ],
      "execution_count": 96,
      "outputs": [
        {
          "output_type": "execute_result",
          "data": {
            "text/plain": [
              "(2247, 2247)"
            ]
          },
          "metadata": {
            "tags": []
          },
          "execution_count": 96
        }
      ]
    },
    {
      "cell_type": "markdown",
      "metadata": {
        "id": "-dk0_QFXV1rI"
      },
      "source": [
        "## Model"
      ]
    },
    {
      "cell_type": "code",
      "metadata": {
        "id": "2-SyLLsWVz0h"
      },
      "source": [
        "model = tf.keras.models.Sequential()"
      ],
      "execution_count": 97,
      "outputs": []
    },
    {
      "cell_type": "code",
      "metadata": {
        "id": "Xm0uP1WbV5XR"
      },
      "source": [
        "model.add(tf.keras.layers.Embedding(input_dim= vocab_size, output_dim =30 ,input_length=300))\n",
        "model.add(tf.keras.layers.Bidirectional(tf.keras.layers.LSTM(128)))\n",
        "# model.add(tf.keras.layers.GRU(128))\n",
        "model.add(tf.keras.layers.Dense(8,activation='softmax'))\n",
        "\n",
        "model.compile(optimizer='adam', loss = 'sparse_categorical_crossentropy', metrics=['acc'])"
      ],
      "execution_count": 98,
      "outputs": []
    },
    {
      "cell_type": "code",
      "metadata": {
        "id": "iCRf18ZzXC1w"
      },
      "source": [
        "hist = model.fit(x_train, y_train, epochs=100, batch_size=256, validation_split=0.3, shuffle=True)"
      ],
      "execution_count": null,
      "outputs": []
    },
    {
      "cell_type": "markdown",
      "metadata": {
        "id": "MTCdr9J1Sh_w"
      },
      "source": [
        "```\n",
        "7/7 [==============================] - 19s 3s/step - loss: 0.0169 - acc: 0.9917 - val_loss: 3.2740 - val_acc: 0.4222\n",
        "Epoch 95/100\n",
        "7/7 [==============================] - 18s 3s/step - loss: 0.0113 - acc: 0.9936 - val_loss: 3.3063 - val_acc: 0.4222\n",
        "Epoch 96/100\n",
        "7/7 [==============================] - 18s 3s/step - loss: 0.0122 - acc: 0.9930 - val_loss: 3.2781 - val_acc: 0.4267\n",
        "Epoch 97/100\n",
        "7/7 [==============================] - 17s 2s/step - loss: 0.0090 - acc: 0.9949 - val_loss: 3.3197 - val_acc: 0.4252\n",
        "Epoch 98/100\n",
        "7/7 [==============================] - 17s 2s/step - loss: 0.0084 - acc: 0.9955 - val_loss: 3.4404 - val_acc: 0.4193\n",
        "Epoch 99/100\n",
        "7/7 [==============================] - 17s 2s/step - loss: 0.0080 - acc: 0.9949 - val_loss: 3.5164 - val_acc: 0.4178\n",
        "Epoch 100/100\n",
        "7/7 [==============================] - 17s 2s/step - loss: 0.0075 - acc: 0.9955 - val_loss: 3.6041 - val_acc: 0.4148\n",
        "```"
      ]
    },
    {
      "cell_type": "markdown",
      "metadata": {
        "id": "oxySaB-bdZ8C"
      },
      "source": [
        "## Evaluation\n"
      ]
    },
    {
      "cell_type": "code",
      "metadata": {
        "colab": {
          "base_uri": "https://localhost:8080/"
        },
        "id": "4pAYZrGtXPBw",
        "outputId": "5bcf451d-2e2d-4b6a-bb2d-5d20949cf809"
      },
      "source": [
        "model.evaluate(x_train, y_train) # loss: 0.0075 - acc: 0.9955 - val_loss: 3.6041 - val_acc: 0.4148 LSTM"
      ],
      "execution_count": 100,
      "outputs": [
        {
          "output_type": "stream",
          "text": [
            "71/71 [==============================] - 7s 104ms/step - loss: 1.0875 - acc: 0.8211\n"
          ],
          "name": "stdout"
        },
        {
          "output_type": "execute_result",
          "data": {
            "text/plain": [
              "[1.0875244140625, 0.821094810962677]"
            ]
          },
          "metadata": {
            "tags": []
          },
          "execution_count": 100
        }
      ]
    },
    {
      "cell_type": "code",
      "metadata": {
        "id": "8oKvM4pAk08z"
      },
      "source": [
        "# model.evaluate(x_train, y_train) #loss: 0.2919 - acc: 0.8957 - val_loss: 3.0092 - val_acc: 0.4222"
      ],
      "execution_count": 101,
      "outputs": []
    },
    {
      "cell_type": "markdown",
      "metadata": {
        "id": "PaFHX5pkdjOD"
      },
      "source": [
        "## Service"
      ]
    },
    {
      "cell_type": "code",
      "metadata": {
        "colab": {
          "base_uri": "https://localhost:8080/",
          "height": 265
        },
        "id": "1zlT7wikdd8w",
        "outputId": "e1e8c112-647b-408e-aabf-237bab641262"
      },
      "source": [
        "import matplotlib.pyplot as plt\n",
        "plt.plot(hist.history['loss'])\n",
        "plt.plot(hist.history['val_loss'],'b-')\n",
        "\n",
        "plt.show()"
      ],
      "execution_count": 102,
      "outputs": [
        {
          "output_type": "display_data",
          "data": {
            "image/png": "[encoded data removed]",
            "text/plain": [
              "<Figure size 432x288 with 1 Axes>"
            ]
          },
          "metadata": {
            "tags": [],
            "needs_background": "light"
          }
        }
      ]
    },
    {
      "cell_type": "code",
      "metadata": {
        "colab": {
          "base_uri": "https://localhost:8080/",
          "height": 265
        },
        "id": "avyRtsvpifs_",
        "outputId": "c25e59f7-57a3-4ac2-ccae-247dfa170646"
      },
      "source": [
        "plt.plot(hist.history['acc'],'g-')\n",
        "plt.plot(hist.history['val_acc'],'r-')\n",
        "plt.show()"
      ],
      "execution_count": 103,
      "outputs": [
        {
          "output_type": "display_data",
          "data": {
            "image/png": "[encoded data removed]",
            "text/plain": [
              "<Figure size 432x288 with 1 Axes>"
            ]
          },
          "metadata": {
            "tags": [],
            "needs_background": "light"
          }
        }
      ]
    },
    {
      "cell_type": "code",
      "metadata": {
        "id": "czpvuMhmYnCE",
        "colab": {
          "base_uri": "https://localhost:8080/"
        },
        "outputId": "b29ac556-c535-441a-a515-944d77657799"
      },
      "source": [
        "y_train"
      ],
      "execution_count": 111,
      "outputs": [
        {
          "output_type": "execute_result",
          "data": {
            "text/plain": [
              "2877    4.5\n",
              "2774    4.0\n",
              "1435    2.0\n",
              "1294    3.0\n",
              "2000    3.0\n",
              "       ... \n",
              "2334    3.0\n",
              "1067    2.0\n",
              "151     2.0\n",
              "376     4.0\n",
              "2876    4.0\n",
              "Name: 점수, Length: 2247, dtype: float64"
            ]
          },
          "metadata": {
            "tags": []
          },
          "execution_count": 111
        }
      ]
    },
    {
      "cell_type": "code",
      "metadata": {
        "colab": {
          "base_uri": "https://localhost:8080/"
        },
        "id": "mPoO0d7gAisx",
        "outputId": "ed1523e1-ff08-41b0-e552-da437a151999"
      },
      "source": [
        "x_train"
      ],
      "execution_count": 112,
      "outputs": [
        {
          "output_type": "execute_result",
          "data": {
            "text/plain": [
              "array([[   0,    0,    0, ...,    8, 2460, 4644],\n",
              "       [   0,    0,    0, ...,    8,    1, 6311],\n",
              "       [   0,    0,    0, ...,    8, 2588, 5343],\n",
              "       ...,\n",
              "       [   0,    0,    0, ...,    8, 2767, 7527],\n",
              "       [   0,    0,    0, ...,    8,    1,    1],\n",
              "       [   0,    0,    0, ...,    8, 5314,    1]], dtype=int32)"
            ]
          },
          "metadata": {
            "tags": []
          },
          "execution_count": 112
        }
      ]
    },
    {
      "cell_type": "code",
      "metadata": {
        "id": "iDu4ACcmYeQ9"
      },
      "source": [
        "#  model.save('./drive/MyDrive/Forkspoon/test_dummy_LSTM.h5')"
      ],
      "execution_count": 113,
      "outputs": []
    },
    {
      "cell_type": "code",
      "metadata": {
        "id": "kpZxFiwQAoRg"
      },
      "source": [
        ""
      ],
      "execution_count": null,
      "outputs": []
    }
  ]
}