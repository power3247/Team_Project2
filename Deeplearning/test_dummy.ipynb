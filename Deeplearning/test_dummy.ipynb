{
  "nbformat": 4,
  "nbformat_minor": 0,
  "metadata": {
    "colab": {
      "name": "test_dummy.ipynb",
      "provenance": [],
      "collapsed_sections": [],
      "mount_file_id": "1SMyO2ECeQ5b0Lv5vkjvoiKZYTd_CSl5n",
      "authorship_tag": "ABX9TyNb03CUCP+X2n5Bk2JJui9y",
      "include_colab_link": true
    },
    "kernelspec": {
      "name": "python3",
      "display_name": "Python 3"
    },
    "language_info": {
      "name": "python"
    }
  },
  "cells": [
    {
      "cell_type": "markdown",
      "metadata": {
        "id": "view-in-github",
        "colab_type": "text"
      },
      "source": [
        "<a href=\"https://colab.research.google.com/github/yoonputer/Team_Project2/blob/master/Deeplearning/test_dummy.ipynb\" target=\"_parent\"><img src=\"https://colab.research.google.com/assets/colab-badge.svg\" alt=\"Open In Colab\"/></a>"
      ]
    },
    {
      "cell_type": "code",
      "metadata": {
        "id": "ZflIxvhd7K1j"
      },
      "source": [
        "import pandas as pd"
      ],
      "execution_count": null,
      "outputs": []
    },
    {
      "cell_type": "code",
      "metadata": {
        "id": "Cy8dZGKt7z6q"
      },
      "source": [
        "df = pd.read_excel('./drive/MyDrive/Forkspoon/test.xls')"
      ],
      "execution_count": null,
      "outputs": []
    },
    {
      "cell_type": "code",
      "metadata": {
        "colab": {
          "base_uri": "https://localhost:8080/",
          "height": 97
        },
        "id": "J_p6cqeD7_VE",
        "outputId": "c6268f10-0ccf-44c3-8bf2-60d00087a6dc"
      },
      "source": [
        "df"
      ],
      "execution_count": null,
      "outputs": [
        {
          "output_type": "execute_result",
          "data": {
            "text/html": [
              "<div>\n",
              "<style scoped>\n",
              "    .dataframe tbody tr th:only-of-type {\n",
              "        vertical-align: middle;\n",
              "    }\n",
              "\n",
              "    .dataframe tbody tr th {\n",
              "        vertical-align: top;\n",
              "    }\n",
              "\n",
              "    .dataframe thead th {\n",
              "        text-align: right;\n",
              "    }\n",
              "</style>\n",
              "<table border=\"1\" class=\"dataframe\">\n",
              "  <thead>\n",
              "    <tr style=\"text-align: right;\">\n",
              "      <th></th>\n",
              "      <th>company</th>\n",
              "      <th>group</th>\n",
              "      <th>clasificar</th>\n",
              "    </tr>\n",
              "  </thead>\n",
              "  <tbody>\n",
              "    <tr>\n",
              "      <th>0</th>\n",
              "      <td>(주)포스코인터내셔널\\n\\n관심기업\\n 2021년 상반기 신입 수출입·무역사무합격자...</td>\n",
              "      <td>전문가 자소서 총평\\n\\n\\n\\n\\n\\n                    2\\n ...</td>\n",
              "      <td>질문Q1.성장과정 및 생활신조 등 자기소개를 기술하여 주시기 바랍니다. 보기\\n\\n...</td>\n",
              "    </tr>\n",
              "  </tbody>\n",
              "</table>\n",
              "</div>"
            ],
            "text/plain": [
              "                                             company  ...                                         clasificar\n",
              "0  (주)포스코인터내셔널\\n\\n관심기업\\n 2021년 상반기 신입 수출입·무역사무합격자...  ...  질문Q1.성장과정 및 생활신조 등 자기소개를 기술하여 주시기 바랍니다. 보기\\n\\n...\n",
              "\n",
              "[1 rows x 3 columns]"
            ]
          },
          "metadata": {
            "tags": []
          },
          "execution_count": 3
        }
      ]
    },
    {
      "cell_type": "code",
      "metadata": {
        "id": "efNTyexQMxOt"
      },
      "source": [
        "g_data= df['group']\n",
        "g_data = pd.DataFrame(g_data)"
      ],
      "execution_count": null,
      "outputs": []
    },
    {
      "cell_type": "code",
      "metadata": {
        "id": "Jwk2Wab88AiY"
      },
      "source": [
        "c_data= df['clasificar']\n",
        "c_data = pd.DataFrame(c_data)"
      ],
      "execution_count": null,
      "outputs": []
    },
    {
      "cell_type": "code",
      "metadata": {
        "id": "DVXhYAVhNcu8"
      },
      "source": [
        "total_data= g_data.join(c_data)"
      ],
      "execution_count": null,
      "outputs": []
    },
    {
      "cell_type": "code",
      "metadata": {
        "colab": {
          "base_uri": "https://localhost:8080/",
          "height": 80
        },
        "id": "HPhGG661Nl4n",
        "outputId": "00b1b54b-8b8b-4735-84d9-b47b2a93e5b5"
      },
      "source": [
        "total_data"
      ],
      "execution_count": null,
      "outputs": [
        {
          "output_type": "execute_result",
          "data": {
            "text/html": [
              "<div>\n",
              "<style scoped>\n",
              "    .dataframe tbody tr th:only-of-type {\n",
              "        vertical-align: middle;\n",
              "    }\n",
              "\n",
              "    .dataframe tbody tr th {\n",
              "        vertical-align: top;\n",
              "    }\n",
              "\n",
              "    .dataframe thead th {\n",
              "        text-align: right;\n",
              "    }\n",
              "</style>\n",
              "<table border=\"1\" class=\"dataframe\">\n",
              "  <thead>\n",
              "    <tr style=\"text-align: right;\">\n",
              "      <th></th>\n",
              "      <th>group</th>\n",
              "      <th>clasificar</th>\n",
              "    </tr>\n",
              "  </thead>\n",
              "  <tbody>\n",
              "    <tr>\n",
              "      <th>0</th>\n",
              "      <td>전문가 자소서 총평\\n\\n\\n\\n\\n\\n                    2\\n ...</td>\n",
              "      <td>질문Q1.성장과정 및 생활신조 등 자기소개를 기술하여 주시기 바랍니다. 보기\\n\\n...</td>\n",
              "    </tr>\n",
              "  </tbody>\n",
              "</table>\n",
              "</div>"
            ],
            "text/plain": [
              "                                               group                                         clasificar\n",
              "0  전문가 자소서 총평\\n\\n\\n\\n\\n\\n                    2\\n ...  질문Q1.성장과정 및 생활신조 등 자기소개를 기술하여 주시기 바랍니다. 보기\\n\\n..."
            ]
          },
          "metadata": {
            "tags": []
          },
          "execution_count": 11
        }
      ]
    },
    {
      "cell_type": "code",
      "metadata": {
        "colab": {
          "base_uri": "https://localhost:8080/"
        },
        "id": "HD4fuXiLAs2j",
        "outputId": "a63be063-34d6-41f7-c1be-036fc6a2a9f9"
      },
      "source": [
        "total_data.info()"
      ],
      "execution_count": null,
      "outputs": [
        {
          "output_type": "stream",
          "text": [
            "<class 'pandas.core.frame.DataFrame'>\n",
            "RangeIndex: 1 entries, 0 to 0\n",
            "Data columns (total 2 columns):\n",
            " #   Column      Non-Null Count  Dtype \n",
            "---  ------      --------------  ----- \n",
            " 0   group       1 non-null      object\n",
            " 1   clasificar  1 non-null      object\n",
            "dtypes: object(2)\n",
            "memory usage: 144.0+ bytes\n"
          ],
          "name": "stdout"
        }
      ]
    },
    {
      "cell_type": "code",
      "metadata": {
        "id": "e3Aqqly_8lQV"
      },
      "source": [
        "!python -m pip install konlpy"
      ],
      "execution_count": null,
      "outputs": []
    },
    {
      "cell_type": "code",
      "metadata": {
        "id": "kijKgl_KGlB4"
      },
      "source": [
        "!curl -O https://raw.githubusercontent.com/konlpy/konlpy/master/scripts/mecab.sh"
      ],
      "execution_count": null,
      "outputs": []
    },
    {
      "cell_type": "code",
      "metadata": {
        "id": "umneZQOzGn7f"
      },
      "source": [
        "!bash ./mecab.sh"
      ],
      "execution_count": null,
      "outputs": []
    },
    {
      "cell_type": "code",
      "metadata": {
        "colab": {
          "base_uri": "https://localhost:8080/"
        },
        "id": "EiVQcYezL5Xa",
        "outputId": "a0d5b663-3bb6-45ae-b380-ab62e110281d"
      },
      "source": [
        "x_data = total_data['clasificar']\n",
        "y_data = total_data['group']\n",
        "x_data.shape , y_data.shape"
      ],
      "execution_count": null,
      "outputs": [
        {
          "output_type": "execute_result",
          "data": {
            "text/plain": [
              "((1,), (1,))"
            ]
          },
          "metadata": {
            "tags": []
          },
          "execution_count": 24
        }
      ]
    },
    {
      "cell_type": "code",
      "metadata": {
        "id": "VsqWLgyPR6ym"
      },
      "source": [
        "from konlpy.tag import Mecab"
      ],
      "execution_count": null,
      "outputs": []
    },
    {
      "cell_type": "code",
      "metadata": {
        "id": "I2h4mESpSKvv"
      },
      "source": [
        "mecab =Mecab()"
      ],
      "execution_count": null,
      "outputs": []
    },
    {
      "cell_type": "code",
      "metadata": {
        "colab": {
          "base_uri": "https://localhost:8080/"
        },
        "id": "6vR3sniDSrkX",
        "outputId": "7bc4f156-771c-49b3-936a-84926afa2d4b"
      },
      "source": [
        "print(mecab.morphs('성장과정 및 생활신조 등 자기소개를 기술하여 주시기 바랍니다.'))"
      ],
      "execution_count": null,
      "outputs": [
        {
          "output_type": "stream",
          "text": [
            "['성장', '과정', '및', '생활신조', '등', '자기소개', '를', '기술', '하', '여', '주', '시', '기', '바랍니다', '.']\n"
          ],
          "name": "stdout"
        }
      ]
    },
    {
      "cell_type": "code",
      "metadata": {
        "id": "hhMiWUPlTRn1"
      },
      "source": [
        ""
      ],
      "execution_count": null,
      "outputs": []
    }
  ]
}