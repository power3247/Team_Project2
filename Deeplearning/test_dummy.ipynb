{
  "nbformat": 4,
  "nbformat_minor": 0,
  "metadata": {
    "colab": {
      "name": "test_dummy.ipynb",
      "provenance": [],
      "collapsed_sections": [],
      "mount_file_id": "1SMyO2ECeQ5b0Lv5vkjvoiKZYTd_CSl5n",
      "authorship_tag": "ABX9TyPNfMpug9D5xzoBcB8Fs8E2",
      "include_colab_link": true
    },
    "kernelspec": {
      "name": "python3",
      "display_name": "Python 3"
    },
    "language_info": {
      "name": "python"
    }
  },
  "cells": [
    {
      "cell_type": "markdown",
      "metadata": {
        "id": "view-in-github",
        "colab_type": "text"
      },
      "source": [
        "<a href=\"https://colab.research.google.com/github/yoonputer/Team_Project2/blob/master/Deeplearning/test_dummy.ipynb\" target=\"_parent\"><img src=\"https://colab.research.google.com/assets/colab-badge.svg\" alt=\"Open In Colab\"/></a>"
      ]
    },
    {
      "cell_type": "markdown",
      "metadata": {
        "id": "sPt_drIw1LHJ"
      },
      "source": [
        "## 설치\n",
        "\n",
        "konlpy\n",
        "\n",
        "mecab"
      ]
    },
    {
      "cell_type": "code",
      "metadata": {
        "id": "NIFFN1lKCV0f"
      },
      "source": [
        "! ls ./drive/MyDrive/Forkspoon/dummy1.xlsx"
      ],
      "execution_count": null,
      "outputs": []
    },
    {
      "cell_type": "code",
      "metadata": {
        "id": "fKDR4BjdCcWf"
      },
      "source": [
        "!python -m pip install konlpy"
      ],
      "execution_count": null,
      "outputs": []
    },
    {
      "cell_type": "code",
      "metadata": {
        "id": "-UQODldbXTBb"
      },
      "source": [
        "!curl -O https://raw.githubusercontent.com/konlpy/konlpy/master/scripts/mecab.sh"
      ],
      "execution_count": null,
      "outputs": []
    },
    {
      "cell_type": "code",
      "metadata": {
        "id": "Ppmv3ueMXTLb"
      },
      "source": [
        "!source ./mecab.sh"
      ],
      "execution_count": null,
      "outputs": []
    },
    {
      "cell_type": "markdown",
      "metadata": {
        "id": "Xb5ob4hJ1GQZ"
      },
      "source": [
        "## 데이터 가져오기"
      ]
    },
    {
      "cell_type": "code",
      "metadata": {
        "id": "-84HtQWJTwpc"
      },
      "source": [
        "!ls ./drive/MyDrive/Forkspoon/db.sqlite3"
      ],
      "execution_count": null,
      "outputs": []
    },
    {
      "cell_type": "code",
      "metadata": {
        "id": "SUfA_KTdPIb-"
      },
      "source": [
        "import sqlite3\n",
        "import pandas as pd\n",
        "connect = sqlite3.connect('./drive/MyDrive/Forkspoon/db.sqlite3')"
      ],
      "execution_count": 6,
      "outputs": []
    },
    {
      "cell_type": "code",
      "metadata": {
        "id": "h1mqXsmRPSlu"
      },
      "source": [
        "choice = pd.read_sql_query('select * from write_choice',connect)"
      ],
      "execution_count": 7,
      "outputs": []
    },
    {
      "cell_type": "code",
      "metadata": {
        "colab": {
          "base_uri": "https://localhost:8080/",
          "height": 602
        },
        "id": "fdnTy1XjPnhM",
        "outputId": "3a00ae04-36af-4d70-f3fd-dc37208d78f8"
      },
      "source": [
        "type(choice)\n",
        "choice_cols = choice[['점수','질문','답변']]\n",
        "choice_cols"
      ],
      "execution_count": 8,
      "outputs": [
        {
          "output_type": "execute_result",
          "data": {
            "text/html": [
              "<div>\n",
              "<style scoped>\n",
              "    .dataframe tbody tr th:only-of-type {\n",
              "        vertical-align: middle;\n",
              "    }\n",
              "\n",
              "    .dataframe tbody tr th {\n",
              "        vertical-align: top;\n",
              "    }\n",
              "\n",
              "    .dataframe thead th {\n",
              "        text-align: right;\n",
              "    }\n",
              "</style>\n",
              "<table border=\"1\" class=\"dataframe\">\n",
              "  <thead>\n",
              "    <tr style=\"text-align: right;\">\n",
              "      <th></th>\n",
              "      <th>점수</th>\n",
              "      <th>질문</th>\n",
              "      <th>답변</th>\n",
              "    </tr>\n",
              "  </thead>\n",
              "  <tbody>\n",
              "    <tr>\n",
              "      <th>0</th>\n",
              "      <td>2.0</td>\n",
              "      <td>입사 지원동기를 작성해주세요. (① 지원 부문을 선택한 이유와 ② 지원 부문과 관련...</td>\n",
              "      <td>\\n경영은 전사의 콘텐츠 제작에서부터 유통 과정을 파악하고, 설정한 목표를 이루기 ...</td>\n",
              "    </tr>\n",
              "    <tr>\n",
              "      <th>1</th>\n",
              "      <td>3.0</td>\n",
              "      <td>우리 공단에 지원동기와 직무를 선택한 이유, 입사 후 목표와 포부를 기술해 주십시오...</td>\n",
              "      <td>\\n\"‘재료’를 전공하며 나의 가치를 증명하다\"\\n 제조업은 우리나라 경제의 주요 ...</td>\n",
              "    </tr>\n",
              "    <tr>\n",
              "      <th>2</th>\n",
              "      <td>2.0</td>\n",
              "      <td>지원직무를 선택한 이유를(직무와 관련한 경험, 전공, 수강과목, 자격증 등을 포함하...</td>\n",
              "      <td>\\n\"직접 만든다는 것\"\\n 실습을 위해 콤부차를 조사하였습니다. 한정된 자료에서 ...</td>\n",
              "    </tr>\n",
              "    <tr>\n",
              "      <th>3</th>\n",
              "      <td>2.0</td>\n",
              "      <td>본인이 선택한 직무에 대해 아래 내용을 포함하여 기술하시오. ①지원한 직무의 역할이...</td>\n",
              "      <td>\\n`전지적 참견 시점`\\n 영업관리 직무는 BGF리테일의 점포 관리를 위한 매니저...</td>\n",
              "    </tr>\n",
              "    <tr>\n",
              "      <th>4</th>\n",
              "      <td>4.0</td>\n",
              "      <td>본인이 선택한 직무를 담당하고 싶은 이유, 적합성 등에 대해 자유롭게 설명해 보십시...</td>\n",
              "      <td>\\n16살에 처음 회계를 접하고 흥미를 느껴 뚜렷한 진로 방향을 형성했습니다.\\n기...</td>\n",
              "    </tr>\n",
              "    <tr>\n",
              "      <th>...</th>\n",
              "      <td>...</td>\n",
              "      <td>...</td>\n",
              "      <td>...</td>\n",
              "    </tr>\n",
              "    <tr>\n",
              "      <th>2992</th>\n",
              "      <td>2.0</td>\n",
              "      <td>화천그룹 및 해당분야 지원동기최소 (30~400)</td>\n",
              "      <td>\\n공작기계분야에 있어서 두산인프라코어, 현대위아와 어깨를 나란히 하는 화천기계는 ...</td>\n",
              "    </tr>\n",
              "    <tr>\n",
              "      <th>2993</th>\n",
              "      <td>4.0</td>\n",
              "      <td>지원동기 및 입사 후 포부</td>\n",
              "      <td>\\n(`마트`라는 채널에서 보고 느낀 영업사원들의 모습)\\n마트에서 일하면서 판매,...</td>\n",
              "    </tr>\n",
              "    <tr>\n",
              "      <th>2994</th>\n",
              "      <td>4.0</td>\n",
              "      <td>직무 지원동기</td>\n",
              "      <td>\\n&lt;사람을 좋아하는 마음, 경험과 지식을 통해 또 다른 가치를 만들다&gt; \\n새로운...</td>\n",
              "    </tr>\n",
              "    <tr>\n",
              "      <th>2995</th>\n",
              "      <td>5.0</td>\n",
              "      <td>LG디스플레이 및 지원 직무에 지원하는 동기에 대해 기술해 주십시오. 성격(장단점)...</td>\n",
              "      <td>\\n‘2015 나노 코리아’에서 LG OLED UHD TV를 보고 말을 잃었습니다....</td>\n",
              "    </tr>\n",
              "    <tr>\n",
              "      <th>2996</th>\n",
              "      <td>3.0</td>\n",
              "      <td>당사에 지원한 동기와 자신이 잘 할 수 있다고 생각하는 일에 대해서 구체적으로 기술...</td>\n",
              "      <td>\\n[공기와 같은 기업] \\n한일 시멘트를 집약적으로 표현할 수 있는 말입니다. 고...</td>\n",
              "    </tr>\n",
              "  </tbody>\n",
              "</table>\n",
              "<p>2997 rows × 3 columns</p>\n",
              "</div>"
            ],
            "text/plain": [
              "       점수  ...                                                 답변\n",
              "0     2.0  ...  \\n경영은 전사의 콘텐츠 제작에서부터 유통 과정을 파악하고, 설정한 목표를 이루기 ...\n",
              "1     3.0  ...  \\n\"‘재료’를 전공하며 나의 가치를 증명하다\"\\n 제조업은 우리나라 경제의 주요 ...\n",
              "2     2.0  ...  \\n\"직접 만든다는 것\"\\n 실습을 위해 콤부차를 조사하였습니다. 한정된 자료에서 ...\n",
              "3     2.0  ...  \\n`전지적 참견 시점`\\n 영업관리 직무는 BGF리테일의 점포 관리를 위한 매니저...\n",
              "4     4.0  ...  \\n16살에 처음 회계를 접하고 흥미를 느껴 뚜렷한 진로 방향을 형성했습니다.\\n기...\n",
              "...   ...  ...                                                ...\n",
              "2992  2.0  ...  \\n공작기계분야에 있어서 두산인프라코어, 현대위아와 어깨를 나란히 하는 화천기계는 ...\n",
              "2993  4.0  ...  \\n(`마트`라는 채널에서 보고 느낀 영업사원들의 모습)\\n마트에서 일하면서 판매,...\n",
              "2994  4.0  ...  \\n<사람을 좋아하는 마음, 경험과 지식을 통해 또 다른 가치를 만들다> \\n새로운...\n",
              "2995  5.0  ...  \\n‘2015 나노 코리아’에서 LG OLED UHD TV를 보고 말을 잃었습니다....\n",
              "2996  3.0  ...  \\n[공기와 같은 기업] \\n한일 시멘트를 집약적으로 표현할 수 있는 말입니다. 고...\n",
              "\n",
              "[2997 rows x 3 columns]"
            ]
          },
          "metadata": {
            "tags": []
          },
          "execution_count": 8
        }
      ]
    },
    {
      "cell_type": "markdown",
      "metadata": {
        "id": "HI-jNbnSWd8c"
      },
      "source": [
        "## NLP "
      ]
    },
    {
      "cell_type": "code",
      "metadata": {
        "id": "1uJKsXDpRdnK"
      },
      "source": [
        "from sklearn.model_selection import train_test_split"
      ],
      "execution_count": 9,
      "outputs": []
    },
    {
      "cell_type": "code",
      "metadata": {
        "id": "ONmD6rvKUjRH"
      },
      "source": [
        "x_data = choice_cols['답변']\n",
        "y_data = choice_cols['점수']"
      ],
      "execution_count": 10,
      "outputs": []
    },
    {
      "cell_type": "code",
      "metadata": {
        "colab": {
          "base_uri": "https://localhost:8080/"
        },
        "id": "V3-VfZ9xUytZ",
        "outputId": "2a7802a9-2660-48cf-fd2f-06d4af24e346"
      },
      "source": [
        "x_train, x_test, y_train, y_test = train_test_split(x_data, y_data)\n",
        "x_train.shape, y_train.shape,x_test.shape, y_test.shape"
      ],
      "execution_count": 11,
      "outputs": [
        {
          "output_type": "execute_result",
          "data": {
            "text/plain": [
              "((2247,), (2247,), (750,), (750,))"
            ]
          },
          "metadata": {
            "tags": []
          },
          "execution_count": 11
        }
      ]
    },
    {
      "cell_type": "code",
      "metadata": {
        "colab": {
          "base_uri": "https://localhost:8080/",
          "height": 289
        },
        "id": "hIzPArxGVDe-",
        "outputId": "1e260f0e-64cc-4188-a6a1-1f11aabdc90d"
      },
      "source": [
        "y_data.value_counts().plot(kind='bar')"
      ],
      "execution_count": 12,
      "outputs": [
        {
          "output_type": "execute_result",
          "data": {
            "text/plain": [
              "<matplotlib.axes._subplots.AxesSubplot at 0x7fa512505710>"
            ]
          },
          "metadata": {
            "tags": []
          },
          "execution_count": 12
        },
        {
          "output_type": "display_data",
          "data": {
            "image/png": "[encoded data removed]",
            "text/plain": [
              "<Figure size 432x288 with 1 Axes>"
            ]
          },
          "metadata": {
            "tags": [],
            "needs_background": "light"
          }
        }
      ]
    },
    {
      "cell_type": "code",
      "metadata": {
        "colab": {
          "base_uri": "https://localhost:8080/"
        },
        "id": "W0aF-E1EVV31",
        "outputId": "17383e66-2fcf-44e1-e10b-3ec19b97486a"
      },
      "source": [
        "type(x_train)"
      ],
      "execution_count": 13,
      "outputs": [
        {
          "output_type": "execute_result",
          "data": {
            "text/plain": [
              "pandas.core.series.Series"
            ]
          },
          "metadata": {
            "tags": []
          },
          "execution_count": 13
        }
      ]
    },
    {
      "cell_type": "code",
      "metadata": {
        "colab": {
          "base_uri": "https://localhost:8080/"
        },
        "id": "VbzWqx3xWhyo",
        "outputId": "33bfe6f2-48ce-4d83-aede-e0817d50cb92"
      },
      "source": [
        "x_temp = x_train\n",
        "x_temp= x_temp.str.replace('[^가-힣ㄱ-ㅎ0-9ㅏ-ㅣ]','')\n",
        "x_temp"
      ],
      "execution_count": 14,
      "outputs": [
        {
          "output_type": "execute_result",
          "data": {
            "text/plain": [
              "2389    첫직장인근로복지공단에입사한후신입직원으로서열정을보이고싶었습니다좋은점1부서별조직도와업무...\n",
              "2701    인턴경력에서나오는준비된인재저는해외경제연구및조사부문에서제능력을발휘할것으로생각합니다해외...\n",
              "63      티웨이항공을선택한이유는앞으로더치열해질경쟁속에서티웨이항공과함께성장해나가는인재가되고싶기...\n",
              "2275    에너지복지국민의행복는천연가스를국민에게안전하고안정적으로공급하기위해좋은에너지더좋은세상을...\n",
              "1636    전공지식을위한노력화학공학에서배우는분리공정설계와공정제어과목을수강하며공정에대해익혔고열교...\n",
              "                              ...                        \n",
              "2086    생산설비관리제조설비의기능및가동율을분석하고생산공정이효율적으로운영될수있도록관리및개선도전...\n",
              "126     기업의방향성을위해모든것을알아야하는직무경영기획직무에서중요한것은분석력과전사적관점입니다자...\n",
              "2290    핸즈코퍼레이션의새로운성장엔진저는뛰어난기술력을통해세계적인기업으로성장하는핸즈코퍼레이션의...\n",
              "1010    학부시절과대표를맡으며를기획할때적절한인재의기용을통해성공적인를만든경험이있습니다맨처음저는...\n",
              "1267    금호건설급박하게바뀌는세계건설시장에빠르고새로운도전을통해건설업의새로운패러다임을제시하는금...\n",
              "Name: 답변, Length: 2247, dtype: object"
            ]
          },
          "metadata": {
            "tags": []
          },
          "execution_count": 14
        }
      ]
    },
    {
      "cell_type": "markdown",
      "metadata": {
        "id": "D7yF_J6_2bRr"
      },
      "source": [
        "### stopwords\n",
        "\n",
        "```\n",
        "import pandas as pd\n",
        "\n",
        "lst_A = ['a','b','c','d', 'e', 1, 2]\n",
        "df = pd.DataFrame(lst_A)\n",
        "\n",
        "df.columns=['']\n",
        "\n",
        "import numpy as np\n",
        "\n",
        "np.array(df[0].tolist())\n",
        "```"
      ]
    },
    {
      "cell_type": "code",
      "metadata": {
        "colab": {
          "base_uri": "https://localhost:8080/"
        },
        "id": "Fdt43FMxMYZp",
        "outputId": "c25574b3-54f4-4f1c-a13e-b52500330a46"
      },
      "source": [
        "stopwords = pd.read_sql_query('select * from stopwords',connect)\n",
        "\n",
        "stopwords.describe()\n",
        "\n",
        "type(stopwords)"
      ],
      "execution_count": 15,
      "outputs": [
        {
          "output_type": "execute_result",
          "data": {
            "text/plain": [
              "pandas.core.frame.DataFrame"
            ]
          },
          "metadata": {
            "tags": []
          },
          "execution_count": 15
        }
      ]
    },
    {
      "cell_type": "code",
      "metadata": {
        "colab": {
          "base_uri": "https://localhost:8080/"
        },
        "id": "diIjgCHSOA2w",
        "outputId": "06cdfb21-0dbb-48f8-cd16-ec67aa221bcf"
      },
      "source": [
        "import numpy as np\n",
        "\n",
        "ko_stopwords_list = np.array(stopwords['words'].tolist())\n",
        "ko_stopwords_list"
      ],
      "execution_count": 16,
      "outputs": [
        {
          "output_type": "execute_result",
          "data": {
            "text/plain": [
              "array(['이', '있', '하', ..., '잘', '통하', '놓'], dtype='<U4')"
            ]
          },
          "metadata": {
            "tags": []
          },
          "execution_count": 16
        }
      ]
    },
    {
      "cell_type": "markdown",
      "metadata": {
        "id": "0LeNEgSt4dTe"
      },
      "source": [
        "### Mecab"
      ]
    },
    {
      "cell_type": "code",
      "metadata": {
        "id": "rQLluY7yWuN7"
      },
      "source": [
        "from konlpy.tag import Mecab\n",
        "mecab= Mecab()"
      ],
      "execution_count": 17,
      "outputs": []
    },
    {
      "cell_type": "code",
      "metadata": {
        "id": "MKz3Yi3VZ21r"
      },
      "source": [
        "# mecab.pos(x_temp[0])\n",
        "mecab.morphs(x_temp[0])"
      ],
      "execution_count": null,
      "outputs": []
    },
    {
      "cell_type": "markdown",
      "metadata": {
        "id": "r6xslzTXfkNp"
      },
      "source": [
        "```\n",
        "'아니',\n",
        " '라',\n",
        " '확장',\n",
        " '된',\n",
        " '영역',\n",
        " '의',\n",
        " '업무',\n",
        " '를',\n",
        " '수행',\n",
        " '하',\n",
        " '는',\n",
        " '데',\n",
        " '에',\n",
        " '도',\n",
        " '준비',\n",
        " '되',\n",
        " '어',\n",
        " '있',\n",
        " '습니다',\n",
        " '아쉬운',\n",
        " '점',\n",
        " '3',\n",
        " '글자',\n",
        " '수',\n",
        " '649',\n",
        " '자',\n",
        " '1122']\n",
        "```"
      ]
    },
    {
      "cell_type": "code",
      "metadata": {
        "id": "3wh5BTFi4iP9"
      },
      "source": [
        "def non_stopwords(sentance):\n",
        "  sentance = list ()\n",
        "  \n",
        "  for tok in x_temp:\n",
        "    encoded = mecab.morphs(tok)\n",
        "\n",
        "    sentance.append([item for item in encoded if item not in ko_stopwords_list])\n",
        "\n",
        "  return sentance"
      ],
      "execution_count": 54,
      "outputs": []
    },
    {
      "cell_type": "markdown",
      "metadata": {
        "id": "bofr4PiWffkv"
      },
      "source": [
        "```\n",
        " '자동차',\n",
        "  '연결',\n",
        "  '스마트',\n",
        "  '그리드',\n",
        "  '완성',\n",
        "  '서비스',\n",
        "  '입니다',\n",
        "  '세계',\n",
        "  '모든',\n",
        "  '전력망',\n",
        "  '연결',\n",
        "  '효율',\n",
        "  '운용',\n",
        "  '자원',\n",
        "  '낭비',\n",
        "  '환경',\n",
        "  '파괴',\n",
        "  '막',\n",
        "  '그날',\n",
        "  '그려',\n",
        "  '봅니다',\n",
        "  '아쉬운',\n",
        "  '1',\n",
        "  '글자',\n",
        "  '698',\n",
        "  '1203'],\n",
        " ...]\n",
        "```"
      ]
    },
    {
      "cell_type": "markdown",
      "metadata": {
        "id": "PFMPeZBDSSHu"
      },
      "source": [
        "## Tokenizer"
      ]
    },
    {
      "cell_type": "code",
      "metadata": {
        "id": "WCHrluKOnxuo"
      },
      "source": [
        "import tensorflow as tf"
      ],
      "execution_count": 20,
      "outputs": []
    },
    {
      "cell_type": "code",
      "metadata": {
        "id": "nYPncVEUSjuY"
      },
      "source": [
        "tokenizer = tf.keras.preprocessing.text.Tokenizer()"
      ],
      "execution_count": 21,
      "outputs": []
    },
    {
      "cell_type": "code",
      "metadata": {
        "id": "BdNkBHjeSqpV"
      },
      "source": [
        "tokenizer.fit_on_texts(sentance)"
      ],
      "execution_count": 22,
      "outputs": []
    },
    {
      "cell_type": "code",
      "metadata": {
        "id": "h3ZjCDTLTGPi"
      },
      "source": [
        "tokenizer.word_index"
      ],
      "execution_count": null,
      "outputs": []
    },
    {
      "cell_type": "markdown",
      "metadata": {
        "id": "JIkT2_M5fWRL"
      },
      "source": [
        "```\n",
        " '설립': 965,\n",
        " '인생': 966,\n",
        " '목표달성': 967,\n",
        " '서버': 968,\n",
        " '불만': 969,\n",
        " '의약품': 970,\n",
        " '지난': 971,\n",
        " '맞춰': 972,\n",
        " '주인': 973,\n",
        " '기억': 974,\n",
        " '변수': 975,\n",
        " '초기': 976,\n",
        " '관찰': 977,\n",
        " '기를': 978,\n",
        " '선': 979,\n",
        " '결과물': 980,\n",
        " '주력': 981,\n",
        " '펼치': 982,\n",
        " '역사': 983,\n",
        " '확실': 984,\n",
        " '아버지': 985,\n",
        " '따뜻': 986,\n",
        " '이벤트': 987,\n",
        " '코드': 988,\n",
        " '키워왔': 989,\n",
        " '객사': 990,\n",
        " '아시아': 991,\n",
        " '철저히': 992,\n",
        " '높여': 993,\n",
        " '인터뷰': 994,\n",
        " '세대': 995,\n",
        " '점유': 996,\n",
        " '직': 997,\n",
        " '범위': 998,\n",
        " '연구소': 999,\n",
        " '근로자': 1000,\n",
        " ...}\n",
        "```"
      ]
    },
    {
      "cell_type": "code",
      "metadata": {
        "id": "Bc9_vNdxS2cT"
      },
      "source": [
        "tokenizer.word_counts"
      ],
      "execution_count": null,
      "outputs": []
    },
    {
      "cell_type": "markdown",
      "metadata": {
        "id": "QlDujF2BfSR4"
      },
      "source": [
        "```\n",
        "            ('즐거움', 94),\n",
        "             ('느낄', 101),\n",
        "             ('확신', 206),\n",
        "             ('리튬', 9),\n",
        "             ('이온', 15),\n",
        "             ('전기차', 14),\n",
        "             ('따', 11),\n",
        "             ('밀도', 14),\n",
        "             ('가격', 172),\n",
        "             ('초점', 16),\n",
        "             ('양극', 7),\n",
        "             ('재의', 1),\n",
        "             ('격차', 20),\n",
        "             ('줄어들', 11),\n",
        "             ('품질', 479),\n",
        "             ('세대', 50),\n",
        "             ('해졌', 18),\n",
        "             ('셀', 52),\n",
        "             ('수명', 26),\n",
        "             ('전압', 20),\n",
        "             ...])\n",
        "```"
      ]
    },
    {
      "cell_type": "code",
      "metadata": {
        "id": "5gRsrkNUS57S"
      },
      "source": [
        "total_cnt = len(tokenizer.word_index)"
      ],
      "execution_count": 25,
      "outputs": []
    },
    {
      "cell_type": "code",
      "metadata": {
        "id": "-kcxOMdWTLjz"
      },
      "source": [
        "rare_cnt = 0\n",
        "total_freq,rare_freq = 0,0\n",
        "\n",
        "for key, value in tokenizer.word_counts.items():\n",
        "  total_freq = total_freq + value #전체 단어의 수\n",
        "  if(value <=2):\n",
        "    rare_cnt = rare_cnt+ 1  \n",
        "    rare_freq = rare_freq + value #2미만인 단어(희귀단어)의 수"
      ],
      "execution_count": 26,
      "outputs": []
    },
    {
      "cell_type": "code",
      "metadata": {
        "colab": {
          "base_uri": "https://localhost:8080/"
        },
        "id": "FvP2BgjxTOhD",
        "outputId": "23d9f2e1-ea75-4218-d05d-6370b9860a83"
      },
      "source": [
        "total_cnt, rare_cnt, (rare_cnt/total_cnt)*100, (rare_freq/total_freq)*100"
      ],
      "execution_count": 27,
      "outputs": [
        {
          "output_type": "execute_result",
          "data": {
            "text/plain": [
              "(16423, 8664, 52.755282226146264, 3.600153198008426)"
            ]
          },
          "metadata": {
            "tags": []
          },
          "execution_count": 27
        }
      ]
    },
    {
      "cell_type": "code",
      "metadata": {
        "colab": {
          "base_uri": "https://localhost:8080/"
        },
        "id": "J2ufYSbTTQIj",
        "outputId": "527fbe58-11cd-4612-93d4-84a4da81c14e"
      },
      "source": [
        "vocab_size = total_cnt - rare_cnt #보케블러리 사이즈\n",
        "vocab_size "
      ],
      "execution_count": 28,
      "outputs": [
        {
          "output_type": "execute_result",
          "data": {
            "text/plain": [
              "7759"
            ]
          },
          "metadata": {
            "tags": []
          },
          "execution_count": 28
        }
      ]
    },
    {
      "cell_type": "code",
      "metadata": {
        "id": "9JKVBfQsTTmT"
      },
      "source": [
        "tokenizer = tf.keras.preprocessing.text.Tokenizer(vocab_size, oov_token='OOV')"
      ],
      "execution_count": 29,
      "outputs": []
    },
    {
      "cell_type": "code",
      "metadata": {
        "id": "6NKhCGLFTYcD"
      },
      "source": [
        "tokenizer.fit_on_texts(sentance)"
      ],
      "execution_count": 30,
      "outputs": []
    },
    {
      "cell_type": "code",
      "metadata": {
        "id": "kb62lS7dTZ7C"
      },
      "source": [
        "tokenizer.index_word"
      ],
      "execution_count": null,
      "outputs": []
    },
    {
      "cell_type": "markdown",
      "metadata": {
        "id": "tnXFSZCRfN33"
      },
      "source": [
        "```\n",
        " 983: '펼치',\n",
        " 984: '역사',\n",
        " 985: '확실',\n",
        " 986: '아버지',\n",
        " 987: '따뜻',\n",
        " 988: '이벤트',\n",
        " 989: '코드',\n",
        " 990: '키워왔',\n",
        " 991: '객사',\n",
        " 992: '아시아',\n",
        " 993: '철저히',\n",
        " 994: '높여',\n",
        " 995: '인터뷰',\n",
        " 996: '세대',\n",
        " 997: '점유',\n",
        " 998: '직',\n",
        " 999: '범위',\n",
        " 1000: '연구소',\n",
        " ...}\n",
        "```"
      ]
    },
    {
      "cell_type": "markdown",
      "metadata": {
        "id": "YjSIRMbdT2M_"
      },
      "source": [
        "## To int \n"
      ]
    },
    {
      "cell_type": "code",
      "metadata": {
        "id": "Ur56JPGdTbJD"
      },
      "source": [
        "x_train = tokenizer.texts_to_sequences(sentance)"
      ],
      "execution_count": 32,
      "outputs": []
    },
    {
      "cell_type": "code",
      "metadata": {
        "colab": {
          "base_uri": "https://localhost:8080/"
        },
        "id": "x0pwURWNT-OU",
        "outputId": "3ffc36c1-7505-44dc-e0a5-0f60e0216fcc"
      },
      "source": [
        "len(x_train[0]),len(x_train[40]),len(x_train[50])"
      ],
      "execution_count": 33,
      "outputs": [
        {
          "output_type": "execute_result",
          "data": {
            "text/plain": [
              "(107, 180, 138)"
            ]
          },
          "metadata": {
            "tags": []
          },
          "execution_count": 33
        }
      ]
    },
    {
      "cell_type": "code",
      "metadata": {
        "id": "Evda2krkT_yR"
      },
      "source": [
        "hist_len = [len(words) for words in x_train]"
      ],
      "execution_count": 34,
      "outputs": []
    },
    {
      "cell_type": "code",
      "metadata": {
        "id": "xZ_INTihUB9y"
      },
      "source": [
        "import matplotlib.pyplot as plt"
      ],
      "execution_count": 35,
      "outputs": []
    },
    {
      "cell_type": "code",
      "metadata": {
        "colab": {
          "base_uri": "https://localhost:8080/",
          "height": 494
        },
        "id": "b85UnKL3UEIi",
        "outputId": "661c7bf4-ab83-4018-a1d3-2a3d87b6f286"
      },
      "source": [
        "plt.hist(hist_len, bins=50)"
      ],
      "execution_count": 36,
      "outputs": [
        {
          "output_type": "execute_result",
          "data": {
            "text/plain": [
              "(array([  7.,   2.,  11.,  28.,  62.,  71., 120., 183., 260., 254., 194.,\n",
              "        198., 163., 126.,  85.,  99.,  96.,  91.,  72.,  48.,   8.,   8.,\n",
              "          9.,  10.,   3.,   8.,   2.,   3.,   3.,   5.,   3.,   2.,   2.,\n",
              "          5.,   2.,   1.,   0.,   0.,   0.,   0.,   0.,   0.,   1.,   1.,\n",
              "          0.,   0.,   0.,   0.,   0.,   1.]),\n",
              " array([  5.  ,  16.48,  27.96,  39.44,  50.92,  62.4 ,  73.88,  85.36,\n",
              "         96.84, 108.32, 119.8 , 131.28, 142.76, 154.24, 165.72, 177.2 ,\n",
              "        188.68, 200.16, 211.64, 223.12, 234.6 , 246.08, 257.56, 269.04,\n",
              "        280.52, 292.  , 303.48, 314.96, 326.44, 337.92, 349.4 , 360.88,\n",
              "        372.36, 383.84, 395.32, 406.8 , 418.28, 429.76, 441.24, 452.72,\n",
              "        464.2 , 475.68, 487.16, 498.64, 510.12, 521.6 , 533.08, 544.56,\n",
              "        556.04, 567.52, 579.  ]),\n",
              " <a list of 50 Patch objects>)"
            ]
          },
          "metadata": {
            "tags": []
          },
          "execution_count": 36
        },
        {
          "output_type": "display_data",
          "data": {
            "image/png": "[encoded data removed]",
            "text/plain": [
              "<Figure size 432x288 with 1 Axes>"
            ]
          },
          "metadata": {
            "tags": [],
            "needs_background": "light"
          }
        }
      ]
    },
    {
      "cell_type": "markdown",
      "metadata": {
        "id": "RML2Tdy-UK1k"
      },
      "source": [
        "- Pad 몇정도 하면 좋을지 여기서 확인"
      ]
    },
    {
      "cell_type": "code",
      "metadata": {
        "colab": {
          "base_uri": "https://localhost:8080/"
        },
        "id": "nrKWVm1dUFhy",
        "outputId": "a16d9a78-b16c-4439-9069-bc694a11bbc8"
      },
      "source": [
        "sum(hist_len)/ len(x_train)"
      ],
      "execution_count": 37,
      "outputs": [
        {
          "output_type": "execute_result",
          "data": {
            "text/plain": [
              "137.1152647975078"
            ]
          },
          "metadata": {
            "tags": []
          },
          "execution_count": 37
        }
      ]
    },
    {
      "cell_type": "code",
      "metadata": {
        "id": "rSPenUIZUIwC"
      },
      "source": [
        "x_train =tf.keras.preprocessing.sequence.pad_sequences(x_train, maxlen=300)"
      ],
      "execution_count": 38,
      "outputs": []
    },
    {
      "cell_type": "code",
      "metadata": {
        "colab": {
          "base_uri": "https://localhost:8080/"
        },
        "id": "vTYqxIdIUjK7",
        "outputId": "4cc820cf-2db2-4c9a-ed7d-ea3eb55119c0"
      },
      "source": [
        "x_train"
      ],
      "execution_count": 39,
      "outputs": [
        {
          "output_type": "execute_result",
          "data": {
            "text/plain": [
              "array([[   0,    0,    0, ...,    8, 2447, 3256],\n",
              "       [   0,    0,    0, ...,    8, 4670, 5351],\n",
              "       [   0,    0,    0, ...,    8,    1,    1],\n",
              "       ...,\n",
              "       [   0,    0,    0, ...,    8, 5445,    1],\n",
              "       [   0,    0,    0, ...,    8, 4190,    1],\n",
              "       [   0,    0,    0, ...,    8, 5249, 3296]], dtype=int32)"
            ]
          },
          "metadata": {
            "tags": []
          },
          "execution_count": 39
        }
      ]
    },
    {
      "cell_type": "code",
      "metadata": {
        "colab": {
          "base_uri": "https://localhost:8080/"
        },
        "id": "Mb_NkYu8UlNy",
        "outputId": "3e02f475-7f01-43aa-8958-a5e3a7c4cb0d"
      },
      "source": [
        "len(y_train)"
      ],
      "execution_count": 40,
      "outputs": [
        {
          "output_type": "execute_result",
          "data": {
            "text/plain": [
              "2247"
            ]
          },
          "metadata": {
            "tags": []
          },
          "execution_count": 40
        }
      ]
    },
    {
      "cell_type": "code",
      "metadata": {
        "colab": {
          "base_uri": "https://localhost:8080/"
        },
        "id": "gZXgBwwkUrPh",
        "outputId": "1303f991-885d-4109-bf26-7c679f6db06a"
      },
      "source": [
        "np.unique(y_train)"
      ],
      "execution_count": 41,
      "outputs": [
        {
          "output_type": "execute_result",
          "data": {
            "text/plain": [
              "array([0. , 1. , 2. , 3. , 3.5, 4. , 4.5, 5. ])"
            ]
          },
          "metadata": {
            "tags": []
          },
          "execution_count": 41
        }
      ]
    },
    {
      "cell_type": "code",
      "metadata": {
        "colab": {
          "base_uri": "https://localhost:8080/"
        },
        "id": "CkE88UXzVPJh",
        "outputId": "0500aa62-29b4-4fe3-9f04-6a706f8beb4b"
      },
      "source": [
        "type(y_train)"
      ],
      "execution_count": 42,
      "outputs": [
        {
          "output_type": "execute_result",
          "data": {
            "text/plain": [
              "pandas.core.series.Series"
            ]
          },
          "metadata": {
            "tags": []
          },
          "execution_count": 42
        }
      ]
    },
    {
      "cell_type": "code",
      "metadata": {
        "colab": {
          "base_uri": "https://localhost:8080/"
        },
        "id": "9-RF5ubHViZw",
        "outputId": "2ad43c0d-0260-49ae-876d-a1703882e70f"
      },
      "source": [
        "len(x_train), len(y_train)"
      ],
      "execution_count": 43,
      "outputs": [
        {
          "output_type": "execute_result",
          "data": {
            "text/plain": [
              "(2247, 2247)"
            ]
          },
          "metadata": {
            "tags": []
          },
          "execution_count": 43
        }
      ]
    },
    {
      "cell_type": "markdown",
      "metadata": {
        "id": "-dk0_QFXV1rI"
      },
      "source": [
        "## Model"
      ]
    },
    {
      "cell_type": "code",
      "metadata": {
        "id": "2-SyLLsWVz0h"
      },
      "source": [
        "model = tf.keras.models.Sequential()"
      ],
      "execution_count": 44,
      "outputs": []
    },
    {
      "cell_type": "code",
      "metadata": {
        "id": "Xm0uP1WbV5XR"
      },
      "source": [
        "model.add(tf.keras.layers.Embedding(input_dim= vocab_size, output_dim =30 ,input_length=300))\n",
        "model.add(tf.keras.layers.Bidirectional(tf.keras.layers.LSTM(128)))\n",
        "model.add(tf.keras.layers.Dense(8,activation='softmax'))\n",
        "\n",
        "model.compile(optimizer='adam', loss = 'sparse_categorical_crossentropy', metrics=['acc'])"
      ],
      "execution_count": 45,
      "outputs": []
    },
    {
      "cell_type": "code",
      "metadata": {
        "id": "iCRf18ZzXC1w"
      },
      "source": [
        "hist = model.fit(x_train, y_train, epochs=100, batch_size=256, validation_split=0.3, shuffle=True)"
      ],
      "execution_count": null,
      "outputs": []
    },
    {
      "cell_type": "markdown",
      "metadata": {
        "id": "VOLq_8RyfIVe"
      },
      "source": [
        "```\n",
        "7/7 [==============================] - 19s 3s/step - loss: 0.0106 - acc: 0.9949 - val_loss: 3.2025 - val_acc: 0.4504\n",
        "Epoch 96/100\n",
        "7/7 [==============================] - 19s 3s/step - loss: 0.0101 - acc: 0.9949 - val_loss: 3.1945 - val_acc: 0.4667\n",
        "Epoch 97/100\n",
        "7/7 [==============================] - 19s 3s/step - loss: 0.0089 - acc: 0.9949 - val_loss: 3.1960 - val_acc: 0.4578\n",
        "Epoch 98/100\n",
        "7/7 [==============================] - 19s 3s/step - loss: 0.0085 - acc: 0.9955 - val_loss: 3.2483 - val_acc: 0.4519\n",
        "Epoch 99/100\n",
        "7/7 [==============================] - 19s 3s/step - loss: 0.0076 - acc: 0.9949 - val_loss: 3.3383 - val_acc: 0.4504\n",
        "Epoch 100/100\n",
        "7/7 [==============================] - 19s 3s/step - loss: 0.0070 - acc: 0.9949 - val_loss: 3.3534 - val_acc: 0.4533\n",
        "```"
      ]
    },
    {
      "cell_type": "markdown",
      "metadata": {
        "id": "oxySaB-bdZ8C"
      },
      "source": [
        "## Evaluation\n"
      ]
    },
    {
      "cell_type": "code",
      "metadata": {
        "colab": {
          "base_uri": "https://localhost:8080/"
        },
        "id": "4pAYZrGtXPBw",
        "outputId": "447658a7-cb75-4a83-f7a8-fb6b1204d12a"
      },
      "source": [
        "model.evaluate(x_train, y_train) #loss: 0.0070 - acc: 0.9949 - val_loss: 3.3534 - val_acc: 0.4533"
      ],
      "execution_count": 48,
      "outputs": [
        {
          "output_type": "stream",
          "text": [
            "71/71 [==============================] - 8s 113ms/step - loss: 1.0121 - acc: 0.8322\n"
          ],
          "name": "stdout"
        },
        {
          "output_type": "execute_result",
          "data": {
            "text/plain": [
              "[1.0120925903320312, 0.832220733165741]"
            ]
          },
          "metadata": {
            "tags": []
          },
          "execution_count": 48
        }
      ]
    },
    {
      "cell_type": "markdown",
      "metadata": {
        "id": "PaFHX5pkdjOD"
      },
      "source": [
        "## Service"
      ]
    },
    {
      "cell_type": "code",
      "metadata": {
        "colab": {
          "base_uri": "https://localhost:8080/",
          "height": 268
        },
        "id": "1zlT7wikdd8w",
        "outputId": "177dae3c-e70b-4141-b6d2-645212b54045"
      },
      "source": [
        "import matplotlib.pyplot as plt\n",
        "plt.plot(hist.history['loss'])\n",
        "plt.plot(hist.history['val_loss'],'b-')\n",
        "plt.show()"
      ],
      "execution_count": 50,
      "outputs": [
        {
          "output_type": "display_data",
          "data": {
            "image/png": "[encoded data removed]",
            "text/plain": [
              "<Figure size 432x288 with 1 Axes>"
            ]
          },
          "metadata": {
            "tags": [],
            "needs_background": "light"
          }
        }
      ]
    },
    {
      "cell_type": "code",
      "metadata": {
        "colab": {
          "base_uri": "https://localhost:8080/",
          "height": 265
        },
        "id": "-TJxT8RBdnIS",
        "outputId": "1621e6a6-7a1a-48fa-ec0f-655f976d7669"
      },
      "source": [
        "plt.plot(hist.history['acc'])\n",
        "plt.plot(hist.history['val_acc'],'r-')\n",
        "plt.show()"
      ],
      "execution_count": 51,
      "outputs": [
        {
          "output_type": "display_data",
          "data": {
            "image/png": "[encoded data removed]",
            "text/plain": [
              "<Figure size 432x288 with 1 Axes>"
            ]
          },
          "metadata": {
            "tags": [],
            "needs_background": "light"
          }
        }
      ]
    },
    {
      "cell_type": "code",
      "metadata": {
        "colab": {
          "base_uri": "https://localhost:8080/"
        },
        "id": "ABZtUg51bLsu",
        "outputId": "3d022ec9-52cc-4442-dc5c-cb458d2fbdaf"
      },
      "source": [
        "x_train"
      ],
      "execution_count": 52,
      "outputs": [
        {
          "output_type": "execute_result",
          "data": {
            "text/plain": [
              "array([[   0,    0,    0, ...,    8, 2447, 3256],\n",
              "       [   0,    0,    0, ...,    8, 4670, 5351],\n",
              "       [   0,    0,    0, ...,    8,    1,    1],\n",
              "       ...,\n",
              "       [   0,    0,    0, ...,    8, 5445,    1],\n",
              "       [   0,    0,    0, ...,    8, 4190,    1],\n",
              "       [   0,    0,    0, ...,    8, 5249, 3296]], dtype=int32)"
            ]
          },
          "metadata": {
            "tags": []
          },
          "execution_count": 52
        }
      ]
    },
    {
      "cell_type": "code",
      "metadata": {
        "colab": {
          "base_uri": "https://localhost:8080/"
        },
        "id": "KIIOlerFnMdc",
        "outputId": "7f2b86ad-892c-4caa-8565-2263c7f2f748"
      },
      "source": [
        "y_train"
      ],
      "execution_count": 53,
      "outputs": [
        {
          "output_type": "execute_result",
          "data": {
            "text/plain": [
              "2389    2.0\n",
              "2701    2.0\n",
              "63      3.0\n",
              "2275    3.0\n",
              "1636    2.0\n",
              "       ... \n",
              "2086    1.0\n",
              "126     2.0\n",
              "2290    2.0\n",
              "1010    2.0\n",
              "1267    2.0\n",
              "Name: 점수, Length: 2247, dtype: float64"
            ]
          },
          "metadata": {
            "tags": []
          },
          "execution_count": 53
        }
      ]
    },
    {
      "cell_type": "code",
      "metadata": {
        "id": "LSDk5LzZnN-6"
      },
      "source": [
        "def fname():\n",
        "  \n",
        "\n",
        "  return"
      ],
      "execution_count": null,
      "outputs": []
    }
  ]
}