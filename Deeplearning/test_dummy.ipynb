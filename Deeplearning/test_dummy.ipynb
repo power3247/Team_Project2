{
  "nbformat": 4,
  "nbformat_minor": 0,
  "metadata": {
    "colab": {
      "name": "test_dummy.ipynb",
      "provenance": [],
      "collapsed_sections": [],
      "mount_file_id": "1SMyO2ECeQ5b0Lv5vkjvoiKZYTd_CSl5n",
      "authorship_tag": "ABX9TyO7MsRM+kyX6dcrTkxJ+Dtn",
      "include_colab_link": true
    },
    "kernelspec": {
      "name": "python3",
      "display_name": "Python 3"
    },
    "language_info": {
      "name": "python"
    }
  },
  "cells": [
    {
      "cell_type": "markdown",
      "metadata": {
        "id": "view-in-github",
        "colab_type": "text"
      },
      "source": [
        "<a href=\"https://colab.research.google.com/github/yoonputer/Team_Project2/blob/master/Deeplearning/test_dummy.ipynb\" target=\"_parent\"><img src=\"https://colab.research.google.com/assets/colab-badge.svg\" alt=\"Open In Colab\"/></a>"
      ]
    },
    {
      "cell_type": "markdown",
      "metadata": {
        "id": "sPt_drIw1LHJ"
      },
      "source": [
        "## 설치\n",
        "\n",
        "konlpy\n"
      ]
    },
    {
      "cell_type": "code",
      "metadata": {
        "id": "NIFFN1lKCV0f"
      },
      "source": [
        "! ls ./drive/MyDrive/Forkspoon/dummy1.xlsx"
      ],
      "execution_count": null,
      "outputs": []
    },
    {
      "cell_type": "code",
      "metadata": {
        "id": "fKDR4BjdCcWf"
      },
      "source": [
        "!python -m pip install konlpy"
      ],
      "execution_count": null,
      "outputs": []
    },
    {
      "cell_type": "code",
      "metadata": {
        "id": "g7MUhXe2os2R"
      },
      "source": [
        "!curl -O https://raw.githubusercontent.com/konlpy/konlpy/master/scripts/mecab.sh"
      ],
      "execution_count": null,
      "outputs": []
    },
    {
      "cell_type": "code",
      "metadata": {
        "id": "WuOckPNdouSi"
      },
      "source": [
        "!source ./mecab.sh"
      ],
      "execution_count": null,
      "outputs": []
    },
    {
      "cell_type": "markdown",
      "metadata": {
        "id": "Xb5ob4hJ1GQZ"
      },
      "source": [
        "## 데이터 가져오기"
      ]
    },
    {
      "cell_type": "code",
      "metadata": {
        "id": "-84HtQWJTwpc"
      },
      "source": [
        "!ls ./drive/MyDrive/Forkspoon/db.sqlite3"
      ],
      "execution_count": null,
      "outputs": []
    },
    {
      "cell_type": "code",
      "metadata": {
        "id": "SUfA_KTdPIb-"
      },
      "source": [
        "import sqlite3\n",
        "import pandas as pd\n",
        "connect = sqlite3.connect('./drive/MyDrive/Forkspoon/db.sqlite3')"
      ],
      "execution_count": 6,
      "outputs": []
    },
    {
      "cell_type": "code",
      "metadata": {
        "id": "h1mqXsmRPSlu"
      },
      "source": [
        "choice = pd.read_sql_query('select * from write_choice',connect)"
      ],
      "execution_count": 7,
      "outputs": []
    },
    {
      "cell_type": "code",
      "metadata": {
        "colab": {
          "base_uri": "https://localhost:8080/",
          "height": 602
        },
        "id": "fdnTy1XjPnhM",
        "outputId": "cb599c98-153f-4d70-be6e-6726548e1740"
      },
      "source": [
        "type(choice)\n",
        "choice_cols = choice[['점수','질문','답변']]\n",
        "choice_cols"
      ],
      "execution_count": 8,
      "outputs": [
        {
          "output_type": "execute_result",
          "data": {
            "text/html": [
              "<div>\n",
              "<style scoped>\n",
              "    .dataframe tbody tr th:only-of-type {\n",
              "        vertical-align: middle;\n",
              "    }\n",
              "\n",
              "    .dataframe tbody tr th {\n",
              "        vertical-align: top;\n",
              "    }\n",
              "\n",
              "    .dataframe thead th {\n",
              "        text-align: right;\n",
              "    }\n",
              "</style>\n",
              "<table border=\"1\" class=\"dataframe\">\n",
              "  <thead>\n",
              "    <tr style=\"text-align: right;\">\n",
              "      <th></th>\n",
              "      <th>점수</th>\n",
              "      <th>질문</th>\n",
              "      <th>답변</th>\n",
              "    </tr>\n",
              "  </thead>\n",
              "  <tbody>\n",
              "    <tr>\n",
              "      <th>0</th>\n",
              "      <td>2.0</td>\n",
              "      <td>입사 지원동기를 작성해주세요. (① 지원 부문을 선택한 이유와 ② 지원 부문과 관련...</td>\n",
              "      <td>\\n경영은 전사의 콘텐츠 제작에서부터 유통 과정을 파악하고, 설정한 목표를 이루기 ...</td>\n",
              "    </tr>\n",
              "    <tr>\n",
              "      <th>1</th>\n",
              "      <td>3.0</td>\n",
              "      <td>우리 공단에 지원동기와 직무를 선택한 이유, 입사 후 목표와 포부를 기술해 주십시오...</td>\n",
              "      <td>\\n\"‘재료’를 전공하며 나의 가치를 증명하다\"\\n 제조업은 우리나라 경제의 주요 ...</td>\n",
              "    </tr>\n",
              "    <tr>\n",
              "      <th>2</th>\n",
              "      <td>2.0</td>\n",
              "      <td>지원직무를 선택한 이유를(직무와 관련한 경험, 전공, 수강과목, 자격증 등을 포함하...</td>\n",
              "      <td>\\n\"직접 만든다는 것\"\\n 실습을 위해 콤부차를 조사하였습니다. 한정된 자료에서 ...</td>\n",
              "    </tr>\n",
              "    <tr>\n",
              "      <th>3</th>\n",
              "      <td>2.0</td>\n",
              "      <td>본인이 선택한 직무에 대해 아래 내용을 포함하여 기술하시오. ①지원한 직무의 역할이...</td>\n",
              "      <td>\\n`전지적 참견 시점`\\n 영업관리 직무는 BGF리테일의 점포 관리를 위한 매니저...</td>\n",
              "    </tr>\n",
              "    <tr>\n",
              "      <th>4</th>\n",
              "      <td>4.0</td>\n",
              "      <td>본인이 선택한 직무를 담당하고 싶은 이유, 적합성 등에 대해 자유롭게 설명해 보십시...</td>\n",
              "      <td>\\n16살에 처음 회계를 접하고 흥미를 느껴 뚜렷한 진로 방향을 형성했습니다.\\n기...</td>\n",
              "    </tr>\n",
              "    <tr>\n",
              "      <th>...</th>\n",
              "      <td>...</td>\n",
              "      <td>...</td>\n",
              "      <td>...</td>\n",
              "    </tr>\n",
              "    <tr>\n",
              "      <th>2992</th>\n",
              "      <td>2.0</td>\n",
              "      <td>화천그룹 및 해당분야 지원동기최소 (30~400)</td>\n",
              "      <td>\\n공작기계분야에 있어서 두산인프라코어, 현대위아와 어깨를 나란히 하는 화천기계는 ...</td>\n",
              "    </tr>\n",
              "    <tr>\n",
              "      <th>2993</th>\n",
              "      <td>4.0</td>\n",
              "      <td>지원동기 및 입사 후 포부</td>\n",
              "      <td>\\n(`마트`라는 채널에서 보고 느낀 영업사원들의 모습)\\n마트에서 일하면서 판매,...</td>\n",
              "    </tr>\n",
              "    <tr>\n",
              "      <th>2994</th>\n",
              "      <td>4.0</td>\n",
              "      <td>직무 지원동기</td>\n",
              "      <td>\\n&lt;사람을 좋아하는 마음, 경험과 지식을 통해 또 다른 가치를 만들다&gt; \\n새로운...</td>\n",
              "    </tr>\n",
              "    <tr>\n",
              "      <th>2995</th>\n",
              "      <td>5.0</td>\n",
              "      <td>LG디스플레이 및 지원 직무에 지원하는 동기에 대해 기술해 주십시오. 성격(장단점)...</td>\n",
              "      <td>\\n‘2015 나노 코리아’에서 LG OLED UHD TV를 보고 말을 잃었습니다....</td>\n",
              "    </tr>\n",
              "    <tr>\n",
              "      <th>2996</th>\n",
              "      <td>3.0</td>\n",
              "      <td>당사에 지원한 동기와 자신이 잘 할 수 있다고 생각하는 일에 대해서 구체적으로 기술...</td>\n",
              "      <td>\\n[공기와 같은 기업] \\n한일 시멘트를 집약적으로 표현할 수 있는 말입니다. 고...</td>\n",
              "    </tr>\n",
              "  </tbody>\n",
              "</table>\n",
              "<p>2997 rows × 3 columns</p>\n",
              "</div>"
            ],
            "text/plain": [
              "       점수  ...                                                 답변\n",
              "0     2.0  ...  \\n경영은 전사의 콘텐츠 제작에서부터 유통 과정을 파악하고, 설정한 목표를 이루기 ...\n",
              "1     3.0  ...  \\n\"‘재료’를 전공하며 나의 가치를 증명하다\"\\n 제조업은 우리나라 경제의 주요 ...\n",
              "2     2.0  ...  \\n\"직접 만든다는 것\"\\n 실습을 위해 콤부차를 조사하였습니다. 한정된 자료에서 ...\n",
              "3     2.0  ...  \\n`전지적 참견 시점`\\n 영업관리 직무는 BGF리테일의 점포 관리를 위한 매니저...\n",
              "4     4.0  ...  \\n16살에 처음 회계를 접하고 흥미를 느껴 뚜렷한 진로 방향을 형성했습니다.\\n기...\n",
              "...   ...  ...                                                ...\n",
              "2992  2.0  ...  \\n공작기계분야에 있어서 두산인프라코어, 현대위아와 어깨를 나란히 하는 화천기계는 ...\n",
              "2993  4.0  ...  \\n(`마트`라는 채널에서 보고 느낀 영업사원들의 모습)\\n마트에서 일하면서 판매,...\n",
              "2994  4.0  ...  \\n<사람을 좋아하는 마음, 경험과 지식을 통해 또 다른 가치를 만들다> \\n새로운...\n",
              "2995  5.0  ...  \\n‘2015 나노 코리아’에서 LG OLED UHD TV를 보고 말을 잃었습니다....\n",
              "2996  3.0  ...  \\n[공기와 같은 기업] \\n한일 시멘트를 집약적으로 표현할 수 있는 말입니다. 고...\n",
              "\n",
              "[2997 rows x 3 columns]"
            ]
          },
          "metadata": {
            "tags": []
          },
          "execution_count": 8
        }
      ]
    },
    {
      "cell_type": "markdown",
      "metadata": {
        "id": "HI-jNbnSWd8c"
      },
      "source": [
        "## NLP "
      ]
    },
    {
      "cell_type": "code",
      "metadata": {
        "id": "1uJKsXDpRdnK"
      },
      "source": [
        "from sklearn.model_selection import train_test_split"
      ],
      "execution_count": 9,
      "outputs": []
    },
    {
      "cell_type": "code",
      "metadata": {
        "id": "ONmD6rvKUjRH"
      },
      "source": [
        "x_data = choice_cols['답변']\n",
        "y_data = choice_cols['점수']"
      ],
      "execution_count": 10,
      "outputs": []
    },
    {
      "cell_type": "code",
      "metadata": {
        "colab": {
          "base_uri": "https://localhost:8080/"
        },
        "id": "V3-VfZ9xUytZ",
        "outputId": "8cc9debb-200c-4bcc-9a3a-8b8d5d0f7cec"
      },
      "source": [
        "x_train, x_test, y_train, y_test = train_test_split(x_data, y_data)\n",
        "x_train.shape, y_train.shape,x_test.shape, y_test.shape"
      ],
      "execution_count": 11,
      "outputs": [
        {
          "output_type": "execute_result",
          "data": {
            "text/plain": [
              "((2247,), (2247,), (750,), (750,))"
            ]
          },
          "metadata": {
            "tags": []
          },
          "execution_count": 11
        }
      ]
    },
    {
      "cell_type": "code",
      "metadata": {
        "colab": {
          "base_uri": "https://localhost:8080/",
          "height": 289
        },
        "id": "hIzPArxGVDe-",
        "outputId": "efaf72be-02d5-4260-c45c-48cc5a08e187"
      },
      "source": [
        "y_data.value_counts().plot(kind='bar')"
      ],
      "execution_count": 12,
      "outputs": [
        {
          "output_type": "execute_result",
          "data": {
            "text/plain": [
              "<matplotlib.axes._subplots.AxesSubplot at 0x7f58d392fd10>"
            ]
          },
          "metadata": {
            "tags": []
          },
          "execution_count": 12
        },
        {
          "output_type": "display_data",
          "data": {
            "image/png": "[encoded data removed]",
            "text/plain": [
              "<Figure size 432x288 with 1 Axes>"
            ]
          },
          "metadata": {
            "tags": [],
            "needs_background": "light"
          }
        }
      ]
    },
    {
      "cell_type": "code",
      "metadata": {
        "colab": {
          "base_uri": "https://localhost:8080/"
        },
        "id": "W0aF-E1EVV31",
        "outputId": "ef65fdb9-b021-4561-ad94-9868407eff7a"
      },
      "source": [
        "type(x_train)"
      ],
      "execution_count": 13,
      "outputs": [
        {
          "output_type": "execute_result",
          "data": {
            "text/plain": [
              "pandas.core.series.Series"
            ]
          },
          "metadata": {
            "tags": []
          },
          "execution_count": 13
        }
      ]
    },
    {
      "cell_type": "code",
      "metadata": {
        "colab": {
          "base_uri": "https://localhost:8080/"
        },
        "id": "VbzWqx3xWhyo",
        "outputId": "1056de7f-7754-4c6a-a4c9-2c72a7b99791"
      },
      "source": [
        "x_temp = x_train\n",
        "x_temp= x_temp.str.replace('[^가-힣ㄱ-ㅎ0-9ㅏ-ㅣ]','')\n",
        "x_temp"
      ],
      "execution_count": 14,
      "outputs": [
        {
          "output_type": "execute_result",
          "data": {
            "text/plain": [
              "1859    중소기업은한국가의성장동력으로서부가가치와고용창출에크게기여합니다이에중소기업의든든한금융뒷...\n",
              "2650    가치를만드는사람우미건설은주택과건축물그리고사회기반시설의개발을통해많은사람에게가치를만들어...\n",
              "450     당연하다고생각했던전력공급고등학교1학년때에12년간살아온아파트를떠나새로운아파트로이사를하...\n",
              "1912    유통업에관한관심으로유통과영업관리업무를직접배우고자관련인턴에도전했습니다직접매장에서부딪히...\n",
              "2586    삼성생명이라는거대한기업의타이틀보다는내자신의꿈을위해지원하다삼성생명이라는큰조직하에근무를...\n",
              "                              ...                        \n",
              "2139    준비된효성효성산업자재의똑부러지는연구원이되기위하여다음과같은역량을길렀습니다첫번째는재료공...\n",
              "1529    실무경험을통해배운생산기술저의역량과지식을가장효과적으로사용될수있는곳은전자생산기술직무라고...\n",
              "895     글로벌한아름다움실현고객의아름다움을실현하는일을하고싶습니다주위사람들이피부관리법에대해물으...\n",
              "1120    성공은습관이다성공은습관이다는제모토이자습관처럼성공을거머쥐는그룹을가장잘나타내는문구라고생...\n",
              "2744    여자라면누구나뷰티에대한관심과욕심을가지고있기마련입니다용돈을아껴모은네일컬러가100개를넘...\n",
              "Name: 답변, Length: 2247, dtype: object"
            ]
          },
          "metadata": {
            "tags": []
          },
          "execution_count": 14
        }
      ]
    },
    {
      "cell_type": "markdown",
      "metadata": {
        "id": "D7yF_J6_2bRr"
      },
      "source": [
        "### stopwords\n",
        "\n",
        "```\n",
        "import pandas as pd\n",
        "\n",
        "lst_A = ['a','b','c','d', 'e', 1, 2]\n",
        "df = pd.DataFrame(lst_A)\n",
        "\n",
        "df.columns=['']\n",
        "\n",
        "import numpy as np\n",
        "\n",
        "np.array(df[0].tolist())\n",
        "```"
      ]
    },
    {
      "cell_type": "code",
      "metadata": {
        "colab": {
          "base_uri": "https://localhost:8080/"
        },
        "id": "Fdt43FMxMYZp",
        "outputId": "c7e291a8-0d70-471d-d828-0d236d2ca1b7"
      },
      "source": [
        "stopwords = pd.read_sql_query('select * from stopwords',connect)\n",
        "\n",
        "stopwords.describe()\n",
        "\n",
        "type(stopwords)"
      ],
      "execution_count": 15,
      "outputs": [
        {
          "output_type": "execute_result",
          "data": {
            "text/plain": [
              "pandas.core.frame.DataFrame"
            ]
          },
          "metadata": {
            "tags": []
          },
          "execution_count": 15
        }
      ]
    },
    {
      "cell_type": "code",
      "metadata": {
        "colab": {
          "base_uri": "https://localhost:8080/"
        },
        "id": "diIjgCHSOA2w",
        "outputId": "99b2bbe5-cf05-4eb4-fb57-5dca335d672e"
      },
      "source": [
        "import numpy as np\n",
        "\n",
        "ko_stopwords_list = np.array(stopwords['words'].tolist())\n",
        "ko_stopwords_list"
      ],
      "execution_count": 16,
      "outputs": [
        {
          "output_type": "execute_result",
          "data": {
            "text/plain": [
              "array(['이', '있', '하', ..., '잘', '통하', '놓'], dtype='<U4')"
            ]
          },
          "metadata": {
            "tags": []
          },
          "execution_count": 16
        }
      ]
    },
    {
      "cell_type": "markdown",
      "metadata": {
        "id": "0LeNEgSt4dTe"
      },
      "source": [
        "### Mecab"
      ]
    },
    {
      "cell_type": "code",
      "metadata": {
        "id": "rQLluY7yWuN7"
      },
      "source": [
        "from konlpy.tag import Mecab\n",
        "mecab= Mecab()"
      ],
      "execution_count": 17,
      "outputs": []
    },
    {
      "cell_type": "code",
      "metadata": {
        "id": "MKz3Yi3VZ21r"
      },
      "source": [
        "# mecab.pos(x_temp[0])\n",
        "mecab.morphs(x_temp[0])"
      ],
      "execution_count": null,
      "outputs": []
    },
    {
      "cell_type": "code",
      "metadata": {
        "id": "7qPP2UkuXO1r"
      },
      "source": [
        "def non_stopwords(x_temp):\n",
        "  sentance = list ()\n",
        "  \n",
        "  for tok in x_temp:\n",
        "    encoded = mecab.morphs(tok)\n",
        "\n",
        "    sentance.append([item for item in encoded if item not in ko_stopwords_list])\n",
        "\n",
        "  return sentance"
      ],
      "execution_count": 19,
      "outputs": []
    },
    {
      "cell_type": "markdown",
      "metadata": {
        "id": "PFMPeZBDSSHu"
      },
      "source": [
        "## Tokenizer"
      ]
    },
    {
      "cell_type": "code",
      "metadata": {
        "id": "WCHrluKOnxuo"
      },
      "source": [
        "import tensorflow as tf"
      ],
      "execution_count": 20,
      "outputs": []
    },
    {
      "cell_type": "code",
      "metadata": {
        "id": "nYPncVEUSjuY"
      },
      "source": [
        "tokenizer = tf.keras.preprocessing.text.Tokenizer()"
      ],
      "execution_count": 21,
      "outputs": []
    },
    {
      "cell_type": "code",
      "metadata": {
        "id": "BdNkBHjeSqpV"
      },
      "source": [
        "tokenizer.fit_on_texts(non_stopwords(x_temp))"
      ],
      "execution_count": 22,
      "outputs": []
    },
    {
      "cell_type": "code",
      "metadata": {
        "id": "h3ZjCDTLTGPi"
      },
      "source": [
        "tokenizer.word_index"
      ],
      "execution_count": null,
      "outputs": []
    },
    {
      "cell_type": "code",
      "metadata": {
        "id": "Bc9_vNdxS2cT"
      },
      "source": [
        "tokenizer.word_counts"
      ],
      "execution_count": null,
      "outputs": []
    },
    {
      "cell_type": "code",
      "metadata": {
        "id": "5gRsrkNUS57S"
      },
      "source": [
        "total_cnt = len(tokenizer.word_index)"
      ],
      "execution_count": 25,
      "outputs": []
    },
    {
      "cell_type": "code",
      "metadata": {
        "id": "-kcxOMdWTLjz"
      },
      "source": [
        "rare_cnt = 0\n",
        "total_freq,rare_freq = 0,0\n",
        "\n",
        "for key, value in tokenizer.word_counts.items():\n",
        "  total_freq = total_freq + value #전체 단어의 수\n",
        "  if(value <=2):\n",
        "    rare_cnt = rare_cnt+ 1  \n",
        "    rare_freq = rare_freq + value #2미만인 단어(희귀단어)의 수"
      ],
      "execution_count": 26,
      "outputs": []
    },
    {
      "cell_type": "code",
      "metadata": {
        "colab": {
          "base_uri": "https://localhost:8080/"
        },
        "id": "FvP2BgjxTOhD",
        "outputId": "916a5508-12ef-485b-8a32-87fe9d8d1686"
      },
      "source": [
        "total_cnt, rare_cnt, (rare_cnt/total_cnt)*100, (rare_freq/total_freq)*100"
      ],
      "execution_count": 27,
      "outputs": [
        {
          "output_type": "execute_result",
          "data": {
            "text/plain": [
              "(16304, 8577, 52.606722276741905, 3.6126855158405133)"
            ]
          },
          "metadata": {
            "tags": []
          },
          "execution_count": 27
        }
      ]
    },
    {
      "cell_type": "code",
      "metadata": {
        "colab": {
          "base_uri": "https://localhost:8080/"
        },
        "id": "J2ufYSbTTQIj",
        "outputId": "8e2eb9b0-845f-470b-d2f3-c55e6dbb2ac4"
      },
      "source": [
        "vocab_size = total_cnt - rare_cnt #보케블러리 사이즈\n",
        "vocab_size "
      ],
      "execution_count": 28,
      "outputs": [
        {
          "output_type": "execute_result",
          "data": {
            "text/plain": [
              "7727"
            ]
          },
          "metadata": {
            "tags": []
          },
          "execution_count": 28
        }
      ]
    },
    {
      "cell_type": "code",
      "metadata": {
        "id": "9JKVBfQsTTmT"
      },
      "source": [
        "tokenizer = tf.keras.preprocessing.text.Tokenizer(vocab_size, oov_token='OOV')"
      ],
      "execution_count": 29,
      "outputs": []
    },
    {
      "cell_type": "code",
      "metadata": {
        "id": "6NKhCGLFTYcD"
      },
      "source": [
        "tokenizer.fit_on_texts(non_stopwords(x_temp))"
      ],
      "execution_count": 30,
      "outputs": []
    },
    {
      "cell_type": "code",
      "metadata": {
        "id": "kb62lS7dTZ7C"
      },
      "source": [
        "tokenizer.index_word"
      ],
      "execution_count": null,
      "outputs": []
    },
    {
      "cell_type": "markdown",
      "metadata": {
        "id": "YjSIRMbdT2M_"
      },
      "source": [
        "## To int \n"
      ]
    },
    {
      "cell_type": "code",
      "metadata": {
        "id": "Me5hP6Hmax-4"
      },
      "source": [
        "x_train = tokenizer.texts_to_sequences(non_stopwords(x_temp))"
      ],
      "execution_count": 32,
      "outputs": []
    },
    {
      "cell_type": "code",
      "metadata": {
        "colab": {
          "base_uri": "https://localhost:8080/"
        },
        "id": "x0pwURWNT-OU",
        "outputId": "e02c1e24-601a-4485-d945-23673cd6e1db"
      },
      "source": [
        "len(x_train[0]),len(x_train[40]),len(x_train[50])"
      ],
      "execution_count": 33,
      "outputs": [
        {
          "output_type": "execute_result",
          "data": {
            "text/plain": [
              "(99, 223, 56)"
            ]
          },
          "metadata": {
            "tags": []
          },
          "execution_count": 33
        }
      ]
    },
    {
      "cell_type": "code",
      "metadata": {
        "id": "Evda2krkT_yR"
      },
      "source": [
        "hist_len = [len(words) for words in x_train]"
      ],
      "execution_count": 34,
      "outputs": []
    },
    {
      "cell_type": "code",
      "metadata": {
        "id": "xZ_INTihUB9y"
      },
      "source": [
        "import matplotlib.pyplot as plt"
      ],
      "execution_count": 35,
      "outputs": []
    },
    {
      "cell_type": "code",
      "metadata": {
        "colab": {
          "base_uri": "https://localhost:8080/",
          "height": 495
        },
        "id": "b85UnKL3UEIi",
        "outputId": "2d03b94d-1fb4-4e0f-8fb3-e9251e085feb"
      },
      "source": [
        "plt.hist(hist_len, bins=50)"
      ],
      "execution_count": 36,
      "outputs": [
        {
          "output_type": "execute_result",
          "data": {
            "text/plain": [
              "(array([  6.,   2.,  11.,  29.,  59.,  82., 131., 185., 290., 237., 206.,\n",
              "        178., 155., 123.,  84.,  88.,  93.,  90.,  75.,  43.,  10.,   9.,\n",
              "          8.,  11.,   5.,   7.,   3.,   2.,   1.,   7.,   3.,   2.,   1.,\n",
              "          4.,   3.,   2.,   0.,   0.,   0.,   0.,   0.,   0.,   1.,   0.,\n",
              "          0.,   0.,   0.,   0.,   0.,   1.]),\n",
              " array([  5.  ,  16.48,  27.96,  39.44,  50.92,  62.4 ,  73.88,  85.36,\n",
              "         96.84, 108.32, 119.8 , 131.28, 142.76, 154.24, 165.72, 177.2 ,\n",
              "        188.68, 200.16, 211.64, 223.12, 234.6 , 246.08, 257.56, 269.04,\n",
              "        280.52, 292.  , 303.48, 314.96, 326.44, 337.92, 349.4 , 360.88,\n",
              "        372.36, 383.84, 395.32, 406.8 , 418.28, 429.76, 441.24, 452.72,\n",
              "        464.2 , 475.68, 487.16, 498.64, 510.12, 521.6 , 533.08, 544.56,\n",
              "        556.04, 567.52, 579.  ]),\n",
              " <a list of 50 Patch objects>)"
            ]
          },
          "metadata": {
            "tags": []
          },
          "execution_count": 36
        },
        {
          "output_type": "display_data",
          "data": {
            "image/png": "[encoded data removed]",
            "text/plain": [
              "<Figure size 432x288 with 1 Axes>"
            ]
          },
          "metadata": {
            "tags": [],
            "needs_background": "light"
          }
        }
      ]
    },
    {
      "cell_type": "markdown",
      "metadata": {
        "id": "RML2Tdy-UK1k"
      },
      "source": [
        "- Pad 몇정도 하면 좋을지 여기서 확인"
      ]
    },
    {
      "cell_type": "code",
      "metadata": {
        "colab": {
          "base_uri": "https://localhost:8080/"
        },
        "id": "nrKWVm1dUFhy",
        "outputId": "beaddd1b-fc4a-4b45-c1ac-0cfb88f6c1f5"
      },
      "source": [
        "sum(hist_len)/ len(x_train)"
      ],
      "execution_count": 37,
      "outputs": [
        {
          "output_type": "execute_result",
          "data": {
            "text/plain": [
              "135.83889630618603"
            ]
          },
          "metadata": {
            "tags": []
          },
          "execution_count": 37
        }
      ]
    },
    {
      "cell_type": "code",
      "metadata": {
        "id": "rSPenUIZUIwC"
      },
      "source": [
        "x_train =tf.keras.preprocessing.sequence.pad_sequences(x_train, maxlen=300)"
      ],
      "execution_count": 38,
      "outputs": []
    },
    {
      "cell_type": "code",
      "metadata": {
        "colab": {
          "base_uri": "https://localhost:8080/"
        },
        "id": "vTYqxIdIUjK7",
        "outputId": "c7e41fcf-4058-4ab9-eea2-fd5b6b7c6bc8"
      },
      "source": [
        "x_train"
      ],
      "execution_count": 39,
      "outputs": [
        {
          "output_type": "execute_result",
          "data": {
            "text/plain": [
              "array([[   0,    0,    0, ...,    8, 5329, 5330],\n",
              "       [   0,    0,    0, ...,    8, 4188,    1],\n",
              "       [   0,    0,    0, ...,    8, 4687,    1],\n",
              "       ...,\n",
              "       [   0,    0,    0, ...,    8, 2298, 5572],\n",
              "       [   0,    0,    0, ...,    8, 3906, 7311],\n",
              "       [   0,    0,    0, ...,    8, 2298, 3778]], dtype=int32)"
            ]
          },
          "metadata": {
            "tags": []
          },
          "execution_count": 39
        }
      ]
    },
    {
      "cell_type": "code",
      "metadata": {
        "colab": {
          "base_uri": "https://localhost:8080/"
        },
        "id": "Mb_NkYu8UlNy",
        "outputId": "a8eb4517-d216-497d-cd6c-38feb7d4db62"
      },
      "source": [
        "len(y_train)"
      ],
      "execution_count": 40,
      "outputs": [
        {
          "output_type": "execute_result",
          "data": {
            "text/plain": [
              "2247"
            ]
          },
          "metadata": {
            "tags": []
          },
          "execution_count": 40
        }
      ]
    },
    {
      "cell_type": "code",
      "metadata": {
        "colab": {
          "base_uri": "https://localhost:8080/"
        },
        "id": "gZXgBwwkUrPh",
        "outputId": "41e7631e-b635-45d0-a32e-c653ed89f1ba"
      },
      "source": [
        "np.unique(y_train)"
      ],
      "execution_count": 41,
      "outputs": [
        {
          "output_type": "execute_result",
          "data": {
            "text/plain": [
              "array([0. , 1. , 2. , 3. , 3.5, 4. , 4.5, 5. ])"
            ]
          },
          "metadata": {
            "tags": []
          },
          "execution_count": 41
        }
      ]
    },
    {
      "cell_type": "code",
      "metadata": {
        "colab": {
          "base_uri": "https://localhost:8080/"
        },
        "id": "CkE88UXzVPJh",
        "outputId": "af2eddcc-4a66-4710-8263-60fe50bc0e8a"
      },
      "source": [
        "type(y_train)"
      ],
      "execution_count": 42,
      "outputs": [
        {
          "output_type": "execute_result",
          "data": {
            "text/plain": [
              "pandas.core.series.Series"
            ]
          },
          "metadata": {
            "tags": []
          },
          "execution_count": 42
        }
      ]
    },
    {
      "cell_type": "code",
      "metadata": {
        "colab": {
          "base_uri": "https://localhost:8080/"
        },
        "id": "9-RF5ubHViZw",
        "outputId": "6572a7da-2b78-4818-d6c2-e3c0cb908375"
      },
      "source": [
        "len(x_train), len(y_train)"
      ],
      "execution_count": 43,
      "outputs": [
        {
          "output_type": "execute_result",
          "data": {
            "text/plain": [
              "(2247, 2247)"
            ]
          },
          "metadata": {
            "tags": []
          },
          "execution_count": 43
        }
      ]
    },
    {
      "cell_type": "markdown",
      "metadata": {
        "id": "-dk0_QFXV1rI"
      },
      "source": [
        "## Model"
      ]
    },
    {
      "cell_type": "code",
      "metadata": {
        "id": "2-SyLLsWVz0h"
      },
      "source": [
        "model = tf.keras.models.Sequential()"
      ],
      "execution_count": 44,
      "outputs": []
    },
    {
      "cell_type": "code",
      "metadata": {
        "id": "Xm0uP1WbV5XR"
      },
      "source": [
        "model.add(tf.keras.layers.Embedding(input_dim= vocab_size, output_dim =30 ,input_length=300))\n",
        "model.add(tf.keras.layers.Bidirectional(tf.keras.layers.LSTM(128)))\n",
        "model.add(tf.keras.layers.Dense(8,activation='softmax'))\n",
        "\n",
        "model.compile(optimizer='adam', loss = 'sparse_categorical_crossentropy', metrics=['acc'])"
      ],
      "execution_count": 45,
      "outputs": []
    },
    {
      "cell_type": "code",
      "metadata": {
        "id": "iCRf18ZzXC1w"
      },
      "source": [
        "hist = model.fit(x_train, y_train, epochs=100, batch_size=256, validation_split=0.3, shuffle=True)"
      ],
      "execution_count": null,
      "outputs": []
    },
    {
      "cell_type": "markdown",
      "metadata": {
        "id": "VOLq_8RyfIVe"
      },
      "source": [
        "```\n",
        "Epoch 95/100\n",
        "7/7 [==============================] - 19s 3s/step - loss: 0.0079 - acc: 0.9955 - val_loss: 3.3796 - val_acc: 0.4652\n",
        "Epoch 96/100\n",
        "7/7 [==============================] - 19s 3s/step - loss: 0.0079 - acc: 0.9949 - val_loss: 3.3681 - val_acc: 0.4667\n",
        "Epoch 97/100\n",
        "7/7 [==============================] - 19s 3s/step - loss: 0.0077 - acc: 0.9949 - val_loss: 3.3706 - val_acc: 0.4711\n",
        "Epoch 98/100\n",
        "7/7 [==============================] - 19s 3s/step - loss: 0.0074 - acc: 0.9955 - val_loss: 3.4164 - val_acc: 0.4726\n",
        "Epoch 99/100\n",
        "7/7 [==============================] - 19s 3s/step - loss: 0.0075 - acc: 0.9949 - val_loss: 3.4067 - val_acc: 0.4681\n",
        "Epoch 100/100\n",
        "7/7 [==============================] - 19s 3s/step - loss: 0.0073 - acc: 0.9949 - val_loss: 3.4006 - val_acc: 0.4622\n",
        "```"
      ]
    },
    {
      "cell_type": "markdown",
      "metadata": {
        "id": "oxySaB-bdZ8C"
      },
      "source": [
        "## Evaluation\n"
      ]
    },
    {
      "cell_type": "code",
      "metadata": {
        "colab": {
          "base_uri": "https://localhost:8080/"
        },
        "id": "4pAYZrGtXPBw",
        "outputId": "ce4d9e6b-dafa-4721-db0e-e93ae433cc2a"
      },
      "source": [
        "model.evaluate(x_train, y_train) #loss: 0.0092 - acc: 0.9955 - val_loss: 4.2936 - val_acc: 0.4133"
      ],
      "execution_count": 47,
      "outputs": [
        {
          "output_type": "stream",
          "text": [
            "71/71 [==============================] - 8s 113ms/step - loss: 1.0264 - acc: 0.8349\n"
          ],
          "name": "stdout"
        },
        {
          "output_type": "execute_result",
          "data": {
            "text/plain": [
              "[1.026362419128418, 0.8348909616470337]"
            ]
          },
          "metadata": {
            "tags": []
          },
          "execution_count": 47
        }
      ]
    },
    {
      "cell_type": "markdown",
      "metadata": {
        "id": "PaFHX5pkdjOD"
      },
      "source": [
        "## Service"
      ]
    },
    {
      "cell_type": "code",
      "metadata": {
        "colab": {
          "base_uri": "https://localhost:8080/",
          "height": 265
        },
        "id": "1zlT7wikdd8w",
        "outputId": "672901f4-8f25-4277-ae9f-1c227cf26cd2"
      },
      "source": [
        "import matplotlib.pyplot as plt\n",
        "plt.plot(hist.history['loss'])\n",
        "plt.plot(hist.history['val_loss'],'b-')\n",
        "plt.show()"
      ],
      "execution_count": 49,
      "outputs": [
        {
          "output_type": "display_data",
          "data": {
            "image/png": "[encoded data removed]",
            "text/plain": [
              "<Figure size 432x288 with 1 Axes>"
            ]
          },
          "metadata": {
            "tags": [],
            "needs_background": "light"
          }
        }
      ]
    },
    {
      "cell_type": "code",
      "metadata": {
        "colab": {
          "base_uri": "https://localhost:8080/",
          "height": 265
        },
        "id": "-TJxT8RBdnIS",
        "outputId": "510c758b-3293-4b23-f995-6cd7764fb0e0"
      },
      "source": [
        "plt.plot(hist.history['acc'],'g-')\n",
        "plt.plot(hist.history['val_acc'],'r-')\n",
        "plt.show()"
      ],
      "execution_count": 50,
      "outputs": [
        {
          "output_type": "display_data",
          "data": {
            "image/png": "[encoded data removed]",
            "text/plain": [
              "<Figure size 432x288 with 1 Axes>"
            ]
          },
          "metadata": {
            "tags": [],
            "needs_background": "light"
          }
        }
      ]
    },
    {
      "cell_type": "code",
      "metadata": {
        "id": "iDu4ACcmYeQ9"
      },
      "source": [
        "model.save('./test_dummy_LSTM.h5')"
      ],
      "execution_count": 51,
      "outputs": []
    },
    {
      "cell_type": "code",
      "metadata": {
        "id": "czpvuMhmYnCE"
      },
      "source": [
        ""
      ],
      "execution_count": null,
      "outputs": []
    }
  ]
}