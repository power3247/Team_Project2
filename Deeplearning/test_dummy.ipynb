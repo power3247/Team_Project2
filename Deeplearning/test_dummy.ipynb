{
  "nbformat": 4,
  "nbformat_minor": 0,
  "metadata": {
    "colab": {
      "name": "test_dummy.ipynb",
      "provenance": [],
      "collapsed_sections": [],
      "mount_file_id": "1SMyO2ECeQ5b0Lv5vkjvoiKZYTd_CSl5n",
      "authorship_tag": "ABX9TyMqoya09fVsC+SpGwj+XLCi",
      "include_colab_link": true
    },
    "kernelspec": {
      "name": "python3",
      "display_name": "Python 3"
    },
    "language_info": {
      "name": "python"
    }
  },
  "cells": [
    {
      "cell_type": "markdown",
      "metadata": {
        "id": "view-in-github",
        "colab_type": "text"
      },
      "source": [
        "<a href=\"https://colab.research.google.com/github/yoonputer/Team_Project2/blob/master/Deeplearning/test_dummy.ipynb\" target=\"_parent\"><img src=\"https://colab.research.google.com/assets/colab-badge.svg\" alt=\"Open In Colab\"/></a>"
      ]
    },
    {
      "cell_type": "markdown",
      "metadata": {
        "id": "sPt_drIw1LHJ"
      },
      "source": [
        "## 설치\n",
        "\n",
        "konlpy\n",
        "\n",
        "mecab"
      ]
    },
    {
      "cell_type": "code",
      "metadata": {
        "colab": {
          "base_uri": "https://localhost:8080/"
        },
        "id": "NIFFN1lKCV0f",
        "outputId": "18c3017d-b5f3-491e-bf96-9cbea97ce859"
      },
      "source": [
        "! ls ./drive/MyDrive/Forkspoon/dummy1.xlsx"
      ],
      "execution_count": 1,
      "outputs": [
        {
          "output_type": "stream",
          "text": [
            "./drive/MyDrive/Forkspoon/dummy1.xlsx\n"
          ],
          "name": "stdout"
        }
      ]
    },
    {
      "cell_type": "code",
      "metadata": {
        "id": "fKDR4BjdCcWf"
      },
      "source": [
        "!python -m pip install konlpy"
      ],
      "execution_count": null,
      "outputs": []
    },
    {
      "cell_type": "code",
      "metadata": {
        "id": "-UQODldbXTBb"
      },
      "source": [
        "!curl -O https://raw.githubusercontent.com/konlpy/konlpy/master/scripts/mecab.sh"
      ],
      "execution_count": null,
      "outputs": []
    },
    {
      "cell_type": "code",
      "metadata": {
        "id": "Ppmv3ueMXTLb"
      },
      "source": [
        "!source ./mecab.sh"
      ],
      "execution_count": null,
      "outputs": []
    },
    {
      "cell_type": "markdown",
      "metadata": {
        "id": "Xb5ob4hJ1GQZ"
      },
      "source": [
        "## 데이터 가져오기"
      ]
    },
    {
      "cell_type": "code",
      "metadata": {
        "id": "SUfA_KTdPIb-"
      },
      "source": [
        "import sqlite3\n",
        "connect = sqlite3.connect('./drive/MyDrive/Forkspoon/db.sqlite3')"
      ],
      "execution_count": 52,
      "outputs": []
    },
    {
      "cell_type": "code",
      "metadata": {
        "id": "h1mqXsmRPSlu"
      },
      "source": [
        "choice = pd.read_sql_query('select * from write_choice',connect)"
      ],
      "execution_count": 58,
      "outputs": []
    },
    {
      "cell_type": "code",
      "metadata": {
        "colab": {
          "base_uri": "https://localhost:8080/",
          "height": 602
        },
        "id": "fdnTy1XjPnhM",
        "outputId": "0e313a7d-be9b-4319-86d2-5314e5093f9a"
      },
      "source": [
        "type(choice)\n",
        "choice_cols = choice[['점수','질문','답변']]\n",
        "choice_cols"
      ],
      "execution_count": 98,
      "outputs": [
        {
          "output_type": "execute_result",
          "data": {
            "text/html": [
              "<div>\n",
              "<style scoped>\n",
              "    .dataframe tbody tr th:only-of-type {\n",
              "        vertical-align: middle;\n",
              "    }\n",
              "\n",
              "    .dataframe tbody tr th {\n",
              "        vertical-align: top;\n",
              "    }\n",
              "\n",
              "    .dataframe thead th {\n",
              "        text-align: right;\n",
              "    }\n",
              "</style>\n",
              "<table border=\"1\" class=\"dataframe\">\n",
              "  <thead>\n",
              "    <tr style=\"text-align: right;\">\n",
              "      <th></th>\n",
              "      <th>점수</th>\n",
              "      <th>질문</th>\n",
              "      <th>답변</th>\n",
              "    </tr>\n",
              "  </thead>\n",
              "  <tbody>\n",
              "    <tr>\n",
              "      <th>0</th>\n",
              "      <td>2.0</td>\n",
              "      <td>입사 지원동기를 작성해주세요. (① 지원 부문을 선택한 이유와 ② 지원 부문과 관련...</td>\n",
              "      <td>\\n경영은 전사의 콘텐츠 제작에서부터 유통 과정을 파악하고, 설정한 목표를 이루기 ...</td>\n",
              "    </tr>\n",
              "    <tr>\n",
              "      <th>1</th>\n",
              "      <td>3.0</td>\n",
              "      <td>우리 공단에 지원동기와 직무를 선택한 이유, 입사 후 목표와 포부를 기술해 주십시오...</td>\n",
              "      <td>\\n\"‘재료’를 전공하며 나의 가치를 증명하다\"\\n 제조업은 우리나라 경제의 주요 ...</td>\n",
              "    </tr>\n",
              "    <tr>\n",
              "      <th>2</th>\n",
              "      <td>2.0</td>\n",
              "      <td>지원직무를 선택한 이유를(직무와 관련한 경험, 전공, 수강과목, 자격증 등을 포함하...</td>\n",
              "      <td>\\n\"직접 만든다는 것\"\\n 실습을 위해 콤부차를 조사하였습니다. 한정된 자료에서 ...</td>\n",
              "    </tr>\n",
              "    <tr>\n",
              "      <th>3</th>\n",
              "      <td>2.0</td>\n",
              "      <td>본인이 선택한 직무에 대해 아래 내용을 포함하여 기술하시오. ①지원한 직무의 역할이...</td>\n",
              "      <td>\\n`전지적 참견 시점`\\n 영업관리 직무는 BGF리테일의 점포 관리를 위한 매니저...</td>\n",
              "    </tr>\n",
              "    <tr>\n",
              "      <th>4</th>\n",
              "      <td>4.0</td>\n",
              "      <td>본인이 선택한 직무를 담당하고 싶은 이유, 적합성 등에 대해 자유롭게 설명해 보십시...</td>\n",
              "      <td>\\n16살에 처음 회계를 접하고 흥미를 느껴 뚜렷한 진로 방향을 형성했습니다.\\n기...</td>\n",
              "    </tr>\n",
              "    <tr>\n",
              "      <th>...</th>\n",
              "      <td>...</td>\n",
              "      <td>...</td>\n",
              "      <td>...</td>\n",
              "    </tr>\n",
              "    <tr>\n",
              "      <th>2992</th>\n",
              "      <td>2.0</td>\n",
              "      <td>화천그룹 및 해당분야 지원동기최소 (30~400)</td>\n",
              "      <td>\\n공작기계분야에 있어서 두산인프라코어, 현대위아와 어깨를 나란히 하는 화천기계는 ...</td>\n",
              "    </tr>\n",
              "    <tr>\n",
              "      <th>2993</th>\n",
              "      <td>4.0</td>\n",
              "      <td>지원동기 및 입사 후 포부</td>\n",
              "      <td>\\n(`마트`라는 채널에서 보고 느낀 영업사원들의 모습)\\n마트에서 일하면서 판매,...</td>\n",
              "    </tr>\n",
              "    <tr>\n",
              "      <th>2994</th>\n",
              "      <td>4.0</td>\n",
              "      <td>직무 지원동기</td>\n",
              "      <td>\\n&lt;사람을 좋아하는 마음, 경험과 지식을 통해 또 다른 가치를 만들다&gt; \\n새로운...</td>\n",
              "    </tr>\n",
              "    <tr>\n",
              "      <th>2995</th>\n",
              "      <td>5.0</td>\n",
              "      <td>LG디스플레이 및 지원 직무에 지원하는 동기에 대해 기술해 주십시오. 성격(장단점)...</td>\n",
              "      <td>\\n‘2015 나노 코리아’에서 LG OLED UHD TV를 보고 말을 잃었습니다....</td>\n",
              "    </tr>\n",
              "    <tr>\n",
              "      <th>2996</th>\n",
              "      <td>3.0</td>\n",
              "      <td>당사에 지원한 동기와 자신이 잘 할 수 있다고 생각하는 일에 대해서 구체적으로 기술...</td>\n",
              "      <td>\\n[공기와 같은 기업] \\n한일 시멘트를 집약적으로 표현할 수 있는 말입니다. 고...</td>\n",
              "    </tr>\n",
              "  </tbody>\n",
              "</table>\n",
              "<p>2997 rows × 3 columns</p>\n",
              "</div>"
            ],
            "text/plain": [
              "       점수  ...                                                 답변\n",
              "0     2.0  ...  \\n경영은 전사의 콘텐츠 제작에서부터 유통 과정을 파악하고, 설정한 목표를 이루기 ...\n",
              "1     3.0  ...  \\n\"‘재료’를 전공하며 나의 가치를 증명하다\"\\n 제조업은 우리나라 경제의 주요 ...\n",
              "2     2.0  ...  \\n\"직접 만든다는 것\"\\n 실습을 위해 콤부차를 조사하였습니다. 한정된 자료에서 ...\n",
              "3     2.0  ...  \\n`전지적 참견 시점`\\n 영업관리 직무는 BGF리테일의 점포 관리를 위한 매니저...\n",
              "4     4.0  ...  \\n16살에 처음 회계를 접하고 흥미를 느껴 뚜렷한 진로 방향을 형성했습니다.\\n기...\n",
              "...   ...  ...                                                ...\n",
              "2992  2.0  ...  \\n공작기계분야에 있어서 두산인프라코어, 현대위아와 어깨를 나란히 하는 화천기계는 ...\n",
              "2993  4.0  ...  \\n(`마트`라는 채널에서 보고 느낀 영업사원들의 모습)\\n마트에서 일하면서 판매,...\n",
              "2994  4.0  ...  \\n<사람을 좋아하는 마음, 경험과 지식을 통해 또 다른 가치를 만들다> \\n새로운...\n",
              "2995  5.0  ...  \\n‘2015 나노 코리아’에서 LG OLED UHD TV를 보고 말을 잃었습니다....\n",
              "2996  3.0  ...  \\n[공기와 같은 기업] \\n한일 시멘트를 집약적으로 표현할 수 있는 말입니다. 고...\n",
              "\n",
              "[2997 rows x 3 columns]"
            ]
          },
          "metadata": {
            "tags": []
          },
          "execution_count": 98
        }
      ]
    },
    {
      "cell_type": "markdown",
      "metadata": {
        "id": "HI-jNbnSWd8c"
      },
      "source": [
        "## NLP "
      ]
    },
    {
      "cell_type": "code",
      "metadata": {
        "id": "1uJKsXDpRdnK"
      },
      "source": [
        "from sklearn.model_selection import train_test_split"
      ],
      "execution_count": 64,
      "outputs": []
    },
    {
      "cell_type": "code",
      "metadata": {
        "id": "ONmD6rvKUjRH"
      },
      "source": [
        "x_data = choice_cols['답변']\n",
        "y_data = choice_cols['점수']"
      ],
      "execution_count": 65,
      "outputs": []
    },
    {
      "cell_type": "code",
      "metadata": {
        "colab": {
          "base_uri": "https://localhost:8080/"
        },
        "id": "V3-VfZ9xUytZ",
        "outputId": "e92dab2b-5c78-4173-ba5e-a46e500b999e"
      },
      "source": [
        "x_train, x_test, y_train, y_test = train_test_split(x_data, y_data)\n",
        "x_train.shape, y_train.shape,x_test.shape, y_test.shape"
      ],
      "execution_count": 66,
      "outputs": [
        {
          "output_type": "execute_result",
          "data": {
            "text/plain": [
              "((2247,), (2247,), (750,), (750,))"
            ]
          },
          "metadata": {
            "tags": []
          },
          "execution_count": 66
        }
      ]
    },
    {
      "cell_type": "code",
      "metadata": {
        "colab": {
          "base_uri": "https://localhost:8080/",
          "height": 289
        },
        "id": "hIzPArxGVDe-",
        "outputId": "7c82a4d5-96d5-4850-eb03-3be1927e602c"
      },
      "source": [
        "y_data.value_counts().plot(kind='bar')"
      ],
      "execution_count": 69,
      "outputs": [
        {
          "output_type": "execute_result",
          "data": {
            "text/plain": [
              "<matplotlib.axes._subplots.AxesSubplot at 0x7f3bd1420c50>"
            ]
          },
          "metadata": {
            "tags": []
          },
          "execution_count": 69
        },
        {
          "output_type": "display_data",
          "data": {
            "image/png": "[encoded data removed]",
            "text/plain": [
              "<Figure size 432x288 with 1 Axes>"
            ]
          },
          "metadata": {
            "tags": [],
            "needs_background": "light"
          }
        }
      ]
    },
    {
      "cell_type": "code",
      "metadata": {
        "colab": {
          "base_uri": "https://localhost:8080/"
        },
        "id": "W0aF-E1EVV31",
        "outputId": "c75d83bc-e233-4ab1-a7c6-703b95e3634e"
      },
      "source": [
        "type(x_train)"
      ],
      "execution_count": 70,
      "outputs": [
        {
          "output_type": "execute_result",
          "data": {
            "text/plain": [
              "pandas.core.series.Series"
            ]
          },
          "metadata": {
            "tags": []
          },
          "execution_count": 70
        }
      ]
    },
    {
      "cell_type": "code",
      "metadata": {
        "colab": {
          "base_uri": "https://localhost:8080/"
        },
        "id": "VbzWqx3xWhyo",
        "outputId": "9c1c7981-e7cd-4678-ffae-7c1e06f54311"
      },
      "source": [
        "x_temp = x_train\n",
        "x_temp= x_temp.str.replace('[^가-힣ㄱ-ㅎ0-9ㅏ-ㅣ]','')\n",
        "x_temp"
      ],
      "execution_count": 71,
      "outputs": [
        {
          "output_type": "execute_result",
          "data": {
            "text/plain": [
              "593     기업은행이추구하는방향성에공감했습니다스타트업은낭떠러지에서떨어지는것과같다라는말이있습니다...\n",
              "1615    발전소사고와관련된문제가이슈인최근저는중부발전의보령화력3호기세계최장무고장안적기록달성이라...\n",
              "491     싱가포르에서찾은나의꿈제가처음산업은행에관심을가지게된계기는고등학교1학년우수신입생으로싱가...\n",
              "163     어렸을때부터전화번호나차량번호등을보며암산을하는등숫자다루는것을좋아하였고특히아버지께서회계...\n",
              "468     약1년6개월간교육봉사를진행했습니다나눔의진정한가치를되짚어보게만들어준교육봉사를마친후공공...\n",
              "                              ...                        \n",
              "792     나와함께도전하는회사편안함보다는도전하는것을좋아합니다청년봉사단으로서인도의찌든더위속에팀원...\n",
              "2800    소통의매일유업매일유업은앱솔루트센서티브주부체험단을모집해분유교체를희망하는주부고객과소통하...\n",
              "702     차별화된전략으로미래를그리는곳도전을통해시장을선도하는롯데와함께성장하고싶습니다보다나은미래...\n",
              "1611    자원관리의효율성을식스시그마프로젝트를통해배우다저는지속적인성장을위해끝없이고민하고대한민국...\n",
              "40      맨파워를발휘할수있는직무근무당시3개월동안팔리지않은기름종류제품을앤드매대에진열해재고소진을...\n",
              "Name: 답변, Length: 2247, dtype: object"
            ]
          },
          "metadata": {
            "tags": []
          },
          "execution_count": 71
        }
      ]
    },
    {
      "cell_type": "markdown",
      "metadata": {
        "id": "D7yF_J6_2bRr"
      },
      "source": [
        "## stopwords\n",
        "\n",
        "```\n",
        "import pandas as pd\n",
        "\n",
        "lst_A = ['a','b','c','d', 'e', 1, 2]\n",
        "df = pd.DataFrame(lst_A)\n",
        "\n",
        "df.columns=['']\n",
        "\n",
        "import numpy as np\n",
        "\n",
        "np.array(df[0].tolist())\n",
        "```"
      ]
    },
    {
      "cell_type": "code",
      "metadata": {
        "colab": {
          "base_uri": "https://localhost:8080/"
        },
        "id": "VhuZ6824NCl-",
        "outputId": "72ae240f-234e-4fe7-a50b-e38402f480b5"
      },
      "source": [
        "!ls ./drive/MyDrive/Forkspoon/db.sqlite3"
      ],
      "execution_count": 39,
      "outputs": [
        {
          "output_type": "stream",
          "text": [
            "./drive/MyDrive/Forkspoon/db.sqlite3\n"
          ],
          "name": "stdout"
        }
      ]
    },
    {
      "cell_type": "code",
      "metadata": {
        "colab": {
          "base_uri": "https://localhost:8080/"
        },
        "id": "Fdt43FMxMYZp",
        "outputId": "86aad85f-edaf-496f-e629-8d1ff88b2cb2"
      },
      "source": [
        "stopwords = pd.read_sql_query('select * from stopwords',connect)\n",
        "\n",
        "stopwords.describe()\n",
        "\n",
        "type(stopwords)"
      ],
      "execution_count": 72,
      "outputs": [
        {
          "output_type": "execute_result",
          "data": {
            "text/plain": [
              "pandas.core.frame.DataFrame"
            ]
          },
          "metadata": {
            "tags": []
          },
          "execution_count": 72
        }
      ]
    },
    {
      "cell_type": "code",
      "metadata": {
        "colab": {
          "base_uri": "https://localhost:8080/"
        },
        "id": "diIjgCHSOA2w",
        "outputId": "b804bffc-448b-4cf5-acd7-5c59d3d24a6c"
      },
      "source": [
        "import numpy as np\n",
        "\n",
        "ko_stopwords_list = np.array(stopwords['words'].tolist())\n",
        "ko_stopwords_list"
      ],
      "execution_count": 73,
      "outputs": [
        {
          "output_type": "execute_result",
          "data": {
            "text/plain": [
              "array(['이', '있', '하', ..., '잘', '통하', '놓'], dtype='<U4')"
            ]
          },
          "metadata": {
            "tags": []
          },
          "execution_count": 73
        }
      ]
    },
    {
      "cell_type": "markdown",
      "metadata": {
        "id": "0LeNEgSt4dTe"
      },
      "source": [
        "## Mecab"
      ]
    },
    {
      "cell_type": "code",
      "metadata": {
        "id": "rQLluY7yWuN7"
      },
      "source": [
        "from konlpy.tag import Mecab\n",
        "mecab= Mecab()"
      ],
      "execution_count": 74,
      "outputs": []
    },
    {
      "cell_type": "code",
      "metadata": {
        "id": "MKz3Yi3VZ21r"
      },
      "source": [
        "# mecab.pos(x_temp[0])\n",
        "mecab.morphs(x_temp[0])"
      ],
      "execution_count": null,
      "outputs": []
    },
    {
      "cell_type": "code",
      "metadata": {
        "id": "3wh5BTFi4iP9"
      },
      "source": [
        "sentance = list ()\n",
        " \n",
        "for tok in x_temp:\n",
        "  encoded = mecab.morphs(tok)\n",
        "\n",
        "  sentance.append([item for item in encoded if item not in ko_stopwords_list])\n",
        "\n",
        "sentance"
      ],
      "execution_count": null,
      "outputs": []
    },
    {
      "cell_type": "markdown",
      "metadata": {
        "id": "PFMPeZBDSSHu"
      },
      "source": [
        "## Tokenizer"
      ]
    },
    {
      "cell_type": "code",
      "metadata": {
        "id": "WCHrluKOnxuo"
      },
      "source": [
        "import tensorflow as tf"
      ],
      "execution_count": 139,
      "outputs": []
    },
    {
      "cell_type": "code",
      "metadata": {
        "id": "nYPncVEUSjuY"
      },
      "source": [
        "tokenizer = tf.keras.preprocessing.text.Tokenizer()"
      ],
      "execution_count": 140,
      "outputs": []
    },
    {
      "cell_type": "code",
      "metadata": {
        "id": "BdNkBHjeSqpV"
      },
      "source": [
        "tokenizer.fit_on_texts(sentance)"
      ],
      "execution_count": 141,
      "outputs": []
    },
    {
      "cell_type": "code",
      "metadata": {
        "id": "h3ZjCDTLTGPi"
      },
      "source": [
        "tokenizer.word_index"
      ],
      "execution_count": null,
      "outputs": []
    },
    {
      "cell_type": "code",
      "metadata": {
        "id": "Bc9_vNdxS2cT"
      },
      "source": [
        "tokenizer.word_counts"
      ],
      "execution_count": null,
      "outputs": []
    },
    {
      "cell_type": "code",
      "metadata": {
        "id": "5gRsrkNUS57S"
      },
      "source": [
        "total_cnt = len(tokenizer.word_index)"
      ],
      "execution_count": 144,
      "outputs": []
    },
    {
      "cell_type": "code",
      "metadata": {
        "id": "-kcxOMdWTLjz"
      },
      "source": [
        "rare_cnt = 0\n",
        "total_freq,rare_freq = 0,0\n",
        "\n",
        "for key, value in tokenizer.word_counts.items():\n",
        "  total_freq = total_freq + value #전체 단어의 수\n",
        "  if(value <=2):\n",
        "    rare_cnt = rare_cnt+ 1  \n",
        "    rare_freq = rare_freq + value #2미만인 단어(희귀단어)의 수"
      ],
      "execution_count": 145,
      "outputs": []
    },
    {
      "cell_type": "code",
      "metadata": {
        "colab": {
          "base_uri": "https://localhost:8080/"
        },
        "id": "FvP2BgjxTOhD",
        "outputId": "096a6de8-8ab1-4dcc-ba77-da23a561c2c3"
      },
      "source": [
        "total_cnt, rare_cnt, (rare_cnt/total_cnt)*100, (rare_freq/total_freq)*100"
      ],
      "execution_count": 146,
      "outputs": [
        {
          "output_type": "execute_result",
          "data": {
            "text/plain": [
              "(16361, 8588, 52.490679053847565, 3.6053297593410667)"
            ]
          },
          "metadata": {
            "tags": []
          },
          "execution_count": 146
        }
      ]
    },
    {
      "cell_type": "code",
      "metadata": {
        "colab": {
          "base_uri": "https://localhost:8080/"
        },
        "id": "J2ufYSbTTQIj",
        "outputId": "8f8eac30-9f60-46d8-aef3-923bfe8311df"
      },
      "source": [
        "vocab_size = total_cnt - rare_cnt #보케블러리 사이즈\n",
        "vocab_size "
      ],
      "execution_count": 147,
      "outputs": [
        {
          "output_type": "execute_result",
          "data": {
            "text/plain": [
              "7773"
            ]
          },
          "metadata": {
            "tags": []
          },
          "execution_count": 147
        }
      ]
    },
    {
      "cell_type": "code",
      "metadata": {
        "id": "9JKVBfQsTTmT"
      },
      "source": [
        "tokenizer = tf.keras.preprocessing.text.Tokenizer(vocab_size, oov_token='OOV')"
      ],
      "execution_count": 148,
      "outputs": []
    },
    {
      "cell_type": "code",
      "metadata": {
        "id": "6NKhCGLFTYcD"
      },
      "source": [
        "tokenizer.fit_on_texts(sentance)"
      ],
      "execution_count": 149,
      "outputs": []
    },
    {
      "cell_type": "code",
      "metadata": {
        "id": "kb62lS7dTZ7C"
      },
      "source": [
        "tokenizer.index_word"
      ],
      "execution_count": null,
      "outputs": []
    },
    {
      "cell_type": "markdown",
      "metadata": {
        "id": "uL_fwMEeTkrc"
      },
      "source": [
        "```\n",
        "{1: 'OOV',\n",
        " 2: '아쉬운',\n",
        " 3: '1',\n",
        " 4: '며',\n",
        " 5: '통해',\n",
        " 6: '고객',\n",
        " 7: '입니다',\n",
        " 8: '글자',\n",
        " 9: '합니다',\n",
        " ...\n",
        " 985: '요인',\n",
        " 986: '관계자',\n",
        " 987: '배려',\n",
        " 988: '타이어',\n",
        " 989: '통합',\n",
        " 990: '기능사',\n",
        " 991: '강한',\n",
        " 992: '직',\n",
        " 993: '턴',\n",
        " 994: '반',\n",
        " 995: '수율',\n",
        " 996: '인생',\n",
        " 997: '유도',\n",
        " 998: '메뉴',\n",
        " 999: '한계',\n",
        " 1000: '오프라인',\n",
        " ...}\n",
        "\n",
        " ```"
      ]
    },
    {
      "cell_type": "markdown",
      "metadata": {
        "id": "YjSIRMbdT2M_"
      },
      "source": [
        "## To int \n"
      ]
    },
    {
      "cell_type": "code",
      "metadata": {
        "id": "Ur56JPGdTbJD"
      },
      "source": [
        "x_train = tokenizer.texts_to_sequences(sentance)"
      ],
      "execution_count": 151,
      "outputs": []
    },
    {
      "cell_type": "code",
      "metadata": {
        "colab": {
          "base_uri": "https://localhost:8080/"
        },
        "id": "x0pwURWNT-OU",
        "outputId": "8bb957f0-3d13-4a32-db1b-83dd1ace5b24"
      },
      "source": [
        "len(x_train[0]),len(x_train[40]),len(x_train[50])"
      ],
      "execution_count": 152,
      "outputs": [
        {
          "output_type": "execute_result",
          "data": {
            "text/plain": [
              "(225, 153, 177)"
            ]
          },
          "metadata": {
            "tags": []
          },
          "execution_count": 152
        }
      ]
    },
    {
      "cell_type": "code",
      "metadata": {
        "id": "Evda2krkT_yR"
      },
      "source": [
        "hist_len = [len(words) for words in x_train]"
      ],
      "execution_count": 153,
      "outputs": []
    },
    {
      "cell_type": "code",
      "metadata": {
        "id": "xZ_INTihUB9y"
      },
      "source": [
        "import matplotlib.pyplot as plt"
      ],
      "execution_count": 154,
      "outputs": []
    },
    {
      "cell_type": "code",
      "metadata": {
        "colab": {
          "base_uri": "https://localhost:8080/",
          "height": 494
        },
        "id": "b85UnKL3UEIi",
        "outputId": "bcb94364-4ee8-40b7-cda7-38c5bcd3fc73"
      },
      "source": [
        "plt.hist(hist_len, bins=50)"
      ],
      "execution_count": 155,
      "outputs": [
        {
          "output_type": "execute_result",
          "data": {
            "text/plain": [
              "(array([  6.,   2.,  17.,  51.,  89., 141., 224., 311., 282., 234., 172.,\n",
              "        156.,  85., 127., 111.,  94.,  57.,  14.,  10.,  11.,  10.,   8.,\n",
              "          3.,   3.,   3.,   6.,   5.,   1.,   4.,   5.,   1.,   0.,   0.,\n",
              "          0.,   0.,   0.,   0.,   2.,   0.,   0.,   0.,   0.,   0.,   1.,\n",
              "          0.,   0.,   0.,   0.,   0.,   1.]),\n",
              " array([  5.  ,  18.34,  31.68,  45.02,  58.36,  71.7 ,  85.04,  98.38,\n",
              "        111.72, 125.06, 138.4 , 151.74, 165.08, 178.42, 191.76, 205.1 ,\n",
              "        218.44, 231.78, 245.12, 258.46, 271.8 , 285.14, 298.48, 311.82,\n",
              "        325.16, 338.5 , 351.84, 365.18, 378.52, 391.86, 405.2 , 418.54,\n",
              "        431.88, 445.22, 458.56, 471.9 , 485.24, 498.58, 511.92, 525.26,\n",
              "        538.6 , 551.94, 565.28, 578.62, 591.96, 605.3 , 618.64, 631.98,\n",
              "        645.32, 658.66, 672.  ]),\n",
              " <a list of 50 Patch objects>)"
            ]
          },
          "metadata": {
            "tags": []
          },
          "execution_count": 155
        },
        {
          "output_type": "display_data",
          "data": {
            "image/png": "[encoded data removed]",
            "text/plain": [
              "<Figure size 432x288 with 1 Axes>"
            ]
          },
          "metadata": {
            "tags": [],
            "needs_background": "light"
          }
        }
      ]
    },
    {
      "cell_type": "markdown",
      "metadata": {
        "id": "RML2Tdy-UK1k"
      },
      "source": [
        "- Pad 몇정도 하면 좋을지 여기서 확인"
      ]
    },
    {
      "cell_type": "code",
      "metadata": {
        "colab": {
          "base_uri": "https://localhost:8080/"
        },
        "id": "nrKWVm1dUFhy",
        "outputId": "0a5d9ea7-55ec-4b34-aaff-a7b88f6676f1"
      },
      "source": [
        "sum(hist_len)/ len(x_train)"
      ],
      "execution_count": 156,
      "outputs": [
        {
          "output_type": "execute_result",
          "data": {
            "text/plain": [
              "136.80729862038274"
            ]
          },
          "metadata": {
            "tags": []
          },
          "execution_count": 156
        }
      ]
    },
    {
      "cell_type": "code",
      "metadata": {
        "id": "rSPenUIZUIwC"
      },
      "source": [
        "x_train =tf.keras.preprocessing.sequence.pad_sequences(x_train, maxlen=300)"
      ],
      "execution_count": 157,
      "outputs": []
    },
    {
      "cell_type": "code",
      "metadata": {
        "colab": {
          "base_uri": "https://localhost:8080/"
        },
        "id": "vTYqxIdIUjK7",
        "outputId": "45d9bb31-e865-44d5-f285-d79b98abfe0e"
      },
      "source": [
        "x_train"
      ],
      "execution_count": 158,
      "outputs": [
        {
          "output_type": "execute_result",
          "data": {
            "text/plain": [
              "array([[   0,    0,    0, ...,    8, 4174, 6356],\n",
              "       [   0,    0,    0, ...,    8, 6359, 5363],\n",
              "       [   0,    0,    0, ...,    8, 4178, 5367],\n",
              "       ...,\n",
              "       [   0,    0,    0, ...,    8, 1756, 3057],\n",
              "       [   0,    0,    0, ...,    8, 2229, 3154],\n",
              "       [   0,    0,    0, ...,    8, 4833, 5093]], dtype=int32)"
            ]
          },
          "metadata": {
            "tags": []
          },
          "execution_count": 158
        }
      ]
    },
    {
      "cell_type": "code",
      "metadata": {
        "colab": {
          "base_uri": "https://localhost:8080/"
        },
        "id": "Mb_NkYu8UlNy",
        "outputId": "beb9aa99-eb43-4984-f8e6-172e9b9d5988"
      },
      "source": [
        "len(y_train)"
      ],
      "execution_count": 159,
      "outputs": [
        {
          "output_type": "execute_result",
          "data": {
            "text/plain": [
              "2247"
            ]
          },
          "metadata": {
            "tags": []
          },
          "execution_count": 159
        }
      ]
    },
    {
      "cell_type": "code",
      "metadata": {
        "colab": {
          "base_uri": "https://localhost:8080/"
        },
        "id": "gZXgBwwkUrPh",
        "outputId": "bf0f42a9-1b52-4c60-ed44-b6812a88b081"
      },
      "source": [
        "np.unique(y_train)"
      ],
      "execution_count": 133,
      "outputs": [
        {
          "output_type": "execute_result",
          "data": {
            "text/plain": [
              "array([0. , 1. , 2. , 3. , 3.5, 4. , 4.5, 5. ])"
            ]
          },
          "metadata": {
            "tags": []
          },
          "execution_count": 133
        }
      ]
    },
    {
      "cell_type": "code",
      "metadata": {
        "colab": {
          "base_uri": "https://localhost:8080/"
        },
        "id": "CkE88UXzVPJh",
        "outputId": "501edac3-27ee-44a4-d72c-b2c68e34ca43"
      },
      "source": [
        "type(y_train)"
      ],
      "execution_count": 160,
      "outputs": [
        {
          "output_type": "execute_result",
          "data": {
            "text/plain": [
              "numpy.ndarray"
            ]
          },
          "metadata": {
            "tags": []
          },
          "execution_count": 160
        }
      ]
    },
    {
      "cell_type": "code",
      "metadata": {
        "colab": {
          "base_uri": "https://localhost:8080/"
        },
        "id": "9-RF5ubHViZw",
        "outputId": "596f15da-6be9-4a70-e97d-90ba6bd14d6c"
      },
      "source": [
        "len(x_train), len(y_train)"
      ],
      "execution_count": 161,
      "outputs": [
        {
          "output_type": "execute_result",
          "data": {
            "text/plain": [
              "(2247, 2247)"
            ]
          },
          "metadata": {
            "tags": []
          },
          "execution_count": 161
        }
      ]
    },
    {
      "cell_type": "markdown",
      "metadata": {
        "id": "-dk0_QFXV1rI"
      },
      "source": [
        "## Model"
      ]
    },
    {
      "cell_type": "code",
      "metadata": {
        "id": "2-SyLLsWVz0h"
      },
      "source": [
        "model = tf.keras.models.Sequential()"
      ],
      "execution_count": 165,
      "outputs": []
    },
    {
      "cell_type": "code",
      "metadata": {
        "id": "Xm0uP1WbV5XR"
      },
      "source": [
        "model.add(tf.keras.layers.Embedding(input_dim= vocab_size, output_dim =30 ,input_length=300))\n",
        "model.add(tf.keras.layers.Bidirectional(tf.keras.layers.LSTM(128)))\n",
        "model.add(tf.keras.layers.Dense(8,activation='softmax'))\n",
        "\n",
        "model.compile(optimizer='adam', loss = 'sparse_categorical_crossentropy', metrics=['acc'])"
      ],
      "execution_count": 167,
      "outputs": []
    },
    {
      "cell_type": "code",
      "metadata": {
        "colab": {
          "base_uri": "https://localhost:8080/"
        },
        "id": "iCRf18ZzXC1w",
        "outputId": "4b51599e-99c4-481c-c77d-36d6f0bf8041"
      },
      "source": [
        "hist = model.fit(x_train, y_train, epochs=100, batch_size=256, validation_split=0.3, shuffle=True)"
      ],
      "execution_count": 168,
      "outputs": [
        {
          "output_type": "stream",
          "text": [
            "Epoch 1/100\n",
            "WARNING:tensorflow:Gradients do not exist for variables ['embedding_4/embeddings:0', 'bidirectional_4/forward_lstm_4/lstm_cell_13/kernel:0', 'bidirectional_4/forward_lstm_4/lstm_cell_13/recurrent_kernel:0', 'bidirectional_4/forward_lstm_4/lstm_cell_13/bias:0', 'bidirectional_4/backward_lstm_4/lstm_cell_14/kernel:0', 'bidirectional_4/backward_lstm_4/lstm_cell_14/recurrent_kernel:0', 'bidirectional_4/backward_lstm_4/lstm_cell_14/bias:0', 'dense_4/kernel:0', 'dense_4/bias:0'] when minimizing the loss.\n",
            "WARNING:tensorflow:Gradients do not exist for variables ['embedding_4/embeddings:0', 'bidirectional_4/forward_lstm_4/lstm_cell_13/kernel:0', 'bidirectional_4/forward_lstm_4/lstm_cell_13/recurrent_kernel:0', 'bidirectional_4/forward_lstm_4/lstm_cell_13/bias:0', 'bidirectional_4/backward_lstm_4/lstm_cell_14/kernel:0', 'bidirectional_4/backward_lstm_4/lstm_cell_14/recurrent_kernel:0', 'bidirectional_4/backward_lstm_4/lstm_cell_14/bias:0', 'dense_4/kernel:0', 'dense_4/bias:0'] when minimizing the loss.\n",
            "7/7 [==============================] - 31s 1s/step - loss: 2.0381 - acc: 0.4230 - val_loss: 1.9444 - val_acc: 0.5348\n",
            "Epoch 2/100\n",
            "7/7 [==============================] - 8s 1s/step - loss: 1.8787 - acc: 0.4752 - val_loss: 1.6541 - val_acc: 0.5348\n",
            "Epoch 3/100\n",
            "7/7 [==============================] - 8s 1s/step - loss: 1.5619 - acc: 0.4752 - val_loss: 1.2958 - val_acc: 0.5348\n",
            "Epoch 4/100\n",
            "7/7 [==============================] - 8s 1s/step - loss: 1.4058 - acc: 0.4752 - val_loss: 1.2681 - val_acc: 0.5348\n",
            "Epoch 5/100\n",
            "7/7 [==============================] - 8s 1s/step - loss: 1.3593 - acc: 0.4752 - val_loss: 1.2701 - val_acc: 0.5348\n",
            "Epoch 6/100\n",
            "7/7 [==============================] - 8s 1s/step - loss: 1.3274 - acc: 0.4752 - val_loss: 1.2349 - val_acc: 0.5348\n",
            "Epoch 7/100\n",
            "7/7 [==============================] - 8s 1s/step - loss: 1.3219 - acc: 0.4752 - val_loss: 1.2421 - val_acc: 0.5348\n",
            "Epoch 8/100\n",
            "7/7 [==============================] - 8s 1s/step - loss: 1.3130 - acc: 0.4752 - val_loss: 1.2486 - val_acc: 0.5348\n",
            "Epoch 9/100\n",
            "7/7 [==============================] - 8s 1s/step - loss: 1.3074 - acc: 0.4752 - val_loss: 1.2319 - val_acc: 0.5348\n",
            "Epoch 10/100\n",
            "7/7 [==============================] - 8s 1s/step - loss: 1.3092 - acc: 0.4752 - val_loss: 1.2391 - val_acc: 0.5348\n",
            "Epoch 11/100\n",
            "7/7 [==============================] - 8s 1s/step - loss: 1.3077 - acc: 0.4752 - val_loss: 1.2416 - val_acc: 0.5348\n",
            "Epoch 12/100\n",
            "7/7 [==============================] - 8s 1s/step - loss: 1.3079 - acc: 0.4752 - val_loss: 1.2364 - val_acc: 0.5348\n",
            "Epoch 13/100\n",
            "7/7 [==============================] - 8s 1s/step - loss: 1.3056 - acc: 0.4752 - val_loss: 1.2290 - val_acc: 0.5348\n",
            "Epoch 14/100\n",
            "7/7 [==============================] - 8s 1s/step - loss: 1.3072 - acc: 0.4752 - val_loss: 1.2397 - val_acc: 0.5348\n",
            "Epoch 15/100\n",
            "7/7 [==============================] - 8s 1s/step - loss: 1.3084 - acc: 0.4752 - val_loss: 1.2298 - val_acc: 0.5348\n",
            "Epoch 16/100\n",
            "7/7 [==============================] - 8s 1s/step - loss: 1.3081 - acc: 0.4752 - val_loss: 1.2475 - val_acc: 0.5348\n",
            "Epoch 17/100\n",
            "7/7 [==============================] - 8s 1s/step - loss: 1.3058 - acc: 0.4752 - val_loss: 1.2305 - val_acc: 0.5348\n",
            "Epoch 18/100\n",
            "7/7 [==============================] - 8s 1s/step - loss: 1.3065 - acc: 0.4752 - val_loss: 1.2392 - val_acc: 0.5348\n",
            "Epoch 19/100\n",
            "7/7 [==============================] - 8s 1s/step - loss: 1.3050 - acc: 0.4752 - val_loss: 1.2313 - val_acc: 0.5348\n",
            "Epoch 20/100\n",
            "7/7 [==============================] - 8s 1s/step - loss: 1.3058 - acc: 0.4752 - val_loss: 1.2298 - val_acc: 0.5348\n",
            "Epoch 21/100\n",
            "7/7 [==============================] - 8s 1s/step - loss: 1.3058 - acc: 0.4752 - val_loss: 1.2349 - val_acc: 0.5348\n",
            "Epoch 22/100\n",
            "7/7 [==============================] - 8s 1s/step - loss: 1.3050 - acc: 0.4752 - val_loss: 1.2301 - val_acc: 0.5348\n",
            "Epoch 23/100\n",
            "7/7 [==============================] - 8s 1s/step - loss: 1.3050 - acc: 0.4752 - val_loss: 1.2426 - val_acc: 0.5348\n",
            "Epoch 24/100\n",
            "7/7 [==============================] - 8s 1s/step - loss: 1.3077 - acc: 0.4752 - val_loss: 1.2379 - val_acc: 0.5348\n",
            "Epoch 25/100\n",
            "7/7 [==============================] - 8s 1s/step - loss: 1.3113 - acc: 0.4752 - val_loss: 1.2283 - val_acc: 0.5348\n",
            "Epoch 26/100\n",
            "7/7 [==============================] - 8s 1s/step - loss: 1.3050 - acc: 0.4752 - val_loss: 1.2433 - val_acc: 0.5348\n",
            "Epoch 27/100\n",
            "7/7 [==============================] - 8s 1s/step - loss: 1.3083 - acc: 0.4752 - val_loss: 1.2276 - val_acc: 0.5348\n",
            "Epoch 28/100\n",
            "7/7 [==============================] - 8s 1s/step - loss: 1.3058 - acc: 0.4752 - val_loss: 1.2375 - val_acc: 0.5348\n",
            "Epoch 29/100\n",
            "7/7 [==============================] - 8s 1s/step - loss: 1.3046 - acc: 0.4752 - val_loss: 1.2316 - val_acc: 0.5348\n",
            "Epoch 30/100\n",
            "7/7 [==============================] - 8s 1s/step - loss: 1.3044 - acc: 0.4752 - val_loss: 1.2331 - val_acc: 0.5348\n",
            "Epoch 31/100\n",
            "7/7 [==============================] - 8s 1s/step - loss: 1.3067 - acc: 0.4752 - val_loss: 1.2462 - val_acc: 0.5348\n",
            "Epoch 32/100\n",
            "7/7 [==============================] - 8s 1s/step - loss: 1.3082 - acc: 0.4752 - val_loss: 1.2359 - val_acc: 0.5348\n",
            "Epoch 33/100\n",
            "7/7 [==============================] - 8s 1s/step - loss: 1.3061 - acc: 0.4752 - val_loss: 1.2319 - val_acc: 0.5348\n",
            "Epoch 34/100\n",
            "7/7 [==============================] - 8s 1s/step - loss: 1.3037 - acc: 0.4752 - val_loss: 1.2322 - val_acc: 0.5348\n",
            "Epoch 35/100\n",
            "7/7 [==============================] - 8s 1s/step - loss: 1.3041 - acc: 0.4752 - val_loss: 1.2306 - val_acc: 0.5348\n",
            "Epoch 36/100\n",
            "7/7 [==============================] - 8s 1s/step - loss: 1.3061 - acc: 0.4752 - val_loss: 1.2316 - val_acc: 0.5348\n",
            "Epoch 37/100\n",
            "7/7 [==============================] - 8s 1s/step - loss: 1.3069 - acc: 0.4752 - val_loss: 1.2301 - val_acc: 0.5348\n",
            "Epoch 38/100\n",
            "7/7 [==============================] - 8s 1s/step - loss: 1.3047 - acc: 0.4752 - val_loss: 1.2408 - val_acc: 0.5348\n",
            "Epoch 39/100\n",
            "7/7 [==============================] - 8s 1s/step - loss: 1.3069 - acc: 0.4752 - val_loss: 1.2311 - val_acc: 0.5348\n",
            "Epoch 40/100\n",
            "7/7 [==============================] - 8s 1s/step - loss: 1.3039 - acc: 0.4752 - val_loss: 1.2378 - val_acc: 0.5348\n",
            "Epoch 41/100\n",
            "7/7 [==============================] - 8s 1s/step - loss: 1.3052 - acc: 0.4752 - val_loss: 1.2287 - val_acc: 0.5348\n",
            "Epoch 42/100\n",
            "7/7 [==============================] - 8s 1s/step - loss: 1.3077 - acc: 0.4752 - val_loss: 1.2273 - val_acc: 0.5348\n",
            "Epoch 43/100\n",
            "7/7 [==============================] - 8s 1s/step - loss: 1.3058 - acc: 0.4752 - val_loss: 1.2326 - val_acc: 0.5348\n",
            "Epoch 44/100\n",
            "7/7 [==============================] - 8s 1s/step - loss: 1.3042 - acc: 0.4752 - val_loss: 1.2340 - val_acc: 0.5348\n",
            "Epoch 45/100\n",
            "7/7 [==============================] - 8s 1s/step - loss: 1.3042 - acc: 0.4752 - val_loss: 1.2294 - val_acc: 0.5348\n",
            "Epoch 46/100\n",
            "7/7 [==============================] - 8s 1s/step - loss: 1.3036 - acc: 0.4752 - val_loss: 1.2374 - val_acc: 0.5348\n",
            "Epoch 47/100\n",
            "7/7 [==============================] - 8s 1s/step - loss: 1.3054 - acc: 0.4752 - val_loss: 1.2312 - val_acc: 0.5348\n",
            "Epoch 48/100\n",
            "7/7 [==============================] - 8s 1s/step - loss: 1.3091 - acc: 0.4752 - val_loss: 1.2276 - val_acc: 0.5348\n",
            "Epoch 49/100\n",
            "7/7 [==============================] - 8s 1s/step - loss: 1.3036 - acc: 0.4752 - val_loss: 1.2390 - val_acc: 0.5348\n",
            "Epoch 50/100\n",
            "7/7 [==============================] - 8s 1s/step - loss: 1.3062 - acc: 0.4752 - val_loss: 1.2393 - val_acc: 0.5348\n",
            "Epoch 51/100\n",
            "7/7 [==============================] - 8s 1s/step - loss: 1.3064 - acc: 0.4752 - val_loss: 1.2343 - val_acc: 0.5348\n",
            "Epoch 52/100\n",
            "7/7 [==============================] - 8s 1s/step - loss: 1.3048 - acc: 0.4752 - val_loss: 1.2369 - val_acc: 0.5348\n",
            "Epoch 53/100\n",
            "7/7 [==============================] - 8s 1s/step - loss: 1.3076 - acc: 0.4752 - val_loss: 1.2270 - val_acc: 0.5348\n",
            "Epoch 54/100\n",
            "7/7 [==============================] - 8s 1s/step - loss: 1.3051 - acc: 0.4752 - val_loss: 1.2392 - val_acc: 0.5348\n",
            "Epoch 55/100\n",
            "7/7 [==============================] - 8s 1s/step - loss: 1.3051 - acc: 0.4752 - val_loss: 1.2311 - val_acc: 0.5348\n",
            "Epoch 56/100\n",
            "7/7 [==============================] - 8s 1s/step - loss: 1.3069 - acc: 0.4752 - val_loss: 1.2298 - val_acc: 0.5348\n",
            "Epoch 57/100\n",
            "7/7 [==============================] - 8s 1s/step - loss: 1.3059 - acc: 0.4752 - val_loss: 1.2433 - val_acc: 0.5348\n",
            "Epoch 58/100\n",
            "7/7 [==============================] - 8s 1s/step - loss: 1.3058 - acc: 0.4752 - val_loss: 1.2284 - val_acc: 0.5348\n",
            "Epoch 59/100\n",
            "7/7 [==============================] - 8s 1s/step - loss: 1.3089 - acc: 0.4752 - val_loss: 1.2261 - val_acc: 0.5348\n",
            "Epoch 60/100\n",
            "7/7 [==============================] - 8s 1s/step - loss: 1.3054 - acc: 0.4752 - val_loss: 1.2498 - val_acc: 0.5348\n",
            "Epoch 61/100\n",
            "7/7 [==============================] - 8s 1s/step - loss: 1.3095 - acc: 0.4752 - val_loss: 1.2315 - val_acc: 0.5348\n",
            "Epoch 62/100\n",
            "7/7 [==============================] - 8s 1s/step - loss: 1.3041 - acc: 0.4752 - val_loss: 1.2280 - val_acc: 0.5348\n",
            "Epoch 63/100\n",
            "7/7 [==============================] - 8s 1s/step - loss: 1.3055 - acc: 0.4752 - val_loss: 1.2364 - val_acc: 0.5348\n",
            "Epoch 64/100\n",
            "7/7 [==============================] - 8s 1s/step - loss: 1.3054 - acc: 0.4752 - val_loss: 1.2355 - val_acc: 0.5348\n",
            "Epoch 65/100\n",
            "7/7 [==============================] - 8s 1s/step - loss: 1.3044 - acc: 0.4752 - val_loss: 1.2269 - val_acc: 0.5348\n",
            "Epoch 66/100\n",
            "7/7 [==============================] - 8s 1s/step - loss: 1.3031 - acc: 0.4752 - val_loss: 1.2385 - val_acc: 0.5348\n",
            "Epoch 67/100\n",
            "7/7 [==============================] - 8s 1s/step - loss: 1.3074 - acc: 0.4752 - val_loss: 1.2282 - val_acc: 0.5348\n",
            "Epoch 68/100\n",
            "7/7 [==============================] - 8s 1s/step - loss: 1.3060 - acc: 0.4752 - val_loss: 1.2329 - val_acc: 0.5348\n",
            "Epoch 69/100\n",
            "7/7 [==============================] - 8s 1s/step - loss: 1.3050 - acc: 0.4752 - val_loss: 1.2404 - val_acc: 0.5348\n",
            "Epoch 70/100\n",
            "7/7 [==============================] - 8s 1s/step - loss: 1.3042 - acc: 0.4752 - val_loss: 1.2256 - val_acc: 0.5348\n",
            "Epoch 71/100\n",
            "7/7 [==============================] - 8s 1s/step - loss: 1.3061 - acc: 0.4752 - val_loss: 1.2301 - val_acc: 0.5348\n",
            "Epoch 72/100\n",
            "7/7 [==============================] - 8s 1s/step - loss: 1.3044 - acc: 0.4752 - val_loss: 1.2322 - val_acc: 0.5348\n",
            "Epoch 73/100\n",
            "7/7 [==============================] - 8s 1s/step - loss: 1.3042 - acc: 0.4752 - val_loss: 1.2316 - val_acc: 0.5348\n",
            "Epoch 74/100\n",
            "7/7 [==============================] - 8s 1s/step - loss: 1.3044 - acc: 0.4752 - val_loss: 1.2342 - val_acc: 0.5348\n",
            "Epoch 75/100\n",
            "7/7 [==============================] - 8s 1s/step - loss: 1.3056 - acc: 0.4752 - val_loss: 1.2320 - val_acc: 0.5348\n",
            "Epoch 76/100\n",
            "7/7 [==============================] - 8s 1s/step - loss: 1.3062 - acc: 0.4752 - val_loss: 1.2246 - val_acc: 0.5348\n",
            "Epoch 77/100\n",
            "7/7 [==============================] - 8s 1s/step - loss: 1.3048 - acc: 0.4752 - val_loss: 1.2346 - val_acc: 0.5348\n",
            "Epoch 78/100\n",
            "7/7 [==============================] - 8s 1s/step - loss: 1.3049 - acc: 0.4752 - val_loss: 1.2372 - val_acc: 0.5348\n",
            "Epoch 79/100\n",
            "7/7 [==============================] - 8s 1s/step - loss: 1.3053 - acc: 0.4752 - val_loss: 1.2302 - val_acc: 0.5348\n",
            "Epoch 80/100\n",
            "7/7 [==============================] - 8s 1s/step - loss: 1.3085 - acc: 0.4752 - val_loss: 1.2347 - val_acc: 0.5348\n",
            "Epoch 81/100\n",
            "7/7 [==============================] - 8s 1s/step - loss: 1.3070 - acc: 0.4752 - val_loss: 1.2288 - val_acc: 0.5348\n",
            "Epoch 82/100\n",
            "7/7 [==============================] - 8s 1s/step - loss: 1.3056 - acc: 0.4752 - val_loss: 1.2281 - val_acc: 0.5348\n",
            "Epoch 83/100\n",
            "7/7 [==============================] - 8s 1s/step - loss: 1.3061 - acc: 0.4752 - val_loss: 1.2386 - val_acc: 0.5348\n",
            "Epoch 84/100\n",
            "7/7 [==============================] - 8s 1s/step - loss: 1.3060 - acc: 0.4752 - val_loss: 1.2261 - val_acc: 0.5348\n",
            "Epoch 85/100\n",
            "7/7 [==============================] - 8s 1s/step - loss: 1.3042 - acc: 0.4752 - val_loss: 1.2372 - val_acc: 0.5348\n",
            "Epoch 86/100\n",
            "7/7 [==============================] - 8s 1s/step - loss: 1.3042 - acc: 0.4752 - val_loss: 1.2387 - val_acc: 0.5348\n",
            "Epoch 87/100\n",
            "7/7 [==============================] - 8s 1s/step - loss: 1.3036 - acc: 0.4752 - val_loss: 1.2287 - val_acc: 0.5348\n",
            "Epoch 88/100\n",
            "7/7 [==============================] - 8s 1s/step - loss: 1.3054 - acc: 0.4752 - val_loss: 1.2337 - val_acc: 0.5348\n",
            "Epoch 89/100\n",
            "7/7 [==============================] - 8s 1s/step - loss: 1.3094 - acc: 0.4752 - val_loss: 1.2500 - val_acc: 0.5348\n",
            "Epoch 90/100\n",
            "7/7 [==============================] - 8s 1s/step - loss: 1.3039 - acc: 0.4752 - val_loss: 1.2283 - val_acc: 0.5348\n",
            "Epoch 91/100\n",
            "7/7 [==============================] - 8s 1s/step - loss: 1.3070 - acc: 0.4752 - val_loss: 1.2331 - val_acc: 0.5348\n",
            "Epoch 92/100\n",
            "7/7 [==============================] - 8s 1s/step - loss: 1.3062 - acc: 0.4752 - val_loss: 1.2323 - val_acc: 0.5348\n",
            "Epoch 93/100\n",
            "7/7 [==============================] - 8s 1s/step - loss: 1.3041 - acc: 0.4752 - val_loss: 1.2314 - val_acc: 0.5348\n",
            "Epoch 94/100\n",
            "7/7 [==============================] - 8s 1s/step - loss: 1.3049 - acc: 0.4752 - val_loss: 1.2338 - val_acc: 0.5348\n",
            "Epoch 95/100\n",
            "7/7 [==============================] - 8s 1s/step - loss: 1.3043 - acc: 0.4752 - val_loss: 1.2332 - val_acc: 0.5348\n",
            "Epoch 96/100\n",
            "7/7 [==============================] - 8s 1s/step - loss: 1.3043 - acc: 0.4752 - val_loss: 1.2319 - val_acc: 0.5348\n",
            "Epoch 97/100\n",
            "7/7 [==============================] - 8s 1s/step - loss: 1.3044 - acc: 0.4752 - val_loss: 1.2351 - val_acc: 0.5348\n",
            "Epoch 98/100\n",
            "7/7 [==============================] - 8s 1s/step - loss: 1.3055 - acc: 0.4752 - val_loss: 1.2254 - val_acc: 0.5348\n",
            "Epoch 99/100\n",
            "7/7 [==============================] - 8s 1s/step - loss: 1.3045 - acc: 0.4752 - val_loss: 1.2276 - val_acc: 0.5348\n",
            "Epoch 100/100\n",
            "7/7 [==============================] - 8s 1s/step - loss: 1.3036 - acc: 0.4752 - val_loss: 1.2343 - val_acc: 0.5348\n"
          ],
          "name": "stdout"
        }
      ]
    },
    {
      "cell_type": "markdown",
      "metadata": {
        "id": "oxySaB-bdZ8C"
      },
      "source": [
        "## Evaluation\n"
      ]
    },
    {
      "cell_type": "code",
      "metadata": {
        "colab": {
          "base_uri": "https://localhost:8080/"
        },
        "id": "4pAYZrGtXPBw",
        "outputId": "0273e00a-7f90-4423-accc-2bdd8c8b4705"
      },
      "source": [
        "model.evaluate(x_train, y_train) #loss: 1.3036 - acc: 0.4752"
      ],
      "execution_count": 169,
      "outputs": [
        {
          "output_type": "stream",
          "text": [
            "71/71 [==============================] - 8s 108ms/step - loss: 1.2825 - acc: 0.4931\n"
          ],
          "name": "stdout"
        },
        {
          "output_type": "execute_result",
          "data": {
            "text/plain": [
              "[1.2824934720993042, 0.49310192465782166]"
            ]
          },
          "metadata": {
            "tags": []
          },
          "execution_count": 169
        }
      ]
    },
    {
      "cell_type": "markdown",
      "metadata": {
        "id": "PaFHX5pkdjOD"
      },
      "source": [
        "## Service"
      ]
    },
    {
      "cell_type": "code",
      "metadata": {
        "colab": {
          "base_uri": "https://localhost:8080/",
          "height": 265
        },
        "id": "1zlT7wikdd8w",
        "outputId": "d02afc96-1b14-4194-fefb-fc3a6af8646f"
      },
      "source": [
        "import matplotlib.pyplot as plt\n",
        "plt.plot(hist.history['loss'])\n",
        "plt.plot(hist.history['val_loss'],'b-')\n",
        "plt.show()"
      ],
      "execution_count": 170,
      "outputs": [
        {
          "output_type": "display_data",
          "data": {
            "image/png": "[encoded data removed]",
            "text/plain": [
              "<Figure size 432x288 with 1 Axes>"
            ]
          },
          "metadata": {
            "tags": [],
            "needs_background": "light"
          }
        }
      ]
    },
    {
      "cell_type": "code",
      "metadata": {
        "colab": {
          "base_uri": "https://localhost:8080/",
          "height": 269
        },
        "id": "-TJxT8RBdnIS",
        "outputId": "fcc453f9-6482-4b4e-ccaf-99ca1b5591d8"
      },
      "source": [
        "plt.plot(hist.history['acc'])\n",
        "plt.plot(hist.history['val_acc'],'r-')\n",
        "plt.show()"
      ],
      "execution_count": 172,
      "outputs": [
        {
          "output_type": "display_data",
          "data": {
            "image/png": "[encoded data removed]",
            "text/plain": [
              "<Figure size 432x288 with 1 Axes>"
            ]
          },
          "metadata": {
            "tags": [],
            "needs_background": "light"
          }
        }
      ]
    },
    {
      "cell_type": "code",
      "metadata": {
        "id": "IMQZYTJTdpO-"
      },
      "source": [
        ""
      ],
      "execution_count": null,
      "outputs": []
    }
  ]
}