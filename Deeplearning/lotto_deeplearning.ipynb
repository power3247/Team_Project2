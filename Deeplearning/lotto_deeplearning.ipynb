{
  "nbformat": 4,
  "nbformat_minor": 0,
  "metadata": {
    "colab": {
      "name": "lotto_deeplearning.ipynb",
      "provenance": [],
      "mount_file_id": "1P6k_jY-JYl_URgSeoZDG7XrpwC5LSm1v",
      "authorship_tag": "ABX9TyNO+Jw6cB+lZ/4BqX1RoeDv",
      "include_colab_link": true
    },
    "kernelspec": {
      "name": "python3",
      "display_name": "Python 3"
    },
    "language_info": {
      "name": "python"
    }
  },
  "cells": [
    {
      "cell_type": "markdown",
      "metadata": {
        "id": "view-in-github",
        "colab_type": "text"
      },
      "source": [
        "<a href=\"https://colab.research.google.com/github/yoonputer/Team_Project2/blob/master/Deeplearning/lotto_deeplearning.ipynb\" target=\"_parent\"><img src=\"https://colab.research.google.com/assets/colab-badge.svg\" alt=\"Open In Colab\"/></a>"
      ]
    },
    {
      "cell_type": "markdown",
      "metadata": {
        "id": "odGaUA5gP-Bm"
      },
      "source": [
        "# lotto\n",
        "\n",
        "[동행복권사이트](https://dhlottery.co.kr/common.do?method=main)\n"
      ]
    },
    {
      "cell_type": "code",
      "metadata": {
        "id": "WfdvE8CvP36f"
      },
      "source": [
        "from __future__ import absolute_import, division, print_function, unicode_literals\n",
        "!pip install tensorflow-gpu==2.0.0-rc1\n",
        "!pip install 'h5py==2.10.0' --force-reinstall"
      ],
      "execution_count": null,
      "outputs": []
    },
    {
      "cell_type": "markdown",
      "metadata": {
        "id": "z2oTg6AIXA27"
      },
      "source": [
        "##데이터불러오기"
      ]
    },
    {
      "cell_type": "code",
      "metadata": {
        "colab": {
          "base_uri": "https://localhost:8080/"
        },
        "id": "kte8paSsWUIS",
        "outputId": "a3ad4f0f-274b-486c-c5f6-1a29679a940a"
      },
      "source": [
        "!ls ./drive/MyDrive/Forkspoon/lotto.csv"
      ],
      "execution_count": 2,
      "outputs": [
        {
          "output_type": "stream",
          "text": [
            "./drive/MyDrive/Forkspoon/lotto.csv\n"
          ],
          "name": "stdout"
        }
      ]
    },
    {
      "cell_type": "code",
      "metadata": {
        "colab": {
          "base_uri": "https://localhost:8080/"
        },
        "id": "FeLa084iTj6M",
        "outputId": "e9c6bb72-cf2e-49d6-f544-20659c1718ae"
      },
      "source": [
        "import numpy as np\n",
        "\n",
        "rows = np.loadtxt(\"./drive/MyDrive/Forkspoon/lotto.csv\", delimiter=\",\")\n",
        "row_count = len(rows)\n",
        "print(row_count)"
      ],
      "execution_count": 3,
      "outputs": [
        {
          "output_type": "stream",
          "text": [
            "976\n"
          ],
          "name": "stdout"
        }
      ]
    },
    {
      "cell_type": "markdown",
      "metadata": {
        "id": "jACgQuzDXANY"
      },
      "source": [
        "## 원핫인코딩"
      ]
    },
    {
      "cell_type": "code",
      "metadata": {
        "id": "D3NyFzjcWnB4"
      },
      "source": [
        "import numpy as np\n",
        "\n",
        "def numbers2ohbin(numbers):\n",
        "\n",
        "    ohbin = np.zeros(45) \n",
        "\n",
        "    for i in range(6): \n",
        "        ohbin[int(numbers[i])-1] = 1 \n",
        "    \n",
        "    return ohbin\n",
        "\n",
        "def ohbin2numbers(ohbin):\n",
        "\n",
        "    numbers = []\n",
        "    \n",
        "    for i in range(len(ohbin)):\n",
        "        if ohbin[i] == 1.0: \n",
        "            numbers.append(i+1)\n",
        "    \n",
        "    return numbers"
      ],
      "execution_count": 4,
      "outputs": []
    },
    {
      "cell_type": "code",
      "metadata": {
        "colab": {
          "base_uri": "https://localhost:8080/"
        },
        "id": "3EP9wnipXVoa",
        "outputId": "e63ea60f-879f-4ed0-fa8b-979ca87f7844"
      },
      "source": [
        "numbers = rows[:, 1:7]\n",
        "ohbins = list(map(numbers2ohbin, numbers))\n",
        "\n",
        "x_samples = ohbins[0:row_count-1]\n",
        "y_samples = ohbins[1:row_count]\n",
        "\n",
        "print(\"ohbins\")\n",
        "print(\"X[0]: \" + str(x_samples[0]))\n",
        "print(\"Y[0]: \" + str(y_samples[0]))\n",
        "\n",
        "print(\"numbers\")\n",
        "print(\"X[0]: \" + str(ohbin2numbers(x_samples[0])))\n",
        "print(\"Y[0]: \" + str(ohbin2numbers(y_samples[0])))"
      ],
      "execution_count": 5,
      "outputs": [
        {
          "output_type": "stream",
          "text": [
            "ohbins\n",
            "X[0]: [0. 0. 0. 0. 0. 0. 0. 0. 0. 1. 0. 0. 0. 0. 0. 0. 0. 0. 0. 0. 0. 0. 1. 0.\n",
            " 0. 0. 0. 0. 1. 0. 0. 0. 1. 0. 0. 0. 1. 0. 0. 1. 0. 0. 0. 0. 0.]\n",
            "Y[0]: [0. 0. 0. 0. 0. 0. 0. 0. 1. 0. 0. 0. 1. 0. 0. 0. 0. 0. 0. 0. 1. 0. 0. 0.\n",
            " 1. 0. 0. 0. 0. 0. 0. 1. 0. 0. 0. 0. 0. 0. 0. 0. 0. 1. 0. 0. 0.]\n",
            "numbers\n",
            "X[0]: [10, 23, 29, 33, 37, 40]\n",
            "Y[0]: [9, 13, 21, 25, 32, 42]\n"
          ],
          "name": "stdout"
        }
      ]
    },
    {
      "cell_type": "markdown",
      "metadata": {
        "id": "Oa4yMKVoYEMq"
      },
      "source": [
        "## 데이터 구성 - 훈련셋/ 검증셋/ 시험셋 분리\n",
        "\n",
        "훈련셋(800개): (1회 입력, 2회 출력)~(800회 입력, 801회 출력)\n",
        "\n",
        "검증셋(100개): (801회,802회)~(900회,901회)\n",
        "\n",
        "시험셋(65개): (901회,902회)~(965회,966회)"
      ]
    },
    {
      "cell_type": "code",
      "metadata": {
        "colab": {
          "base_uri": "https://localhost:8080/"
        },
        "id": "C47KFPclXZOY",
        "outputId": "6f564e41-a20d-48aa-f15f-ed1de74105fa"
      },
      "source": [
        "train_idx = (0, 800)\n",
        "val_idx = (801, 900)\n",
        "test_idx = (901, len(x_samples))\n",
        "\n",
        "print(\"train: {0}, val: {1}, test: {2}\".format(train_idx, val_idx, test_idx))"
      ],
      "execution_count": 6,
      "outputs": [
        {
          "output_type": "stream",
          "text": [
            "train: (0, 800), val: (801, 900), test: (901, 975)\n"
          ],
          "name": "stdout"
        }
      ]
    },
    {
      "cell_type": "markdown",
      "metadata": {
        "id": "8vH6ZkhMXf3B"
      },
      "source": [
        "## 모델-LSTM\n",
        "\n",
        "시계열 데이터, 자연어 데이터 처리 등에 사용되는 딥러닝 모델"
      ]
    },
    {
      "cell_type": "code",
      "metadata": {
        "id": "PJhx4heVXdOY"
      },
      "source": [
        "import tensorflow as tf\n",
        "from tensorflow import keras\n",
        "from tensorflow.keras import layers\n",
        "from tensorflow.keras import models\n",
        "\n",
        "\n",
        "model = keras.Sequential([\n",
        "    keras.layers.LSTM(128, batch_input_shape=(1, 1, 45), return_sequences=False, stateful=True),\n",
        "    keras.layers.Dense(45, activation='sigmoid')\n",
        "])\n",
        "\n",
        "\n",
        "model.compile(loss='binary_crossentropy', optimizer='adam', metrics=['accuracy'])"
      ],
      "execution_count": 7,
      "outputs": []
    },
    {
      "cell_type": "code",
      "metadata": {
        "id": "vQKGtC6oXj1p"
      },
      "source": [
        "\n",
        "train_loss = []\n",
        "train_acc = []\n",
        "val_loss = []\n",
        "val_acc = []\n",
        "\n",
        "\n",
        "for epoch in range(100):\n",
        "\n",
        "    model.reset_states() \n",
        "\n",
        "    batch_train_loss = []\n",
        "    batch_train_acc = []\n",
        "    \n",
        "    for i in range(train_idx[0], train_idx[1]):\n",
        "        \n",
        "        xs = x_samples[i].reshape(1, 1, 45)\n",
        "        ys = y_samples[i].reshape(1, 45)\n",
        "        \n",
        "        loss, acc = model.train_on_batch(xs, ys) \n",
        "\n",
        "        batch_train_loss.append(loss)\n",
        "        batch_train_acc.append(acc)\n",
        "\n",
        "    train_loss.append(np.mean(batch_train_loss))\n",
        "    train_acc.append(np.mean(batch_train_acc))\n",
        "\n",
        "    batch_val_loss = []\n",
        "    batch_val_acc = []\n",
        "\n",
        "    for i in range(val_idx[0], val_idx[1]):\n",
        "\n",
        "        xs = x_samples[i].reshape(1, 1, 45)\n",
        "        ys = y_samples[i].reshape(1, 45)\n",
        "        \n",
        "        loss, acc = model.test_on_batch(xs, ys) \n",
        "        \n",
        "        batch_val_loss.append(loss)\n",
        "        batch_val_acc.append(acc)\n",
        "\n",
        "    val_loss.append(np.mean(batch_val_loss))\n",
        "    val_acc.append(np.mean(batch_val_acc))\n",
        "\n",
        "    print('epoch {0:4d} train acc {1:0.3f} loss {2:0.3f} val acc {3:0.3f} loss {4:0.3f}'.format(epoch, np.mean(batch_train_acc), np.mean(batch_train_loss), np.mean(batch_val_acc), np.mean(batch_val_loss)))"
      ],
      "execution_count": null,
      "outputs": []
    },
    {
      "cell_type": "markdown",
      "metadata": {
        "id": "rNe1c4JOgCdQ"
      },
      "source": [
        "```\n",
        "...\n",
        "epoch   96 train acc 0.997 loss 0.016 val acc 0.803 loss 1.198\n",
        "epoch   97 train acc 0.996 loss 0.017 val acc 0.810 loss 1.175\n",
        "epoch   98 train acc 0.997 loss 0.014 val acc 0.815 loss 1.169\n",
        "epoch   99 train acc 0.999 loss 0.010 val acc 0.809 loss 1.178\n",
        "```"
      ]
    },
    {
      "cell_type": "code",
      "metadata": {
        "colab": {
          "base_uri": "https://localhost:8080/",
          "height": 279
        },
        "id": "Q2NaG-sRYzZc",
        "outputId": "7167e2e7-c0ea-4489-ac90-0dff2aed5999"
      },
      "source": [
        "%matplotlib inline\n",
        "import matplotlib.pyplot as plt\n",
        "\n",
        "fig, loss_ax = plt.subplots()\n",
        "\n",
        "acc_ax = loss_ax.twinx()\n",
        "\n",
        "loss_ax.plot(train_loss, 'y', label='train loss')\n",
        "loss_ax.plot(val_loss, 'r', label='val loss')\n",
        "\n",
        "acc_ax.plot(train_acc, 'b', label='train acc')\n",
        "acc_ax.plot(val_acc, 'g', label='val acc')\n",
        "\n",
        "loss_ax.set_xlabel('epoch')\n",
        "loss_ax.set_ylabel('loss')\n",
        "acc_ax.set_ylabel('accuray')\n",
        "\n",
        "loss_ax.legend(loc='upper left')\n",
        "acc_ax.legend(loc='lower left')\n",
        "\n",
        "plt.show()"
      ],
      "execution_count": 9,
      "outputs": [
        {
          "output_type": "display_data",
          "data": {
            "image/png": "[encoded data removed]",
            "text/plain": [
              "<Figure size 432x288 with 2 Axes>"
            ]
          },
          "metadata": {
            "tags": [],
            "needs_background": "light"
          }
        }
      ]
    },
    {
      "cell_type": "markdown",
      "metadata": {
        "id": "WCDjWNReZE91"
      },
      "source": [
        "## 예측한 번호로 상금 얼마나 받을 수 있을까?"
      ]
    },
    {
      "cell_type": "code",
      "metadata": {
        "colab": {
          "base_uri": "https://localhost:8080/"
        },
        "id": "_oia3O_UZCqu",
        "outputId": "3c173265-2c9b-4b38-d2af-e9ea85887e9e"
      },
      "source": [
        "mean_prize = [ np.mean(rows[87:, 8]),\n",
        "           np.mean(rows[87:, 9]),\n",
        "           np.mean(rows[87:, 10]),\n",
        "           np.mean(rows[87:, 11]),\n",
        "           np.mean(rows[87:, 12])]\n",
        "\n",
        "print(mean_prize)"
      ],
      "execution_count": 10,
      "outputs": [
        {
          "output_type": "stream",
          "text": [
            "[2432962447.5174356, 57212654.51631046, 1451009.0967379077, 52779.50281214848, 5000.0]\n"
          ],
          "name": "stdout"
        }
      ]
    },
    {
      "cell_type": "code",
      "metadata": {
        "id": "5eC7DzFjZCh4"
      },
      "source": [
        "def calc_reward(true_numbers, true_bonus, pred_numbers):\n",
        "\n",
        "    count = 0\n",
        "\n",
        "    for ps in pred_numbers:\n",
        "        if ps in true_numbers:\n",
        "            count += 1\n",
        "\n",
        "    if count == 6:\n",
        "        return 0, mean_prize[0]\n",
        "    elif count == 5 and true_bonus in pred_numbers:\n",
        "        return 1, mean_prize[1]\n",
        "    elif count == 5:\n",
        "        return 2, mean_prize[2]\n",
        "    elif count == 4:\n",
        "        return 3, mean_prize[3]\n",
        "    elif count == 3:\n",
        "        return 4, mean_prize[4]\n",
        "\n",
        "    return 5, 0"
      ],
      "execution_count": 11,
      "outputs": []
    },
    {
      "cell_type": "code",
      "metadata": {
        "id": "Aoh7v50cZCWT"
      },
      "source": [
        "def gen_numbers_from_probability(nums_prob):\n",
        "\n",
        "    ball_box = []\n",
        "\n",
        "    for n in range(45):\n",
        "        ball_count = int(nums_prob[n] * 100 + 1)\n",
        "        ball = np.full((ball_count), n+1) #1부터 시작\n",
        "        ball_box += list(ball)\n",
        "\n",
        "    selected_balls = []\n",
        "\n",
        "    while True:\n",
        "        \n",
        "        if len(selected_balls) == 6:\n",
        "            break\n",
        "        \n",
        "        ball_index = np.random.randint(len(ball_box), size=1)[0]\n",
        "        ball = ball_box[ball_index]\n",
        "\n",
        "        if ball not in selected_balls:\n",
        "            selected_balls.append(ball)\n",
        "\n",
        "    return selected_balls"
      ],
      "execution_count": 12,
      "outputs": []
    },
    {
      "cell_type": "code",
      "metadata": {
        "id": "WYA7oxcVZPJi"
      },
      "source": [
        "train_total_reward = []\n",
        "train_total_grade = np.zeros(6, dtype=int)\n",
        "\n",
        "val_total_reward = []\n",
        "val_total_grade = np.zeros(6, dtype=int)\n",
        "\n",
        "test_total_reward = []\n",
        "test_total_grade = np.zeros(6, dtype=int)\n",
        "\n",
        "model.reset_states()\n",
        "\n",
        "print('[No. ] 1st 2nd 3rd 4th 5th 6th Rewards')\n",
        "\n",
        "for i in range(len(x_samples)):\n",
        "    xs = x_samples[i].reshape(1, 1, 45)\n",
        "    ys_pred = model.predict_on_batch(xs) \n",
        "    \n",
        "    sum_reward = 0\n",
        "    sum_grade = np.zeros(6, dtype=int)\n",
        "\n",
        "    for n in range(10): \n",
        "        numbers = gen_numbers_from_probability(ys_pred[0])\n",
        "        \n",
        "       \n",
        "        grade, reward = calc_reward(rows[i+1,1:7], rows[i+1,7], numbers) \n",
        "        \n",
        "        sum_reward += reward\n",
        "        sum_grade[grade] += 1\n",
        "\n",
        "        if i >= train_idx[0] and i < train_idx[1]:\n",
        "            train_total_grade[grade] += 1\n",
        "        elif i >= val_idx[0] and i < val_idx[1]:\n",
        "            val_total_grade[grade] += 1\n",
        "        elif i >= test_idx[0] and i < test_idx[1]:\n",
        "            val_total_grade[grade] += 1\n",
        "    \n",
        "    if i >= train_idx[0] and i < train_idx[1]:\n",
        "        train_total_reward.append(sum_reward)\n",
        "    elif i >= val_idx[0] and i < val_idx[1]:\n",
        "        val_total_reward.append(sum_reward)\n",
        "    elif i >= test_idx[0] and i < test_idx[1]:\n",
        "        test_total_reward.append(sum_reward)\n",
        "                        \n",
        "    print('[{0:4d}] {1:3d} {2:3d} {3:3d} {4:3d} {5:3d} {6:3d} {7:15,d}'.format(i+1, sum_grade[0], sum_grade[1], sum_grade[2], sum_grade[3], sum_grade[4], sum_grade[5], int(sum_reward)))\n",
        "\n",
        "print('Total') \n",
        "print('==========')    \n",
        "print('Train {0:5d} {1:5d} {2:5d} {3:5d} {4:5d} {5:5d} {6:15,d}'.format(train_total_grade[0], train_total_grade[1], train_total_grade[2], train_total_grade[3], train_total_grade[4], train_total_grade[5], int(sum(train_total_reward))))\n",
        "print('Val   {0:5d} {1:5d} {2:5d} {3:5d} {4:5d} {5:5d} {6:15,d}'.format(val_total_grade[0], val_total_grade[1], val_total_grade[2], val_total_grade[3], val_total_grade[4], val_total_grade[5], int(sum(val_total_reward))))\n",
        "print('Test  {0:5d} {1:5d} {2:5d} {3:5d} {4:5d} {5:5d} {6:15,d}'.format(test_total_grade[0], test_total_grade[1], test_total_grade[2], test_total_grade[3], test_total_grade[4], test_total_grade[5], int(sum(test_total_reward))))\n",
        "print('==========')"
      ],
      "execution_count": null,
      "outputs": []
    },
    {
      "cell_type": "markdown",
      "metadata": {
        "id": "VJ4HT_ihfxH-"
      },
      "source": [
        "```\n",
        "[No. ] 1st 2nd 3rd 4th 5th 6th Rewards\n",
        "[   1]   4   0   4   2   0   0   9,737,759,385\n",
        "[   2]   4   0   5   1   0   0   9,739,157,615\n",
        "[   3]   4   0   5   1   0   0   9,739,157,615\n",
        "[   4]   3   0   5   1   1   0   7,306,200,167\n",
        "[   5]   2   0   7   1   0   0   4,876,134,738\n",
        "[   6]   2   0   7   1   0   0   4,876,134,738\n",
        "[   7]   1   0   7   1   1   0   2,443,177,290\n",
        "[   8]   3   0   5   2   0   0   7,306,247,947\n",
        "[   9]   1   1   4   2   2   0   2,496,094,697\n",
        "[  10]   4   0   3   3   0   0   9,736,361,155\n",
        "[  11]   1   0   8   1   0   0   2,444,623,299\n",
        "[  12]   3   2   1   4   0   0   7,414,974,778\n",
        "[  13]   2   0   6   1   1   0   4,874,688,729\n",
        "[  14]   4   0   4   2   0   0   9,737,759,385\n",
        "[  15]   4   1   3   2   0   0   9,793,521,030\n",
        "[  16]   3   0   5   1   1   0   7,306,200,167\n",
        "[  17]   1   0   6   2   1   0   2,441,779,061\n",
        "[  18]   2   0   7   1   0   0   4,876,134,738\n",
        "[  19]   3   0   4   3   0   0   7,304,849,717\n",
        "[  20]   2   0   7   1   0   0   4,876,134,738\n",
        "[  21]   3   1   3   3   0   0   7,360,611,362\n",
        "[  22]   2   0   6   2   0   0   4,874,736,508\n",
        "[  23]   2   0   8   0   0   0   4,877,532,967\n",
        "[  24]   6   0   3   1   0   0  14,602,180,491\n",
        "[  25]   3   0   5   2   0   0   7,306,247,947\n",
        "[  26]   5   0   2   3   0   0  12,167,872,594\n",
        "[  27]   3   1   4   1   1   0   7,361,961,812\n",
        "[  28]   2   0   5   3   0   0   4,873,338,279\n",
        "[  29]   4   0   5   1   0   0   9,739,157,615\n",
        "[  30]   3   0   4   2   1   0   7,304,801,937\n",
        "[  31]   3   0   4   2   1   0   7,304,801,937\n",
        "[  32]   3   0   5   2   0   0   7,306,247,947\n",
        "...\n",
        "\n",
        "[ 970]   0   0   0   0   0  10               0\n",
        "[ 971]   0   0   0   0   0  10               0\n",
        "[ 972]   0   0   0   0   0  10               0\n",
        "[ 973]   0   0   0   0   0  10               0\n",
        "[ 974]   0   0   0   0   1   9           5,000\n",
        "[ 975]   0   0   0   0   2   8          10,000\n",
        "Total\n",
        "==========\n",
        "Train  2599   112  3791  1309   179    10 6,335,247,977,258\n",
        "Val       0     0     0     0    47  1683         150,000\n",
        "Test      0     0     0     0     0     0          85,000\n",
        "==========\n",
        "```"
      ]
    },
    {
      "cell_type": "code",
      "metadata": {
        "colab": {
          "base_uri": "https://localhost:8080/",
          "height": 276
        },
        "id": "-TjlOLhMZO-w",
        "outputId": "95f2c30b-4d3e-496d-df8f-dd42e13525f0"
      },
      "source": [
        "%matplotlib inline\n",
        "import matplotlib.pyplot as plt\n",
        "\n",
        "total_reward = train_total_reward + val_total_reward + test_total_reward\n",
        "\n",
        "plt.plot(total_reward)\n",
        "plt.ylabel('rewards')\n",
        "plt.show()"
      ],
      "execution_count": 14,
      "outputs": [
        {
          "output_type": "display_data",
          "data": {
            "image/png": "[encoded data removed]",
            "text/plain": [
              "<Figure size 432x288 with 1 Axes>"
            ]
          },
          "metadata": {
            "tags": [],
            "needs_background": "light"
          }
        }
      ]
    },
    {
      "cell_type": "code",
      "metadata": {
        "colab": {
          "base_uri": "https://localhost:8080/",
          "height": 276
        },
        "id": "pYKW4Q92ZXQs",
        "outputId": "3646e19a-441e-4b18-9a20-66151e003fac"
      },
      "source": [
        "%matplotlib inline\n",
        "import matplotlib.pyplot as plt\n",
        "from matplotlib.ticker import MaxNLocator\n",
        "\n",
        "ax = plt.figure().gca()\n",
        "ax.xaxis.set_major_locator(MaxNLocator(integer=True))\n",
        "\n",
        "rewards = [sum(train_total_reward), sum(val_total_reward), sum(test_total_reward)]\n",
        "\n",
        "class_color=['green', 'blue', 'red']\n",
        "\n",
        "plt.bar(['train', 'val', 'test'], rewards, color=class_color)\n",
        "plt.ylabel('rewards')\n",
        "plt.show()"
      ],
      "execution_count": 15,
      "outputs": [
        {
          "output_type": "display_data",
          "data": {
            "image/png": "[encoded data removed]",
            "text/plain": [
              "<Figure size 432x288 with 1 Axes>"
            ]
          },
          "metadata": {
            "tags": [],
            "needs_background": "light"
          }
        }
      ]
    },
    {
      "cell_type": "code",
      "metadata": {
        "id": "m8FkvHhkZY-C"
      },
      "source": [
        "\n",
        "for epoch in range(100):\n",
        "\n",
        "    model.reset_states()\n",
        "\n",
        "    for i in range(len(x_samples)):\n",
        "        \n",
        "        xs = x_samples[i].reshape(1, 1, 45)\n",
        "        ys = y_samples[i].reshape(1, 45)\n",
        "        \n",
        "        loss, acc = model.train_on_batch(xs, ys)\n",
        "\n",
        "        batch_train_loss.append(loss)\n",
        "        batch_train_acc.append(acc)\n",
        "\n",
        "    train_loss.append(np.mean(batch_train_loss))\n",
        "    train_acc.append(np.mean(batch_train_acc))\n",
        "\n",
        "    print('epoch {0:4d} train acc {1:0.3f} loss {2:0.3f}'.format(epoch, np.mean(batch_train_acc), np.mean(batch_train_loss)))"
      ],
      "execution_count": null,
      "outputs": []
    },
    {
      "cell_type": "markdown",
      "metadata": {
        "id": "Lyg2khDrlIQT"
      },
      "source": [
        "```\n",
        "...\n",
        "epoch   86 train acc 0.992 loss 0.032\n",
        "epoch   87 train acc 0.992 loss 0.032\n",
        "epoch   88 train acc 0.992 loss 0.032\n",
        "epoch   89 train acc 0.992 loss 0.032\n",
        "epoch   90 train acc 0.992 loss 0.031\n",
        "epoch   91 train acc 0.992 loss 0.031\n",
        "epoch   92 train acc 0.992 loss 0.031\n",
        "epoch   93 train acc 0.992 loss 0.031\n",
        "epoch   94 train acc 0.992 loss 0.030\n",
        "epoch   95 train acc 0.992 loss 0.030\n",
        "epoch   96 train acc 0.992 loss 0.030\n",
        "epoch   97 train acc 0.992 loss 0.030\n",
        "epoch   98 train acc 0.992 loss 0.030\n",
        "epoch   99 train acc 0.993 loss 0.029\n",
        "\n",
        "```"
      ]
    },
    {
      "cell_type": "code",
      "metadata": {
        "colab": {
          "base_uri": "https://localhost:8080/"
        },
        "id": "gPjLz6dYZb6S",
        "outputId": "6ab1144a-800d-4e57-c1ff-b7e9f7be3b65"
      },
      "source": [
        "print('receive numbers')\n",
        "\n",
        "xs = x_samples[-1].reshape(1, 1, 45)\n",
        "\n",
        "ys_pred = model.predict_on_batch(xs)\n",
        "\n",
        "list_numbers = []\n",
        "\n",
        "for n in range(10):\n",
        "    numbers = gen_numbers_from_probability(ys_pred[0])\n",
        "    numbers.sort()\n",
        "    print('{0} : {1}'.format(n, numbers))\n",
        "    list_numbers.append(numbers)"
      ],
      "execution_count": 17,
      "outputs": [
        {
          "output_type": "stream",
          "text": [
            "receive numbers\n",
            "0 : [1, 13, 14, 15, 16, 35]\n",
            "1 : [1, 14, 16, 28, 34, 41]\n",
            "2 : [13, 14, 16, 28, 34, 35]\n",
            "3 : [13, 16, 28, 34, 35, 41]\n",
            "4 : [1, 16, 28, 34, 35, 41]\n",
            "5 : [13, 15, 28, 34, 35, 41]\n",
            "6 : [1, 16, 28, 34, 35, 41]\n",
            "7 : [3, 28, 32, 34, 35, 41]\n",
            "8 : [13, 16, 28, 34, 35, 41]\n",
            "9 : [1, 13, 16, 28, 29, 34]\n"
          ],
          "name": "stdout"
        }
      ]
    },
    {
      "cell_type": "markdown",
      "metadata": {
        "id": "zdVW2ljxZe-p"
      },
      "source": [
        "참조)\n",
        "\n",
        "[딥러닝 로또 예측 번호 확인](https://animalface.site/lotto)\n",
        "\n",
        "[동영상 설명: 유튜브 조코딩 채널](https://www.youtube.com/channel/UCQNE2JmbasNYbjGAcuBiRRg)\n",
        "\n",
        "[참고 문헌: 김태영님 블로그](https://tykimos.github.io/2020/01/25/keras_lstm_lotto_v895/)"
      ]
    }
  ]
}