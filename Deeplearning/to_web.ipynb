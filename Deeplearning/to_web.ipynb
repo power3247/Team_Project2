{
  "nbformat": 4,
  "nbformat_minor": 0,
  "metadata": {
    "colab": {
      "name": "to_web.ipynb",
      "provenance": [],
      "collapsed_sections": [],
      "mount_file_id": "1-5TVa40gWkOSVH12oPU70QvS5kCBx5SP",
      "authorship_tag": "ABX9TyOUnXfY3R2uXzp/swP7U9t1",
      "include_colab_link": true
    },
    "kernelspec": {
      "name": "python3",
      "display_name": "Python 3"
    },
    "language_info": {
      "name": "python"
    }
  },
  "cells": [
    {
      "cell_type": "markdown",
      "metadata": {
        "id": "view-in-github",
        "colab_type": "text"
      },
      "source": [
        "<a href=\"https://colab.research.google.com/github/yoonputer/Team_Project2/blob/master/Deeplearning/to_web.ipynb\" target=\"_parent\"><img src=\"https://colab.research.google.com/assets/colab-badge.svg\" alt=\"Open In Colab\"/></a>"
      ]
    },
    {
      "cell_type": "code",
      "metadata": {
        "id": "_5gdh5feozwU"
      },
      "source": [
        "!ls ./drive/MyDrive/Forkspoon/tok_index_word.pkl"
      ],
      "execution_count": null,
      "outputs": []
    },
    {
      "cell_type": "code",
      "metadata": {
        "id": "pE6gj-RNsvt1"
      },
      "source": [
        "!python -m pip install konlpy"
      ],
      "execution_count": null,
      "outputs": []
    },
    {
      "cell_type": "code",
      "metadata": {
        "id": "TGluMii5peTk"
      },
      "source": [
        "!curl -O https://raw.githubusercontent.com/konlpy/konlpy/master/scripts/mecab.sh"
      ],
      "execution_count": null,
      "outputs": []
    },
    {
      "cell_type": "code",
      "metadata": {
        "id": "RdXSNvZLpgM8"
      },
      "source": [
        "!source ./mecab.sh"
      ],
      "execution_count": null,
      "outputs": []
    },
    {
      "cell_type": "code",
      "metadata": {
        "id": "AY2rkV0ng-XU",
        "colab": {
          "base_uri": "https://localhost:8080/"
        },
        "outputId": "71e36f48-1743-438f-85a2-f491c4bcff54"
      },
      "source": [
        "import tensorflow as tf\n",
        "\n",
        "model = tf.keras.models.load_model('./drive/MyDrive/Forkspoon/test_dummy_LSTM.h5')\n",
        "print(model)"
      ],
      "execution_count": 34,
      "outputs": [
        {
          "output_type": "stream",
          "text": [
            "<tensorflow.python.keras.engine.sequential.Sequential object at 0x7ff2e5d50c10>\n"
          ],
          "name": "stdout"
        }
      ]
    },
    {
      "cell_type": "code",
      "metadata": {
        "id": "GrGGj30pqZ1o"
      },
      "source": [
        "import pickle\n",
        "stopwords = pickle.load(open('./drive/MyDrive/Forkspoon/tok_index_word.pkl','rb'))\n",
        "print(stopwords)"
      ],
      "execution_count": null,
      "outputs": []
    },
    {
      "cell_type": "code",
      "metadata": {
        "id": "43Yurar7pS0A"
      },
      "source": [
        "import konlpy\n",
        "from konlpy.tag import Mecab\n",
        "mecab= Mecab()"
      ],
      "execution_count": 36,
      "outputs": []
    },
    {
      "cell_type": "code",
      "metadata": {
        "colab": {
          "base_uri": "https://localhost:8080/"
        },
        "id": "9jallswovmvK",
        "outputId": "f83c8a6b-f07e-460b-82d4-4ed180bc39ae"
      },
      "source": [
        "input_sentance= mecab.morphs('성실합니다')\n",
        "input_sentance= [tok for tok in input_sentance if tok not in stopwords]\n",
        "print(input_sentance)"
      ],
      "execution_count": 39,
      "outputs": [
        {
          "output_type": "stream",
          "text": [
            "['성실', '합니다']\n"
          ],
          "name": "stdout"
        }
      ]
    },
    {
      "cell_type": "code",
      "metadata": {
        "colab": {
          "base_uri": "https://localhost:8080/"
        },
        "id": "jvFyWrUMwXfc",
        "outputId": "085e8d6b-195c-454e-d61a-5936d9c507ed"
      },
      "source": [
        "tokenizer = pickle.load(open('./drive/MyDrive/Forkspoon/tokenizers.pkl','rb'))"
      ],
      "execution_count": 46,
      "outputs": [
        {
          "output_type": "stream",
          "text": [
            "<keras_preprocessing.text.Tokenizer object at 0x7ff337388310>\n"
          ],
          "name": "stdout"
        }
      ]
    },
    {
      "cell_type": "code",
      "metadata": {
        "colab": {
          "base_uri": "https://localhost:8080/"
        },
        "id": "cZWdz-JKs3ad",
        "outputId": "ce91aa19-f3b3-4942-f899-21c87dc299a8"
      },
      "source": [
        "vocb_size = len(tokenizer.word_index)\n",
        "vocb_size"
      ],
      "execution_count": 49,
      "outputs": [
        {
          "output_type": "execute_result",
          "data": {
            "text/plain": [
              "16343"
            ]
          },
          "metadata": {
            "tags": []
          },
          "execution_count": 49
        }
      ]
    },
    {
      "cell_type": "code",
      "metadata": {
        "colab": {
          "base_uri": "https://localhost:8080/"
        },
        "id": "OJgvOXAvrjS8",
        "outputId": "28d9558f-48d6-49f9-96d9-7d8125769233"
      },
      "source": [
        "encoded = tokenizer.texts_to_sequences([input_sentance])\n",
        "encoded\n",
        "\n",
        "pad_new = tf.keras.preprocessing.sequence.pad_sequences(encoded, maxlen=300)\n",
        "pad_new"
      ],
      "execution_count": 56,
      "outputs": [
        {
          "output_type": "execute_result",
          "data": {
            "text/plain": [
              "array([[  0,   0,   0,   0,   0,   0,   0,   0,   0,   0,   0,   0,   0,\n",
              "          0,   0,   0,   0,   0,   0,   0,   0,   0,   0,   0,   0,   0,\n",
              "          0,   0,   0,   0,   0,   0,   0,   0,   0,   0,   0,   0,   0,\n",
              "          0,   0,   0,   0,   0,   0,   0,   0,   0,   0,   0,   0,   0,\n",
              "          0,   0,   0,   0,   0,   0,   0,   0,   0,   0,   0,   0,   0,\n",
              "          0,   0,   0,   0,   0,   0,   0,   0,   0,   0,   0,   0,   0,\n",
              "          0,   0,   0,   0,   0,   0,   0,   0,   0,   0,   0,   0,   0,\n",
              "          0,   0,   0,   0,   0,   0,   0,   0,   0,   0,   0,   0,   0,\n",
              "          0,   0,   0,   0,   0,   0,   0,   0,   0,   0,   0,   0,   0,\n",
              "          0,   0,   0,   0,   0,   0,   0,   0,   0,   0,   0,   0,   0,\n",
              "          0,   0,   0,   0,   0,   0,   0,   0,   0,   0,   0,   0,   0,\n",
              "          0,   0,   0,   0,   0,   0,   0,   0,   0,   0,   0,   0,   0,\n",
              "          0,   0,   0,   0,   0,   0,   0,   0,   0,   0,   0,   0,   0,\n",
              "          0,   0,   0,   0,   0,   0,   0,   0,   0,   0,   0,   0,   0,\n",
              "          0,   0,   0,   0,   0,   0,   0,   0,   0,   0,   0,   0,   0,\n",
              "          0,   0,   0,   0,   0,   0,   0,   0,   0,   0,   0,   0,   0,\n",
              "          0,   0,   0,   0,   0,   0,   0,   0,   0,   0,   0,   0,   0,\n",
              "          0,   0,   0,   0,   0,   0,   0,   0,   0,   0,   0,   0,   0,\n",
              "          0,   0,   0,   0,   0,   0,   0,   0,   0,   0,   0,   0,   0,\n",
              "          0,   0,   0,   0,   0,   0,   0,   0,   0,   0,   0,   0,   0,\n",
              "          0,   0,   0,   0,   0,   0,   0,   0,   0,   0,   0,   0,   0,\n",
              "          0,   0,   0,   0,   0,   0,   0,   0,   0,   0,   0,   0,   0,\n",
              "          0,   0,   0,   0,   0,   0,   0,   0,   0,   0,   0,   0, 859,\n",
              "          9]], dtype=int32)"
            ]
          },
          "metadata": {
            "tags": []
          },
          "execution_count": 56
        }
      ]
    },
    {
      "cell_type": "code",
      "metadata": {
        "colab": {
          "base_uri": "https://localhost:8080/"
        },
        "id": "0y-WWtNmvO_d",
        "outputId": "f0008301-364b-4b1c-8ebe-61b79fadc4ec"
      },
      "source": [
        "score = model.predict(pad_new)\n",
        "score"
      ],
      "execution_count": 57,
      "outputs": [
        {
          "output_type": "execute_result",
          "data": {
            "text/plain": [
              "array([[6.1978037e-03, 1.4306318e-03, 9.8902494e-01, 2.1841552e-03,\n",
              "        9.8138291e-04, 1.4463159e-04, 1.9703866e-05, 1.6715152e-05]],\n",
              "      dtype=float32)"
            ]
          },
          "metadata": {
            "tags": []
          },
          "execution_count": 57
        }
      ]
    },
    {
      "cell_type": "code",
      "metadata": {
        "colab": {
          "base_uri": "https://localhost:8080/"
        },
        "id": "wQKk__Tuy729",
        "outputId": "7944c45e-f83f-4315-92ea-46eecf70fe8f"
      },
      "source": [
        "import numpy as np\n",
        "\n",
        "np.argmax(score)"
      ],
      "execution_count": 65,
      "outputs": [
        {
          "output_type": "execute_result",
          "data": {
            "text/plain": [
              "2"
            ]
          },
          "metadata": {
            "tags": []
          },
          "execution_count": 65
        }
      ]
    },
    {
      "cell_type": "markdown",
      "metadata": {
        "id": "9airYq6E2i-V"
      },
      "source": [
        "## 함수로 만들기"
      ]
    },
    {
      "cell_type": "code",
      "metadata": {
        "id": "BoE3yahgzB9b"
      },
      "source": [
        "def sentance_predict(sentence):\n",
        "  mecab= Mecab()\n",
        "  input_sentance= mecab.morphs(sentence)\n",
        "  input_sentance= [tok for tok in input_sentance if tok not in stopwords]\n",
        "  encoded = tokenizer.texts_to_sequences([input_sentance])\n",
        "  pad_new = tf.keras.preprocessing.sequence.pad_sequences(encoded, maxlen=300)\n",
        "  score = model.predict(pad_new)\n",
        "  return score"
      ],
      "execution_count": 67,
      "outputs": []
    },
    {
      "cell_type": "code",
      "metadata": {
        "colab": {
          "base_uri": "https://localhost:8080/"
        },
        "id": "X0eIyR972oZs",
        "outputId": "8c4abd39-e2c1-4478-d43c-76ae96e19667"
      },
      "source": [
        "sentencess = '성실하네요' \n",
        "sentance_predict(sentencess)\n"
      ],
      "execution_count": 68,
      "outputs": [
        {
          "output_type": "execute_result",
          "data": {
            "text/plain": [
              "array([[1.4588406e-02, 2.2683085e-03, 9.7088313e-01, 1.0409605e-02,\n",
              "        1.5200150e-03, 2.5400592e-04, 4.1573901e-05, 3.4901594e-05]],\n",
              "      dtype=float32)"
            ]
          },
          "metadata": {
            "tags": []
          },
          "execution_count": 68
        }
      ]
    },
    {
      "cell_type": "code",
      "metadata": {
        "id": "X1mjNiYt2zwa"
      },
      "source": [
        ""
      ],
      "execution_count": null,
      "outputs": []
    }
  ]
}