{
  "nbformat": 4,
  "nbformat_minor": 0,
  "metadata": {
    "colab": {
      "name": "stopwords.ipynb",
      "provenance": [],
      "collapsed_sections": [],
      "mount_file_id": "1OYYxN9jbh2huvkzNar5GyCgntut9hyxv",
      "authorship_tag": "ABX9TyPNx8o/cSyZ1kQFMDzdg2WU",
      "include_colab_link": true
    },
    "kernelspec": {
      "name": "python3",
      "display_name": "Python 3"
    },
    "language_info": {
      "name": "python"
    }
  },
  "cells": [
    {
      "cell_type": "markdown",
      "metadata": {
        "id": "view-in-github",
        "colab_type": "text"
      },
      "source": [
        "<a href=\"https://colab.research.google.com/github/yoonputer/Team_Project2/blob/master/Deeplearning/stopwords.ipynb\" target=\"_parent\"><img src=\"https://colab.research.google.com/assets/colab-badge.svg\" alt=\"Open In Colab\"/></a>"
      ]
    },
    {
      "cell_type": "code",
      "metadata": {
        "colab": {
          "base_uri": "https://localhost:8080/"
        },
        "id": "E308-cxIoHC9",
        "outputId": "477fea9f-9e6d-4c8a-b6ab-61faf20d08f1"
      },
      "source": [
        "! ls ./drive/MyDrive/Forkspoon/texts_over.txt"
      ],
      "execution_count": 3,
      "outputs": [
        {
          "output_type": "stream",
          "text": [
            "./drive/MyDrive/Forkspoon/texts_over.txt\n"
          ],
          "name": "stdout"
        }
      ]
    },
    {
      "cell_type": "code",
      "metadata": {
        "colab": {
          "base_uri": "https://localhost:8080/"
        },
        "id": "9jA0ahFJAIzC",
        "outputId": "9b37149b-f062-44ea-f958-bf4808cb5ec0"
      },
      "source": [
        "!python -m pip install konlpy"
      ],
      "execution_count": 33,
      "outputs": [
        {
          "output_type": "stream",
          "text": [
            "Requirement already satisfied: konlpy in /usr/local/lib/python3.7/dist-packages (0.5.2)\n",
            "Requirement already satisfied: JPype1>=0.7.0 in /usr/local/lib/python3.7/dist-packages (from konlpy) (1.3.0)\n",
            "Requirement already satisfied: beautifulsoup4==4.6.0 in /usr/local/lib/python3.7/dist-packages (from konlpy) (4.6.0)\n",
            "Requirement already satisfied: lxml>=4.1.0 in /usr/local/lib/python3.7/dist-packages (from konlpy) (4.2.6)\n",
            "Requirement already satisfied: tweepy>=3.7.0 in /usr/local/lib/python3.7/dist-packages (from konlpy) (3.10.0)\n",
            "Requirement already satisfied: colorama in /usr/local/lib/python3.7/dist-packages (from konlpy) (0.4.4)\n",
            "Requirement already satisfied: numpy>=1.6 in /usr/local/lib/python3.7/dist-packages (from konlpy) (1.19.5)\n",
            "Requirement already satisfied: typing-extensions in /usr/local/lib/python3.7/dist-packages (from JPype1>=0.7.0->konlpy) (3.7.4.3)\n",
            "Requirement already satisfied: six>=1.10.0 in /usr/local/lib/python3.7/dist-packages (from tweepy>=3.7.0->konlpy) (1.15.0)\n",
            "Requirement already satisfied: requests-oauthlib>=0.7.0 in /usr/local/lib/python3.7/dist-packages (from tweepy>=3.7.0->konlpy) (1.3.0)\n",
            "Requirement already satisfied: requests[socks]>=2.11.1 in /usr/local/lib/python3.7/dist-packages (from tweepy>=3.7.0->konlpy) (2.23.0)\n",
            "Requirement already satisfied: oauthlib>=3.0.0 in /usr/local/lib/python3.7/dist-packages (from requests-oauthlib>=0.7.0->tweepy>=3.7.0->konlpy) (3.1.1)\n",
            "Requirement already satisfied: idna<3,>=2.5 in /usr/local/lib/python3.7/dist-packages (from requests[socks]>=2.11.1->tweepy>=3.7.0->konlpy) (2.10)\n",
            "Requirement already satisfied: chardet<4,>=3.0.2 in /usr/local/lib/python3.7/dist-packages (from requests[socks]>=2.11.1->tweepy>=3.7.0->konlpy) (3.0.4)\n",
            "Requirement already satisfied: certifi>=2017.4.17 in /usr/local/lib/python3.7/dist-packages (from requests[socks]>=2.11.1->tweepy>=3.7.0->konlpy) (2021.5.30)\n",
            "Requirement already satisfied: urllib3!=1.25.0,!=1.25.1,<1.26,>=1.21.1 in /usr/local/lib/python3.7/dist-packages (from requests[socks]>=2.11.1->tweepy>=3.7.0->konlpy) (1.24.3)\n",
            "Requirement already satisfied: PySocks!=1.5.7,>=1.5.6 in /usr/local/lib/python3.7/dist-packages (from requests[socks]>=2.11.1->tweepy>=3.7.0->konlpy) (1.7.1)\n"
          ],
          "name": "stdout"
        }
      ]
    },
    {
      "cell_type": "code",
      "metadata": {
        "colab": {
          "base_uri": "https://localhost:8080/"
        },
        "id": "pyCRsyA9APmC",
        "outputId": "f6f92394-22b1-45ae-846c-e89e645a62c6"
      },
      "source": [
        "!curl -O https://raw.githubusercontent.com/konlpy/konlpy/master/scripts/mecab.sh"
      ],
      "execution_count": 34,
      "outputs": [
        {
          "output_type": "stream",
          "text": [
            "  % Total    % Received % Xferd  Average Speed   Time    Time     Time  Current\n",
            "                                 Dload  Upload   Total   Spent    Left  Speed\n",
            "\r  0     0    0     0    0     0      0      0 --:--:-- --:--:-- --:--:--     0\r100  5064  100  5064    0     0  23663      0 --:--:-- --:--:-- --:--:-- 23663\n"
          ],
          "name": "stdout"
        }
      ]
    },
    {
      "cell_type": "code",
      "metadata": {
        "colab": {
          "base_uri": "https://localhost:8080/"
        },
        "id": "6jSpdZbVASRH",
        "outputId": "1f9bf6c7-6cee-489a-f4ef-48d04bba54af"
      },
      "source": [
        "!source ./mecab.sh"
      ],
      "execution_count": 36,
      "outputs": [
        {
          "output_type": "stream",
          "text": [
            "mecab-ko is already installed\n",
            "mecab-ko-dic is already installed\n",
            "mecab-python is already installed\n",
            "Done.\n"
          ],
          "name": "stdout"
        }
      ]
    },
    {
      "cell_type": "markdown",
      "metadata": {
        "id": "YW6B-CFYodo7"
      },
      "source": [
        "# koreanstopwords100\n",
        "\n",
        "불용어 사전만들어 DB.sqlite3 저장"
      ]
    },
    {
      "cell_type": "code",
      "metadata": {
        "id": "-SCGvMphqDE3"
      },
      "source": [
        "import sqlite3\n",
        "import pandas as pd\n",
        "import numpy as np"
      ],
      "execution_count": 10,
      "outputs": []
    },
    {
      "cell_type": "code",
      "metadata": {
        "colab": {
          "base_uri": "https://localhost:8080/",
          "height": 417
        },
        "id": "gQlm6pG6oPhe",
        "outputId": "ec083b3e-8e58-44d8-dd09-1f3f637acb08"
      },
      "source": [
        "data = pd.read_table('./drive/MyDrive/Forkspoon/koreanstopwords100.txt',header=None, names=['words','1','2'])\n",
        "data['words']\n",
        "df_data = pd.DataFrame(data['words'])\n",
        "df_data"
      ],
      "execution_count": 85,
      "outputs": [
        {
          "output_type": "execute_result",
          "data": {
            "text/html": [
              "<div>\n",
              "<style scoped>\n",
              "    .dataframe tbody tr th:only-of-type {\n",
              "        vertical-align: middle;\n",
              "    }\n",
              "\n",
              "    .dataframe tbody tr th {\n",
              "        vertical-align: top;\n",
              "    }\n",
              "\n",
              "    .dataframe thead th {\n",
              "        text-align: right;\n",
              "    }\n",
              "</style>\n",
              "<table border=\"1\" class=\"dataframe\">\n",
              "  <thead>\n",
              "    <tr style=\"text-align: right;\">\n",
              "      <th></th>\n",
              "      <th>words</th>\n",
              "    </tr>\n",
              "  </thead>\n",
              "  <tbody>\n",
              "    <tr>\n",
              "      <th>0</th>\n",
              "      <td>이</td>\n",
              "    </tr>\n",
              "    <tr>\n",
              "      <th>1</th>\n",
              "      <td>있</td>\n",
              "    </tr>\n",
              "    <tr>\n",
              "      <th>2</th>\n",
              "      <td>하</td>\n",
              "    </tr>\n",
              "    <tr>\n",
              "      <th>3</th>\n",
              "      <td>것</td>\n",
              "    </tr>\n",
              "    <tr>\n",
              "      <th>4</th>\n",
              "      <td>들</td>\n",
              "    </tr>\n",
              "    <tr>\n",
              "      <th>...</th>\n",
              "      <td>...</td>\n",
              "    </tr>\n",
              "    <tr>\n",
              "      <th>95</th>\n",
              "      <td>원</td>\n",
              "    </tr>\n",
              "    <tr>\n",
              "      <th>96</th>\n",
              "      <td>잘</td>\n",
              "    </tr>\n",
              "    <tr>\n",
              "      <th>97</th>\n",
              "      <td>통하</td>\n",
              "    </tr>\n",
              "    <tr>\n",
              "      <th>98</th>\n",
              "      <td>소리</td>\n",
              "    </tr>\n",
              "    <tr>\n",
              "      <th>99</th>\n",
              "      <td>놓</td>\n",
              "    </tr>\n",
              "  </tbody>\n",
              "</table>\n",
              "<p>100 rows × 1 columns</p>\n",
              "</div>"
            ],
            "text/plain": [
              "   words\n",
              "0      이\n",
              "1      있\n",
              "2      하\n",
              "3      것\n",
              "4      들\n",
              "..   ...\n",
              "95     원\n",
              "96     잘\n",
              "97    통하\n",
              "98    소리\n",
              "99     놓\n",
              "\n",
              "[100 rows x 1 columns]"
            ]
          },
          "metadata": {
            "tags": []
          },
          "execution_count": 85
        }
      ]
    },
    {
      "cell_type": "code",
      "metadata": {
        "colab": {
          "base_uri": "https://localhost:8080/"
        },
        "id": "5W21s3AaoVIh",
        "outputId": "7c1eead7-f03d-4206-9ae6-ad2fb3add078"
      },
      "source": [
        "data2 = pd.read_table('./drive/MyDrive/Forkspoon/texts_over.txt',header=None,)\n",
        "data2_series = pd.Series(data2[0], index=data2.index)\n",
        "type(data2_series)"
      ],
      "execution_count": 77,
      "outputs": [
        {
          "output_type": "execute_result",
          "data": {
            "text/plain": [
              "pandas.core.series.Series"
            ]
          },
          "metadata": {
            "tags": []
          },
          "execution_count": 77
        }
      ]
    },
    {
      "cell_type": "code",
      "metadata": {
        "id": "whYkJmSRAFyD"
      },
      "source": [
        "from konlpy.tag import Mecab\n",
        "mecab= Mecab()"
      ],
      "execution_count": 38,
      "outputs": []
    },
    {
      "cell_type": "code",
      "metadata": {
        "colab": {
          "base_uri": "https://localhost:8080/"
        },
        "id": "_5lBhGfTAk1n",
        "outputId": "7043a5fc-4867-4528-c8bc-753917c24da3"
      },
      "source": [
        "# mecab.pos(data2_series[0])\n",
        "data2_series_list= mecab.morphs(data2_series[0])\n",
        "print(data2_series_list)"
      ],
      "execution_count": 49,
      "outputs": [
        {
          "output_type": "stream",
          "text": [
            "['아', '휴', '아이구', '아이쿠', '아이고', '어', '나', '우리', '저희', '따라', '의해', '을', '를', '에', '의', '가', '으로', '로', '에게', '뿐', '이', '다', '의거', '하', '여', '근거', '하', '여', '입각', '하', '여', '기준', '으로', '예', '하', '면', '예', '를', '들', '면', '예', '를', '들', '자면', '저', '소인', '소생', '저희', '지', '말', '고', '하', '지', '마', '하', '지', '마', '라', '다른', '물론', '또한', '그리고', '비길', '수', '없', '다', '해서', '는', '안', '된다', '뿐', '만', '아니', '라', '만', '이', '아니', '다', '만', '은', '아니', '다', '막론', '하', '고', '관계없이', '그치', '지', '않', '다', '그러나', '그런', '데', '하', '지만', '든', '간', '에', '논하', '지', '않', '다', '따지', '지', '않', '다', '설사', '비록', '더', '라도', '아니', '면', '만', '못하', '다', '하', '는', '편', '이', '낫', '다', '불문', '하', '고', '향하', '여', '향해서', '향하', '다', '쪽', '으로', '틈타', '이용', '하', '여', '타', '다', '오르', '다', '제외', '하', '고', '이', '외', '에', '이', '밖', '에', '하', '여야', '비로소', '한다면', '몰라도', '외', '에', '도', '이곳', '여기', '부터', '기점', '으로', '따라서', '할', '생각', '이', '다', '하', '려고', '하', '다', '이리하여', '그리하여', '그렇게', '함', '으로써', '하', '지만', '일', '때', '할', '때', '앞', '에서', '중', '에서', '보', '는', '데', '서', '으로', '써', '로써', '까지', '해야', '한다', '일', '것', '이', '다', '반드시', '할', '줄', '알', '다', '할', '수', '있', '다', '할', '수', '있', '어', '임', '에', '틀림없', '다', '한다면', '등', '등등', '제', '겨우', '단지', '다', '만', '할', '뿐', '딩동', '댕', '그', '대해서', '대하', '여', '대하', '면', '훨씬', '얼마나', '얼마', '만큼', '얼마큼', '남', '짓', '여', '얼마간', '약간', '다소', '좀', '조금', '다수', '몇', '얼마', '지만', '하물며', '또한', '그러나', '그렇지만', '하지만', '이외', '에', '도', '대해', '말', '하', '자면', '뿐', '이', '다', '다음', '에', '반대', '로', '반대', '로', '말', '하', '자면', '이', '와', '반대', '로', '바꾸', '어서', '말', '하', '면', '바꾸', '어서', '한다면', '만약', '그렇', '지', '않', '으면', '까악', '툭', '딱', '삐걱거리', '다', '보드득', '비걱거리', '다', '꽈당', '응당', '해야', '한다', '에', '가', '서', '각', '각각', '여러분', '각종', '각자', '제각기', '하', '도록', '하', '다', '와', '과', '그러므로', '그래서', '고로', '한', '까닭', '에', '하', '기', '때문', '에', '거니', '와', '이지만', '대하', '여', '관하', '여', '관한', '과연', '실로', '아니', '나다', '를', '가', '생각', '한', '대로', '진짜로', '한', '적', '이', '있', '다', '하', '곤', '하', '였', '다', '하', '하하', '허허', '아하', '거', '바', '와', '오', '왜', '어째서', '무엇', '때문', '에', '어찌', '하', '겠', '는가', '무슨', '어디', '어느', '곳', '더군다나', '하물며', '더욱', '이', '는', '어느', '때', '언제', '야', '이봐', '어', '이', '여보시오', '흐흐', '흥', '휴', '헉헉', '헐떡헐떡', '영차', '여차', '어기여차', '끙끙', '아야', '앗', '아야', '콸콸', '졸졸', '좍좍', '뚝뚝', '주룩주룩', '솨', '우르르', '그래도', '또', '그리고', '바꾸', '어', '말', '하', '면', '바꾸', '어', '말', '하', '자면', '혹은', '혹시', '답', '다', '및', '그', '에', '따르', '는', '때', '가', '되', '어', '즉', '지', '든지', '설령', '가령', '하', '더라도', '할지라도', '일지', '라도', '지', '든지', '몇', '거의', '하마터면', '인젠', '이젠', '된', '바', '에', '야', '된', '이상', '만큼', '어찌', '됏든', '그', '위', '에', '게다가', '점', '에서', '보', '아', '비추', '어', '보', '아', '고려', '하', '면', '하', '게', '될', '것', '이', '다', '일', '것', '이', '다', '비교적', '좀', '보다', '더', '비하', '면', '시키', '다', '하', '게', '하', '다', '할', '만하다', '의해서', '연이', '서', '이어서', '잇따라', '뒤따라', '뒤이', '어', '결국', '의지', '하', '여', '기대', '여', '통하', '여', '자마자', '더욱더', '불구', '하', '고', '얼마', '든지', '마음대로', '주저', '하', '지', '않', '고', '곧', '즉시', '바로', '당장', '하', '자마자', '밖', '에', '안', '된다', '하', '면', '된다', '그래', '그렇', '지', '요컨대', '다시', '말', '하', '자면', '바꿔', '말', '하', '면', '즉', '구체', '적', '으로', '말', '하', '자면', '시작', '하', '여', '시초', '에', '이상', '허', '헉', '허걱', '바', '와', '같이', '해도', '좋', '다', '해도', '된다', '게다가', '더구나', '하물며', '와르르', '팍', '퍽', '펄렁', '동안', '이래', '하', '고', '있', '었', '다', '이', '었', '다', '에서', '로부터', '까지', '예', '하', '면', '했', '어요', '해요', '함께', '같이', '더불', '어', '마저', '마저', '도', '양자', '모두', '습니다', '가까스로', '하', '려고', '하', '다', '즈음', '하', '여', '다른', '다른', '방면', '으로', '해봐요', '습', '니까', '했', '어요', '말', '할', '것', '도', '없', '고', '무릎쓰', '고', '개의', '치', '않', '고', '하', '는', '것', '만', '못하', '다', '하', '는', '것', '이', '낫', '다', '매', '매번', '들', '모', '어느것', '어느', '로써', '갖', '고', '말', '하', '자면', '어디', '어느', '쪽', '어느', '것', '어느', '해', '어느', '년', '도', '라', '해도', '언젠가', '어떤', '것', '어느것', '저기', '저쪽', '저것', '그때', '그럼', '그러면', '요만', '한', '걸', '그래', '그때', '저것', '만큼', '그저', '이르', '기', '까지', '할', '줄', '안다', '할', '힘', '이', '있', '다', '너', '너희', '당신', '어찌', '설마', '차라리', '할지언정', '할지라도', '할망정', '할지언정', '구토', '하', '다', '게우', '다', '토하', '다', '메', '쓰', '겁', '다', '옆', '사람', '퉤', '쳇', '의거', '하', '여', '근거', '하', '여', '의해', '따라', '힘입', '어', '그', '다음', '버금', '두', '번', '째', '로', '기타', '첫', '번', '째', '로', '나머지', '는', '그', '중', '에서', '견지', '에서', '형식', '으로', '쓰여', '입장', '에서', '위해서', '단지', '의해', '되', '다', '하', '도록', '시키', '다', '뿐', '만', '아니', '라', '반대', '로', '전후', '전자', '앞', '의', '것', '잠시', '잠깐', '하', '면서', '그렇지만', '다음', '에', '그러한즉', '그런즉', '남', '들', '아무거', '나', '어찌하', '든지', '같', '다', '비슷', '하', '다', '예컨대', '이럴', '정도', '로', '어떻게', '만약', '만', '일', '위', '에서', '서술', '한', '바', '와', '같이', '인', '듯', '하', '다', '하', '지', '않', '는다면', '만약', '에', '무엇', '무슨', '어느', '어떤', '아래', '윗', '조차', '한데', '그럼에도', '불구', '하', '고', '여전히', '심지어', '까지', '도', '조차', '도', '하', '지', '않', '도록', '않', '기', '위하', '여', '때', '시각', '무렵', '시간', '동안', '어때', '어떠', '한', '하여금', '네', '예', '우선', '누구', '누가', '알', '겠', '는가', '아무', '도', '줄', '은', '모른다', '줄', '은', '몰', '랏다', '하', '는', '김', '에', '겸사겸사', '하', '는', '바', '그런', '까닭', '에', '한', '이유', '는', '그러', '니', '그러', '니까', '때문', '에', '그', '너희', '그', '들', '너희', '들', '타인', '것', '것', '들', '너', '위하', '여', '공동', '으로', '동시', '에', '하', '기', '위하', '여', '어찌하', '여', '무엇', '때문', '에', '붕붕', '윙윙', '나', '우리', '엉엉', '휘익', '윙윙', '오호', '아하', '어쨋든', '만', '못', '하', '다', '하', '기', '보다', '는', '차라리', '하', '는', '편', '이', '낫', '다', '흐흐', '놀라', '다', '상대', '적', '으로', '말', '하', '자면', '마치', '아니', '라면', '쉿', '그렇', '지', '않', '으면', '그렇', '지', '않', '다면', '안', '그러', '면', '아니', '었', '다면', '하', '든지', '아니', '면', '이', '라면', '좋', '아', '알', '았', '어', '하', '는', '것', '도', '그만이', '다', '어쩔', '수', '없', '다', '하나', '일', '일반', '적', '으로', '일단', '한', '켠', '으로', '는', '오', '자마자', '이렇게', '되', '면', '이', '와', '같', '다면', '전부', '한', '마디', '한', '항목', '근거', '로', '하', '기', '에', '아울러', '하', '지', '않', '도록', '않', '기', '위해서', '이르', '기', '까지', '이', '되', '다', '로', '인하', '여', '까닭', '으로', '이유', '만', '으로', '이', '로', '인하', '여', '그래서', '이', '때문', '에', '그러', '므로', '그런', '까닭', '에', '알', '수', '있', '다', '결론', '을', '낼', '수', '있', '다', '으로', '인하', '여', '있', '다', '어떤', '것', '관계', '가', '있', '다', '관련', '이', '있', '다', '연관', '되', '다', '어떤', '것', '들', '에', '대해', '이리하여', '그리하여', '여부', '하', '기', '보다', '는', '하', '느니', '하', '면', '할수록', '운운', '이러이러', '하', '다', '하', '구나', '하도', '다', '다시', '말', '하', '면', '다음', '으로', '에', '있', '다', '에', '달려', '있', '다', '우리', '우리', '들', '오히려', '하', '기', '는', '한데', '어떻게', '어떻', '해', '어찌', '됏어', '어때', '어째서', '본', '대로', '자', '이', '이쪽', '여기', '이것', '이', '번', '이렇게', '말', '하', '자면', '이런', '이러', '한', '이', '와', '같', '은', '요만큼', '요만', '한', '것', '얼마', '안', '되', '는', '것', '이만큼', '이', '정도', '의', '이렇게', '많', '은', '것', '이', '와', '같', '다', '이때', '이렇', '구나', '것', '과', '같이', '끼익', '삐걱', '따위', '와', '같', '은', '사람', '들', '부류', '의', '사람', '들', '왜냐하면', '중', '의', '하나', '오직', '오로지', '에', '한하', '다', '하', '기', '만', '하', '면', '도착', '하', '다', '까지', '미치', '다', '도달', '하', '다', '정도', '에', '이르', '다', '할', '지경', '이', '다', '결과', '에', '이르', '다', '관해서', '는', '여러분', '하', '고', '있', '다', '한', '후', '혼자', '자기', '자기', '집', '자신', '우', '에', '종합', '한', '것', '과', '같이', '총', '적', '으로', '보', '면', '총', '적', '으로', '말', '하', '면', '총', '적', '으로', '대', '로', '하', '다', '으', '로서', '참', '그만', '이', '다', '할', '따름', '이', '다', '쿵', '탕탕', '쾅쾅', '둥둥', '봐', '봐라', '아이야', '아니', '와아', '응', '아이', '참나', '년', '월', '일', '령', '영', '일', '이', '삼', '사', '오', '육', '륙', '칠', '팔', '구', '이', '천', '육', '이', '천', '칠', '이', '천', '팔', '이', '천', '구', '하나', '둘', '셋', '넷', '다섯', '여섯', '일곱', '여덟', '아홉', '령', '영', '이', '있', '하', '것', '들', '그', '되', '수', '이', '보', '않', '없', '나', '사람', '주', '아니', '등', '같', '우리', '때', '년', '가', '한', '지', '대하', '오', '말', '일', '그렇', '위하', '때문', '그것', '두', '말', '하', '알', '그러나', '받', '못하', '일', '그런', '또', '문제', '더', '사회', '많', '그리고', '좋', '크', '따르', '중', '나오', '가지', '씨', '시키', '만들', '지금', '생각', '하', '그러', '속', '하나', '집', '살', '모르', '적', '월', '데', '자신', '안', '어떤', '내', '내', '경우', '명', '생각', '시간', '그녀', '다시', '이런', '앞', '보이', '번', '나', '다른', '어떻', '여자', '개', '전', '들', '사실', '이렇', '점', '싶', '말', '정도', '좀', '원', '잘', '통하', '놓']\n"
          ],
          "name": "stdout"
        }
      ]
    },
    {
      "cell_type": "code",
      "metadata": {
        "id": "M92SaboxAks-"
      },
      "source": [
        "df = pd.DataFrame(data2_series_list)\n",
        "df.columns=['words']"
      ],
      "execution_count": 99,
      "outputs": []
    },
    {
      "cell_type": "code",
      "metadata": {
        "colab": {
          "base_uri": "https://localhost:8080/",
          "height": 417
        },
        "id": "8ZG16mpkAklg",
        "outputId": "5517e1f7-4a5a-4ee7-a311-3a9286b738e8"
      },
      "source": [
        "df"
      ],
      "execution_count": 100,
      "outputs": [
        {
          "output_type": "execute_result",
          "data": {
            "text/html": [
              "<div>\n",
              "<style scoped>\n",
              "    .dataframe tbody tr th:only-of-type {\n",
              "        vertical-align: middle;\n",
              "    }\n",
              "\n",
              "    .dataframe tbody tr th {\n",
              "        vertical-align: top;\n",
              "    }\n",
              "\n",
              "    .dataframe thead th {\n",
              "        text-align: right;\n",
              "    }\n",
              "</style>\n",
              "<table border=\"1\" class=\"dataframe\">\n",
              "  <thead>\n",
              "    <tr style=\"text-align: right;\">\n",
              "      <th></th>\n",
              "      <th>words</th>\n",
              "    </tr>\n",
              "  </thead>\n",
              "  <tbody>\n",
              "    <tr>\n",
              "      <th>0</th>\n",
              "      <td>아</td>\n",
              "    </tr>\n",
              "    <tr>\n",
              "      <th>1</th>\n",
              "      <td>휴</td>\n",
              "    </tr>\n",
              "    <tr>\n",
              "      <th>2</th>\n",
              "      <td>아이구</td>\n",
              "    </tr>\n",
              "    <tr>\n",
              "      <th>3</th>\n",
              "      <td>아이쿠</td>\n",
              "    </tr>\n",
              "    <tr>\n",
              "      <th>4</th>\n",
              "      <td>아이고</td>\n",
              "    </tr>\n",
              "    <tr>\n",
              "      <th>...</th>\n",
              "      <td>...</td>\n",
              "    </tr>\n",
              "    <tr>\n",
              "      <th>1438</th>\n",
              "      <td>좀</td>\n",
              "    </tr>\n",
              "    <tr>\n",
              "      <th>1439</th>\n",
              "      <td>원</td>\n",
              "    </tr>\n",
              "    <tr>\n",
              "      <th>1440</th>\n",
              "      <td>잘</td>\n",
              "    </tr>\n",
              "    <tr>\n",
              "      <th>1441</th>\n",
              "      <td>통하</td>\n",
              "    </tr>\n",
              "    <tr>\n",
              "      <th>1442</th>\n",
              "      <td>놓</td>\n",
              "    </tr>\n",
              "  </tbody>\n",
              "</table>\n",
              "<p>1443 rows × 1 columns</p>\n",
              "</div>"
            ],
            "text/plain": [
              "     words\n",
              "0        아\n",
              "1        휴\n",
              "2      아이구\n",
              "3      아이쿠\n",
              "4      아이고\n",
              "...    ...\n",
              "1438     좀\n",
              "1439     원\n",
              "1440     잘\n",
              "1441    통하\n",
              "1442     놓\n",
              "\n",
              "[1443 rows x 1 columns]"
            ]
          },
          "metadata": {
            "tags": []
          },
          "execution_count": 100
        }
      ]
    },
    {
      "cell_type": "code",
      "metadata": {
        "id": "NUpBUrcUs_Uy"
      },
      "source": [
        "connect = sqlite3.connect('./db.sqlite3')"
      ],
      "execution_count": 57,
      "outputs": []
    },
    {
      "cell_type": "code",
      "metadata": {
        "colab": {
          "base_uri": "https://localhost:8080/",
          "height": 172
        },
        "id": "d-Yfu29zFYUS",
        "outputId": "3014fb6c-e301-425b-ff05-27da7f6ca834"
      },
      "source": [
        "df_s = pd.read_sql_query('select * from stopwords',connect)\n",
        "df_s.describe()"
      ],
      "execution_count": 60,
      "outputs": [
        {
          "output_type": "execute_result",
          "data": {
            "text/html": [
              "<div>\n",
              "<style scoped>\n",
              "    .dataframe tbody tr th:only-of-type {\n",
              "        vertical-align: middle;\n",
              "    }\n",
              "\n",
              "    .dataframe tbody tr th {\n",
              "        vertical-align: top;\n",
              "    }\n",
              "\n",
              "    .dataframe thead th {\n",
              "        text-align: right;\n",
              "    }\n",
              "</style>\n",
              "<table border=\"1\" class=\"dataframe\">\n",
              "  <thead>\n",
              "    <tr style=\"text-align: right;\">\n",
              "      <th></th>\n",
              "      <th>words</th>\n",
              "    </tr>\n",
              "  </thead>\n",
              "  <tbody>\n",
              "    <tr>\n",
              "      <th>count</th>\n",
              "      <td>0</td>\n",
              "    </tr>\n",
              "    <tr>\n",
              "      <th>unique</th>\n",
              "      <td>0</td>\n",
              "    </tr>\n",
              "    <tr>\n",
              "      <th>top</th>\n",
              "      <td>NaN</td>\n",
              "    </tr>\n",
              "    <tr>\n",
              "      <th>freq</th>\n",
              "      <td>NaN</td>\n",
              "    </tr>\n",
              "  </tbody>\n",
              "</table>\n",
              "</div>"
            ],
            "text/plain": [
              "       words\n",
              "count      0\n",
              "unique     0\n",
              "top      NaN\n",
              "freq     NaN"
            ]
          },
          "metadata": {
            "tags": []
          },
          "execution_count": 60
        }
      ]
    },
    {
      "cell_type": "code",
      "metadata": {
        "id": "P49oKZVdE3RZ"
      },
      "source": [
        "df_data.to_sql('stopwords', connect, if_exists='append',index=False)"
      ],
      "execution_count": 101,
      "outputs": []
    },
    {
      "cell_type": "code",
      "metadata": {
        "id": "zCK1jRIcFH5s"
      },
      "source": [
        "df.to_sql('stopwords', connect, if_exists='append',index=False)"
      ],
      "execution_count": 102,
      "outputs": []
    },
    {
      "cell_type": "code",
      "metadata": {
        "id": "qy9jxrtDFlgW"
      },
      "source": [
        ""
      ],
      "execution_count": null,
      "outputs": []
    }
  ]
}