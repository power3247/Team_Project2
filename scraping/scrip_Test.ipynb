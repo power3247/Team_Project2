{
 "cells": [
  {
   "cell_type": "code",
   "execution_count": 1,
   "id": "5abf9bd8",
   "metadata": {},
   "outputs": [],
   "source": [
    "from selenium import webdriver"
   ]
  },
  {
   "cell_type": "code",
   "execution_count": 2,
   "id": "e960ad58",
   "metadata": {},
   "outputs": [
    {
     "name": "stdout",
     "output_type": "stream",
     "text": [
      " C 드라이브의 볼륨에는 이름이 없습니다.\n",
      " 볼륨 일련 번호: 963C-DFD5\n",
      "\n",
      " C:\\Develops\\forkspoon 디렉터리\n",
      "\n",
      "2021-08-12  오후 10:04        11,107,328 chromedriver.exe\n",
      "               1개 파일          11,107,328 바이트\n",
      "               0개 디렉터리     181,321,728 바이트 남음\n"
     ]
    }
   ],
   "source": [
    "!dir .\\chromedriver.exe"
   ]
  },
  {
   "cell_type": "code",
   "execution_count": 3,
   "id": "62cffee3",
   "metadata": {},
   "outputs": [],
   "source": [
    "browser = webdriver.Chrome('/chromedriver.exe')"
   ]
  },
  {
   "cell_type": "code",
   "execution_count": 4,
   "id": "9e40f2aa",
   "metadata": {},
   "outputs": [],
   "source": [
    "browser.get('https://www.jobkorea.co.kr/')"
   ]
  },
  {
   "cell_type": "code",
   "execution_count": 5,
   "id": "2cb696c6",
   "metadata": {},
   "outputs": [],
   "source": [
    "import time"
   ]
  },
  {
   "cell_type": "code",
   "execution_count": 6,
   "id": "50c658d4",
   "metadata": {},
   "outputs": [],
   "source": [
    "time.sleep(1)\n",
    "browser.find_element_by_css_selector('span.mainBtn.mainBtnPer').click()\n",
    "browser.find_elements_by_css_selector('input#lb_id.iptTx')[0].send_keys('axlovexa')\n",
    "browser.find_elements_by_css_selector('input#lb_pw.iptTx.devCapsLock')[0].send_keys('multi0811')\n",
    "browser.find_element_by_css_selector('div.loginIptWrap.clear>button.btnLogin').click()"
   ]
  },
  {
   "cell_type": "code",
   "execution_count": 7,
   "id": "f2d2100f",
   "metadata": {},
   "outputs": [],
   "source": [
    "time.sleep(1)\n",
    "browser.find_element_by_css_selector('li#gnbStart>a.linkItem').click()\n",
    "browser.find_element_by_css_selector('li>a[href=\"/starter/passassay/\"]').click()"
   ]
  },
  {
   "cell_type": "code",
   "execution_count": 8,
   "id": "45b03f03",
   "metadata": {},
   "outputs": [],
   "source": [
    "browser.find_element_by_css_selector('div.toolTipCont.fullLy>div>button').click()\n",
    "browser.find_elements_by_css_selector('input#txtSearch')[0].send_keys('선택한')\n",
    "\n",
    "browser.find_element_by_css_selector('button#btnSraech').click()"
   ]
  },
  {
   "cell_type": "code",
   "execution_count": 16,
   "id": "844824b4",
   "metadata": {},
   "outputs": [],
   "source": [
    "cnt = 0\n",
    "from bs4 import BeautifulSoup\n",
    "import pandas as pd"
   ]
  },
  {
   "cell_type": "code",
   "execution_count": 79,
   "id": "e0077981",
   "metadata": {},
   "outputs": [
    {
     "name": "stdout",
     "output_type": "stream",
     "text": [
      "Q10 지원직무를 선택한 이유를(직무와 관련한 경험, 전공, 수강과목, 자격증 등을 포함하여) 설명하십시오. A3 \"직접 만든다는 것\"\n",
      "\n",
      "실습을 위해 콤부차를 조사하였습니다. 한정된 자료에서 최대한 조사했지만, 자세한 공정은 알 수 없었습니다. 좋은 결과를 도출하기 위해선 철저한 계획이 중요하다 생각돼 제조사, 제조공장에 문의하여 부원료 선택조건, 발효시간 등의 부분적인 답변을 들음으로 초안을 계획할 수 있었습니다. 이후 차 제조회사의 개발 업무에서 두 원료를 조합해 제품을 개발하는 업무에 참여했는데, 두 원료를 섞으면서 각각의 특색이 사라지는 문제가 있었습니다. 두 원료가 활성을 가지는 당도와 산도가 극과 극이었기 때문이었는데, 이전 실습을 위해 공정 조사를 문의할 때 조합이 좋을 것 같은데 왜 사용을 하지 않는지에 대한 답변을 실제로 경험하게 된 상황이었습니다. 두 원료의 황금비율을 찾는 것과 동시에 맛, 컨셉, 안정성 또한 유지하려 노력했습니다. 배합비를 수정하고 관능 검사하는 과정을 반복하면서 혀가 쓴맛을 즐기게 될 때쯤, 제품의 완성도가 갖춰져 두가지 원료를 조화롭게 느낄 수 있었습니다. 그리고 전화로 들었던 한계를 해결하는 듯한 성취감 또한 느꼈습니다. 아쉬운점 1\n",
      "\n",
      "소비자 입장에서 왜 맛있는 두가지를 섞어 팔지 않는지에 대해 의구심을 가졌습니다. 하지만 식품을 전공하면서 의구심에 대한 답을 배우고, 개발을 하면서 해결방안을 찾았습니다. 주변을 둘러보면 많은 소비자들이 자신들이 자신이 원하는 제품을 기다리는 모습을 볼 수 있습니다. 모든 소비자가 식품을 전공하고 개발할 수 없기에 누군가가 소비자를 위해 제품을 만들어야 합니다. 그리고 저는 제가 얻은 지식과 경험으로 소비자를 위한 제품을 만들기 위해 노력하겠습니다.아쉬운점 2 글자수 800자1,381Byte\n",
      "Q10 직장 또는 단체생활에서 구성원에게 가장 필요한 태도, 역량은 무엇이라고 생각하는지 본인의 경험을 바탕으로 설명하십시오. A3 \"각자의 경험이 다르다는 것\"\n",
      "\n",
      "인턴기간에 동반성장을 목표로 새로운 메뉴를 개발하는 프로젝트에 참여했습니다. 기업간의 협업으로, 각자가 잘 하는 방식으로 자신의 역할에 최선을 다했어야 했기에 초기 아이디어 회의에서부터 많은 의견이 나왔습니다. 아쉬운점 130개의 아이디어는 각각 매력과 가능성을 가지고 있었지만 가장 좋은 것을 선별해야 했습니다. 먼저 1차적인 선별을 위해 시장조사와 제조공정을 파악하여 대중성이 있고, 자체 개발이 가능한 제품을 선별했습니다. 이 과정에서 저는 팀으로 협력하면서 팀 구성원에게 필요한 태도를 배울 수 있었는데, 바로, 각자의 역할을 수행하고, 서로의 접근방식을 공유하고 수용하며 해답을 찾는 것입니다. 아쉬운점 2저는 프로젝트에서 소비자들의 소비형태와 그에 따른 시장의 동향을 조사하였고, 이를 요약하여 팀원들에게 분배했습니다. 그리고 팀원들은 받은 자료를 토대로 각자가 담당하던 제품과 연관된 소재를 구체화하였고, 마지막으로 팀장이 단가, 공정 등 세부사항을 판단하여 좋은 주제를 간추렸습니다. \n",
      "\n",
      "기업간 협업에서 각자가 잘하는 방식으로 역할에 최선을 다하듯 팀 구성원도 자신의 역할에 충실하여 효율을 높일 수 있었습니다. 또한, 아이디어 회의에서부터 매일 1회 이상 프로젝트 회의를 진행하면서 비슷한 상황에서 창의적, 효과적으로 해결할 수 있었던 각자의 방법을 서로 제시하고 실천하여 효율적으로 업무를 진행하였습니다. 결과적으로, 각자의 경험이 다르다는 것은 다양한 시선과 방법이 다양하다는 것으로, 관점과 방법을 제시하고 수용하면서 함께 발전할 수 있다는 점에서 팀에게 가장 필요한 태도이자 역량이라고 생각하였습니다.아쉬운점 3 글자수 803자1,398Byte\n",
      "Q10 오뚜기에 지원한 이유와 입사 후 회사에서 이루고 싶은 꿈을 설명하십시오. A3 \"가능성을 캐내고 가치를 심자\"\n",
      "\n",
      "식품은 광범위한 방면에서 다양한 방향성을 가지고 나아가고 있기 때문에 대학에 오랜 기간에 걸쳐 쌓인 지식으로는 현재 식품 시장을 온전히 이해할 수 없다고 생각했습니다. 우물 안 개구리에서 벗어나 트렌드를 이해하고 한발 먼저 행동하기 위해 식품 신문을 읽고 시장과 제품 조사를 하면서 빠른 변화에 적응하려고 노력했습니다. 그러면서 깨달은 것은 식품 산업이 무궁무진한 가능성을 가지고 있는 덕분에 다양한 방향성을 가지고 나아갈 수 있다는 것이었습니다. 아쉬운점 1오뚜기는 식품 산업 전반을 이끄는 기업입니다. 가능성을 봤을 때 언제든 뛰어들어 열풍을 이끌 수 있다고 오뚜기의 제품이 증명합니다. \n",
      "\n",
      "저는 식품 산업의 가능성을 확인하면서 가능한 방향성을 찾을 수 있었습니다. 그리고 그 방향성으로부터 원료와 제품에서 가치를 발굴하고 또다른 가치를 심어주는 것을 저의 목표로 하였습니다. 아쉬운점 2신라면 두부김치, 열려라 참깨라면은 두가지 제품의 시너지 효과를, 전자레인지를 이용한 컵라면 조리방법은 새로운 즐거움을, 진짬뽕밥은 기존 제품에 새로운 가치를 이끌어냈습니다. OEM, ODM, 아웃소싱, 협업 등의 구조는 계속해서 발전하면서 좋은 제품을 위한 방법을 제시하고 가치를 창출할 수 있는 가능성이 증가시킵니다. 오징어 먹물을 넣은 검은색 비빔면, 시금치 페스토를 이용한 파스타 등 다양한 가치를 지녔지만 아직 발굴되지 않은 제품이 많다고 생각합니다. 새로움과 변화를 주도하는 오뚜기에서 저는 기존 제품의 가능성을 캐내고, 새로운 원료와 가능성에 가치를 심어 함께 발전하도록 하겠습니다.아쉬운점 3 글자수 787자1,359Byte\n",
      "Q10 지원직무를 선택한 이유를(직무와 관련한 경험, 전공, 수강과목, 자격증 등을 포함하여) 설명하십시오. A3 \"직접 만든다는 것\"\n",
      "\n",
      "실습을 위해 콤부차를 조사하였습니다. 한정된 자료에서 최대한 조사했지만, 자세한 공정은 알 수 없었습니다. 좋은 결과를 도출하기 위해선 철저한 계획이 중요하다 생각돼 제조사, 제조공장에 문의하여 부원료 선택조건, 발효시간 등의 부분적인 답변을 들음으로 초안을 계획할 수 있었습니다. 이후 차 제조회사의 개발 업무에서 두 원료를 조합해 제품을 개발하는 업무에 참여했는데, 두 원료를 섞으면서 각각의 특색이 사라지는 문제가 있었습니다. 두 원료가 활성을 가지는 당도와 산도가 극과 극이었기 때문이었는데, 이전 실습을 위해 공정 조사를 문의할 때 조합이 좋을 것 같은데 왜 사용을 하지 않는지에 대한 답변을 실제로 경험하게 된 상황이었습니다. 두 원료의 황금비율을 찾는 것과 동시에 맛, 컨셉, 안정성 또한 유지하려 노력했습니다. 배합비를 수정하고 관능 검사하는 과정을 반복하면서 혀가 쓴맛을 즐기게 될 때쯤, 제품의 완성도가 갖춰져 두가지 원료를 조화롭게 느낄 수 있었습니다. 그리고 전화로 들었던 한계를 해결하는 듯한 성취감 또한 느꼈습니다. 아쉬운점 1\n",
      "\n",
      "소비자 입장에서 왜 맛있는 두가지를 섞어 팔지 않는지에 대해 의구심을 가졌습니다. 하지만 식품을 전공하면서 의구심에 대한 답을 배우고, 개발을 하면서 해결방안을 찾았습니다. 주변을 둘러보면 많은 소비자들이 자신들이 자신이 원하는 제품을 기다리는 모습을 볼 수 있습니다. 모든 소비자가 식품을 전공하고 개발할 수 없기에 누군가가 소비자를 위해 제품을 만들어야 합니다. 그리고 저는 제가 얻은 지식과 경험으로 소비자를 위한 제품을 만들기 위해 노력하겠습니다.아쉬운점 2 글자수 800자1,381Byte\n",
      "Q10 직장 또는 단체생활에서 구성원에게 가장 필요한 태도, 역량은 무엇이라고 생각하는지 본인의 경험을 바탕으로 설명하십시오. A3 \"각자의 경험이 다르다는 것\"\n",
      "\n",
      "인턴기간에 동반성장을 목표로 새로운 메뉴를 개발하는 프로젝트에 참여했습니다. 기업간의 협업으로, 각자가 잘 하는 방식으로 자신의 역할에 최선을 다했어야 했기에 초기 아이디어 회의에서부터 많은 의견이 나왔습니다. 아쉬운점 130개의 아이디어는 각각 매력과 가능성을 가지고 있었지만 가장 좋은 것을 선별해야 했습니다. 먼저 1차적인 선별을 위해 시장조사와 제조공정을 파악하여 대중성이 있고, 자체 개발이 가능한 제품을 선별했습니다. 이 과정에서 저는 팀으로 협력하면서 팀 구성원에게 필요한 태도를 배울 수 있었는데, 바로, 각자의 역할을 수행하고, 서로의 접근방식을 공유하고 수용하며 해답을 찾는 것입니다. 아쉬운점 2저는 프로젝트에서 소비자들의 소비형태와 그에 따른 시장의 동향을 조사하였고, 이를 요약하여 팀원들에게 분배했습니다. 그리고 팀원들은 받은 자료를 토대로 각자가 담당하던 제품과 연관된 소재를 구체화하였고, 마지막으로 팀장이 단가, 공정 등 세부사항을 판단하여 좋은 주제를 간추렸습니다. \n",
      "\n",
      "기업간 협업에서 각자가 잘하는 방식으로 역할에 최선을 다하듯 팀 구성원도 자신의 역할에 충실하여 효율을 높일 수 있었습니다. 또한, 아이디어 회의에서부터 매일 1회 이상 프로젝트 회의를 진행하면서 비슷한 상황에서 창의적, 효과적으로 해결할 수 있었던 각자의 방법을 서로 제시하고 실천하여 효율적으로 업무를 진행하였습니다. 결과적으로, 각자의 경험이 다르다는 것은 다양한 시선과 방법이 다양하다는 것으로, 관점과 방법을 제시하고 수용하면서 함께 발전할 수 있다는 점에서 팀에게 가장 필요한 태도이자 역량이라고 생각하였습니다.아쉬운점 3 글자수 803자1,398Byte\n",
      "Q10 오뚜기에 지원한 이유와 입사 후 회사에서 이루고 싶은 꿈을 설명하십시오. A3 \"가능성을 캐내고 가치를 심자\"\n",
      "\n",
      "식품은 광범위한 방면에서 다양한 방향성을 가지고 나아가고 있기 때문에 대학에 오랜 기간에 걸쳐 쌓인 지식으로는 현재 식품 시장을 온전히 이해할 수 없다고 생각했습니다. 우물 안 개구리에서 벗어나 트렌드를 이해하고 한발 먼저 행동하기 위해 식품 신문을 읽고 시장과 제품 조사를 하면서 빠른 변화에 적응하려고 노력했습니다. 그러면서 깨달은 것은 식품 산업이 무궁무진한 가능성을 가지고 있는 덕분에 다양한 방향성을 가지고 나아갈 수 있다는 것이었습니다. 아쉬운점 1오뚜기는 식품 산업 전반을 이끄는 기업입니다. 가능성을 봤을 때 언제든 뛰어들어 열풍을 이끌 수 있다고 오뚜기의 제품이 증명합니다. \n",
      "\n",
      "저는 식품 산업의 가능성을 확인하면서 가능한 방향성을 찾을 수 있었습니다. 그리고 그 방향성으로부터 원료와 제품에서 가치를 발굴하고 또다른 가치를 심어주는 것을 저의 목표로 하였습니다. 아쉬운점 2신라면 두부김치, 열려라 참깨라면은 두가지 제품의 시너지 효과를, 전자레인지를 이용한 컵라면 조리방법은 새로운 즐거움을, 진짬뽕밥은 기존 제품에 새로운 가치를 이끌어냈습니다. OEM, ODM, 아웃소싱, 협업 등의 구조는 계속해서 발전하면서 좋은 제품을 위한 방법을 제시하고 가치를 창출할 수 있는 가능성이 증가시킵니다. 오징어 먹물을 넣은 검은색 비빔면, 시금치 페스토를 이용한 파스타 등 다양한 가치를 지녔지만 아직 발굴되지 않은 제품이 많다고 생각합니다. 새로움과 변화를 주도하는 오뚜기에서 저는 기존 제품의 가능성을 캐내고, 새로운 원료와 가능성에 가치를 심어 함께 발전하도록 하겠습니다.아쉬운점 3 글자수 787자1,359Byte\n",
      "Q10 지원직무를 선택한 이유를(직무와 관련한 경험, 전공, 수강과목, 자격증 등을 포함하여) 설명하십시오. A3 \"직접 만든다는 것\"\n",
      "\n",
      "실습을 위해 콤부차를 조사하였습니다. 한정된 자료에서 최대한 조사했지만, 자세한 공정은 알 수 없었습니다. 좋은 결과를 도출하기 위해선 철저한 계획이 중요하다 생각돼 제조사, 제조공장에 문의하여 부원료 선택조건, 발효시간 등의 부분적인 답변을 들음으로 초안을 계획할 수 있었습니다. 이후 차 제조회사의 개발 업무에서 두 원료를 조합해 제품을 개발하는 업무에 참여했는데, 두 원료를 섞으면서 각각의 특색이 사라지는 문제가 있었습니다. 두 원료가 활성을 가지는 당도와 산도가 극과 극이었기 때문이었는데, 이전 실습을 위해 공정 조사를 문의할 때 조합이 좋을 것 같은데 왜 사용을 하지 않는지에 대한 답변을 실제로 경험하게 된 상황이었습니다. 두 원료의 황금비율을 찾는 것과 동시에 맛, 컨셉, 안정성 또한 유지하려 노력했습니다. 배합비를 수정하고 관능 검사하는 과정을 반복하면서 혀가 쓴맛을 즐기게 될 때쯤, 제품의 완성도가 갖춰져 두가지 원료를 조화롭게 느낄 수 있었습니다. 그리고 전화로 들었던 한계를 해결하는 듯한 성취감 또한 느꼈습니다. 아쉬운점 1\n",
      "\n",
      "소비자 입장에서 왜 맛있는 두가지를 섞어 팔지 않는지에 대해 의구심을 가졌습니다. 하지만 식품을 전공하면서 의구심에 대한 답을 배우고, 개발을 하면서 해결방안을 찾았습니다. 주변을 둘러보면 많은 소비자들이 자신들이 자신이 원하는 제품을 기다리는 모습을 볼 수 있습니다. 모든 소비자가 식품을 전공하고 개발할 수 없기에 누군가가 소비자를 위해 제품을 만들어야 합니다. 그리고 저는 제가 얻은 지식과 경험으로 소비자를 위한 제품을 만들기 위해 노력하겠습니다.아쉬운점 2 글자수 800자1,381Byte\n",
      "Q10 직장 또는 단체생활에서 구성원에게 가장 필요한 태도, 역량은 무엇이라고 생각하는지 본인의 경험을 바탕으로 설명하십시오. A3 \"각자의 경험이 다르다는 것\"\n",
      "\n",
      "인턴기간에 동반성장을 목표로 새로운 메뉴를 개발하는 프로젝트에 참여했습니다. 기업간의 협업으로, 각자가 잘 하는 방식으로 자신의 역할에 최선을 다했어야 했기에 초기 아이디어 회의에서부터 많은 의견이 나왔습니다. 아쉬운점 130개의 아이디어는 각각 매력과 가능성을 가지고 있었지만 가장 좋은 것을 선별해야 했습니다. 먼저 1차적인 선별을 위해 시장조사와 제조공정을 파악하여 대중성이 있고, 자체 개발이 가능한 제품을 선별했습니다. 이 과정에서 저는 팀으로 협력하면서 팀 구성원에게 필요한 태도를 배울 수 있었는데, 바로, 각자의 역할을 수행하고, 서로의 접근방식을 공유하고 수용하며 해답을 찾는 것입니다. 아쉬운점 2저는 프로젝트에서 소비자들의 소비형태와 그에 따른 시장의 동향을 조사하였고, 이를 요약하여 팀원들에게 분배했습니다. 그리고 팀원들은 받은 자료를 토대로 각자가 담당하던 제품과 연관된 소재를 구체화하였고, 마지막으로 팀장이 단가, 공정 등 세부사항을 판단하여 좋은 주제를 간추렸습니다. \n",
      "\n",
      "기업간 협업에서 각자가 잘하는 방식으로 역할에 최선을 다하듯 팀 구성원도 자신의 역할에 충실하여 효율을 높일 수 있었습니다. 또한, 아이디어 회의에서부터 매일 1회 이상 프로젝트 회의를 진행하면서 비슷한 상황에서 창의적, 효과적으로 해결할 수 있었던 각자의 방법을 서로 제시하고 실천하여 효율적으로 업무를 진행하였습니다. 결과적으로, 각자의 경험이 다르다는 것은 다양한 시선과 방법이 다양하다는 것으로, 관점과 방법을 제시하고 수용하면서 함께 발전할 수 있다는 점에서 팀에게 가장 필요한 태도이자 역량이라고 생각하였습니다.아쉬운점 3 글자수 803자1,398Byte\n",
      "Q10 오뚜기에 지원한 이유와 입사 후 회사에서 이루고 싶은 꿈을 설명하십시오. A3 \"가능성을 캐내고 가치를 심자\"\n",
      "\n",
      "식품은 광범위한 방면에서 다양한 방향성을 가지고 나아가고 있기 때문에 대학에 오랜 기간에 걸쳐 쌓인 지식으로는 현재 식품 시장을 온전히 이해할 수 없다고 생각했습니다. 우물 안 개구리에서 벗어나 트렌드를 이해하고 한발 먼저 행동하기 위해 식품 신문을 읽고 시장과 제품 조사를 하면서 빠른 변화에 적응하려고 노력했습니다. 그러면서 깨달은 것은 식품 산업이 무궁무진한 가능성을 가지고 있는 덕분에 다양한 방향성을 가지고 나아갈 수 있다는 것이었습니다. 아쉬운점 1오뚜기는 식품 산업 전반을 이끄는 기업입니다. 가능성을 봤을 때 언제든 뛰어들어 열풍을 이끌 수 있다고 오뚜기의 제품이 증명합니다. \n",
      "\n",
      "저는 식품 산업의 가능성을 확인하면서 가능한 방향성을 찾을 수 있었습니다. 그리고 그 방향성으로부터 원료와 제품에서 가치를 발굴하고 또다른 가치를 심어주는 것을 저의 목표로 하였습니다. 아쉬운점 2신라면 두부김치, 열려라 참깨라면은 두가지 제품의 시너지 효과를, 전자레인지를 이용한 컵라면 조리방법은 새로운 즐거움을, 진짬뽕밥은 기존 제품에 새로운 가치를 이끌어냈습니다. OEM, ODM, 아웃소싱, 협업 등의 구조는 계속해서 발전하면서 좋은 제품을 위한 방법을 제시하고 가치를 창출할 수 있는 가능성이 증가시킵니다. 오징어 먹물을 넣은 검은색 비빔면, 시금치 페스토를 이용한 파스타 등 다양한 가치를 지녔지만 아직 발굴되지 않은 제품이 많다고 생각합니다. 새로움과 변화를 주도하는 오뚜기에서 저는 기존 제품의 가능성을 캐내고, 새로운 원료와 가능성에 가치를 심어 함께 발전하도록 하겠습니다.아쉬운점 3 글자수 787자1,359Byte\n"
     ]
    }
   ],
   "source": [
    "\n",
    "for page in range(1,5):\n",
    "    browser.find_element_by_css_selector('li:nth-child('+str(i)+') > div.txBx > p > a > span').click()\n",
    "    html = browser.page_source\n",
    "    soup = BeautifulSoup(html, 'html.parser')\n",
    "    introduction_page = soup.select('div.stContainer')\n",
    "    time.sleep(0.5)\n",
    "    \n",
    "    content = []\n",
    "    for scraping in introduction_page:\n",
    "        company = introduction_page[0].select('h2 > strong > a')[0].text.strip()\n",
    "        group = introduction_page[0].select('h2 > em')[0].text.strip()\n",
    "        score = introduction_page[0].select('div.adviceTotal > div > span')[0].text.strip()\n",
    "\n",
    "        for q in range(0, 10):\n",
    "            try:\n",
    "                question = soup.select('button > span.tx')[q].text.strip()\n",
    "                answer = soup.select('dd > div.tx')[q].text.strip()\n",
    "                print(ColumnQ, question, ColumnA, answer)\n",
    "                content.append([company, group, score, question, answer])\n",
    "            except IndexError:\n",
    "                pass\n",
    "\n",
    "                \n",
    "    browser.back()\n",
    "    \n",
    "#     contents = [company, group, score, question, answer]"
   ]
  },
  {
   "cell_type": "code",
   "execution_count": 80,
   "id": "bac4ab0a",
   "metadata": {},
   "outputs": [
    {
     "data": {
      "text/plain": [
       "3"
      ]
     },
     "execution_count": 80,
     "metadata": {},
     "output_type": "execute_result"
    }
   ],
   "source": [
    "len(content)"
   ]
  },
  {
   "cell_type": "code",
   "execution_count": 74,
   "id": "a2a4a672",
   "metadata": {
    "scrolled": true
   },
   "outputs": [
    {
     "data": {
      "text/html": [
       "<div>\n",
       "<style scoped>\n",
       "    .dataframe tbody tr th:only-of-type {\n",
       "        vertical-align: middle;\n",
       "    }\n",
       "\n",
       "    .dataframe tbody tr th {\n",
       "        vertical-align: top;\n",
       "    }\n",
       "\n",
       "    .dataframe thead th {\n",
       "        text-align: right;\n",
       "    }\n",
       "</style>\n",
       "<table border=\"1\" class=\"dataframe\">\n",
       "  <thead>\n",
       "    <tr style=\"text-align: right;\">\n",
       "      <th></th>\n",
       "      <th>company</th>\n",
       "      <th>group</th>\n",
       "      <th>score</th>\n",
       "      <th>question</th>\n",
       "      <th>answer</th>\n",
       "    </tr>\n",
       "  </thead>\n",
       "  <tbody>\n",
       "    <tr>\n",
       "      <th>0</th>\n",
       "      <td>(주)오뚜기</td>\n",
       "      <td>2020년 하반기 신입 바이오·제약·식품</td>\n",
       "      <td>2</td>\n",
       "      <td>지원직무를 선택한 이유를(직무와 관련한 경험, 전공, 수강과목, 자격증 등을 포함하...</td>\n",
       "      <td>\"직접 만든다는 것\"\\n\\n실습을 위해 콤부차를 조사하였습니다. 한정된 자료에서 최...</td>\n",
       "    </tr>\n",
       "    <tr>\n",
       "      <th>1</th>\n",
       "      <td>(주)오뚜기</td>\n",
       "      <td>2020년 하반기 신입 바이오·제약·식품</td>\n",
       "      <td>2</td>\n",
       "      <td>직장 또는 단체생활에서 구성원에게 가장 필요한 태도, 역량은 무엇이라고 생각하는지 ...</td>\n",
       "      <td>\"각자의 경험이 다르다는 것\"\\n\\n인턴기간에 동반성장을 목표로 새로운 메뉴를 개발...</td>\n",
       "    </tr>\n",
       "    <tr>\n",
       "      <th>2</th>\n",
       "      <td>(주)오뚜기</td>\n",
       "      <td>2020년 하반기 신입 바이오·제약·식품</td>\n",
       "      <td>2</td>\n",
       "      <td>오뚜기에 지원한 이유와 입사 후 회사에서 이루고 싶은 꿈을 설명하십시오.</td>\n",
       "      <td>\"가능성을 캐내고 가치를 심자\"\\n\\n식품은 광범위한 방면에서 다양한 방향성을 가지...</td>\n",
       "    </tr>\n",
       "  </tbody>\n",
       "</table>\n",
       "</div>"
      ],
      "text/plain": [
       "  company                   group score  \\\n",
       "0  (주)오뚜기  2020년 하반기 신입 바이오·제약·식품     2   \n",
       "1  (주)오뚜기  2020년 하반기 신입 바이오·제약·식품     2   \n",
       "2  (주)오뚜기  2020년 하반기 신입 바이오·제약·식품     2   \n",
       "\n",
       "                                            question  \\\n",
       "0  지원직무를 선택한 이유를(직무와 관련한 경험, 전공, 수강과목, 자격증 등을 포함하...   \n",
       "1  직장 또는 단체생활에서 구성원에게 가장 필요한 태도, 역량은 무엇이라고 생각하는지 ...   \n",
       "2           오뚜기에 지원한 이유와 입사 후 회사에서 이루고 싶은 꿈을 설명하십시오.   \n",
       "\n",
       "                                              answer  \n",
       "0  \"직접 만든다는 것\"\\n\\n실습을 위해 콤부차를 조사하였습니다. 한정된 자료에서 최...  \n",
       "1  \"각자의 경험이 다르다는 것\"\\n\\n인턴기간에 동반성장을 목표로 새로운 메뉴를 개발...  \n",
       "2  \"가능성을 캐내고 가치를 심자\"\\n\\n식품은 광범위한 방면에서 다양한 방향성을 가지...  "
      ]
     },
     "execution_count": 74,
     "metadata": {},
     "output_type": "execute_result"
    }
   ],
   "source": [
    "df = pd.DataFrame(content, columns=['company', 'group', 'score', 'question', 'answer'])\n",
    "df"
   ]
  },
  {
   "cell_type": "markdown",
   "id": "21915333",
   "metadata": {},
   "source": [
    "## 위의 cell 까지!"
   ]
  },
  {
   "cell_type": "markdown",
   "id": "10374b24",
   "metadata": {},
   "source": [
    "def scrap(num):\n",
    "    browser.find_element_by_css_selector('li:nth-child('+str(num)+') > div.txBx > p > a > span').click()\n",
    "    html = browser.page_source\n",
    "    soup = BeautifulSoup(html, 'html.parser')\n",
    "    introduction_page = soup.select('div.stContainer')\n",
    "    time.sleep(1)\n",
    "\n",
    "    for scraping in introduction_page:\n",
    "        company = introduction_page[0].select('h2 > strong > a')[0].text.strip()\n",
    "        group = introduction_page[0].select('h2 > em')[0].text.strip()\n",
    "        score = introduction_page[0].select('div.adviceTotal > div > span')[0].text.strip()\n",
    "        \n",
    "        contents = []\n",
    "        for q in range(0, 10):\n",
    "            try:\n",
    "                question = soup.select('button > span.tx')[q].text.strip()\n",
    "                answer = soup.select('dd > div.tx')[q].text.strip()\n",
    "                contents.append([company, group, score, question, answer])                \n",
    "            except IndexError:\n",
    "                pass\n",
    "   \n",
    "#     return contents\n",
    "# df = pd.DataFrame(contents, columns=['company', 'group', 'score', 'question', 'answer'])\n",
    "# df\n"
   ]
  },
  {
   "cell_type": "markdown",
   "id": "f6a048dd",
   "metadata": {},
   "source": [
    "scrap(1)\n",
    "len(contents)"
   ]
  },
  {
   "cell_type": "markdown",
   "id": "bce465e4",
   "metadata": {},
   "source": [
    "for i in range(1,4):\n",
    "    scrap(i)\n",
    "    df = pd.DataFrame(contents, columns=['company', 'group', 'score', 'question', 'answer'])\n",
    "    df\n",
    "\n",
    "#     = pd.DataFrame(contents, columns=['company', 'group', 'score', 'question', 'answer'])\n",
    "#     df = pd.DataFrame(contents, columns=['company', 'group', 'score', 'question', 'answer'])\n",
    "# contents.append([company, group, score, question, answer])\n",
    "\n"
   ]
  },
  {
   "cell_type": "markdown",
   "id": "2933b24b",
   "metadata": {
    "scrolled": true
   },
   "source": [
    "# import pandas as pd\n",
    "df = pd.DataFrame(contents, columns=['company', 'group', 'score', 'question', 'answer'])\n",
    "df"
   ]
  },
  {
   "cell_type": "markdown",
   "id": "7ac094ff",
   "metadata": {},
   "source": [
    "for i in range(1,21):\n",
    "    browser.find_element_by_css_selector('li:nth-child('+str(i)+') > div.txBx > p > a > span').click()\n",
    "    html = browser.page_source\n",
    "    soup = BeautifulSoup(html, 'html.parser')\n",
    "    introduction_page = soup.select('div.stContainer')\n",
    "    time.sleep(1)\n",
    "    \n",
    "    content = []\n",
    "    for scraping in introduction_page:\n",
    "        company = introduction_page[0].select('h2 > strong > a')[0].text.strip()\n",
    "        group = introduction_page[0].select('h2 > em')[0].text.strip()\n",
    "        score = introduction_page[0].select('div.adviceTotal > div > span')[0].text.strip()\n",
    "\n",
    "        for q in range(0, 10):\n",
    "            try:\n",
    "                ColumnQ = 'Q'+str(q+1)\n",
    "                question = soup.select('button > span.tx')[q].text.strip()\n",
    "                ColumnA = 'A'+str(q+1)\n",
    "                answer = soup.select('dd > div.tx')[q].text.strip()\n",
    "                print(ColumnQ, question, ColumnA, answer)\n",
    "                content.append([company, group, score, question, answer])\n",
    "            except IndexError:\n",
    "                pass\n",
    "    contents.extend(content.append([company, group, score, question, answer]))\n",
    "                \n",
    "    browser.back()\n",
    "    "
   ]
  },
  {
   "cell_type": "code",
   "execution_count": null,
   "id": "cb75848a",
   "metadata": {},
   "outputs": [],
   "source": []
  }
 ],
 "metadata": {
  "kernelspec": {
   "display_name": "Python 3",
   "language": "python",
   "name": "python3"
  },
  "language_info": {
   "codemirror_mode": {
    "name": "ipython",
    "version": 3
   },
   "file_extension": ".py",
   "mimetype": "text/x-python",
   "name": "python",
   "nbconvert_exporter": "python",
   "pygments_lexer": "ipython3",
   "version": "3.8.8"
  }
 },
 "nbformat": 4,
 "nbformat_minor": 5
}
