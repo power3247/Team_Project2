{
 "cells": [
  {
   "cell_type": "code",
   "execution_count": 1,
   "id": "7f426621",
   "metadata": {},
   "outputs": [],
   "source": [
    "from selenium import webdriver"
   ]
  },
  {
   "cell_type": "code",
   "execution_count": 2,
   "id": "4b9546c4",
   "metadata": {},
   "outputs": [
    {
     "name": "stdout",
     "output_type": "stream",
     "text": [
      " C 드라이브의 볼륨에는 이름이 없습니다.\n",
      " 볼륨 일련 번호: 963C-DFD5\n",
      "\n",
      " C:\\Develops\\forkspoon 디렉터리\n",
      "\n",
      "2021-08-12  오후 10:04        11,107,328 chromedriver.exe\n",
      "               1개 파일          11,107,328 바이트\n",
      "               0개 디렉터리      77,811,712 바이트 남음\n"
     ]
    }
   ],
   "source": [
    "!dir .\\chromedriver.exe"
   ]
  },
  {
   "cell_type": "code",
   "execution_count": 3,
   "id": "801a516d",
   "metadata": {},
   "outputs": [],
   "source": [
    "browser = webdriver.Chrome('/chromedriver.exe')"
   ]
  },
  {
   "cell_type": "code",
   "execution_count": 4,
   "id": "e278336f",
   "metadata": {},
   "outputs": [],
   "source": [
    "browser.get('https://www.jobkorea.co.kr/')"
   ]
  },
  {
   "cell_type": "code",
   "execution_count": 5,
   "id": "6ac22b5d",
   "metadata": {},
   "outputs": [],
   "source": [
    "import time"
   ]
  },
  {
   "cell_type": "code",
   "execution_count": 6,
   "id": "4d415a4b",
   "metadata": {},
   "outputs": [],
   "source": [
    "time.sleep(1)\n",
    "browser.find_element_by_css_selector('span.mainBtn.mainBtnPer').click()\n",
    "browser.find_elements_by_css_selector('input#lb_id.iptTx')[0].send_keys('axlovexa')\n",
    "browser.find_elements_by_css_selector('input#lb_pw.iptTx.devCapsLock')[0].send_keys('multi0811')\n",
    "browser.find_element_by_css_selector('div.loginIptWrap.clear>button.btnLogin').click()"
   ]
  },
  {
   "cell_type": "code",
   "execution_count": 7,
   "id": "3a26617a",
   "metadata": {},
   "outputs": [],
   "source": [
    "time.sleep(1)\n",
    "browser.find_element_by_css_selector('li#gnbStart>a.linkItem').click()\n",
    "browser.find_element_by_css_selector('li>a[href=\"/starter/passassay/\"]').click()"
   ]
  },
  {
   "cell_type": "code",
   "execution_count": 8,
   "id": "a5725f13",
   "metadata": {},
   "outputs": [],
   "source": [
    "browser.find_element_by_css_selector('div.toolTipCont.fullLy>div>button').click()\n",
    "browser.find_elements_by_css_selector('input#txtSearch')[0].send_keys('선택한')\n",
    "\n",
    "browser.find_element_by_css_selector('button#btnSraech').click()"
   ]
  },
  {
   "cell_type": "code",
   "execution_count": 9,
   "id": "2ae529d9",
   "metadata": {},
   "outputs": [],
   "source": [
    "from bs4 import BeautifulSoup\n",
    "import pandas as pd"
   ]
  },
  {
   "cell_type": "code",
   "execution_count": 15,
   "id": "02fe1811",
   "metadata": {},
   "outputs": [],
   "source": [
    "def scrap(num):\n",
    "    contents = []\n",
    "    browser.find_element_by_css_selector('li:nth-child('+str(num)+') > div.txBx > p > a > span').click()\n",
    "    html = browser.page_source\n",
    "    soup = BeautifulSoup(html, 'html.parser')\n",
    "    introduction_page = soup.select('div.stContainer')\n",
    "    time.sleep(0.5)\n",
    "\n",
    "    for scraping in introduction_page:\n",
    "        company = introduction_page[0].select('h2 > strong > a')[0].text.strip()\n",
    "        group = introduction_page[0].select('h2 > em')[0].text.strip()\n",
    "        score = introduction_page[0].select('div.adviceTotal > div > span')[0].text.strip()\n",
    "        \n",
    "        \n",
    "        for q in range(0, 10):\n",
    "            try:\n",
    "                question = soup.select('button > span.tx')[q].text.strip()\n",
    "                answer = soup.select('dd > div.tx')[q].text.strip()\n",
    "#                 print(question, answer)\n",
    "                contents.append([company, group, score, question, answer])                \n",
    "            except IndexError:\n",
    "                pass\n",
    "    browser.back()\n",
    "    return contents\n",
    "\n",
    "# df = pd.DataFrame(contents, columns=['company', 'group', 'score', 'question', 'answer'])\n",
    "\n"
   ]
  },
  {
   "cell_type": "code",
   "execution_count": 16,
   "id": "8bd314bc",
   "metadata": {},
   "outputs": [
    {
     "ename": "NameError",
     "evalue": "name 'contents' is not defined",
     "output_type": "error",
     "traceback": [
      "\u001b[1;31m---------------------------------------------------------------------------\u001b[0m",
      "\u001b[1;31mNameError\u001b[0m                                 Traceback (most recent call last)",
      "\u001b[1;32m<ipython-input-16-c392d6cd47c2>\u001b[0m in \u001b[0;36m<module>\u001b[1;34m\u001b[0m\n\u001b[1;32m----> 1\u001b[1;33m \u001b[0mscrap\u001b[0m\u001b[1;33m(\u001b[0m\u001b[1;36m2\u001b[0m\u001b[1;33m)\u001b[0m\u001b[1;33m,\u001b[0m \u001b[0mcontents\u001b[0m\u001b[1;33m\u001b[0m\u001b[1;33m\u001b[0m\u001b[0m\n\u001b[0m",
      "\u001b[1;31mNameError\u001b[0m: name 'contents' is not defined"
     ]
    }
   ],
   "source": [
    "scrap(2), contents"
   ]
  },
  {
   "cell_type": "code",
   "execution_count": null,
   "id": "d444006c",
   "metadata": {},
   "outputs": [],
   "source": [
    "df = pd.DataFrame(data, columns=['company', 'group', 'score', 'question', 'answer'])\n",
    "df"
   ]
  },
  {
   "cell_type": "code",
   "execution_count": null,
   "id": "108027f8",
   "metadata": {},
   "outputs": [],
   "source": [
    "scrap(2), contents"
   ]
  },
  {
   "cell_type": "code",
   "execution_count": null,
   "id": "7770bde5",
   "metadata": {},
   "outputs": [],
   "source": [
    "data=[[scrap(1)],[scrap(2)],[scrap(3)]]"
   ]
  },
  {
   "cell_type": "code",
   "execution_count": null,
   "id": "d935ca7c",
   "metadata": {},
   "outputs": [],
   "source": [
    "df = pd.DataFrame(data, columns=['company', 'group', 'score', 'question', 'answer'])\n",
    "df"
   ]
  },
  {
   "cell_type": "code",
   "execution_count": null,
   "id": "a3d1f74e",
   "metadata": {},
   "outputs": [],
   "source": [
    "df1 = pd.DataFrame(contents, scrap(1))\n",
    "df2 = pd.DataFrame(contents, scrap(2))"
   ]
  },
  {
   "cell_type": "code",
   "execution_count": null,
   "id": "7d368e0d",
   "metadata": {},
   "outputs": [],
   "source": [
    "df1"
   ]
  },
  {
   "cell_type": "code",
   "execution_count": null,
   "id": "b5c8aa76",
   "metadata": {},
   "outputs": [],
   "source": [
    "for i in range(1,4):\n",
    "    scrap(i).append(contents)    "
   ]
  },
  {
   "cell_type": "code",
   "execution_count": null,
   "id": "09169d7a",
   "metadata": {},
   "outputs": [],
   "source": [
    "df = pd.DataFrame(contents, columns=['company', 'group', 'score', 'question', 'answer'])\n",
    "df"
   ]
  },
  {
   "cell_type": "code",
   "execution_count": null,
   "id": "b8c40875",
   "metadata": {},
   "outputs": [],
   "source": []
  }
 ],
 "metadata": {
  "kernelspec": {
   "display_name": "Python 3",
   "language": "python",
   "name": "python3"
  },
  "language_info": {
   "codemirror_mode": {
    "name": "ipython",
    "version": 3
   },
   "file_extension": ".py",
   "mimetype": "text/x-python",
   "name": "python",
   "nbconvert_exporter": "python",
   "pygments_lexer": "ipython3",
   "version": "3.8.8"
  }
 },
 "nbformat": 4,
 "nbformat_minor": 5
}
