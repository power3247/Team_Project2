{
 "cells": [
  {
   "cell_type": "code",
   "execution_count": 266,
   "id": "86b892be",
   "metadata": {},
   "outputs": [],
   "source": [
    "from selenium import webdriver"
   ]
  },
  {
   "cell_type": "code",
   "execution_count": 267,
   "id": "a2dedeac",
   "metadata": {},
   "outputs": [
    {
     "name": "stdout",
     "output_type": "stream",
     "text": [
      " C 드라이브의 볼륨: Windows\n",
      " 볼륨 일련 번호: 729B-BAE0\n",
      "\n",
      " C:\\Develops\\Team_Project2\\scrapping 디렉터리\n",
      "\n",
      "2021-08-11  오후 06:04        11,177,472 chromedriver.exe\n",
      "               1개 파일          11,177,472 바이트\n",
      "               0개 디렉터리  186,898,100,224 바이트 남음\n"
     ]
    }
   ],
   "source": [
    "!dir .\\chromedriver.exe"
   ]
  },
  {
   "cell_type": "code",
   "execution_count": 268,
   "id": "bb3efa4a",
   "metadata": {},
   "outputs": [],
   "source": [
    "browser = webdriver.Chrome('./chromedriver.exe')"
   ]
  },
  {
   "cell_type": "code",
   "execution_count": 269,
   "id": "4daddd2d",
   "metadata": {},
   "outputs": [],
   "source": [
    "browser.get('https://www.jobkorea.co.kr/')"
   ]
  },
  {
   "cell_type": "code",
   "execution_count": 270,
   "id": "b750160b",
   "metadata": {},
   "outputs": [],
   "source": [
    "import time"
   ]
  },
  {
   "cell_type": "code",
   "execution_count": 271,
   "id": "c972ceab",
   "metadata": {},
   "outputs": [],
   "source": [
    "browser.find_element_by_css_selector('span.mainBtn.mainBtnPer').click()\n",
    "browser.find_elements_by_css_selector('input#lb_id.iptTx')[0].send_keys('a')\n",
    "browser.find_elements_by_css_selector('input#lb_pw.iptTx.devCapsLock')[0].send_keys('m')\n",
    "browser.find_element_by_css_selector('div.loginIptWrap.clear>button.btnLogin').click()"
   ]
  },
  {
   "cell_type": "code",
   "execution_count": 273,
   "id": "21a4e815",
   "metadata": {},
   "outputs": [],
   "source": [
    "time.sleep(2)\n",
    "browser.find_element_by_css_selector('li#gnbStart>a.linkItem').click()\n",
    "browser.find_element_by_css_selector('li>a[href=\"/starter/passassay/\"]').click()\n",
    "\n",
    "browser.find_element_by_css_selector('div.toolTipCont.fullLy>div>button').click()"
   ]
  },
  {
   "cell_type": "code",
   "execution_count": 274,
   "id": "bf88b41a",
   "metadata": {},
   "outputs": [],
   "source": [
    "time.sleep(2)\n",
    "browser.find_elements_by_css_selector('input#txtSearch')[0].send_keys('자기소개')\n",
    "\n",
    "browser.find_element_by_css_selector('button#btnSraech').click()"
   ]
  },
  {
   "cell_type": "markdown",
   "id": "b92399b7",
   "metadata": {},
   "source": [
    "div.starListsWrap.ctTarget 합격자소서 20개짜리 부분 \n",
    "\n",
    "ul.selfLists>li 한 부분 \n",
    "\n",
    "span.titTx 원하는 기업 클릭\n"
   ]
  },
  {
   "cell_type": "code",
   "execution_count": 280,
   "id": "8abc36b9",
   "metadata": {},
   "outputs": [],
   "source": [
    "from bs4 import BeautifulSoup"
   ]
  },
  {
   "cell_type": "code",
   "execution_count": 281,
   "id": "350124ff",
   "metadata": {},
   "outputs": [],
   "source": [
    "# introduction_page = soup.select('div.starListsWrap.ctTarget')"
   ]
  },
  {
   "cell_type": "code",
   "execution_count": 282,
   "id": "af8483d8",
   "metadata": {},
   "outputs": [],
   "source": [
    "# introduction_page[0]"
   ]
  },
  {
   "cell_type": "markdown",
   "id": "ad5f1afe",
   "metadata": {},
   "source": [
    "자기소개 기준으로 한 url (그 위치 어떻게 바꿀 수 있을까?)\n",
    "\n",
    "1-11 페이지 네이션"
   ]
  },
  {
   "cell_type": "code",
   "execution_count": 331,
   "id": "b8e830b4",
   "metadata": {},
   "outputs": [
    {
     "ename": "NoSuchElementException",
     "evalue": "Message: no such element: Unable to locate element: {\"method\":\"css selector\",\"selector\":\"div.viewBtns>a.linkList\"}\n  (Session info: chrome=92.0.4515.131)\n",
     "output_type": "error",
     "traceback": [
      "\u001b[1;31m---------------------------------------------------------------------------\u001b[0m",
      "\u001b[1;31mNoSuchElementException\u001b[0m                    Traceback (most recent call last)",
      "\u001b[1;32m<ipython-input-331-8aa8685701c3>\u001b[0m in \u001b[0;36m<module>\u001b[1;34m\u001b[0m\n\u001b[0;32m     22\u001b[0m     \u001b[0mdatas\u001b[0m\u001b[1;33m\u001b[0m\u001b[0m\n\u001b[0;32m     23\u001b[0m \u001b[1;33m\u001b[0m\u001b[0m\n\u001b[1;32m---> 24\u001b[1;33m     \u001b[0mbrowser\u001b[0m\u001b[1;33m.\u001b[0m\u001b[0mfind_element_by_css_selector\u001b[0m\u001b[1;33m(\u001b[0m\u001b[1;34m'div.viewBtns>a.linkList'\u001b[0m\u001b[1;33m)\u001b[0m\u001b[1;33m.\u001b[0m\u001b[0mclick\u001b[0m\u001b[1;33m(\u001b[0m\u001b[1;33m)\u001b[0m\u001b[1;33m\u001b[0m\u001b[0m\n\u001b[0m",
      "\u001b[1;32mc:\\python\\python36\\lib\\site-packages\\selenium\\webdriver\\remote\\webdriver.py\u001b[0m in \u001b[0;36mfind_element_by_css_selector\u001b[1;34m(self, css_selector)\u001b[0m\n\u001b[0;32m    596\u001b[0m             \u001b[0melement\u001b[0m \u001b[1;33m=\u001b[0m \u001b[0mdriver\u001b[0m\u001b[1;33m.\u001b[0m\u001b[0mfind_element_by_css_selector\u001b[0m\u001b[1;33m(\u001b[0m\u001b[1;34m'#foo'\u001b[0m\u001b[1;33m)\u001b[0m\u001b[1;33m\u001b[0m\u001b[0m\n\u001b[0;32m    597\u001b[0m         \"\"\"\n\u001b[1;32m--> 598\u001b[1;33m         \u001b[1;32mreturn\u001b[0m \u001b[0mself\u001b[0m\u001b[1;33m.\u001b[0m\u001b[0mfind_element\u001b[0m\u001b[1;33m(\u001b[0m\u001b[0mby\u001b[0m\u001b[1;33m=\u001b[0m\u001b[0mBy\u001b[0m\u001b[1;33m.\u001b[0m\u001b[0mCSS_SELECTOR\u001b[0m\u001b[1;33m,\u001b[0m \u001b[0mvalue\u001b[0m\u001b[1;33m=\u001b[0m\u001b[0mcss_selector\u001b[0m\u001b[1;33m)\u001b[0m\u001b[1;33m\u001b[0m\u001b[0m\n\u001b[0m\u001b[0;32m    599\u001b[0m \u001b[1;33m\u001b[0m\u001b[0m\n\u001b[0;32m    600\u001b[0m     \u001b[1;32mdef\u001b[0m \u001b[0mfind_elements_by_css_selector\u001b[0m\u001b[1;33m(\u001b[0m\u001b[0mself\u001b[0m\u001b[1;33m,\u001b[0m \u001b[0mcss_selector\u001b[0m\u001b[1;33m)\u001b[0m\u001b[1;33m:\u001b[0m\u001b[1;33m\u001b[0m\u001b[0m\n",
      "\u001b[1;32mc:\\python\\python36\\lib\\site-packages\\selenium\\webdriver\\remote\\webdriver.py\u001b[0m in \u001b[0;36mfind_element\u001b[1;34m(self, by, value)\u001b[0m\n\u001b[0;32m    976\u001b[0m         return self.execute(Command.FIND_ELEMENT, {\n\u001b[0;32m    977\u001b[0m             \u001b[1;34m'using'\u001b[0m\u001b[1;33m:\u001b[0m \u001b[0mby\u001b[0m\u001b[1;33m,\u001b[0m\u001b[1;33m\u001b[0m\u001b[0m\n\u001b[1;32m--> 978\u001b[1;33m             'value': value})['value']\n\u001b[0m\u001b[0;32m    979\u001b[0m \u001b[1;33m\u001b[0m\u001b[0m\n\u001b[0;32m    980\u001b[0m     \u001b[1;32mdef\u001b[0m \u001b[0mfind_elements\u001b[0m\u001b[1;33m(\u001b[0m\u001b[0mself\u001b[0m\u001b[1;33m,\u001b[0m \u001b[0mby\u001b[0m\u001b[1;33m=\u001b[0m\u001b[0mBy\u001b[0m\u001b[1;33m.\u001b[0m\u001b[0mID\u001b[0m\u001b[1;33m,\u001b[0m \u001b[0mvalue\u001b[0m\u001b[1;33m=\u001b[0m\u001b[1;32mNone\u001b[0m\u001b[1;33m)\u001b[0m\u001b[1;33m:\u001b[0m\u001b[1;33m\u001b[0m\u001b[0m\n",
      "\u001b[1;32mc:\\python\\python36\\lib\\site-packages\\selenium\\webdriver\\remote\\webdriver.py\u001b[0m in \u001b[0;36mexecute\u001b[1;34m(self, driver_command, params)\u001b[0m\n\u001b[0;32m    319\u001b[0m         \u001b[0mresponse\u001b[0m \u001b[1;33m=\u001b[0m \u001b[0mself\u001b[0m\u001b[1;33m.\u001b[0m\u001b[0mcommand_executor\u001b[0m\u001b[1;33m.\u001b[0m\u001b[0mexecute\u001b[0m\u001b[1;33m(\u001b[0m\u001b[0mdriver_command\u001b[0m\u001b[1;33m,\u001b[0m \u001b[0mparams\u001b[0m\u001b[1;33m)\u001b[0m\u001b[1;33m\u001b[0m\u001b[0m\n\u001b[0;32m    320\u001b[0m         \u001b[1;32mif\u001b[0m \u001b[0mresponse\u001b[0m\u001b[1;33m:\u001b[0m\u001b[1;33m\u001b[0m\u001b[0m\n\u001b[1;32m--> 321\u001b[1;33m             \u001b[0mself\u001b[0m\u001b[1;33m.\u001b[0m\u001b[0merror_handler\u001b[0m\u001b[1;33m.\u001b[0m\u001b[0mcheck_response\u001b[0m\u001b[1;33m(\u001b[0m\u001b[0mresponse\u001b[0m\u001b[1;33m)\u001b[0m\u001b[1;33m\u001b[0m\u001b[0m\n\u001b[0m\u001b[0;32m    322\u001b[0m             response['value'] = self._unwrap_value(\n\u001b[0;32m    323\u001b[0m                 response.get('value', None))\n",
      "\u001b[1;32mc:\\python\\python36\\lib\\site-packages\\selenium\\webdriver\\remote\\errorhandler.py\u001b[0m in \u001b[0;36mcheck_response\u001b[1;34m(self, response)\u001b[0m\n\u001b[0;32m    240\u001b[0m                 \u001b[0malert_text\u001b[0m \u001b[1;33m=\u001b[0m \u001b[0mvalue\u001b[0m\u001b[1;33m[\u001b[0m\u001b[1;34m'alert'\u001b[0m\u001b[1;33m]\u001b[0m\u001b[1;33m.\u001b[0m\u001b[0mget\u001b[0m\u001b[1;33m(\u001b[0m\u001b[1;34m'text'\u001b[0m\u001b[1;33m)\u001b[0m\u001b[1;33m\u001b[0m\u001b[0m\n\u001b[0;32m    241\u001b[0m             \u001b[1;32mraise\u001b[0m \u001b[0mexception_class\u001b[0m\u001b[1;33m(\u001b[0m\u001b[0mmessage\u001b[0m\u001b[1;33m,\u001b[0m \u001b[0mscreen\u001b[0m\u001b[1;33m,\u001b[0m \u001b[0mstacktrace\u001b[0m\u001b[1;33m,\u001b[0m \u001b[0malert_text\u001b[0m\u001b[1;33m)\u001b[0m\u001b[1;33m\u001b[0m\u001b[0m\n\u001b[1;32m--> 242\u001b[1;33m         \u001b[1;32mraise\u001b[0m \u001b[0mexception_class\u001b[0m\u001b[1;33m(\u001b[0m\u001b[0mmessage\u001b[0m\u001b[1;33m,\u001b[0m \u001b[0mscreen\u001b[0m\u001b[1;33m,\u001b[0m \u001b[0mstacktrace\u001b[0m\u001b[1;33m)\u001b[0m\u001b[1;33m\u001b[0m\u001b[0m\n\u001b[0m\u001b[0;32m    243\u001b[0m \u001b[1;33m\u001b[0m\u001b[0m\n\u001b[0;32m    244\u001b[0m     \u001b[1;32mdef\u001b[0m \u001b[0m_value_or_default\u001b[0m\u001b[1;33m(\u001b[0m\u001b[0mself\u001b[0m\u001b[1;33m,\u001b[0m \u001b[0mobj\u001b[0m\u001b[1;33m,\u001b[0m \u001b[0mkey\u001b[0m\u001b[1;33m,\u001b[0m \u001b[0mdefault\u001b[0m\u001b[1;33m)\u001b[0m\u001b[1;33m:\u001b[0m\u001b[1;33m\u001b[0m\u001b[0m\n",
      "\u001b[1;31mNoSuchElementException\u001b[0m: Message: no such element: Unable to locate element: {\"method\":\"css selector\",\"selector\":\"div.viewBtns>a.linkList\"}\n  (Session info: chrome=92.0.4515.131)\n"
     ]
    }
   ],
   "source": [
    "# uri = 'https://www.jobkorea.co.kr/starter/PassAssay?FavorCo_Stat=0&Pass_An_Stat=0&schTxt=%EC%9E%90%EA%B8%B0%EC%86%8C%EA%B0%9C&OrderBy=0&EduType=0&WorkType=0&isSaved=1&Page=1'\n",
    "\n",
    "# for paging in range(1,11):\n",
    "    \n",
    "# div.tplPagination\n",
    "\n",
    "\n",
    "for detail in range(1,21):\n",
    "    browser.find_element_by_css_selector('li:nth-child('+str(detail)+') > div.txBx > p > a > span').click()\n",
    "    \n",
    "    QandA = detail_page[0].select('dl.qnaLists')[0]    \n",
    "    Q = detail_page[0].select('dt>button>span.tx')[0].text.strip()       \n",
    "    A = detail_page[0].select('dd>div.tx')[0].text.strip()\n",
    "    \n",
    "    datas = []\n",
    "    count = 0\n",
    "    while (count >= len(Q) and len(A)) : \n",
    "        datas[Q] = Q\n",
    "        datas[A] = A\n",
    "           \n",
    "        result2 = [Q,A]      \n",
    "        datas.append(result2)\n",
    "    datas\n",
    "    \n",
    "    browser.find_element_by_css_selector('div.viewBtns>a.linkList').click()"
   ]
  },
  {
   "cell_type": "markdown",
   "id": "90784e62",
   "metadata": {},
   "source": [
    "```\n",
    "contents =[]\n",
    "\n",
    "for i in range(1,21):\n",
    "    browser.find_element_by_css_selector('span.titTx('+str(i)+')').click()\n",
    "    soup=BeautifulSoup(browser.page_source,'html.parser')\n",
    "    introduction_page = soup.select('div.starListsWrap.ctTarget')\n",
    "    \n",
    "    \n",
    "    for scraping in detail_page:\n",
    "        detail_page = soup.select('div.stContainer')\n",
    "\n",
    "        company = detail_page[0].select('div.selfTopBx')[0].text.strip()\n",
    "        group = detail_page[0].select('div.adviceTotal')[0].text.strip()\n",
    "        clasificar = detail_page[0].select('dl.qnaLists ')[0].text.strip()\n",
    "        result = [company, group, clasificar]        \n",
    "        contents.append(result)  \n",
    "    contents  \n",
    "\n",
    "    browser.back() \n",
    "```\n",
    "\n",
    "``` \n",
    " contents = []  \n",
    "\n",
    "for scraping in introduction_page:\n",
    "    company == company\n",
    "    group == group\n",
    "    clasificar == clasificar   \n",
    "    result = [company, group, clasificar]        \n",
    "    contents.append(result)  \n",
    "contents   \n",
    "```"
   ]
  },
  {
   "cell_type": "markdown",
   "id": "7eb7f168",
   "metadata": {},
   "source": [
    "div.stContainer 회사별 합격 자소서페이지\n",
    "\n",
    "div.viewTitWrap>h2>strong>a 회사이름\n",
    "\n",
    "span.grade 자소서 평점\n",
    "\n",
    "dl.qnaLists 질문내용"
   ]
  },
  {
   "cell_type": "code",
   "execution_count": 296,
   "id": "1b88233a",
   "metadata": {},
   "outputs": [
    {
     "data": {
      "text/plain": [
       "bs4.element.Tag"
      ]
     },
     "execution_count": 296,
     "metadata": {},
     "output_type": "execute_result"
    }
   ],
   "source": [
    "soup=BeautifulSoup(browser.page_source,'html.parser')\n",
    "\n",
    "detail_page = soup.select('div.stContainer')\n",
    "\n",
    "type(detail_page[0])"
   ]
  },
  {
   "cell_type": "code",
   "execution_count": 324,
   "id": "28b596ec",
   "metadata": {},
   "outputs": [
    {
     "data": {
      "text/plain": [
       "'(주)포스코인터내셔널'"
      ]
     },
     "execution_count": 324,
     "metadata": {},
     "output_type": "execute_result"
    }
   ],
   "source": [
    "company = detail_page[0].select('div.viewTitWrap>h2>strong>a')[0].text.strip()\n",
    "company"
   ]
  },
  {
   "cell_type": "code",
   "execution_count": 323,
   "id": "540422dc",
   "metadata": {},
   "outputs": [
    {
     "data": {
      "text/plain": [
       "'2'"
      ]
     },
     "execution_count": 323,
     "metadata": {},
     "output_type": "execute_result"
    }
   ],
   "source": [
    "group=  detail_page[0].select('span.grade')[0].text.strip()\n",
    "group\n",
    "#평점만 뽑아내야 함"
   ]
  },
  {
   "cell_type": "code",
   "execution_count": 289,
   "id": "e1cf4e04",
   "metadata": {
    "collapsed": true
   },
   "outputs": [
    {
     "data": {
      "text/plain": [
       "'질문Q1.성장과정 및 생활신조 등 자기소개를 기술하여 주시기 바랍니다. 보기\\n\\n\\n답변\\n\\n\"끈기를 가지고 노력하면 불가능한 것은 없다\"\\n\\n어떠한 일을 시작하기 전에 두려운 마음이 들 때마다 이러한 마음가짐을 갖추고 도전하였습니다. 교내에서 실시하는 경제 골든벨 대회에 참여했던 경험이 있습니다. 학교 시험이 끝난 후 담임 선생님께서는 이틀 뒤에 대회가 실시될 것이라며 자세한 일정에 대해서 공지해 주셨습니다. 문제 출제 범위는 70페이지에 달하는 경제 관련 용어들이었습니다. 공부해야 하는 양에 비해 대회 전까지 준비할 수 있는 기간이 짧게 느껴졌기 때문에 주변 친구들은 저에게 지금부터 시작해봤자 좋은 성적을 거두지 못할 것이라며 포기하기를 권유하였습니다. 하지만 전부터 기다렸던 대회였고 꼭 해내고 싶다는 생각이 들어 이틀이라는 기간 동안 시간이 날 때마다 보며 공부하였습니다. 잘 외워지지 않는 부분은 따로 암기 노트를 만들어 들고 다니면서 익숙해지도록 하였고 저만의 암기 매뉴얼을 만들어가며 공부하였습니다. \\n\\n그 결과 대회에서 1위라는 성적을 거둬 최우수상을 수상할 수 있었습니다. 이 경험을 통해 모든 일에 포기하지 않고 노력하여 달성하는 방법에 대하여 배우게 되었습니다. 아쉬운점 1이러한 역량을 바탕으로 맡은 업무에 대해 끝까지 완수해내는 사원이 되겠습니다.                        글자수 604자1,045Byte\\n\\n\\n아쉬운점 1 이 항목은 이런 내용을 쓰는 항목이 아니라 지원자의 성장과정을 설명하는 항목입니다. 많은 지원자들이 대표적으로 실수하는 부분이 이런 부분입니다. 설명을 통해 자신을 소개하는 항목과 대표적인 경험을 구체적으로 소개하는 항목을 제대로 구분하지 못한다는 것입니다. 이 항목은 경험을 구구절절하게 제시하는 항목이 아니라 자신을 소개하기 위해 다양한 이야기를 제시하는 항목입니다. 아마도 소제목이 생활신조 인 것 같은데, 본 문에서 생활신조가 무엇인지도 명확하게 설명하지 않았습니다. \\n\\n\\n\\n질문Q2.성격, 능력 관련 본인의 장단점을 기술하여 주시기 바랍니다. 보기\\n\\n\\n답변\\n\\n저의 장점은 어떤 일이든 책임감을 가지고 수행해내는 것입니다. 고등학교 1학년 때 학습 부반장을 맡았던 경험이 있습니다. 당시 반의 수업 분위기가 좋지 않았고 이 점에 불만을 가진 친구들이 생기게 되었습니다. 그래서 저는 학습 분위기 개선이 필요하다는 생각이 들었습니다. 먼저 수업 시간에만 휴대폰을 걷자는 의견을 냈고 대부분이 찬성하여 실시하게 되었습니다. 매 수업 시간 전 반 친구들이 휴대폰을 낼 수 있도록 안내하고 안 낸 친구가 없도록 일일이 수를 세는 역할을 수행하였습니다. 또한 수업 내용을 이해하지 못한 친구들에게는 쉬는 시간과 방과 후 시간을 이용하여 설명해 주었습니다. 그 결과 반 학습 분위기도 좋아지고 학기 초 성적 최하위권 반에서 학기 말에는 1등 반으로 마무리할 수 있었습니다.아쉬운점 1\\n\\n저의 단점은 많은 사람들 앞에서 말하는 것을 조금 두려워하는 것입니다. 이러한 성격 때문에 항상 준비한 만큼 결과를 보여주지 못하여 극복하고 싶었습니다. 그래서 학급 부반장이나 동아리 차장 등 임원 역할을 맡아 친구들 앞에서 말을 하는 연습을 하였고 수업 시간에도 나서서 발표하려고 노력하였습니다. 또한, 중요한 발표 전에는 실제 상황처럼 가정하여 리허설 연습을 하며 극복하고 있습니다.아쉬운점 2 글자수 612자1,054Byte\\n\\n\\n아쉬운점 1 책임감이라는 흔하게 볼 수 있는 이야기 주제를 활용한 점이 아쉽고, 지원자가 특별히 돋보이는 사례가 아니라는 점이 아쉽습니다. 부반장으로서 당연히 해야 할 일을 한 사례처럼 보인다는 것입니다.\\n아쉬운점 2 단점 역시, 흔히 볼 수 있는 스토리입니다. 그리고 질문에서 성격과 능력에 관련한 장단점을 쓰라고 했는데, 능력에 대한 내용이 없습니다.\\n\\n\\n\\n질문Q3.지금까지 본인의 경험 중 가장 기억에 남는 성공 사례와 실패 사례에 대하여 기술하여 주시기 바랍니다.보기\\n\\n\\n답변\\n\\n체육대회 때 반 대항전으로 실시하는 치어리딩에 참여하였습니다. 평소 춤추는 데에 자신이 없어 사람들 앞에서 추는 것을 꺼려 하였습니다. 그러다 보니 연습을 할 때 자연스럽게 동작이 작아졌고 친구들에 비해 진도도 뒤처지게 되었습니다. 치어리딩은 협동심이 중요시되기 때문에 저로 인해 팀 전체에 피해가 갈 수도 있는 상황이었습니다. 이러한 상황을 극복하기 위해 연습하는 모습을 녹화하여 다시 보며 스스로 피드백을 하고 주변 친구들에게도 보여주며 고칠 부분을 찾아나갔습니다. 동작 연습 후에는 가족들 앞에서 춤을 추며 극복해나갔습니다. 그 결과 저희 반은 치어리딩 부분에서 높은 점수를 받아 종합 1위를 할 수 있었고 반 친구들은 체육대회 MVP로 저를 뽑아주었습니다.좋은점 1\\n\\n전산회계 운용사 2급 자격증 실기 시험에서 불합격했던 경험이 있습니다. 방과 후 수업에 참여하여 열심히 공부하였지만, 시험 당일 프로그램 오류로 인해 작성했던 답안지가 저장이 되지 않았습니다. 그 결과 다른 과목에서 높은 점수를 받았지만 한 과목에서 0점을 받아 합격하지 못하였습니다. 이 경험을 바탕으로 만일의 상황까지 예측하며 계획하는 습관을 가지게 되었고 다음 시험에 재도전하여 높은 점수로 합격할 수 있었습니다.아쉬운점 1 글자수 609자1,052Byte\\n\\n\\n좋은점 1 성공 사례에 대한 내용입니다. 특별히 문제되는 부분은 없지만 왜 이 경험이 가장 기억에 남는 성공 사례인지 설명이 필요합니다.\\n아쉬운점 1 이 부분 역시, 왜 이 경험이 가장 큰 실패의 경험인지 제시할 필요가 있습니다. 내용상으로 실패의 경험이기 보다는 실수의 경험에 가깝다는 점이 아쉽습니다.'"
      ]
     },
     "execution_count": 289,
     "metadata": {},
     "output_type": "execute_result"
    }
   ],
   "source": [
    "# clasificar = detail_page[0].select('dl.qnaLists ')[0].text.strip()\n",
    "# clasificar\n",
    "# 한번에 질문 답 가져오기 "
   ]
  },
  {
   "cell_type": "markdown",
   "id": "75a84cdc",
   "metadata": {},
   "source": [
    "dl.qnaLists 질문 답 부분 전체\n",
    "dt>button>span.tx 질문\n",
    "dd>div 답"
   ]
  },
  {
   "cell_type": "code",
   "execution_count": 297,
   "id": "8e7358d5",
   "metadata": {},
   "outputs": [
    {
     "data": {
      "text/plain": [
       "bs4.element.Tag"
      ]
     },
     "execution_count": 297,
     "metadata": {},
     "output_type": "execute_result"
    }
   ],
   "source": [
    "QandA = detail_page[0].select('dl.qnaLists')[0]\n",
    "type(QandA)"
   ]
  },
  {
   "cell_type": "code",
   "execution_count": 308,
   "id": "ad9cf678",
   "metadata": {},
   "outputs": [
    {
     "data": {
      "text/plain": [
       "'성장과정 및 생활신조 등 자기소개를 기술하여 주시기 바랍니다.'"
      ]
     },
     "execution_count": 308,
     "metadata": {},
     "output_type": "execute_result"
    }
   ],
   "source": [
    "Q =  detail_page[0].select('dt>button>span.tx')[0].text.strip()\n",
    "Q"
   ]
  },
  {
   "cell_type": "code",
   "execution_count": 317,
   "id": "8bd4c00f",
   "metadata": {},
   "outputs": [
    {
     "data": {
      "text/plain": [
       "'\"끈기를 가지고 노력하면 불가능한 것은 없다\"\\n\\n어떠한 일을 시작하기 전에 두려운 마음이 들 때마다 이러한 마음가짐을 갖추고 도전하였습니다. 교내에서 실시하는 경제 골든벨 대회에 참여했던 경험이 있습니다. 학교 시험이 끝난 후 담임 선생님께서는 이틀 뒤에 대회가 실시될 것이라며 자세한 일정에 대해서 공지해 주셨습니다. 문제 출제 범위는 70페이지에 달하는 경제 관련 용어들이었습니다. 공부해야 하는 양에 비해 대회 전까지 준비할 수 있는 기간이 짧게 느껴졌기 때문에 주변 친구들은 저에게 지금부터 시작해봤자 좋은 성적을 거두지 못할 것이라며 포기하기를 권유하였습니다. 하지만 전부터 기다렸던 대회였고 꼭 해내고 싶다는 생각이 들어 이틀이라는 기간 동안 시간이 날 때마다 보며 공부하였습니다. 잘 외워지지 않는 부분은 따로 암기 노트를 만들어 들고 다니면서 익숙해지도록 하였고 저만의 암기 매뉴얼을 만들어가며 공부하였습니다. \\n\\n그 결과 대회에서 1위라는 성적을 거둬 최우수상을 수상할 수 있었습니다. 이 경험을 통해 모든 일에 포기하지 않고 노력하여 달성하는 방법에 대하여 배우게 되었습니다. 아쉬운점 1이러한 역량을 바탕으로 맡은 업무에 대해 끝까지 완수해내는 사원이 되겠습니다.                        글자수 604자1,045Byte'"
      ]
     },
     "execution_count": 317,
     "metadata": {},
     "output_type": "execute_result"
    }
   ],
   "source": [
    "A = detail_page[0].select('dd>div.tx')[0].text.strip()\n",
    "A"
   ]
  },
  {
   "cell_type": "markdown",
   "id": "dc3775e2",
   "metadata": {},
   "source": [
    "```\n",
    "datas = []\n",
    "\n",
    "for q in QandA:\n",
    "    Q == Q\n",
    "    A == A\n",
    "    result2 = [Q,A]\n",
    "    datas.append(result2)\n",
    "        \n",
    "datas\n",
    "\n",
    "```"
   ]
  },
  {
   "cell_type": "code",
   "execution_count": 339,
   "id": "dc6af09c",
   "metadata": {},
   "outputs": [
    {
     "ename": "KeyboardInterrupt",
     "evalue": "",
     "output_type": "error",
     "traceback": [
      "\u001b[1;31m---------------------------------------------------------------------------\u001b[0m",
      "\u001b[1;31mKeyboardInterrupt\u001b[0m                         Traceback (most recent call last)",
      "\u001b[1;32m<ipython-input-339-3ffc0f88f633>\u001b[0m in \u001b[0;36m<module>\u001b[1;34m\u001b[0m\n\u001b[0;32m      7\u001b[0m \u001b[1;32mwhile\u001b[0m \u001b[0mcount\u001b[0m \u001b[1;33m!=\u001b[0m \u001b[0mlen\u001b[0m\u001b[1;33m(\u001b[0m\u001b[0mQ\u001b[0m\u001b[1;33m)\u001b[0m \u001b[1;32mand\u001b[0m \u001b[0mlen\u001b[0m\u001b[1;33m(\u001b[0m\u001b[0mA\u001b[0m\u001b[1;33m)\u001b[0m \u001b[1;33m:\u001b[0m\u001b[1;33m\u001b[0m\u001b[0m\n\u001b[0;32m      8\u001b[0m \u001b[1;33m\u001b[0m\u001b[0m\n\u001b[1;32m----> 9\u001b[1;33m     \u001b[0mresult2\u001b[0m \u001b[1;33m=\u001b[0m \u001b[1;33m[\u001b[0m\u001b[0mQ\u001b[0m\u001b[1;33m,\u001b[0m\u001b[0mA\u001b[0m\u001b[1;33m]\u001b[0m\u001b[1;33m\u001b[0m\u001b[0m\n\u001b[0m\u001b[0;32m     10\u001b[0m     \u001b[0mdatas\u001b[0m\u001b[1;33m.\u001b[0m\u001b[0mappend\u001b[0m\u001b[1;33m(\u001b[0m\u001b[0mresult2\u001b[0m\u001b[1;33m)\u001b[0m\u001b[1;33m\u001b[0m\u001b[0m\n\u001b[0;32m     11\u001b[0m \u001b[0mdatas\u001b[0m\u001b[1;33m\u001b[0m\u001b[0m\n",
      "\u001b[1;31mKeyboardInterrupt\u001b[0m: "
     ]
    }
   ],
   "source": [
    "QandA = detail_page[0].select('dl.qnaLists')[0]    \n",
    "Q = detail_page[0].select('dt>button>span.tx')[0].text.strip()       \n",
    "A = detail_page[0].select('dd>div.tx')[0].text.strip()\n",
    "    \n",
    "datas = []\n",
    "    for q in QandA:\n",
    "        Q == Q\n",
    "        A == A       \n",
    "    result2 = [Q,A]      \n",
    "    datas.append(result2)\n",
    "    \n",
    "와일문써서 QandA의 값중 Q,A의 갯수가 8개 미만이면 나간다.\n",
    "\n",
    "datas"
   ]
  },
  {
   "cell_type": "code",
   "execution_count": null,
   "id": "c7695d27",
   "metadata": {},
   "outputs": [],
   "source": [
    "import pandas as pd"
   ]
  },
  {
   "cell_type": "code",
   "execution_count": null,
   "id": "28c8740f",
   "metadata": {},
   "outputs": [],
   "source": [
    "df = pd.DataFrame(datas)"
   ]
  },
  {
   "cell_type": "code",
   "execution_count": null,
   "id": "becf55d8",
   "metadata": {},
   "outputs": [],
   "source": [
    "df"
   ]
  },
  {
   "cell_type": "code",
   "execution_count": null,
   "id": "84f9ff0e",
   "metadata": {},
   "outputs": [],
   "source": []
  },
  {
   "cell_type": "code",
   "execution_count": null,
   "id": "bee1b296",
   "metadata": {},
   "outputs": [],
   "source": []
  }
 ],
 "metadata": {
  "kernelspec": {
   "display_name": "Python 3",
   "language": "python",
   "name": "python3"
  },
  "language_info": {
   "codemirror_mode": {
    "name": "ipython",
    "version": 3
   },
   "file_extension": ".py",
   "mimetype": "text/x-python",
   "name": "python",
   "nbconvert_exporter": "python",
   "pygments_lexer": "ipython3",
   "version": "3.6.4"
  }
 },
 "nbformat": 4,
 "nbformat_minor": 5
}
