{
 "cells": [
  {
   "cell_type": "code",
   "execution_count": 1,
   "id": "76f6df0b",
   "metadata": {},
   "outputs": [],
   "source": [
    "from selenium import webdriver"
   ]
  },
  {
   "cell_type": "code",
   "execution_count": 2,
   "id": "f8ac2a8b",
   "metadata": {},
   "outputs": [
    {
     "name": "stdout",
     "output_type": "stream",
     "text": [
      " C 드라이브의 볼륨에는 이름이 없습니다.\n",
      " 볼륨 일련 번호: 963C-DFD5\n",
      "\n",
      " C:\\Develops\\forkspoon 디렉터리\n",
      "\n",
      "2021-08-12  오후 10:04        11,107,328 chromedriver.exe\n",
      "               1개 파일          11,107,328 바이트\n",
      "               0개 디렉터리     178,085,888 바이트 남음\n"
     ]
    }
   ],
   "source": [
    "!dir .\\chromedriver.exe"
   ]
  },
  {
   "cell_type": "code",
   "execution_count": 3,
   "id": "3e016428",
   "metadata": {},
   "outputs": [],
   "source": [
    "browser = webdriver.Chrome('/chromedriver.exe')"
   ]
  },
  {
   "cell_type": "code",
   "execution_count": 4,
   "id": "2379da5b",
   "metadata": {},
   "outputs": [],
   "source": [
    "browser.get('https://www.jobkorea.co.kr/')"
   ]
  },
  {
   "cell_type": "code",
   "execution_count": 5,
   "id": "3be72492",
   "metadata": {},
   "outputs": [],
   "source": [
    "import time"
   ]
  },
  {
   "cell_type": "code",
   "execution_count": 6,
   "id": "16888afc",
   "metadata": {},
   "outputs": [],
   "source": [
    "time.sleep(1)\n",
    "browser.find_element_by_css_selector('span.mainBtn.mainBtnPer').click()\n",
    "browser.find_elements_by_css_selector('input#lb_id.iptTx')[0].send_keys('axlovexa')\n",
    "browser.find_elements_by_css_selector('input#lb_pw.iptTx.devCapsLock')[0].send_keys('multi0811')\n",
    "browser.find_element_by_css_selector('div.loginIptWrap.clear>button.btnLogin').click()"
   ]
  },
  {
   "cell_type": "code",
   "execution_count": 7,
   "id": "bd3a5e12",
   "metadata": {},
   "outputs": [],
   "source": [
    "time.sleep(1)\n",
    "browser.find_element_by_css_selector('li#gnbStart>a.linkItem').click()\n",
    "browser.find_element_by_css_selector('li>a[href=\"/starter/passassay/\"]').click()"
   ]
  },
  {
   "cell_type": "code",
   "execution_count": 8,
   "id": "a0db3ecd",
   "metadata": {},
   "outputs": [],
   "source": [
    "browser.find_element_by_css_selector('div.toolTipCont.fullLy>div>button').click()\n",
    "browser.find_elements_by_css_selector('input#txtSearch')[0].send_keys('선택한')\n",
    "\n",
    "browser.find_element_by_css_selector('button#btnSraech').click()"
   ]
  },
  {
   "cell_type": "code",
   "execution_count": 9,
   "id": "040e7892",
   "metadata": {},
   "outputs": [],
   "source": [
    "cnt = 0\n",
    "from bs4 import BeautifulSoup\n",
    "import pandas as pd"
   ]
  },
  {
   "cell_type": "code",
   "execution_count": 10,
   "id": "5169a045",
   "metadata": {},
   "outputs": [
    {
     "ename": "IndexError",
     "evalue": "list index out of range",
     "output_type": "error",
     "traceback": [
      "\u001b[1;31m---------------------------------------------------------------------------\u001b[0m",
      "\u001b[1;31mIndexError\u001b[0m                                Traceback (most recent call last)",
      "\u001b[1;32m<ipython-input-10-c549e8d10eb1>\u001b[0m in \u001b[0;36m<module>\u001b[1;34m\u001b[0m\n\u001b[0;32m     15\u001b[0m             \u001b[0mcompany\u001b[0m \u001b[1;33m=\u001b[0m \u001b[0mintroduction_page\u001b[0m\u001b[1;33m[\u001b[0m\u001b[1;36m0\u001b[0m\u001b[1;33m]\u001b[0m\u001b[1;33m.\u001b[0m\u001b[0mselect\u001b[0m\u001b[1;33m(\u001b[0m\u001b[1;34m'h2 > strong > a'\u001b[0m\u001b[1;33m)\u001b[0m\u001b[1;33m[\u001b[0m\u001b[1;36m0\u001b[0m\u001b[1;33m]\u001b[0m\u001b[1;33m.\u001b[0m\u001b[0mtext\u001b[0m\u001b[1;33m.\u001b[0m\u001b[0mstrip\u001b[0m\u001b[1;33m(\u001b[0m\u001b[1;33m)\u001b[0m\u001b[1;33m\u001b[0m\u001b[1;33m\u001b[0m\u001b[0m\n\u001b[0;32m     16\u001b[0m             \u001b[0mgroup\u001b[0m \u001b[1;33m=\u001b[0m \u001b[0mintroduction_page\u001b[0m\u001b[1;33m[\u001b[0m\u001b[1;36m0\u001b[0m\u001b[1;33m]\u001b[0m\u001b[1;33m.\u001b[0m\u001b[0mselect\u001b[0m\u001b[1;33m(\u001b[0m\u001b[1;34m'h2 > em'\u001b[0m\u001b[1;33m)\u001b[0m\u001b[1;33m[\u001b[0m\u001b[1;36m0\u001b[0m\u001b[1;33m]\u001b[0m\u001b[1;33m.\u001b[0m\u001b[0mtext\u001b[0m\u001b[1;33m.\u001b[0m\u001b[0mstrip\u001b[0m\u001b[1;33m(\u001b[0m\u001b[1;33m)\u001b[0m\u001b[1;33m\u001b[0m\u001b[1;33m\u001b[0m\u001b[0m\n\u001b[1;32m---> 17\u001b[1;33m             \u001b[0mscore\u001b[0m \u001b[1;33m=\u001b[0m \u001b[0mintroduction_page\u001b[0m\u001b[1;33m[\u001b[0m\u001b[1;36m0\u001b[0m\u001b[1;33m]\u001b[0m\u001b[1;33m.\u001b[0m\u001b[0mselect\u001b[0m\u001b[1;33m(\u001b[0m\u001b[1;34m'div.adviceTotal > div > span'\u001b[0m\u001b[1;33m)\u001b[0m\u001b[1;33m[\u001b[0m\u001b[1;36m0\u001b[0m\u001b[1;33m]\u001b[0m\u001b[1;33m.\u001b[0m\u001b[0mtext\u001b[0m\u001b[1;33m.\u001b[0m\u001b[0mstrip\u001b[0m\u001b[1;33m(\u001b[0m\u001b[1;33m)\u001b[0m\u001b[1;33m\u001b[0m\u001b[1;33m\u001b[0m\u001b[0m\n\u001b[0m\u001b[0;32m     18\u001b[0m \u001b[1;33m\u001b[0m\u001b[0m\n\u001b[0;32m     19\u001b[0m             \u001b[1;32mfor\u001b[0m \u001b[0mq\u001b[0m \u001b[1;32min\u001b[0m \u001b[0mrange\u001b[0m\u001b[1;33m(\u001b[0m\u001b[1;36m0\u001b[0m\u001b[1;33m,\u001b[0m \u001b[1;36m10\u001b[0m\u001b[1;33m)\u001b[0m\u001b[1;33m:\u001b[0m\u001b[1;33m\u001b[0m\u001b[1;33m\u001b[0m\u001b[0m\n",
      "\u001b[1;31mIndexError\u001b[0m: list index out of range"
     ]
    }
   ],
   "source": [
    "url = 'https://www.jobkorea.co.kr/starter/PassAssay?FavorCo_Stat=0&Pass_An_Stat=0&schTxt=%EC%84%A0%ED%83%9D%ED%95%9C&OrderBy=0&EduType=0&WorkType=0&isSaved=0&Page='\n",
    "contents = []\n",
    "for page in range(1,32):\n",
    "    target = url+str(page)\n",
    "    browser.get(target)\n",
    "    \n",
    "    for i in range(1,21):\n",
    "        browser.find_element_by_css_selector('li:nth-child('+str(i)+') > div.txBx > p > a > span').click()\n",
    "        html = browser.page_source\n",
    "        soup = BeautifulSoup(html, 'html.parser')\n",
    "        introduction_page = soup.select('div.stContainer')\n",
    "        time.sleep(0.5)\n",
    "\n",
    "        for scraping in introduction_page:\n",
    "            company = introduction_page[0].select('h2 > strong > a')[0].text.strip()\n",
    "            group = introduction_page[0].select('h2 > em')[0].text.strip()\n",
    "            score = introduction_page[0].select('div.adviceTotal > div > span')[0].text.strip()\n",
    "\n",
    "            for q in range(0, 10):\n",
    "                try:\n",
    "                    question = soup.select('button > span.tx')[q].text.strip()\n",
    "                    answer = soup.select('dd > div.tx')[q].text.strip()\n",
    "#                     print(company)\n",
    "                    contents.append([company, group, score, question, answer])\n",
    "                except IndexError:\n",
    "                    pass\n",
    "\n",
    "\n",
    "        browser.back()"
   ]
  },
  {
   "cell_type": "code",
   "execution_count": 11,
   "id": "4b5d6d67",
   "metadata": {},
   "outputs": [
    {
     "data": {
      "text/plain": [
       "291"
      ]
     },
     "execution_count": 11,
     "metadata": {},
     "output_type": "execute_result"
    },
    {
     "name": "stdout",
     "output_type": "stream",
     "text": [
      "The history saving thread hit an unexpected error (OperationalError('database or disk is full')).History will not be written to the database.\n"
     ]
    }
   ],
   "source": [
    "len(contents)"
   ]
  },
  {
   "cell_type": "code",
   "execution_count": 12,
   "id": "2db8523c",
   "metadata": {},
   "outputs": [
    {
     "data": {
      "text/html": [
       "<div>\n",
       "<style scoped>\n",
       "    .dataframe tbody tr th:only-of-type {\n",
       "        vertical-align: middle;\n",
       "    }\n",
       "\n",
       "    .dataframe tbody tr th {\n",
       "        vertical-align: top;\n",
       "    }\n",
       "\n",
       "    .dataframe thead th {\n",
       "        text-align: right;\n",
       "    }\n",
       "</style>\n",
       "<table border=\"1\" class=\"dataframe\">\n",
       "  <thead>\n",
       "    <tr style=\"text-align: right;\">\n",
       "      <th></th>\n",
       "      <th>company</th>\n",
       "      <th>group</th>\n",
       "      <th>score</th>\n",
       "      <th>question</th>\n",
       "      <th>answer</th>\n",
       "    </tr>\n",
       "  </thead>\n",
       "  <tbody>\n",
       "    <tr>\n",
       "      <th>0</th>\n",
       "      <td>(주)SBS</td>\n",
       "      <td>2021년 상반기 신입 기획·전략·경영</td>\n",
       "      <td>2</td>\n",
       "      <td>입사 지원동기를 작성해주세요. (① 지원 부문을 선택한 이유와 ② 지원 부문과 관련...</td>\n",
       "      <td>경영은 전사의 콘텐츠 제작에서부터 유통 과정을 파악하고, 설정한 목표를 이루기 위해...</td>\n",
       "    </tr>\n",
       "    <tr>\n",
       "      <th>1</th>\n",
       "      <td>(주)SBS</td>\n",
       "      <td>2021년 상반기 신입 기획·전략·경영</td>\n",
       "      <td>2</td>\n",
       "      <td>SBS는 당신이 어떤 사람인지 궁금합니다. 소위 말하는 '스펙'의 나열보다는, '내...</td>\n",
       "      <td>저는 한번 마음먹고 시작한 일은 쉽게 포기하지 않는 ‘끈기’와 ‘집중력’이 대단합니...</td>\n",
       "    </tr>\n",
       "    <tr>\n",
       "      <th>2</th>\n",
       "      <td>(주)SBS</td>\n",
       "      <td>2021년 상반기 신입 기획·전략·경영</td>\n",
       "      <td>2</td>\n",
       "      <td>본인의 경험 중 가장 큰 성공 경험과 가장 큰 실패 경험을 작성해주세요. (경험의 ...</td>\n",
       "      <td>성공 경험: 아르바이트 중 위기 극복 \\n실패 경험: 대학교 팀프로젝트아쉬운점 1 ...</td>\n",
       "    </tr>\n",
       "    <tr>\n",
       "      <th>3</th>\n",
       "      <td>(주)SBS</td>\n",
       "      <td>2021년 상반기 신입 기획·전략·경영</td>\n",
       "      <td>2</td>\n",
       "      <td>기업 경영과 관련된 여러가지 사회적 변화 속에서, SBS가 경쟁력 있는 기업으로 성...</td>\n",
       "      <td>무한 경쟁이 일어나는 미디어 시장에서 귀사가 경쟁력을 높이기 위해서는, 비재무적 성...</td>\n",
       "    </tr>\n",
       "    <tr>\n",
       "      <th>4</th>\n",
       "      <td>한국산업단지공단</td>\n",
       "      <td>2021년 상반기 신입 기획·전략·경영</td>\n",
       "      <td>3</td>\n",
       "      <td>과거 자기개발에 꾸준히 노력한 자신의 모습을 평가해 주시고, 전문가로 성장하기 위해...</td>\n",
       "      <td>\"내실을 굳게 다진 소재공학도\"\\n\\n소재 기술은 표면적으로 드러나지 않지만, 제품...</td>\n",
       "    </tr>\n",
       "    <tr>\n",
       "      <th>...</th>\n",
       "      <td>...</td>\n",
       "      <td>...</td>\n",
       "      <td>...</td>\n",
       "      <td>...</td>\n",
       "      <td>...</td>\n",
       "    </tr>\n",
       "    <tr>\n",
       "      <th>286</th>\n",
       "      <td>한국항공우주산업(주)</td>\n",
       "      <td>2018년 하반기 신입 구매·자재</td>\n",
       "      <td>2</td>\n",
       "      <td>당사 및 지원분야(직무)를 선택한 이유를 작성해주시기 바랍니다.</td>\n",
       "      <td>\"손익 개선에 기여하는 구매\"\\n\\n저는 지원금 200만원으로 2박 3일간의 교육 ...</td>\n",
       "    </tr>\n",
       "    <tr>\n",
       "      <th>287</th>\n",
       "      <td>한국항공우주산업(주)</td>\n",
       "      <td>2018년 하반기 신입 구매·자재</td>\n",
       "      <td>2</td>\n",
       "      <td>KAI인재상을 바탕으로 자신만의 경쟁력을 구체적 사례를 통해 기술해주시기 바랍니다.</td>\n",
       "      <td>\"협동하는 인재\"\\n\\n저는 8명으로 구성된 팀에서 부팀장을 맡아 지원금 200만원...</td>\n",
       "    </tr>\n",
       "    <tr>\n",
       "      <th>288</th>\n",
       "      <td>한국항공우주산업(주)</td>\n",
       "      <td>2018년 하반기 신입 구매·자재</td>\n",
       "      <td>2</td>\n",
       "      <td>지원분야(직무)와 관련하여 특정 영역의 전문성을 키우기 위해 꾸준히 노력한 경험에 ...</td>\n",
       "      <td>\"구매를 이끄는 구매\"\\n\\n저는 항공기 개발과 항공산업 발전을 위해 가장 중요한 ...</td>\n",
       "    </tr>\n",
       "    <tr>\n",
       "      <th>289</th>\n",
       "      <td>한국항공우주산업(주)</td>\n",
       "      <td>2018년 하반기 신입 구매·자재</td>\n",
       "      <td>2</td>\n",
       "      <td>입사 후 본인의 직무중심 경력개발계획 및 성장방향을 기술바랍니다.</td>\n",
       "      <td>\"가격 경쟁력을 확보하는 구매\"\\n\\n저는 자재와 설비에 대한 이해를 통해 합리적인...</td>\n",
       "    </tr>\n",
       "    <tr>\n",
       "      <th>290</th>\n",
       "      <td>한국항공우주산업(주)</td>\n",
       "      <td>2018년 하반기 신입 구매·자재</td>\n",
       "      <td>2</td>\n",
       "      <td>글로벌 역량을 위한 도전</td>\n",
       "      <td>구매에 대한 경험을 쌓기 위해 글로벌 무역 인턴십에 지원한 경험이 있습니다. 글로벌...</td>\n",
       "    </tr>\n",
       "  </tbody>\n",
       "</table>\n",
       "<p>291 rows × 5 columns</p>\n",
       "</div>"
      ],
      "text/plain": [
       "         company                  group score  \\\n",
       "0         (주)SBS  2021년 상반기 신입 기획·전략·경영     2   \n",
       "1         (주)SBS  2021년 상반기 신입 기획·전략·경영     2   \n",
       "2         (주)SBS  2021년 상반기 신입 기획·전략·경영     2   \n",
       "3         (주)SBS  2021년 상반기 신입 기획·전략·경영     2   \n",
       "4       한국산업단지공단  2021년 상반기 신입 기획·전략·경영     3   \n",
       "..           ...                    ...   ...   \n",
       "286  한국항공우주산업(주)     2018년 하반기 신입 구매·자재     2   \n",
       "287  한국항공우주산업(주)     2018년 하반기 신입 구매·자재     2   \n",
       "288  한국항공우주산업(주)     2018년 하반기 신입 구매·자재     2   \n",
       "289  한국항공우주산업(주)     2018년 하반기 신입 구매·자재     2   \n",
       "290  한국항공우주산업(주)     2018년 하반기 신입 구매·자재     2   \n",
       "\n",
       "                                              question  \\\n",
       "0    입사 지원동기를 작성해주세요. (① 지원 부문을 선택한 이유와 ② 지원 부문과 관련...   \n",
       "1    SBS는 당신이 어떤 사람인지 궁금합니다. 소위 말하는 '스펙'의 나열보다는, '내...   \n",
       "2    본인의 경험 중 가장 큰 성공 경험과 가장 큰 실패 경험을 작성해주세요. (경험의 ...   \n",
       "3    기업 경영과 관련된 여러가지 사회적 변화 속에서, SBS가 경쟁력 있는 기업으로 성...   \n",
       "4    과거 자기개발에 꾸준히 노력한 자신의 모습을 평가해 주시고, 전문가로 성장하기 위해...   \n",
       "..                                                 ...   \n",
       "286                당사 및 지원분야(직무)를 선택한 이유를 작성해주시기 바랍니다.   \n",
       "287     KAI인재상을 바탕으로 자신만의 경쟁력을 구체적 사례를 통해 기술해주시기 바랍니다.   \n",
       "288  지원분야(직무)와 관련하여 특정 영역의 전문성을 키우기 위해 꾸준히 노력한 경험에 ...   \n",
       "289               입사 후 본인의 직무중심 경력개발계획 및 성장방향을 기술바랍니다.   \n",
       "290                                      글로벌 역량을 위한 도전   \n",
       "\n",
       "                                                answer  \n",
       "0    경영은 전사의 콘텐츠 제작에서부터 유통 과정을 파악하고, 설정한 목표를 이루기 위해...  \n",
       "1    저는 한번 마음먹고 시작한 일은 쉽게 포기하지 않는 ‘끈기’와 ‘집중력’이 대단합니...  \n",
       "2    성공 경험: 아르바이트 중 위기 극복 \\n실패 경험: 대학교 팀프로젝트아쉬운점 1 ...  \n",
       "3    무한 경쟁이 일어나는 미디어 시장에서 귀사가 경쟁력을 높이기 위해서는, 비재무적 성...  \n",
       "4    \"내실을 굳게 다진 소재공학도\"\\n\\n소재 기술은 표면적으로 드러나지 않지만, 제품...  \n",
       "..                                                 ...  \n",
       "286  \"손익 개선에 기여하는 구매\"\\n\\n저는 지원금 200만원으로 2박 3일간의 교육 ...  \n",
       "287  \"협동하는 인재\"\\n\\n저는 8명으로 구성된 팀에서 부팀장을 맡아 지원금 200만원...  \n",
       "288  \"구매를 이끄는 구매\"\\n\\n저는 항공기 개발과 항공산업 발전을 위해 가장 중요한 ...  \n",
       "289  \"가격 경쟁력을 확보하는 구매\"\\n\\n저는 자재와 설비에 대한 이해를 통해 합리적인...  \n",
       "290  구매에 대한 경험을 쌓기 위해 글로벌 무역 인턴십에 지원한 경험이 있습니다. 글로벌...  \n",
       "\n",
       "[291 rows x 5 columns]"
      ]
     },
     "execution_count": 12,
     "metadata": {},
     "output_type": "execute_result"
    }
   ],
   "source": [
    "df = pd.DataFrame(contents, columns=['company', 'group', 'score', 'question', 'answer'])\n",
    "df"
   ]
  },
  {
   "cell_type": "code",
   "execution_count": 14,
   "id": "a4108bf3",
   "metadata": {},
   "outputs": [],
   "source": [
    "df.to_excel('./self_scrap.xlsx')"
   ]
  },
  {
   "cell_type": "code",
   "execution_count": null,
   "id": "3049def0",
   "metadata": {},
   "outputs": [],
   "source": []
  }
 ],
 "metadata": {
  "kernelspec": {
   "display_name": "Python 3",
   "language": "python",
   "name": "python3"
  },
  "language_info": {
   "codemirror_mode": {
    "name": "ipython",
    "version": 3
   },
   "file_extension": ".py",
   "mimetype": "text/x-python",
   "name": "python",
   "nbconvert_exporter": "python",
   "pygments_lexer": "ipython3",
   "version": "3.8.8"
  }
 },
 "nbformat": 4,
 "nbformat_minor": 5
}
