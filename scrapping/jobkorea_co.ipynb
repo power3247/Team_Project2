{
 "cells": [
  {
   "cell_type": "code",
   "execution_count": 2,
   "id": "e41893f1",
   "metadata": {},
   "outputs": [],
   "source": [
    "from selenium import webdriver\n",
    "import time\n",
    "\n",
    "browser = webdriver.Chrome('./chromedriver.exe')\n",
    "browser.get('https://www.jobkorea.co.kr/')\n",
    "\n",
    "time.sleep(3)\n",
    "browser.find_element_by_css_selector('span.mainBtn.mainBtnPer').click()\n",
    "browser.find_elements_by_css_selector('input#lb_id.iptTx')[0].send_keys('axlovexa')\n",
    "browser.find_elements_by_css_selector('input#lb_pw.iptTx.devCapsLock')[0].send_keys('multi0811')\n",
    "browser.find_element_by_css_selector('div.loginIptWrap.clear>button.btnLogin').click()\n",
    "\n",
    "time.sleep(3)\n",
    "browser.find_element_by_css_selector('li#gnbStart>a.linkItem').click()\n",
    "browser.find_element_by_css_selector('li>a[href=\"/starter/passassay/\"]').click()\n",
    "\n",
    "browser.find_element_by_css_selector('div.toolTipCont.fullLy>div>button').click()"
   ]
  },
  {
   "cell_type": "markdown",
   "id": "ad03e63c",
   "metadata": {},
   "source": [
    "div.starListsWrap.ctTarget 페이징 할 페이지\n",
    "\n",
    "span.titTx 회사이름 \n",
    "span.grade 점수"
   ]
  },
  {
   "cell_type": "code",
   "execution_count": null,
   "id": "267d45fe",
   "metadata": {},
   "outputs": [],
   "source": [
    "from bs4 import BeautifulSoup\n",
    "\n"
   ]
  }
 ],
 "metadata": {
  "kernelspec": {
   "display_name": "Python 3",
   "language": "python",
   "name": "python3"
  },
  "language_info": {
   "codemirror_mode": {
    "name": "ipython",
    "version": 3
   },
   "file_extension": ".py",
   "mimetype": "text/x-python",
   "name": "python",
   "nbconvert_exporter": "python",
   "pygments_lexer": "ipython3",
   "version": "3.6.4"
  }
 },
 "nbformat": 4,
 "nbformat_minor": 5
}
