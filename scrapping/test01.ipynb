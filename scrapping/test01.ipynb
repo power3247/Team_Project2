{
 "cells": [
  {
   "cell_type": "code",
   "execution_count": 1,
   "id": "5abf9bd8",
   "metadata": {},
   "outputs": [],
   "source": [
    "from selenium import webdriver"
   ]
  },
  {
   "cell_type": "code",
   "execution_count": 2,
   "id": "e960ad58",
   "metadata": {},
   "outputs": [
    {
     "name": "stdout",
     "output_type": "stream",
     "text": [
      " C 드라이브의 볼륨에는 이름이 없습니다.\n",
      " 볼륨 일련 번호: 963C-DFD5\n",
      "\n",
      " C:\\Develops\\forkspoon 디렉터리\n",
      "\n",
      "2021-08-12  오후 10:04        11,107,328 chromedriver.exe\n",
      "               1개 파일          11,107,328 바이트\n",
      "               0개 디렉터리     181,321,728 바이트 남음\n"
     ]
    }
   ],
   "source": [
    "!dir .\\chromedriver.exe"
   ]
  },
  {
   "cell_type": "code",
   "execution_count": 3,
   "id": "62cffee3",
   "metadata": {},
   "outputs": [],
   "source": [
    "browser = webdriver.Chrome('/chromedriver.exe')"
   ]
  },
  {
   "cell_type": "code",
   "execution_count": 4,
   "id": "9e40f2aa",
   "metadata": {},
   "outputs": [],
   "source": [
    "browser.get('https://www.jobkorea.co.kr/')"
   ]
  },
  {
   "cell_type": "code",
   "execution_count": 5,
   "id": "2cb696c6",
   "metadata": {},
   "outputs": [],
   "source": [
    "import time"
   ]
  },
  {
   "cell_type": "code",
   "execution_count": 6,
   "id": "50c658d4",
   "metadata": {},
   "outputs": [],
   "source": [
    "time.sleep(1)\n",
    "browser.find_element_by_css_selector('span.mainBtn.mainBtnPer').click()\n",
    "browser.find_elements_by_css_selector('input#lb_id.iptTx')[0].send_keys('axlovexa')\n",
    "browser.find_elements_by_css_selector('input#lb_pw.iptTx.devCapsLock')[0].send_keys('multi0811')\n",
    "browser.find_element_by_css_selector('div.loginIptWrap.clear>button.btnLogin').click()"
   ]
  },
  {
   "cell_type": "code",
   "execution_count": 7,
   "id": "f2d2100f",
   "metadata": {},
   "outputs": [],
   "source": [
    "time.sleep(1)\n",
    "browser.find_element_by_css_selector('li#gnbStart>a.linkItem').click()\n",
    "browser.find_element_by_css_selector('li>a[href=\"/starter/passassay/\"]').click()"
   ]
  },
  {
   "cell_type": "code",
   "execution_count": 8,
   "id": "45b03f03",
   "metadata": {},
   "outputs": [],
   "source": [
    "browser.find_element_by_css_selector('div.toolTipCont.fullLy>div>button').click()\n",
    "browser.find_elements_by_css_selector('input#txtSearch')[0].send_keys('선택한')\n",
    "\n",
    "browser.find_element_by_css_selector('button#btnSraech').click()"
   ]
  },
  {
   "cell_type": "code",
   "execution_count": 16,
   "id": "844824b4",
   "metadata": {},
   "outputs": [],
   "source": [
    "cnt = 0\n",
    "from bs4 import BeautifulSoup\n",
    "import pandas as pd\n",
    "contents = []"
   ]
  },
  {
   "cell_type": "code",
   "execution_count": 62,
   "id": "3b3dd416",
   "metadata": {},
   "outputs": [
    {
     "name": "stdout",
     "output_type": "stream",
     "text": [
      "The history saving thread hit an unexpected error (OperationalError('database or disk is full')).History will not be written to the database.\n",
      "Q10 입사 지원동기를 작성해주세요. (① 지원 부문을 선택한 이유와 ② 지원 부문과 관련하여 본인이 쌓아온 역량을 포함하여 작성) 단, 경영과 기술 부문 지원자는 해당 부문에서 구체적으로 '어떤 업무'를 하고 싶은지, 그 업무 수행을 위한 본인의 경쟁력은 무엇인지 제시해주세요. 최소 30자 / 1000자 제한 A3 경영은 전사의 콘텐츠 제작에서부터 유통 과정을 파악하고, 설정한 목표를 이루기 위해 전 과정에서의 문제점이나 비효율성을 제거하는 직무임을 알고 있습니다. 이 직무를 수행하기 위해서는 상황판단력과 문제해결력이 필수 역량이라고 생각합니다.아쉬운점 1 한국어, 영어, 일본어에 이르는 언어 구사력과 빠른 적응력을 바탕으로, 풍부한 사회 경험을 하며 핵심 역량을 키웠습니다. ‘OOOOO’와 ‘OOO’에서 교육 콘텐츠 개발 및 학생 응대 CS업무를 수행하면서, 클라이언트와의 소통을 통한 효율적인 문제해결 방법을 끊임없이 모색하여 최선의 결과를 도출하곤 했습니다. 회사 부대표님 말씀에 따르면 제가 제작에 참여한 교재 콘텐츠나 상담 내역을 기록한 일지는 후임 직원들에게 몇년 간 본보기처럼 제시되고 있다고 합니다. 아쉬운점 2\n",
      "\n",
      "제가 배양한 역량을 바탕으로 경영 부문의 다섯 가지 직무군 중 ‘정책’ 혹은 ‘사업’ 팀에서 일하며, 방송 환경의 무한한 미래를 그려가고자 희망합니다. 방송 시장이 급격한 변화를 맞으면서, 귀사는 사업영역 확장을 고민하고 도전하였습니다. 귀사가 장기적으로 성장할 수 있도록, 콘텐츠의 효율적인 재생산 방식을 탐구하고 싶습니다. 시장 변화에 민첩하게 반응하는 유연성을 바탕으로, 페이퍼워크뿐만 아니라 확장된 영역의 업무를 수행하는 데에도 준비되어 있습니다. 아쉬운점 3 글자수 649자1,122Byte\n",
      "Q10 SBS는 당신이 어떤 사람인지 궁금합니다. 소위 말하는 '스펙'의 나열보다는, '내가 어떤 사람인지' 보여줄 수 있는 자신의 성격이나 스타일을 자유로운 방식으로 설명해주세요. 최소 30자 / 1000자 제한 A3 저는 한번 마음먹고 시작한 일은 쉽게 포기하지 않는 ‘끈기’와 ‘집중력’이 대단합니다. 대학에 들어와 시작한 과외 아르바이트 및 그 외 아르바이트는 모두 4년 이상 단 한 번의 지각이나 트러블 없이 최근까지 계속해 왔습니다. 맡은 업무에 최선을 다하고 주변환경이 방해해도 흔들림이 없는 저의 성격은 경영직무 신입사원으로서 지녀야 할 핵심 역량 중 하나라고 생각합니다. \n",
      "\n",
      "더 나아가, 제가 특히 좋아하는 분야에는 오랜 시간과 정성을 들여, 모르는 것이 없을 정도로 통달하는 수준에 이르는 특징이 있습니다. 남들보다 열성적으로 식도락을 즐기는 저를 보고 친구들이 ‘OOOO’라는 별명을 붙여주기도 했습니다. 새로운 맛집을 연구하고, 리뷰를 남기고, 먹어본 경험을 바탕으로 제가 직접 만들어보는 과정을 통해, 주변인들과 만날 때마다 미식의 즐거움을 주는 것이 저에게 큰 보람입니다. 뿐만 아니라 앞으로도 계속해서 더 많은 음식을 탐구하는 식도락 여정의 기쁨을 극대화하기 위해, 평소에 운동과 건강 관리도 놓치지 않고 있습니다.아쉬운점 1 글자수 518자891Byte\n",
      "Q10 본인의 경험 중 가장 큰 성공 경험과 가장 큰 실패 경험을 작성해주세요. (경험의 대상은 학업/일/인간 관계 등 어떤 것도 상관 없으며, 각 경험을 통해 배운 점을 포함하여 작성) 최소 30자 / 1000자 제한 A3 성공 경험: 아르바이트 중 위기 극복 \n",
      "실패 경험: 대학교 팀프로젝트아쉬운점 1 글자수 39자65Byte\n",
      "Q10 기업 경영과 관련된 여러가지 사회적 변화 속에서, SBS가 경쟁력 있는 기업으로 성장하기 위하여 가장 신경 써야 하는 부분은 무엇일까요? (① 선정 이유와 ② 실제 SBS 경영에 어떻게 반영되어야 할지 본인의 견해를 포함하여 작성) 최소 30자 / 1000자 제한 A3 무한 경쟁이 일어나는 미디어 시장에서 귀사가 경쟁력을 높이기 위해서는, 비재무적 성과를 측정하는 지표인 ‘ESG(환경, 사회, 지배구조)’에 관심을 기울여야 합니다. ESG는 미래에 지속가능한지를 알려주는 지표입니다. 최근 해외 투자시장에서는 이 지표를 잣대로 투자여부를 결정하는 추세가 증가하고 있습니다. 또한 미·중무역전쟁이나 코로나19의 확산과 같은 대내외적 경영위기 속에서, 국내 기업들은 환경 투자와 사회적 책임 수행, 지배구조 개편 등 미래 지속가능성을 높이기 위한 노력을 아끼지 않고 있습니다. 귀사에 지표를 도입함으로써, 방송 콘텐츠의 다양성을 보다 제고하여 미래 성장 비전을 실현하고, 글로벌 콘텐츠 기업 1위의 입지를 굳건히 할 수 있을 것입니다. 아쉬운점 1\n",
      "\n",
      "실제 경영에 반영한다면, 방송의 윤리강령 준수 정도를 다방면으로 평가하도록 적용할 수 있습니다. 또한, 콘텐츠 제작, 송출 주체로서, 디지털 탄소발자국 이슈에 주목하여 환경문제 개선에 기여해야 합니다. 코로나로 IT기기의 사용과 동영상 스트리밍이 증가하면서, 데이터 센터의 전력 소비와 열 방출이 급증하고 이와 함께 열 냉각을 위해서도 대규모 전력이 소모되기 때문입니다. 탄소 중립적인 데이터 센터 설립 및 운영방식을 고려하고, 콘텐츠 유통 전과정이 환경에 미치는 영향을 최소화하고자 노력할 수 있습니다.  ESG 경영의 중요성을 인지하고 진정성 있게 추진하는 데 관심을 기울인다면, 귀사가 경쟁력 강한 글로벌 기업으로 나아갈 수 있을 것입니다.아쉬운점 2 글자수 738자1,265Byte\n",
      "Q10 과거 자기개발에 꾸준히 노력한 자신의 모습을 평가해 주시고, 전문가로 성장하기 위해 본인이 노력한 내용을 기술해 주십시오. (500) A3 \"내실을 굳게 다진 소재공학도\"\n",
      "\n",
      "소재 기술은 표면적으로 드러나지 않지만, 제품의 전반적인 성능을 결정하는 핵심 기술입니다. 이러한 매력에 끌려 재료공학을 전공했습니다. 학부 때는 재료 미세구조설계, 열기계적 특성 등의 전공을 배우고, 전공평점 3.93의 성적을 유지하며 소재에 대한 기본기를 다졌습니다. 또한, 소재 핵심역량을 키우기 위해 대학원에 진학하여 ‘Si계 무기고분자 합성과 이를 이용한 세라믹 섬유’를 연구했습니다. 세부전공으로 다룬 소재의 실험 설계, 결과 분석, 학회에서 연구내용 발표, 문헌을 작성해본 경험은 소재 전문가로 성장하는 데 많은 도움이 되었습니다. 연구경력을 꾸준히 쌓고자 한국OOOOOO의 인턴연구원으로 활동하며 탄소섬유강화복합재 관련 과제의 실험 업무를 도맡았습니다. 복합재에 적용되는 무기계 바인더의 배합비와 공정조건 확립, 물성 평가 업무를 지속해서 수행했습니다. 폭넓게 쌓은 소재역량은 한국산업단지공단의 소재부품산업 과제를 수행하는 데 도움이 될 것입니다.좋은점 1 글자수 503자867Byte\n",
      "Q10 상황 변화에 대해 본인이 받아들이는 방식에 대해 평가해 주시고, 과거 혁신적인 변화를 기획하고 성과를 창출한 사례를 기술해 주십시오. (500) A3 \"엉킨 실타래는 생각보다 단순하게 풀린다\"\n",
      "\n",
      "벤치마킹한 특허 내용과는 다른 배합 방식을 적용해 정부 과제의 목표를 성공적으로 달성한 경험이 있습니다.아쉬운점 1\n",
      "한국OOOOOO의 인턴으로 활동하면서 ‘섬유복합재용 Si계 무기고분자 합성’ 과제를 담당했습니다. 과제의 목표는 프리프레그 제조가 가능할 정도의 성형성과 800도 내열성을 갖는 섬유강화복합재를 확보하는 것이었습니다.\n",
      "과제 진행 초기에는 벤치마킹한 특허를 토대로 배합비를 설정하여 바인더의 물성을 확보하려 했으나, 용매의 함량이 너무 적고 흄드 실리카의 비표면적이 매우 넓어 균일한 혼합이 불가능했습니다. 이 문제를 해결하고자 적용 가능한 원재료와 실험 관련 문헌을 꼼꼼히 조사했고, 생각지도 못한 ‘화장품용 실리카 분말’을 적용했을 때 문제를 해결할 수 있었습니다. 소량의 계면활성제와 오토클레이브 공정을 추가하여 과제의 최종목표를 성공적으로 달성할 수 있었고, 수행한 과제의 연구공로를 인정받아 150만 원의 성과금을 받았습니다.아쉬운점 2 글자수 497자859Byte\n",
      "Q10 본인의 대인관계에 대해 평가해 주시고, 여러 사람이 관계된 일을 수행할 때 상대방의 이익을 해치지 않고 목적을 달성한 사례를 기술해 주십시오. (500) A3 \"내가 맡은 업무는 꼭 성공시킨다!\"\n",
      "\n",
      "대학생부터 지금까지 저는 ‘조직 속에서 내 가치를 충분히 드러내자’는 생각으로 사회 활동에 임하였습니다. 아쉬운점 1학부생 시절, 캡스톤 디자인 프로그램으로 ‘니켈-망간 산화물의 전기적 특성 평가’ 팀 프로젝트를 진행했을 때 PPT 구성과 발표를 담당했습니다. 팀원들과 함께 실험한 자료와 사진을 취합하고, 이를 바탕으로 짜임새 있게 발표자료를 구성했습니다. 최종발표의 2일 전부터 팀원들에게 모의발표를 하면서 예상 질문에 대비하였고, 15분의 제한시간 내에 발표를 마무리하고자 연습에 몰두했습니다. 브리핑 연습을 토대로 발표한 결과, 구성한 내용을 깔끔하게 설명할 수 있었고, 질의응답 시간까지 청중들의 집중을 받아 팀원 모두가 A의 성적을 받았습니다.\n",
      "이처럼 조직에서 가치를 발휘하고자 노력할 때, 그 결과는 모두가 발전하는 방향으로 바뀐다고 생각합니다. 맡은 역할에 최선을 다한다면 결과는 배신하지 않는다는 것을 느끼게 해준 경험이었습니다.아쉬운점 2 글자수 492자848Byte\n",
      "Q10 본인이 업무를 대하는 태도에 대해 평가해 주시고, 주어진 업무가 기한 내 미완수될 우려가 있었으나, 이를 해결하여 성공적으로 마무리했던 경험을 기술해 주십시오. (500) A3 대학원생 시절, 탄화규소 세라믹의 전구체인 폴리카보실란의 기술개발을 위해 공동연구 협약을 맺은 기업 측에서 급하게 전구체 반응물 200g을 요구한 적이 있었습니다.아쉬운점 1\n",
      "1주에 반응물 120g을 얻을 수 있는 기존의 합성조건은 1일 차에 350도 10시간, 2일 차에 450도 6시간 합성하여 반응물을 얻는 데 2일이 걸렸습니다. 반응물을 여과 및 진공 정제하고 추후 합성을 위한 반응기 세척까지 포함하면 총 4일이 필요했습니다. 기업 과제를 함께 하던 선배는 넉넉히 2주 정도의 시간이 필요하다고 말했지만, 저는 기존 합성 일정을 참고하여 반응물 120g을 합성하는 데 2일이 걸리던 일정을 하루에 가능하도록 수정하여 최대한 기업 측 요구를 들어주려 노력했습니다. 수정한 합성조건은 총 14시간이 걸려 밤늦게 실험이 종료되었지만, 일주일에 2회 합성을 할 수 있어 200g의 반응물을 안정적으로 공급할 수 있었고, 추가적인 원료 분석 결과까지 전달하여 협약 기업의 높은 신뢰를 얻을 수 있었습니다.좋은점 1 글자수 501자837Byte\n",
      "Q10 우리 공단에 지원동기와 직무를 선택한 이유, 입사 후 목표와 포부를 기술해 주십시오. (500) A3 \"‘재료’를 전공하며 나의 가치를 증명하다\"\n",
      "\n",
      "제조업은 우리나라 경제의 주요 성장 기반이며 특히, 소재부품의 기술력은 국가 경쟁력과도 직결되므로 소재기술의 중요성은 더욱 커지고 있습니다. 한국산업단지공단은 국내 핵심 소재부품의 글로벌 경쟁력을 키우고 시장 변화에 대응하기 위해 산업의 융복합화, 스마트화 등 고부가가치 소재부품을 개발하는 데 지원을 아끼지 않고 있습니다. 산업단지의 70% 이상을 이루는 소재부품기업의 산업 활동을 지원하면서 내 가치를 증명하고, 산단에 입주한 소재부품기업의 핵심 기술력을 강화하고자 한국산업단지공단의 소재 직무를 선택하였습니다.아쉬운점 1\n",
      "\n",
      "입사 후 국가의 근간 사업인 제조업 시장의 경쟁력을 강화하는 데 최선을 다하겠습니다. 단기적으로는 산단 내에 입주한 소재부품장비 기업을 분석하고 정책과제의 진행 현황을 파악하겠습니다. 궁극적으로 소재부품기술의 대외 의존성을 낮춰 국가의 소재기술 혁신을 주도하는 인재가 되겠습니다.아쉬운점 2 글자수 474자831Byte\n",
      "Q10 과거 교육과정, 경력들을 통해 습득한 전공지식, 기술경험이 우리 공단 업무와 관련성이 있는지? 그러한 지식과 경험을 실제 어떠한 방식으로 우리 공단에 적용할 수 있는지 기술해 주십시오. (500) A3 대학원생, 인턴연구원 활동으로 얻은 경험을 발휘하여 공단의 소재 직무에 적용하겠습니다.\n",
      "대학원생 시절, 항공기 동체의 고부가가치 부품으로 적용되는 세라믹섬유복합소재 분야를 연구한 경험이 있습니다. 섬유강화복합재의 개발 동향 및 응용 분야에 관한 문헌 조사, 국제 복합소재 전시회 참가, 국내/외 학회 참석 및 발표 등의 경험들은 공단의 소재부품산업을 육성하고 R&D 고도화 방안을 제시하는 데 활용할 수 있을 것입니다.\n",
      "한국OOOOOO의 인턴연구원으로 활동 시, 타 연구기관과 협업하여 ‘산업부산물을 이용한 섬유복합재용 무기바인더 합성’ 과제를 1년간 수행했습니다. 과제의 실험연구원으로 회의에 참여하면서 실험 중 발생한 내용에 대응하고, 과제 목표를 달성하기 위한 방안을 제시하는 업무를 주로 담당했습니다. 이러한 경험은 공단과 입주 기업 간 협력 관계를 형성하여 R&D 지원 방향을 제시하는 데 도움이 될 것입니다.아쉬운점 1 글자수 460자789Byte\n",
      "Q10 과거 타인의 욕구나 기대사항을 반영하여 주도적으로 도움을 준 사례 및 입사 후 산단 입주기업 지원을 위한 본인의 이행 계획을 기술해 주십시오. (500) A3 3D 프린팅용 무기고분자의 경화 문제를 해결한 경험이 있습니다.\n",
      "인턴활동 중 팀원이 담당하고 있는 경화 실험이 잘 안 되어 성형체가 계속 무너지는 문제가 생겼습니다. 동료는 이를 해결하기 위해 석사 주제로 실리콘 기반의 무기고분자 합성을 연구했던 저에게 도움을 요청했습니다. 3D 프린팅용 무기고분자는 액상 폴리카보실란을 사용하며 열경화가 아닌 광경화 기반으로 성형되지만, 에너지 전달 방법만 다를 뿐 경화 메커니즘은 같았습니다. 석사과정 때 참고한 문헌 일부를 설명해주었고 조사한 내용을 기반으로 변수를 하나씩 제어한 결과, 링 타입의 성형체를 안정적으로 얻을 수 있었습니다.좋은점 1\n",
      "입사 후 소재부품산업의 산학연 네트워크를 활성화하여 산단 입주기업의 경쟁력을 강화하겠습니다. 학부 실험실 생활, 대학원, 인턴 활동을 하면서 다양한 연구기관, 기업체와 과제를 수행하고 세미나, 기술교류 활동을 했습니다. 이러한 경험들을 활용하여 입주기업에 물적, 인적 자원을 꾸준히 공급하겠습니다.좋은점 2 글자수 492자853Byte\n",
      "Q10 과거 학업, 업무 시 경력개발을 위한 비전 수립 및 이행 사례를 기술하시고, 공단 입사 후 본인 경력개발 비전을 제시해 주십시오. (500) A3 재료공학도로 성장하여 전문성을 어필하고자 ‘SCI급 학술논문 1저자 게재’ 목표를 세워 석사과정에 임하였습니다.\n",
      "섬유화 공정에 필요한 이론과 지식을 쌓기 위해 100편 이상의 참고문헌을 학습하고, 폴리머 합성실험과 분석을 병행했습니다. 분기별로 진행한 연구 내용은 국내 학회에 참가하며 꾸준히 점검하였고, 학회 시즌이 끝난 다음 주에는 랩 세미나 시간을 활용해 동료들에게 내용을 공유하였습니다. 그 결과, ‘섬유 방사용 무기고분자 합성’ 관련 SCI급 해외학술지에 1 저자로 게재하는 성과를 낼 수 있었습니다.\n",
      "공단 입사 후, 경량소재부품 기업의 산업 활동을 지원하고 기술경쟁력을 키우는 데 집중하겠습니다. 차세대 먹거리 산업으로 친환경 모빌리티 시장이 빠르게 성장하고 있습니다. 석사 및 인턴활동 중 진행했던 섬유강화복합재 연구 경험을 바탕으로 탄소섬유를 적용한 경량복합소재 기업의 기술개발과 산학연 클러스터 형성을 지원하겠습니다.좋은점 1 글자수 468자810Byte\n",
      "Q10 지원직무를 선택한 이유를(직무와 관련한 경험, 전공, 수강과목, 자격증 등을 포함하여) 설명하십시오. A3 \"직접 만든다는 것\"\n",
      "\n",
      "실습을 위해 콤부차를 조사하였습니다. 한정된 자료에서 최대한 조사했지만, 자세한 공정은 알 수 없었습니다. 좋은 결과를 도출하기 위해선 철저한 계획이 중요하다 생각돼 제조사, 제조공장에 문의하여 부원료 선택조건, 발효시간 등의 부분적인 답변을 들음으로 초안을 계획할 수 있었습니다. 이후 차 제조회사의 개발 업무에서 두 원료를 조합해 제품을 개발하는 업무에 참여했는데, 두 원료를 섞으면서 각각의 특색이 사라지는 문제가 있었습니다. 두 원료가 활성을 가지는 당도와 산도가 극과 극이었기 때문이었는데, 이전 실습을 위해 공정 조사를 문의할 때 조합이 좋을 것 같은데 왜 사용을 하지 않는지에 대한 답변을 실제로 경험하게 된 상황이었습니다. 두 원료의 황금비율을 찾는 것과 동시에 맛, 컨셉, 안정성 또한 유지하려 노력했습니다. 배합비를 수정하고 관능 검사하는 과정을 반복하면서 혀가 쓴맛을 즐기게 될 때쯤, 제품의 완성도가 갖춰져 두가지 원료를 조화롭게 느낄 수 있었습니다. 그리고 전화로 들었던 한계를 해결하는 듯한 성취감 또한 느꼈습니다. 아쉬운점 1\n",
      "\n",
      "소비자 입장에서 왜 맛있는 두가지를 섞어 팔지 않는지에 대해 의구심을 가졌습니다. 하지만 식품을 전공하면서 의구심에 대한 답을 배우고, 개발을 하면서 해결방안을 찾았습니다. 주변을 둘러보면 많은 소비자들이 자신들이 자신이 원하는 제품을 기다리는 모습을 볼 수 있습니다. 모든 소비자가 식품을 전공하고 개발할 수 없기에 누군가가 소비자를 위해 제품을 만들어야 합니다. 그리고 저는 제가 얻은 지식과 경험으로 소비자를 위한 제품을 만들기 위해 노력하겠습니다.아쉬운점 2 글자수 800자1,381Byte\n",
      "Q10 직장 또는 단체생활에서 구성원에게 가장 필요한 태도, 역량은 무엇이라고 생각하는지 본인의 경험을 바탕으로 설명하십시오. A3 \"각자의 경험이 다르다는 것\"\n",
      "\n",
      "인턴기간에 동반성장을 목표로 새로운 메뉴를 개발하는 프로젝트에 참여했습니다. 기업간의 협업으로, 각자가 잘 하는 방식으로 자신의 역할에 최선을 다했어야 했기에 초기 아이디어 회의에서부터 많은 의견이 나왔습니다. 아쉬운점 130개의 아이디어는 각각 매력과 가능성을 가지고 있었지만 가장 좋은 것을 선별해야 했습니다. 먼저 1차적인 선별을 위해 시장조사와 제조공정을 파악하여 대중성이 있고, 자체 개발이 가능한 제품을 선별했습니다. 이 과정에서 저는 팀으로 협력하면서 팀 구성원에게 필요한 태도를 배울 수 있었는데, 바로, 각자의 역할을 수행하고, 서로의 접근방식을 공유하고 수용하며 해답을 찾는 것입니다. 아쉬운점 2저는 프로젝트에서 소비자들의 소비형태와 그에 따른 시장의 동향을 조사하였고, 이를 요약하여 팀원들에게 분배했습니다. 그리고 팀원들은 받은 자료를 토대로 각자가 담당하던 제품과 연관된 소재를 구체화하였고, 마지막으로 팀장이 단가, 공정 등 세부사항을 판단하여 좋은 주제를 간추렸습니다. \n",
      "\n",
      "기업간 협업에서 각자가 잘하는 방식으로 역할에 최선을 다하듯 팀 구성원도 자신의 역할에 충실하여 효율을 높일 수 있었습니다. 또한, 아이디어 회의에서부터 매일 1회 이상 프로젝트 회의를 진행하면서 비슷한 상황에서 창의적, 효과적으로 해결할 수 있었던 각자의 방법을 서로 제시하고 실천하여 효율적으로 업무를 진행하였습니다. 결과적으로, 각자의 경험이 다르다는 것은 다양한 시선과 방법이 다양하다는 것으로, 관점과 방법을 제시하고 수용하면서 함께 발전할 수 있다는 점에서 팀에게 가장 필요한 태도이자 역량이라고 생각하였습니다.아쉬운점 3 글자수 803자1,398Byte\n",
      "Q10 오뚜기에 지원한 이유와 입사 후 회사에서 이루고 싶은 꿈을 설명하십시오. A3 \"가능성을 캐내고 가치를 심자\"\n",
      "\n",
      "식품은 광범위한 방면에서 다양한 방향성을 가지고 나아가고 있기 때문에 대학에 오랜 기간에 걸쳐 쌓인 지식으로는 현재 식품 시장을 온전히 이해할 수 없다고 생각했습니다. 우물 안 개구리에서 벗어나 트렌드를 이해하고 한발 먼저 행동하기 위해 식품 신문을 읽고 시장과 제품 조사를 하면서 빠른 변화에 적응하려고 노력했습니다. 그러면서 깨달은 것은 식품 산업이 무궁무진한 가능성을 가지고 있는 덕분에 다양한 방향성을 가지고 나아갈 수 있다는 것이었습니다. 아쉬운점 1오뚜기는 식품 산업 전반을 이끄는 기업입니다. 가능성을 봤을 때 언제든 뛰어들어 열풍을 이끌 수 있다고 오뚜기의 제품이 증명합니다. \n",
      "\n",
      "저는 식품 산업의 가능성을 확인하면서 가능한 방향성을 찾을 수 있었습니다. 그리고 그 방향성으로부터 원료와 제품에서 가치를 발굴하고 또다른 가치를 심어주는 것을 저의 목표로 하였습니다. 아쉬운점 2신라면 두부김치, 열려라 참깨라면은 두가지 제품의 시너지 효과를, 전자레인지를 이용한 컵라면 조리방법은 새로운 즐거움을, 진짬뽕밥은 기존 제품에 새로운 가치를 이끌어냈습니다. OEM, ODM, 아웃소싱, 협업 등의 구조는 계속해서 발전하면서 좋은 제품을 위한 방법을 제시하고 가치를 창출할 수 있는 가능성이 증가시킵니다. 오징어 먹물을 넣은 검은색 비빔면, 시금치 페스토를 이용한 파스타 등 다양한 가치를 지녔지만 아직 발굴되지 않은 제품이 많다고 생각합니다. 새로움과 변화를 주도하는 오뚜기에서 저는 기존 제품의 가능성을 캐내고, 새로운 원료와 가능성에 가치를 심어 함께 발전하도록 하겠습니다.아쉬운점 3 글자수 787자1,359Byte\n"
     ]
    }
   ],
   "source": [
    "for i in range(1,4):\n",
    "    browser.find_element_by_css_selector('li:nth-child('+str(i)+') > div.txBx > p > a > span').click()\n",
    "    html = browser.page_source\n",
    "    soup = BeautifulSoup(html, 'html.parser')\n",
    "    introduction_page = soup.select('div.stContainer')\n",
    "    time.sleep(1)\n",
    "    \n",
    "    content = []\n",
    "    for scraping in introduction_page:\n",
    "        company = introduction_page[0].select('h2 > strong > a')[0].text.strip()\n",
    "        group = introduction_page[0].select('h2 > em')[0].text.strip()\n",
    "        score = introduction_page[0].select('div.adviceTotal > div > span')[0].text.strip()\n",
    "\n",
    "        for q in range(0, 10):\n",
    "            try:\n",
    "                question = soup.select('button > span.tx')[q].text.strip()\n",
    "                answer = soup.select('dd > div.tx')[q].text.strip()\n",
    "                print(ColumnQ, question, ColumnA, answer)\n",
    "                content.append([company, group, score, question, answer])\n",
    "            except IndexError:\n",
    "                pass\n",
    "\n",
    "                \n",
    "    browser.back()\n",
    "    \n",
    "    contents = [company, group, score, question, answer]"
   ]
  },
  {
   "cell_type": "code",
   "execution_count": 63,
   "id": "4ede4e6e",
   "metadata": {},
   "outputs": [
    {
     "data": {
      "text/plain": [
       "(3, 5)"
      ]
     },
     "execution_count": 63,
     "metadata": {},
     "output_type": "execute_result"
    }
   ],
   "source": [
    "len(content), len(contents)"
   ]
  },
  {
   "cell_type": "code",
   "execution_count": 66,
   "id": "55367cbd",
   "metadata": {},
   "outputs": [
    {
     "data": {
      "text/html": [
       "<div>\n",
       "<style scoped>\n",
       "    .dataframe tbody tr th:only-of-type {\n",
       "        vertical-align: middle;\n",
       "    }\n",
       "\n",
       "    .dataframe tbody tr th {\n",
       "        vertical-align: top;\n",
       "    }\n",
       "\n",
       "    .dataframe thead th {\n",
       "        text-align: right;\n",
       "    }\n",
       "</style>\n",
       "<table border=\"1\" class=\"dataframe\">\n",
       "  <thead>\n",
       "    <tr style=\"text-align: right;\">\n",
       "      <th></th>\n",
       "      <th>company</th>\n",
       "      <th>group</th>\n",
       "      <th>score</th>\n",
       "      <th>question</th>\n",
       "      <th>answer</th>\n",
       "    </tr>\n",
       "  </thead>\n",
       "  <tbody>\n",
       "    <tr>\n",
       "      <th>0</th>\n",
       "      <td>(주)오뚜기</td>\n",
       "      <td>2020년 하반기 신입 바이오·제약·식품</td>\n",
       "      <td>2</td>\n",
       "      <td>지원직무를 선택한 이유를(직무와 관련한 경험, 전공, 수강과목, 자격증 등을 포함하...</td>\n",
       "      <td>\"직접 만든다는 것\"\\n\\n실습을 위해 콤부차를 조사하였습니다. 한정된 자료에서 최...</td>\n",
       "    </tr>\n",
       "    <tr>\n",
       "      <th>1</th>\n",
       "      <td>(주)오뚜기</td>\n",
       "      <td>2020년 하반기 신입 바이오·제약·식품</td>\n",
       "      <td>2</td>\n",
       "      <td>직장 또는 단체생활에서 구성원에게 가장 필요한 태도, 역량은 무엇이라고 생각하는지 ...</td>\n",
       "      <td>\"각자의 경험이 다르다는 것\"\\n\\n인턴기간에 동반성장을 목표로 새로운 메뉴를 개발...</td>\n",
       "    </tr>\n",
       "    <tr>\n",
       "      <th>2</th>\n",
       "      <td>(주)오뚜기</td>\n",
       "      <td>2020년 하반기 신입 바이오·제약·식품</td>\n",
       "      <td>2</td>\n",
       "      <td>오뚜기에 지원한 이유와 입사 후 회사에서 이루고 싶은 꿈을 설명하십시오.</td>\n",
       "      <td>\"가능성을 캐내고 가치를 심자\"\\n\\n식품은 광범위한 방면에서 다양한 방향성을 가지...</td>\n",
       "    </tr>\n",
       "  </tbody>\n",
       "</table>\n",
       "</div>"
      ],
      "text/plain": [
       "  company                   group score  \\\n",
       "0  (주)오뚜기  2020년 하반기 신입 바이오·제약·식품     2   \n",
       "1  (주)오뚜기  2020년 하반기 신입 바이오·제약·식품     2   \n",
       "2  (주)오뚜기  2020년 하반기 신입 바이오·제약·식품     2   \n",
       "\n",
       "                                            question  \\\n",
       "0  지원직무를 선택한 이유를(직무와 관련한 경험, 전공, 수강과목, 자격증 등을 포함하...   \n",
       "1  직장 또는 단체생활에서 구성원에게 가장 필요한 태도, 역량은 무엇이라고 생각하는지 ...   \n",
       "2           오뚜기에 지원한 이유와 입사 후 회사에서 이루고 싶은 꿈을 설명하십시오.   \n",
       "\n",
       "                                              answer  \n",
       "0  \"직접 만든다는 것\"\\n\\n실습을 위해 콤부차를 조사하였습니다. 한정된 자료에서 최...  \n",
       "1  \"각자의 경험이 다르다는 것\"\\n\\n인턴기간에 동반성장을 목표로 새로운 메뉴를 개발...  \n",
       "2  \"가능성을 캐내고 가치를 심자\"\\n\\n식품은 광범위한 방면에서 다양한 방향성을 가지...  "
      ]
     },
     "execution_count": 66,
     "metadata": {},
     "output_type": "execute_result"
    }
   ],
   "source": [
    "df = pd.DataFrame(content, columns=['company', 'group', 'score', 'question', 'answer'])\n",
    "df"
   ]
  },
  {
   "cell_type": "code",
   "execution_count": 44,
   "id": "0ef76ce4",
   "metadata": {},
   "outputs": [],
   "source": [
    "def scrap(num):\n",
    "    browser.find_element_by_css_selector('li:nth-child('+str(num)+') > div.txBx > p > a > span').click()\n",
    "    html = browser.page_source\n",
    "    soup = BeautifulSoup(html, 'html.parser')\n",
    "    introduction_page = soup.select('div.stContainer')\n",
    "    time.sleep(1)\n",
    "\n",
    "    for scraping in introduction_page:\n",
    "        company = introduction_page[0].select('h2 > strong > a')[0].text.strip()\n",
    "        group = introduction_page[0].select('h2 > em')[0].text.strip()\n",
    "        score = introduction_page[0].select('div.adviceTotal > div > span')[0].text.strip()\n",
    "        \n",
    "        contents = []\n",
    "        for q in range(0, 10):\n",
    "            try:\n",
    "                question = soup.select('button > span.tx')[q].text.strip()\n",
    "                answer = soup.select('dd > div.tx')[q].text.strip()\n",
    "                contents.append([company, group, score, question, answer])                \n",
    "            except IndexError:\n",
    "                pass\n",
    "   \n",
    "#     return contents\n",
    "# df = pd.DataFrame(contents, columns=['company', 'group', 'score', 'question', 'answer'])\n",
    "# df\n"
   ]
  },
  {
   "cell_type": "code",
   "execution_count": 45,
   "id": "0c4d25a6",
   "metadata": {},
   "outputs": [
    {
     "data": {
      "text/plain": [
       "0"
      ]
     },
     "execution_count": 45,
     "metadata": {},
     "output_type": "execute_result"
    }
   ],
   "source": [
    "scrap(1)\n",
    "len(contents)"
   ]
  },
  {
   "cell_type": "code",
   "execution_count": 40,
   "id": "0f823d94",
   "metadata": {},
   "outputs": [],
   "source": [
    "for i in range(1,4):\n",
    "    scrap(i)\n",
    "    df = pd.DataFrame(contents, columns=['company', 'group', 'score', 'question', 'answer'])\n",
    "    df\n",
    "\n",
    "#     = pd.DataFrame(contents, columns=['company', 'group', 'score', 'question', 'answer'])\n",
    "#     df = pd.DataFrame(contents, columns=['company', 'group', 'score', 'question', 'answer'])\n",
    "# contents.append([company, group, score, question, answer])\n",
    "\n"
   ]
  },
  {
   "cell_type": "code",
   "execution_count": 41,
   "id": "0250a430",
   "metadata": {},
   "outputs": [
    {
     "data": {
      "text/html": [
       "<div>\n",
       "<style scoped>\n",
       "    .dataframe tbody tr th:only-of-type {\n",
       "        vertical-align: middle;\n",
       "    }\n",
       "\n",
       "    .dataframe tbody tr th {\n",
       "        vertical-align: top;\n",
       "    }\n",
       "\n",
       "    .dataframe thead th {\n",
       "        text-align: right;\n",
       "    }\n",
       "</style>\n",
       "<table border=\"1\" class=\"dataframe\">\n",
       "  <thead>\n",
       "    <tr style=\"text-align: right;\">\n",
       "      <th></th>\n",
       "      <th>company</th>\n",
       "      <th>group</th>\n",
       "      <th>score</th>\n",
       "      <th>question</th>\n",
       "      <th>answer</th>\n",
       "    </tr>\n",
       "  </thead>\n",
       "  <tbody>\n",
       "  </tbody>\n",
       "</table>\n",
       "</div>"
      ],
      "text/plain": [
       "Empty DataFrame\n",
       "Columns: [company, group, score, question, answer]\n",
       "Index: []"
      ]
     },
     "execution_count": 41,
     "metadata": {},
     "output_type": "execute_result"
    }
   ],
   "source": [
    "df"
   ]
  },
  {
   "cell_type": "code",
   "execution_count": 22,
   "id": "1a05c86b",
   "metadata": {},
   "outputs": [
    {
     "data": {
      "text/html": [
       "<div>\n",
       "<style scoped>\n",
       "    .dataframe tbody tr th:only-of-type {\n",
       "        vertical-align: middle;\n",
       "    }\n",
       "\n",
       "    .dataframe tbody tr th {\n",
       "        vertical-align: top;\n",
       "    }\n",
       "\n",
       "    .dataframe thead th {\n",
       "        text-align: right;\n",
       "    }\n",
       "</style>\n",
       "<table border=\"1\" class=\"dataframe\">\n",
       "  <thead>\n",
       "    <tr style=\"text-align: right;\">\n",
       "      <th></th>\n",
       "      <th>company</th>\n",
       "      <th>group</th>\n",
       "      <th>score</th>\n",
       "      <th>question</th>\n",
       "      <th>answer</th>\n",
       "    </tr>\n",
       "  </thead>\n",
       "  <tbody>\n",
       "  </tbody>\n",
       "</table>\n",
       "</div>"
      ],
      "text/plain": [
       "Empty DataFrame\n",
       "Columns: [company, group, score, question, answer]\n",
       "Index: []"
      ]
     },
     "execution_count": 22,
     "metadata": {},
     "output_type": "execute_result"
    }
   ],
   "source": [
    "scrap(1)\n",
    "df1 = pd.DataFrame(contents, columns=['company', 'group', 'score', 'question', 'answer'])\n",
    "df1"
   ]
  },
  {
   "cell_type": "code",
   "execution_count": 38,
   "id": "743f7697",
   "metadata": {},
   "outputs": [
    {
     "data": {
      "text/plain": [
       "0"
      ]
     },
     "execution_count": 38,
     "metadata": {},
     "output_type": "execute_result"
    }
   ],
   "source": [
    "len(contents) "
   ]
  },
  {
   "cell_type": "code",
   "execution_count": null,
   "id": "0b5d849f",
   "metadata": {
    "scrolled": true
   },
   "outputs": [],
   "source": [
    "# import pandas as pd\n",
    "df = pd.DataFrame(contents, columns=['company', 'group', 'score', 'question', 'answer'])\n",
    "df"
   ]
  },
  {
   "cell_type": "markdown",
   "id": "7ac094ff",
   "metadata": {},
   "source": [
    "for i in range(1,21):\n",
    "    browser.find_element_by_css_selector('li:nth-child('+str(i)+') > div.txBx > p > a > span').click()\n",
    "    html = browser.page_source\n",
    "    soup = BeautifulSoup(html, 'html.parser')\n",
    "    introduction_page = soup.select('div.stContainer')\n",
    "    time.sleep(1)\n",
    "    \n",
    "    content = []\n",
    "    for scraping in introduction_page:\n",
    "        company = introduction_page[0].select('h2 > strong > a')[0].text.strip()\n",
    "        group = introduction_page[0].select('h2 > em')[0].text.strip()\n",
    "        score = introduction_page[0].select('div.adviceTotal > div > span')[0].text.strip()\n",
    "\n",
    "        for q in range(0, 10):\n",
    "            try:\n",
    "                ColumnQ = 'Q'+str(q+1)\n",
    "                question = soup.select('button > span.tx')[q].text.strip()\n",
    "                ColumnA = 'A'+str(q+1)\n",
    "                answer = soup.select('dd > div.tx')[q].text.strip()\n",
    "                print(ColumnQ, question, ColumnA, answer)\n",
    "                content.append([company, group, score, question, answer])\n",
    "            except IndexError:\n",
    "                pass\n",
    "    contents.extend(content.append([company, group, score, question, answer]))\n",
    "                \n",
    "    browser.back()\n",
    "    "
   ]
  },
  {
   "cell_type": "code",
   "execution_count": null,
   "id": "cb75848a",
   "metadata": {},
   "outputs": [],
   "source": []
  }
 ],
 "metadata": {
  "kernelspec": {
   "display_name": "Python 3",
   "language": "python",
   "name": "python3"
  },
  "language_info": {
   "codemirror_mode": {
    "name": "ipython",
    "version": 3
   },
   "file_extension": ".py",
   "mimetype": "text/x-python",
   "name": "python",
   "nbconvert_exporter": "python",
   "pygments_lexer": "ipython3",
   "version": "3.8.8"
  }
 },
 "nbformat": 4,
 "nbformat_minor": 5
}
